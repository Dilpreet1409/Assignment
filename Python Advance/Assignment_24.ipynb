{
 "cells": [
  {
   "cell_type": "code",
   "execution_count": null,
   "id": "0b6a46fd-fe0b-4267-b362-4ecb326913f3",
   "metadata": {},
   "outputs": [],
   "source": [
    "Q1. Is it permissible to use several import statements to import the same module? What would the\n",
    "goal be? Can you think of a situation where it would be beneficial?\n"
   ]
  },
  {
   "cell_type": "code",
   "execution_count": null,
   "id": "af68198d-4c5c-4bbb-be85-390f810b2aec",
   "metadata": {},
   "outputs": [],
   "source": [
    "Yes, it is permissible to use several import statements to import the same module. \n",
    "It is used in case when we have to import multiple functions from same module."
   ]
  },
  {
   "cell_type": "code",
   "execution_count": null,
   "id": "b10da7d0-aa2f-4351-acb9-1e8b6288ac1f",
   "metadata": {},
   "outputs": [],
   "source": [
    "Q2. What are some of a modules characteristics? (Name at least one.)"
   ]
  },
  {
   "cell_type": "code",
   "execution_count": null,
   "id": "8702e2ec-6814-4805-983f-4668e292bd22",
   "metadata": {},
   "outputs": [],
   "source": [
    "The following are some of a module's characteristics:\n",
    "\n",
    "__name__: Returns the name of the module. It is set to '__main__' if the module is the main program or \n",
    "to the name of the module if it is imported as a library.\n",
    "\n",
    "__doc__: Denotes the documentation string (docstring) defined within the module.\n",
    "This string typically contains information about the modules purpose and usage.\n",
    "\n",
    "__file__: Holds the name and path of the module file from which it is loaded. \n",
    "This attribute is particularly useful for identifying the location of the module on disk.\n",
    "\n",
    "__dict__: Returns a dictionary object containing the modules attributes, functions, and other \n",
    "definitions, along with their respective values. This attribute provides access to the modules namespace"
   ]
  },
  {
   "cell_type": "code",
   "execution_count": null,
   "id": "90d727ce-c17b-49fb-afe4-43e9c3e8ffdd",
   "metadata": {},
   "outputs": [],
   "source": [
    "Q3. Circular importing, such as when two modules import each other, can lead to dependencies and\n",
    "bugs that arent visible. How can you go about creating a program that avoids mutual importing?"
   ]
  },
  {
   "cell_type": "code",
   "execution_count": null,
   "id": "aee2fb50-7349-45b6-9723-4c5541a62196",
   "metadata": {},
   "outputs": [],
   "source": [
    "Circular importing means importing the two modules in each other. \n",
    "If suppose we are wokring in MOD1.py file and it is importing some function say F2() from some other \n",
    "module say MOD2.PY file or we can do vice-versa. What will happen is: This will give an import error.\n",
    "\n",
    "This is because when we import F2() function from module MOD2.py, then this will execute MOD2.py file. \n",
    "And in MOD2.py file there is an another statement of importing MOD1.py module.\n",
    "\n",
    "This will result in endless loop. To avoid this error just do one thingWe can use if __name__ == '__main__'\n",
    "\n",
    "In the function, you cant directly refer to the function in the program. The addition of this sentence \n",
    "avoids the endless loop of the program ."
   ]
  },
  {
   "cell_type": "code",
   "execution_count": null,
   "id": "3261dc7c-f257-4365-ad39-c7c78eb706ae",
   "metadata": {},
   "outputs": [],
   "source": [
    "Q4. Why is _ _all_ _ in Python?"
   ]
  },
  {
   "cell_type": "code",
   "execution_count": null,
   "id": "f5f67058-a2cb-428b-a9c5-7dc614f93d73",
   "metadata": {},
   "outputs": [],
   "source": [
    " It provides list of all modules present in a library.\n",
    "__all__ in Python is a variable used to explicitly specify which names (functions, classes, or variables) should\n",
    "be considered part of a modules public API when using from module import *, allowing better control over \n",
    "what is accessible to external code."
   ]
  },
  {
   "cell_type": "code",
   "execution_count": null,
   "id": "9b69cd72-7363-4321-b339-9599566720a1",
   "metadata": {},
   "outputs": [],
   "source": [
    "Q5. In what situation is it useful to refer to the _ _name_ _ attribute or the string _ _main_ _?"
   ]
  },
  {
   "cell_type": "code",
   "execution_count": null,
   "id": "e493f299-25ab-471a-a7ed-2c0166ca2e3a",
   "metadata": {},
   "outputs": [],
   "source": [
    "It is useful to refer to the __name__ attribute or the string __main__ when you want to determine if a \n",
    "Python script is being run directly as the main program, or if it is being imported as a module into another script. \n",
    "Suppose if that moudle is being imported from some other module then name will have the name of that moudle from \n",
    "where the current module has been imported. The current module in which we are working is refer to the string __main __."
   ]
  },
  {
   "cell_type": "code",
   "execution_count": null,
   "id": "c080537d-ac66-4c3a-80d1-2f06b4d5bfef",
   "metadata": {},
   "outputs": [],
   "source": []
  }
 ],
 "metadata": {
  "kernelspec": {
   "display_name": "Python 3 (ipykernel)",
   "language": "python",
   "name": "python3"
  },
  "language_info": {
   "codemirror_mode": {
    "name": "ipython",
    "version": 3
   },
   "file_extension": ".py",
   "mimetype": "text/x-python",
   "name": "python",
   "nbconvert_exporter": "python",
   "pygments_lexer": "ipython3",
   "version": "3.10.6"
  }
 },
 "nbformat": 4,
 "nbformat_minor": 5
}
