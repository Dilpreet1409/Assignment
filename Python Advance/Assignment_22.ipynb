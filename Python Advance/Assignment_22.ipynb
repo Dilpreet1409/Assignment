{
 "cells": [
  {
   "cell_type": "code",
   "execution_count": null,
   "id": "f1f8270d-6f7e-4b82-8aeb-e1ad992dd8c9",
   "metadata": {},
   "outputs": [],
   "source": [
    "Q1. What are the benefits of the built-in array package, if any?"
   ]
  },
  {
   "cell_type": "code",
   "execution_count": null,
   "id": "cd853cc2-6145-4021-ac90-5839d19cef1d",
   "metadata": {},
   "outputs": [],
   "source": [
    "The built-in array package in Python, often referred to as the array module, provides \n",
    "a more memory-efficient and faster alternative to Python lists for storing and manipulating homogeneous\n",
    "data types (such as integers or floating-point numbers). Memory Efficiency: Arrays use less memory compared to lists\n",
    "because they store elements of the same data type in a contiguous block of memory. This results in lower memory overhead \n",
    "and more efficient memory usage.Faster Access: Accessing elements in an array is generally faster than accessing elements \n",
    "in a list because of the contiguous memory layout. This can be important for performance-critical applications."
   ]
  },
  {
   "cell_type": "code",
   "execution_count": null,
   "id": "8f0ff038-ff96-41b9-bc1d-323940f3ea45",
   "metadata": {},
   "outputs": [],
   "source": [
    "Q2. What are some of the array packages limitations?"
   ]
  },
  {
   "cell_type": "code",
   "execution_count": null,
   "id": "5b2c4efe-b3c6-4bd5-a68a-f865e383912d",
   "metadata": {},
   "outputs": [],
   "source": [
    "The number of elements to be stored in an array should be known in advance. \n",
    "An array is a static structure (which means the array is of fixed size). \n",
    "Once declared the size of the array cannot be modified. The memory which is allocated to it cannot be increased or decreased.\n",
    "\n",
    "Insertion and deletion are quite difficult in an array as the elements are stored in consecutive memory locations \n",
    "and the shifting operation is costly.\n",
    "\n",
    "Allocating more memory than the requirement leads to wastage of memory space and less allocation of memory also \n",
    "leads to a problem"
   ]
  },
  {
   "cell_type": "code",
   "execution_count": null,
   "id": "2efa2706-1ae3-460b-8b99-6f7c0e943f22",
   "metadata": {},
   "outputs": [],
   "source": [
    "Q3. Describe the main differences between the array and numpy packages."
   ]
  },
  {
   "cell_type": "code",
   "execution_count": null,
   "id": "46c6a925-ac6a-4157-bdfb-301396efcf27",
   "metadata": {},
   "outputs": [],
   "source": [
    "The main differences between the array module (built-in in Python) and the NumPy package are as follows:\n",
    "\n",
    "1.Data Type Flexibility:\n",
    "array: Supports arrays of a single data type (e.g., integers, floats).\n",
    "NumPy: Supports arrays with a wide range of data types and provides tools for creating and manipulating complex data structures.\n",
    "\n",
    "2.Functionality:\n",
    "array: Offers basic array operations, but lacks advanced features for scientific computing and data manipulation.\n",
    "NumPy: Provides extensive functionality for numerical computing, including advanced mathematical operations, broadcasting, and support for multidimensional arrays.\n",
    "\n",
    "3.Performance:\n",
    "array: Provides some performance benefits compared to Python lists, but may not be as efficient as NumPy for large-scale numerical computations.\n",
    "NumPy: Highly optimized for numerical operations, making it significantly faster and memory-efficient than Python lists or the array module."
   ]
  },
  {
   "cell_type": "code",
   "execution_count": null,
   "id": "4edb1181-ae24-4deb-aeaa-b4622428c357",
   "metadata": {},
   "outputs": [],
   "source": [
    "Q4. Explain the distinctions between the empty, ones, and zeros functions."
   ]
  },
  {
   "cell_type": "code",
   "execution_count": null,
   "id": "051776b7-168d-4f8a-9883-6b8adae6bc26",
   "metadata": {},
   "outputs": [],
   "source": [
    "The distinctions between the empty, ones, and zero functions are as follows :\n",
    "\n",
    "Empty function: An empty function is a function that does not contain any statement within its body. If you try to write a function definition without any statement in python ,it will return an error. To avoid this, we use pass statement. pass is a special statement in Python that does nothing. It only works as a dummy statement.\n",
    "Ones: This function returns a new array of given shape and data type, where the element’s value is 1.\n",
    "Zeros: This function returns a new array of given shape and data type, where the element’s value is 0.\n"
   ]
  },
  {
   "cell_type": "code",
   "execution_count": null,
   "id": "a754ff2c-ad0b-4d55-b78b-acb314037700",
   "metadata": {},
   "outputs": [],
   "source": [
    "Q5. In the fromfunction function, which is used to construct new arrays, what is the role of the callable\n",
    "argument?"
   ]
  },
  {
   "cell_type": "code",
   "execution_count": null,
   "id": "e34b309f-ae4e-40e5-9ff5-c52e979c62ed",
   "metadata": {},
   "outputs": [],
   "source": [
    "Its function is to execute the function over each coordinate and the resulting array. The function is called with N parameters, where N is the rank of shape. Each parameter represents the coordinates of the array varying along a specific axis."
   ]
  },
  {
   "cell_type": "code",
   "execution_count": null,
   "id": "7ca72f53-5203-4246-be69-7d3465859110",
   "metadata": {},
   "outputs": [],
   "source": [
    "Q6. What happens when a numpy array is combined with a single-value operand (a scalar, such as\n",
    "an int or a floating-point value) through addition, as in the expression A + n?"
   ]
  },
  {
   "cell_type": "code",
   "execution_count": null,
   "id": "a6bcdd02-07de-4eb3-a5d5-3dfa1189b0dc",
   "metadata": {},
   "outputs": [],
   "source": [
    "When a NumPy array is combined with a scalar operand (an integer or a floating-point value) through addition, \n",
    "such as in the expression A + n, NumPy performs element-wise addition between each element in the array A and\n",
    "the scalar value n. This means that the scalar n is added to every element in the array A."
   ]
  },
  {
   "cell_type": "code",
   "execution_count": null,
   "id": "3b7c96c4-2756-44d8-94c7-b5e3150a6987",
   "metadata": {},
   "outputs": [],
   "source": [
    "Q7. Can array-to-scalar operations use combined operation-assign operators (such as += or *=)?\n",
    "What is the outcome?"
   ]
  },
  {
   "cell_type": "code",
   "execution_count": null,
   "id": "09e79d41-314b-431b-b78f-0dec00149aa6",
   "metadata": {},
   "outputs": [],
   "source": [
    "In NumPy, you can use combined operation-assign operators (such as += or *=) with array-to-scalar operations, \n",
    "and these operators will apply the operation to each element in the array and the scalar value. This behavior\n",
    "is known as \"broadcasting,\" and it allows you to perform element-wise operations between the scalar and every element \n",
    "in the array."
   ]
  },
  {
   "cell_type": "code",
   "execution_count": 4,
   "id": "ac5a59f0-6f7a-4f03-851b-e50b99fb8a35",
   "metadata": {},
   "outputs": [
    {
     "name": "stdout",
     "output_type": "stream",
     "text": [
      "[3 4 5 6]\n"
     ]
    }
   ],
   "source": [
    "import numpy as np\n",
    "\n",
    "# Create a NumPy array\n",
    "arr = np.array([1, 2, 3, 4])\n",
    "\n",
    "# Perform a combined operation-assign operation (addition) with a scalar\n",
    "arr += 2\n",
    "\n",
    "print(arr)"
   ]
  },
  {
   "cell_type": "code",
   "execution_count": null,
   "id": "eede81d5-f157-4943-834c-12390038e121",
   "metadata": {},
   "outputs": [],
   "source": [
    "Q8. Does a numpy array contain fixed-length strings? What happens if you allocate a longer string to\n",
    "one of these arrays?"
   ]
  },
  {
   "cell_type": "code",
   "execution_count": null,
   "id": "58e7df84-bb05-41de-956a-cf015b0468c0",
   "metadata": {},
   "outputs": [],
   "source": [
    "When you create a NumPy array containing string values, the data type (dtype) of that array is determined by the maximum length of any string present in the array at the time of its creation. \n",
    "Once set, the dtype will only allow new string values to be assigned to the array if their lengths do not exceed the maximum \n",
    "length specified by the dtype.\n",
    "If you attempt to reassign a string value with a length greater than the maximum length of the existing elements in the\n",
    "array, NumPy will truncate the string to fit the specified length and discard the excess characters.\n",
    "This behavior ensures that the array maintains its fixed-length string format."
   ]
  },
  {
   "cell_type": "code",
   "execution_count": null,
   "id": "65f44def-87fe-4354-918f-0095cbcff63d",
   "metadata": {},
   "outputs": [],
   "source": [
    "Q9. What happens when you combine two numpy arrays using an operation like addition (+) or\n",
    "multiplication (*)? What are the conditions for combining two numpy arrays?"
   ]
  },
  {
   "cell_type": "code",
   "execution_count": null,
   "id": "9ad4eb50-7d92-4b59-af30-ad0a48578850",
   "metadata": {},
   "outputs": [],
   "source": [
    "The elements at the same positions in the two arrays are combined according to the specified operation.\n",
    "\n",
    "The conditions for combining two NumPy arrays using element-wise operations (addition, multiplication, subtraction, division, etc.) are as follows:\n",
    "\n",
    "1.The arrays must have the same shape, or they should be compatible for broadcasting. \n",
    "Broadcasting allows operations between arrays with different shapes, as long as their dimensions are compatible for \n",
    "element-wise operations.\n",
    "\n",
    "2.If the arrays are not the same shape and cannot be broadcasted to the same shape, \n",
    "the operation will raise a ValueError indicating that the shapes are not aligned.\n",
    "\n"
   ]
  },
  {
   "cell_type": "code",
   "execution_count": null,
   "id": "84b4e25e-238c-4974-926f-863220d2c9fc",
   "metadata": {},
   "outputs": [],
   "source": [
    "Q10. What is the best way to use a Boolean array to mask another array?"
   ]
  },
  {
   "cell_type": "code",
   "execution_count": null,
   "id": "ef089bb6-fd2e-4261-9f05-50e571e08232",
   "metadata": {},
   "outputs": [],
   "source": [
    "The best way to use a Boolean array to mask another array is by Using masked_where of numpy package.\n",
    "This function allows you to apply a condition and create a masked array where values that meet the condition are masked.\n",
    "It is particularly handy when you need to deal with missing or invalid data."
   ]
  },
  {
   "cell_type": "code",
   "execution_count": 1,
   "id": "1ba737cb-02ac-4f21-a698-94cafac284b1",
   "metadata": {},
   "outputs": [
    {
     "name": "stdout",
     "output_type": "stream",
     "text": [
      "[1 2 -- 4 5 --]\n"
     ]
    }
   ],
   "source": [
    "import numpy as np\n",
    "\n",
    "# Create an array with some data, including invalid values\n",
    "data = np.array([1, 2, -999, 4, 5, -999])\n",
    "\n",
    "# Define a condition for masking (e.g., masking -999)\n",
    "condition = (data == -999)\n",
    "\n",
    "# Use masked_where to create a masked array\n",
    "masked_data = np.ma.masked_where(condition, data)\n",
    "\n",
    "print(masked_data)\n"
   ]
  },
  {
   "cell_type": "code",
   "execution_count": null,
   "id": "f30d2b6a-9351-4a44-a0e0-442dcc2ac5cf",
   "metadata": {},
   "outputs": [],
   "source": [
    "Q11. What are three different ways to get the standard deviation of a wide collection of data using\n",
    "both standard Python and its packages? Sort the three of them by how quickly they execute."
   ]
  },
  {
   "cell_type": "code",
   "execution_count": null,
   "id": "8d0caf01-227e-414e-beb6-0d41ab9084cd",
   "metadata": {},
   "outputs": [],
   "source": [
    "Three different ways to calculate the standard deviation of a wide collection of data using \n",
    "standard Python and its packages, sorted by execution speed from fastest to slowest:\n",
    "\n",
    "1.NumPy (Fastest): std_dev = np.std(data)\n",
    "2.Pandas: std_dev = pd.Series(data).std()\n",
    "3.Standard Python (Statistics module):The 'statistics' module in Pythons standard library provides a stdev() function to \n",
    "calculate the standard deviation.\n",
    "std_dev = statistics.stdev(data)"
   ]
  },
  {
   "cell_type": "code",
   "execution_count": null,
   "id": "f1e88980-300e-44de-95cd-70ad624baeb0",
   "metadata": {},
   "outputs": [],
   "source": [
    "12. What is the dimensionality of a Boolean mask-generated array?"
   ]
  },
  {
   "cell_type": "code",
   "execution_count": null,
   "id": "8dc67178-d062-4459-bc2e-2b725cf1bed7",
   "metadata": {},
   "outputs": [],
   "source": [
    "A Boolean mask-generated array will have the same dimensionality as the input array to which the mask is applied."
   ]
  }
 ],
 "metadata": {
  "kernelspec": {
   "display_name": "Python 3 (ipykernel)",
   "language": "python",
   "name": "python3"
  },
  "language_info": {
   "codemirror_mode": {
    "name": "ipython",
    "version": 3
   },
   "file_extension": ".py",
   "mimetype": "text/x-python",
   "name": "python",
   "nbconvert_exporter": "python",
   "pygments_lexer": "ipython3",
   "version": "3.10.6"
  }
 },
 "nbformat": 4,
 "nbformat_minor": 5
}
