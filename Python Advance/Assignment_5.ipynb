{
 "cells": [
  {
   "cell_type": "code",
   "execution_count": null,
   "id": "b2a9b698-9410-4e1f-b27c-fd40c286c2f2",
   "metadata": {},
   "outputs": [],
   "source": [
    "Q1. What is the meaning of multiple inheritance?"
   ]
  },
  {
   "cell_type": "code",
   "execution_count": null,
   "id": "0338bf3a-ae7a-4442-a803-28de54b5ce5f",
   "metadata": {},
   "outputs": [],
   "source": [
    "Multiple inheritance is a feature of some object-oriented computer programming languages in which \n",
    "an object or class can inherit features from more than one parent object or parent class.\n",
    "It is distinct from single inheritance, where an object or class may only inherit from one particular object or class."
   ]
  },
  {
   "cell_type": "code",
   "execution_count": 1,
   "id": "1f069b4b-f6ce-465c-8eb7-860bef2cca71",
   "metadata": {},
   "outputs": [],
   "source": [
    "class Parent_one:\n",
    "    pass\n",
    "class Parent_two:\n",
    "    pass\n",
    "class child(Parent_one,Parent_two):\n",
    "    pass"
   ]
  },
  {
   "cell_type": "code",
   "execution_count": null,
   "id": "fca65ce5-4f80-40cf-88b4-cff24065e0eb",
   "metadata": {},
   "outputs": [],
   "source": [
    "Q2. What is the concept of delegation?"
   ]
  },
  {
   "cell_type": "code",
   "execution_count": null,
   "id": "0a00fe46-42d3-4337-bfe5-e89da4c8c4c3",
   "metadata": {},
   "outputs": [],
   "source": [
    "In Python, delegation refers to the process of passing a method call from one object to another object that performs \n",
    "the actual behavior of the method. Delegation is a design pattern that allows objects to collaborate with each other \n",
    "in a flexible and dynamic way.\n",
    "\n",
    "Delegation is often implemented using composition, where one class includes an instance of another class and delegates specific \n",
    "tasks or method calls to that included instance. This is in contrast to inheritance, where one class inherits from another \n",
    "and gains access to its methods and attributes.\n"
   ]
  },
  {
   "cell_type": "code",
   "execution_count": 1,
   "id": "87e336fc-aab4-4741-a66f-1f1467462f42",
   "metadata": {},
   "outputs": [
    {
     "name": "stdout",
     "output_type": "stream",
     "text": [
      "Customer is being served -\n",
      "Spaghetti\n"
     ]
    }
   ],
   "source": [
    "class Chef:\n",
    "    def make_dish(self, dish_name):\n",
    "        print(f\"{dish_name}\")\n",
    "\n",
    "class Restaurant:\n",
    "    def __init__(self, chef):\n",
    "        self.chef = chef\n",
    "\n",
    "    def serve_customer(self, dish_name):\n",
    "        print(\"Customer is being served -\")\n",
    "        self.chef.make_dish(dish_name)\n",
    "\n",
    "chef = Chef()\n",
    "restaurant = Restaurant(chef)\n",
    "restaurant.serve_customer(\"Spaghetti\")"
   ]
  },
  {
   "cell_type": "code",
   "execution_count": null,
   "id": "3df7e62f-d4f2-4f56-a8ba-33003cba2731",
   "metadata": {},
   "outputs": [],
   "source": [
    "Q3. What is the concept of composition?"
   ]
  },
  {
   "cell_type": "code",
   "execution_count": null,
   "id": "ec44cf75-023f-4501-9ccf-4eceb1942686",
   "metadata": {},
   "outputs": [],
   "source": [
    "In the concept of Composition, a class refers to one or more other classes by using instances of those classes\n",
    "as a instance variable irrespective of inheritence in this approach all the parent class members are not inherited\n",
    "into child class, but only required methods from a class are used by using class instances."
   ]
  },
  {
   "cell_type": "code",
   "execution_count": 2,
   "id": "b8a53508-1869-4ca8-b53b-be7a9826b6bf",
   "metadata": {},
   "outputs": [
    {
     "name": "stdout",
     "output_type": "stream",
     "text": [
      "Total Salary : 9600\n"
     ]
    }
   ],
   "source": [
    "class Salary:\n",
    "    def __init__(self,pay):\n",
    "        self.pay = pay\n",
    "    def get_total(self):\n",
    "        return self.pay*12\n",
    "    \n",
    "class Employee:\n",
    "    def __init__(self,pay,bonus):\n",
    "        self.pay = pay\n",
    "        self.bonus = bonus\n",
    "        self.obj_salary = Salary(self.pay)\n",
    "    def annual_salary(self):\n",
    "        return f'Total Salary : {str(self.obj_salary.get_total())}'\n",
    "\n",
    "obj_emp = Employee(800,500)\n",
    "print(obj_emp.annual_salary())"
   ]
  },
  {
   "cell_type": "code",
   "execution_count": null,
   "id": "b8e0b2a7-db4c-481c-926c-1cec60d6580a",
   "metadata": {},
   "outputs": [],
   "source": [
    "Q4. What are bound methods and how do we use them?"
   ]
  },
  {
   "cell_type": "code",
   "execution_count": null,
   "id": "c6a8af66-cdf1-4ad2-88da-d0260f57e0ac",
   "metadata": {},
   "outputs": [],
   "source": [
    "If a function is an attribute of class and it is accessed via the instances, they are called bound methods. \n",
    "A bound method is one that has self as its first argument. Since these are dependent on the instance of classes, \n",
    "these are also known as instance methods\n",
    "\n",
    "Creation of Bound Methods:\n",
    "\n",
    "-When you define a class and its methods, those methods are unbound functions associated with the class. \n",
    "They do not have access to any specific instance's data until you create an instance of the class.\n",
    "-When you create an instance of the class, any method called on that instance becomes a bound method, \n",
    "with the instance itself automatically passed as the first argument.\n",
    "\n",
    "Usage of Bound Methods:\n",
    "\n",
    "You use bound methods to operate on the data and attributes of a specific instance of a class.\n",
    "Within a bound method, you can access and modify the instance's attributes and call other methods on the instance."
   ]
  },
  {
   "cell_type": "code",
   "execution_count": 5,
   "id": "d9d4323e-f386-4fc3-913f-2d43d09658d3",
   "metadata": {},
   "outputs": [
    {
     "name": "stdout",
     "output_type": "stream",
     "text": [
      "My name is Dolly and I am 30 years old.\n",
      "My name is Dilpreet and I am 25 years old.\n"
     ]
    }
   ],
   "source": [
    "class Person:\n",
    "    def __init__(self, name, age):\n",
    "        self.name = name\n",
    "        self.age = age\n",
    "\n",
    "    def introduce(self):\n",
    "        return f\"My name is {self.name} and I am {self.age} years old.\"\n",
    "\n",
    "# Creating instances of the Person class\n",
    "person1 = Person(\"Dolly\", 30)\n",
    "person2 = Person(\"Dilpreet\", 25)\n",
    "\n",
    "print(person1.introduce())  \n",
    "print(person2.introduce())  \n",
    "\n",
    "#introduce method is a bound method. When we call person1.introduce(), the self parameter inside the method refers to person1,\n",
    "#and when we call person2.introduce(), it refers to person2. This allows each method call to access and display the data \n",
    "#specific to the instance it is called on"
   ]
  },
  {
   "cell_type": "code",
   "execution_count": null,
   "id": "90100d66-d1da-4af2-b433-c4cc2b5d1cea",
   "metadata": {},
   "outputs": [],
   "source": [
    "Q5. What is the purpose of pseudoprivate attributes?"
   ]
  },
  {
   "cell_type": "code",
   "execution_count": null,
   "id": "17dc3099-5da4-4f46-8a03-7c362e5b505f",
   "metadata": {},
   "outputs": [],
   "source": [
    "Pseudoprivate attributes in Python are a way to make some parts of an objects data and functionality a bit more \n",
    "hidden and protected. \n",
    "Pseudoprivate attributes and methods are meant to serve the following purposes:\n",
    "\n",
    "1.Name Clashes Avoidance: Pseudoprivate attributes help prevent naming conflicts within a class.\n",
    "By using a double underscore prefix (e.g., __my_attribute), Python performs name mangling to make it less \n",
    "likely that subclasses or external code accidentally override or access these attributes.\n",
    "\n",
    "2.Encapsulation and Information Hiding: They also facilitate encapsulation by marking certain attributes as \n",
    "intended for internal use within the class. This discourages external code from directly modifying or accessing these \n",
    "attributes, promoting information hiding and data integrity.\n",
    "\n",
    "3.Protection in Larger Frameworks: In larger frameworks or libraries, where multiple classes and inheritance \n",
    "are common, pseudoprivate attributes help ensure that method and attribute names in a base class \n",
    "dont accidentally conflict with or override definitions in subclasses. This makes it easier to build robust and \n",
    "maintainable software systems.\n",
    "\n",
    "4.Avoiding Accidental Overriding: As you mentioned, pseudoprivate names prevent subclasses from accidentally \n",
    "redefining or shadowing internal methods or attributes, ensuring that the behavior of the base class is maintained in the \n",
    "subclass.\n",
    "\n"
   ]
  }
 ],
 "metadata": {
  "kernelspec": {
   "display_name": "Python 3 (ipykernel)",
   "language": "python",
   "name": "python3"
  },
  "language_info": {
   "codemirror_mode": {
    "name": "ipython",
    "version": 3
   },
   "file_extension": ".py",
   "mimetype": "text/x-python",
   "name": "python",
   "nbconvert_exporter": "python",
   "pygments_lexer": "ipython3",
   "version": "3.10.6"
  }
 },
 "nbformat": 4,
 "nbformat_minor": 5
}
