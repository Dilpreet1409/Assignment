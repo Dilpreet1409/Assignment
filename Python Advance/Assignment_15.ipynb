{
 "cells": [
  {
   "cell_type": "code",
   "execution_count": null,
   "id": "6ed7dea2-8fb5-4962-a9d3-05b2e0c4ff21",
   "metadata": {},
   "outputs": [],
   "source": [
    "1. What are the new features added in Python 3.8 version?"
   ]
  },
  {
   "cell_type": "code",
   "execution_count": null,
   "id": "b9d4ab88-2394-4605-b972-47d7915b5480",
   "metadata": {},
   "outputs": [],
   "source": [
    "1.Positional-only parameters(/)\n",
    "There is a new function parameter syntax “/” which indicates that some function parameters must be specified \n",
    "positionally and can’t be used as keyword arguments.\n",
    "\n",
    "2.Assignment Expressions(:=)\n",
    "This operator is used to assign and return a value in the same expression. \n",
    "This removes the need for initializing the variable upfront. The major benefit of this is it saves some lines of code. \n",
    "It is also known as “The Walrus Operator” due to its similarity to the eyes and tusks of a walrus.\n",
    "\n",
    "3.f-strings now support = , to make string interpolation easy. Python 3.8 allows the use of the \n",
    "above-discussed assignment operator and equal sign (=) inside the f-strings.\n",
    "\n",
    "4.reversed() works with a dictionary\n",
    "Unlike Python 3.7, now in Python 3.8, the built-in method “reversed()” can be used for accessing the elements \n",
    "in the reverse order of insertion.\n",
    "\n",
    "5.pow() function\n",
    "In the three-argument form of pow(), when the exponent is -1, it calculates the modular multiplicative inverse of \n",
    "the given value.\n",
    "\n",
    "6.Syntax Warning\n",
    "If you miss a comma in your code such as a = [(1, 2) (3, 4)], instead of throwing TypeError, \n",
    "it displays an informative Syntax warning like\n",
    "SyntaxWarning: 'tuple' object is not callable; perhaps you missed a comma?\n",
    "\n",
    "7.‘csv’ module\n",
    "The ‘csv.DictReader’ now returns instances of dictionary instead of a ‘collections.OrderedDict’."
   ]
  },
  {
   "cell_type": "code",
   "execution_count": 1,
   "id": "259e3e76-f6eb-4380-a7cd-08b4d6c90981",
   "metadata": {},
   "outputs": [
    {
     "name": "stdout",
     "output_type": "stream",
     "text": [
      "7\n",
      "14\n"
     ]
    },
    {
     "ename": "TypeError",
     "evalue": "add() got some positional-only arguments passed as keyword arguments: 'x, y'",
     "output_type": "error",
     "traceback": [
      "\u001b[0;31m---------------------------------------------------------------------------\u001b[0m",
      "\u001b[0;31mTypeError\u001b[0m                                 Traceback (most recent call last)",
      "Cell \u001b[0;32mIn [1], line 10\u001b[0m\n\u001b[1;32m      8\u001b[0m \u001b[38;5;28mprint\u001b[39m(add(\u001b[38;5;241m2\u001b[39m, \u001b[38;5;241m5\u001b[39m))\n\u001b[1;32m      9\u001b[0m \u001b[38;5;28mprint\u001b[39m(add(\u001b[38;5;241m2\u001b[39m, \u001b[38;5;241m5\u001b[39m, \u001b[38;5;241m7\u001b[39m))\n\u001b[0;32m---> 10\u001b[0m \u001b[38;5;28mprint\u001b[39m(\u001b[43madd\u001b[49m\u001b[43m(\u001b[49m\u001b[43mx\u001b[49m\u001b[43m \u001b[49m\u001b[38;5;241;43m=\u001b[39;49m\u001b[43m \u001b[49m\u001b[38;5;241;43m2\u001b[39;49m\u001b[43m,\u001b[49m\u001b[43m \u001b[49m\u001b[43my\u001b[49m\u001b[43m \u001b[49m\u001b[38;5;241;43m=\u001b[39;49m\u001b[43m \u001b[49m\u001b[38;5;241;43m5\u001b[39;49m\u001b[43m)\u001b[49m)\n",
      "\u001b[0;31mTypeError\u001b[0m: add() got some positional-only arguments passed as keyword arguments: 'x, y'"
     ]
    }
   ],
   "source": [
    "# Arguments before / are considered\n",
    "# as positional arguments only\n",
    "def add(x, y, /, z = 0):\n",
    "    a = x + y + z\n",
    "    return a \n",
    " \n",
    "# Driver's code\n",
    "print(add(2, 5))\n",
    "print(add(2, 5, 7))\n",
    "print(add(x = 2, y = 5))"
   ]
  },
  {
   "cell_type": "code",
   "execution_count": 2,
   "id": "be709a28-846e-4d48-a3fc-7004d1e8ad52",
   "metadata": {},
   "outputs": [
    {
     "name": "stdout",
     "output_type": "stream",
     "text": [
      "The value of b is 20 and is greater than 10.\n",
      "a + b = 15\n",
      "15\n",
      "The value of c: 15\n",
      "119\n"
     ]
    }
   ],
   "source": [
    "#2. Assignment Expression\n",
    "a = 20\n",
    "if (b := a) > 10:\n",
    "    print(f\"The value of b is {b} and is greater than 10.\")\n",
    "\n",
    "#3. f-string\n",
    "a = 5\n",
    "b = 10\n",
    "# Using = at the end of\n",
    "# f-strings\n",
    "print(f'{a + b = }')\n",
    "# Using assignment operators\n",
    "# inside f-strings\n",
    "print(f'{(c := a + b)}')\n",
    "print(\"The value of c:\", c)\n",
    "\n",
    "#4. reversed works with a dictionary\n",
    "my_dict = dict(x = 1, y = 2, z = 3)\n",
    "# Prints only keys\n",
    "list(reversed(my_dict))\n",
    "# Prints the key-value pair\n",
    "# as a list of tuples\n",
    "list(reversed(my_dict.items()))\n",
    "\n",
    "#5. pow() function\n",
    "print(pow(38, -1, 137))"
   ]
  },
  {
   "cell_type": "code",
   "execution_count": null,
   "id": "92fb7002-a005-45cb-9dd2-68a54e88a144",
   "metadata": {},
   "outputs": [],
   "source": [
    "2. What is monkey patching in Python?"
   ]
  },
  {
   "cell_type": "code",
   "execution_count": null,
   "id": "5bd8baf5-7d07-4c61-8a9a-cc97d5de9968",
   "metadata": {},
   "outputs": [],
   "source": [
    "In Python, the term monkey patch refers to making dynamic (or run-time) modifications to a class or module. \n",
    "In Python, we can actually change the behavior of code at run-time."
   ]
  },
  {
   "cell_type": "code",
   "execution_count": 3,
   "id": "e3b17865-d0db-43fd-b45c-d7240183fad1",
   "metadata": {},
   "outputs": [
    {
     "name": "stdout",
     "output_type": "stream",
     "text": [
      "monkey_f() is being called\n"
     ]
    }
   ],
   "source": [
    "class A:\n",
    "    def func(self):\n",
    "        print(\"func() is being called\")\n",
    "\n",
    "def monkey_f(self):\n",
    "    print(\"monkey_f() is being called\")\n",
    "\n",
    "A.func = monkey_f\n",
    "some_object = A()\n",
    "some_object.func()"
   ]
  },
  {
   "cell_type": "code",
   "execution_count": null,
   "id": "d85ad488-15e3-40c0-ac3e-fc465fd9f5b7",
   "metadata": {},
   "outputs": [],
   "source": [
    "3. What is the difference between a shallow copy and deep copy?"
   ]
  },
  {
   "cell_type": "code",
   "execution_count": null,
   "id": "114e55ee-33fd-476f-982d-da0908640489",
   "metadata": {},
   "outputs": [],
   "source": [
    "The Differences between a Shallow Copy and deep copy are as follows:\n",
    "\n",
    "When an object is copied using copy(), it is called shallow copy as changes made in copied object will also make \n",
    "corresponding changes in original object, because both the objects will be referencing same address location.\n",
    "\n",
    "When an object is copied using deepcopy(), it is called deep copy as changes made in copied object will not make\n",
    "corresponding changes in original object, because both the objects will not be referencing same address locat"
   ]
  },
  {
   "cell_type": "code",
   "execution_count": null,
   "id": "0e55a43a-0918-43a1-84fc-0fe57bd8ce8d",
   "metadata": {},
   "outputs": [],
   "source": [
    "4. What is the maximum possible length of an identifier?"
   ]
  },
  {
   "cell_type": "code",
   "execution_count": null,
   "id": "8586527c-3097-45cb-9a3c-ad24119d3dd6",
   "metadata": {},
   "outputs": [],
   "source": [
    "n Python, the highest possible length of an identifier is 79 characters. Python is a high level programming language. It’s also a complex form and a collector of waste.\n",
    "\n",
    "Python, particularly when combined with identifiers, is case-sensitive.\n",
    "When writing or using identifiers in Python, it has a maximum of 79 characters.\n",
    "Unlikely, Python gives the identifiers unlimited length.\n",
    "However, the layout of PEP-8 prevents the user from breaking the rules and includes a 79-character limit."
   ]
  },
  {
   "cell_type": "code",
   "execution_count": null,
   "id": "6a055ae0-2675-441d-ac7c-ca4b8208b9f0",
   "metadata": {},
   "outputs": [],
   "source": [
    "5. What is generator comprehension?"
   ]
  },
  {
   "cell_type": "code",
   "execution_count": null,
   "id": "df2f5cdf-9a34-4cff-a5a1-08dae23176ad",
   "metadata": {},
   "outputs": [],
   "source": [
    " A generator comprehension is a single-line specification for defining a generator in Python.\n",
    "\n",
    "It is absolutely essential to learn this syntax in order to write simple and readable code.\n",
    "Generator comprehension uses round bracket unlike square bracket in list comprehension.\n",
    "The generator yields one item at a time and generates item only when in demand. Whereas, in a list comprehension,\n",
    "Python reserves memory for the whole list. Thus we can say that the generator expressions are memory efficient than the lists."
   ]
  },
  {
   "cell_type": "code",
   "execution_count": 5,
   "id": "0d7b4bdf-9cef-4bdc-82e7-085891d7a84d",
   "metadata": {},
   "outputs": [
    {
     "name": "stdout",
     "output_type": "stream",
     "text": [
      "[0, 1, 2, 3, 4, 5, 6, 7, 8, 9]\n",
      "<generator object <genexpr> at 0x7f93ac060eb0>\n",
      "0 2 4 6 8 "
     ]
    }
   ],
   "source": [
    "l = [x for x in range(10)] # List Comprehension\n",
    "print(l)\n",
    "gen = (x for x in l if x%2 == 0) # Generator Comprehension\n",
    "print(gen) # Returns a Generator Object\n",
    "for i in gen:\n",
    "    print(i, end=\" \")"
   ]
  },
  {
   "cell_type": "code",
   "execution_count": null,
   "id": "92df3513-891d-4b61-a226-ace0199492af",
   "metadata": {},
   "outputs": [],
   "source": []
  }
 ],
 "metadata": {
  "kernelspec": {
   "display_name": "Python 3 (ipykernel)",
   "language": "python",
   "name": "python3"
  },
  "language_info": {
   "codemirror_mode": {
    "name": "ipython",
    "version": 3
   },
   "file_extension": ".py",
   "mimetype": "text/x-python",
   "name": "python",
   "nbconvert_exporter": "python",
   "pygments_lexer": "ipython3",
   "version": "3.10.6"
  }
 },
 "nbformat": 4,
 "nbformat_minor": 5
}
