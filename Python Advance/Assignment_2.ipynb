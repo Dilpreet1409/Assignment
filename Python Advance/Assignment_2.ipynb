{
 "cells": [
  {
   "cell_type": "code",
   "execution_count": null,
   "id": "6a58cba1-972c-47b6-ad24-8b4a6692491c",
   "metadata": {},
   "outputs": [],
   "source": [
    "Q1. What is the relationship between classes and modules?"
   ]
  },
  {
   "cell_type": "code",
   "execution_count": null,
   "id": "ac8b4314-d115-489c-9743-41ccfdfa471a",
   "metadata": {},
   "outputs": [],
   "source": [
    "A Python class is like an outline/blueprint for creating a new object.\n",
    "An object is anything that you wish to manipulate or change while working through the code.\n",
    "Every time a class object is instantiated, which is when we declare a variable, a new object is initiated from scratch\n",
    "\n",
    "Whereas in Python, Modules are simply files with the . py extension containing Python code that can be imported inside\n",
    "another Python Program. In simple terms, we can consider a module to be the same as a code library or a file that contains \n",
    "a set of functions/Classes that you want to include in your application."
   ]
  },
  {
   "cell_type": "code",
   "execution_count": null,
   "id": "42e68ecd-795d-44b1-906b-5671c03a8880",
   "metadata": {},
   "outputs": [],
   "source": [
    "Q2. How do you make instances and classes?"
   ]
  },
  {
   "cell_type": "code",
   "execution_count": null,
   "id": "b6a00b7a-b5b8-4d8d-a592-e4286edaa459",
   "metadata": {},
   "outputs": [],
   "source": [
    "For creating a class instance. \n",
    "Call a class by its name and pass the arguments which its __init__ method accepts.\n",
    "Example: Dilpreet = employee('Female',20000), Here Dilpreet is an instance of class employee with attriubutes 'Female' and 20000.\n",
    "\n",
    "Whereas for creating a class, we use the Class keyword. Class keyword is followed by classname and semicolon.\n",
    "Example: Here Employee is a class created with class keyword with arguments gender and salary.\n",
    "\n",
    "class Employee: \n",
    "    def __init__(self, gender,salary): \n",
    "        self.gender = gender \n",
    "        self.salary = salary"
   ]
  },
  {
   "cell_type": "code",
   "execution_count": null,
   "id": "dc0565c6-e8be-4e0d-ab6d-e061b19421bc",
   "metadata": {},
   "outputs": [],
   "source": [
    "Q3. Where and how should be class attributes created?"
   ]
  },
  {
   "cell_type": "code",
   "execution_count": null,
   "id": "f63d9863-7fd5-43f8-b70f-e716aad500df",
   "metadata": {},
   "outputs": [],
   "source": [
    "Class attributes or Class level Attributes belong to the class itself. \n",
    "These attributes will be shared by all the instances of the class. \n",
    "Hence these attributes are usually defined in the top of class definiation outside all methods. "
   ]
  },
  {
   "cell_type": "code",
   "execution_count": null,
   "id": "20f0c265-91fe-4269-b64f-eddf0b03fff5",
   "metadata": {},
   "outputs": [],
   "source": [
    "Q4. Where and how are instance attributes created?"
   ]
  },
  {
   "cell_type": "code",
   "execution_count": null,
   "id": "0d4102db-e8d5-4e1a-ab0d-a3e175029477",
   "metadata": {},
   "outputs": [],
   "source": [
    "Instances attributes are passed to the class when an object of the class is created. \n",
    "Unlike class attributes, instance attributes are not shared by all objects of the classs instead each object maintains \n",
    "its own copy of instance attributes at object level whereas incase of class attributes all instances of class refer to a single copy.\n",
    "Usually instance attributes are defined within the __init__ method of class\n",
    "\n",
    "Example: In the below sample code we are creating a class Car with instance varaibles color, price, engine, which will be provided when an instance of class Car is created.\n",
    "\n",
    "class Car: \n",
    "    def __init__(self,color,price,engine): \n",
    "    self.color = color # All this are instance attributes \n",
    "    self.price = price \n",
    "    self.engine = engine\n",
    "\n",
    "nexon_ev = Car('Indigo Blue', 1400000, 'electric')\n",
    "safari = Car('Pearl White',2100000, 'petrol')\n",
    "\n",
    "nexon_ev, safari are both the instances of class Car with different instance variables."
   ]
  },
  {
   "cell_type": "code",
   "execution_count": null,
   "id": "c9d60917-c05e-46c1-9b54-ca354e7b29a5",
   "metadata": {},
   "outputs": [],
   "source": [
    "Q5. What does the term 'self' in a Python class mean?"
   ]
  },
  {
   "cell_type": "code",
   "execution_count": null,
   "id": "a7bfd43c-d7e3-4efe-a911-0aa03f3a4ced",
   "metadata": {},
   "outputs": [],
   "source": [
    "self represents the instance of the class (it represents the object itself).\n",
    "By using the “self” keyword we can access the attributes and methods of the class with in the class in python.\n",
    "It binds the attributes with the given arguments."
   ]
  },
  {
   "cell_type": "code",
   "execution_count": null,
   "id": "e6c7297d-22aa-4188-98d1-f4ff797a8ed6",
   "metadata": {},
   "outputs": [],
   "source": [
    "Q6. How does a Python class handle operator overloading?"
   ]
  },
  {
   "cell_type": "code",
   "execution_count": null,
   "id": "11faa972-684a-4378-94da-893825f1ac0e",
   "metadata": {},
   "outputs": [],
   "source": [
    "Python Classes handle operator overloading by using special methods called Magic methods, these special methods usually \n",
    "begin and end with __ (double underscore)\n",
    "Example: Magic methods for basic arithmetic operators are:"
   ]
  },
  {
   "cell_type": "code",
   "execution_count": 1,
   "id": "5dad9664-3aa9-4b53-8ec1-6009c05ed78a",
   "metadata": {},
   "outputs": [
    {
     "name": "stdout",
     "output_type": "stream",
     "text": [
      "The total number of pages in 2 books is 300\n"
     ]
    }
   ],
   "source": [
    "class Book:\n",
    "    def __init__(self,pages):\n",
    "        self.pages = pages\n",
    "    def __add__(self,other):\n",
    "        return self.pages + other.pages\n",
    "b1 = Book(100)\n",
    "b2 = Book(200)\n",
    "print(f'The total number of pages in 2 books is {b1+b2}')"
   ]
  },
  {
   "cell_type": "code",
   "execution_count": null,
   "id": "216bf649-dfcc-4821-901e-2915312ecc86",
   "metadata": {},
   "outputs": [],
   "source": [
    "Q7. When do you consider allowing operator overloading of your classes?"
   ]
  },
  {
   "cell_type": "code",
   "execution_count": null,
   "id": "2c1e6ef6-d719-46f5-a391-41a1ceacfc89",
   "metadata": {},
   "outputs": [],
   "source": [
    "When we want to have different meaning for the same operator accroding to the context we use operator overloading.\n",
    "\n",
    "Here are some advantages of operator overloading,\n",
    "Improves code readability by allowing the use of familiar operators.\n",
    "Ensures that objects of a class behave consistently with built-in types and other user-defined types.\n",
    "Makes it simpler to write code, especially for complex data types.\n",
    "Allows for code reuse by implementing one operator method and using it for other operators."
   ]
  },
  {
   "cell_type": "code",
   "execution_count": null,
   "id": "b46a81b0-3e8e-4e52-a2d0-4ddcae2b7856",
   "metadata": {},
   "outputs": [],
   "source": [
    "Q8. What is the most popular form of operator overloading?"
   ]
  },
  {
   "cell_type": "code",
   "execution_count": null,
   "id": "ea7164e5-fb16-47f7-97e7-12a47d040b67",
   "metadata": {},
   "outputs": [],
   "source": [
    "The most popular form of operator overloading in python is by special methods called Magic methods which usually beign and end with double underscore __<method name>__."
   ]
  },
  {
   "cell_type": "code",
   "execution_count": null,
   "id": "a789eb0f-81de-4e07-ad45-a3f2865ffdaf",
   "metadata": {},
   "outputs": [],
   "source": [
    "class A:\n",
    "    def __init__(self,a):\n",
    "        self.a = a\n",
    "    def __add__(self,o):\n",
    "        return self.a+o.a\n",
    "obj1 = A(1)\n",
    "obj2 = A(2)\n",
    "obj3 = A('Mano')\n",
    "obj4 = A(' Vishnu')\n",
    "print(f'Sum -> {obj1+obj2}')\n",
    "print(f'String Concatenation -> {obj3+obj4}')"
   ]
  },
  {
   "cell_type": "code",
   "execution_count": null,
   "id": "c381e361-75ac-499b-9266-fe764f285ca6",
   "metadata": {},
   "outputs": [],
   "source": [
    "Q9. What are the two most important concepts to grasp in order to comprehend Python OOP code?"
   ]
  },
  {
   "cell_type": "code",
   "execution_count": null,
   "id": "19319a53-33ca-49a0-87d5-6848a6c776c5",
   "metadata": {},
   "outputs": [],
   "source": [
    "Classes and objects are the two concepts to comprehend python OOP code as more formally objects are entities that represent instances of general abstract concept called class\n",
    "\n",
    "Along with classes and objects the important concepts to grasp are:\n",
    "\n",
    "Inheritence\n",
    "Abstraction\n",
    "Polymorphism\n",
    "Encapsulation"
   ]
  }
 ],
 "metadata": {
  "kernelspec": {
   "display_name": "Python 3 (ipykernel)",
   "language": "python",
   "name": "python3"
  },
  "language_info": {
   "codemirror_mode": {
    "name": "ipython",
    "version": 3
   },
   "file_extension": ".py",
   "mimetype": "text/x-python",
   "name": "python",
   "nbconvert_exporter": "python",
   "pygments_lexer": "ipython3",
   "version": "3.10.6"
  }
 },
 "nbformat": 4,
 "nbformat_minor": 5
}
