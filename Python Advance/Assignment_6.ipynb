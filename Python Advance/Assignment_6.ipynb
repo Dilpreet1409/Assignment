{
 "cells": [
  {
   "cell_type": "code",
   "execution_count": null,
   "id": "c766f5a1-3834-4dfb-86dd-244d090c10cd",
   "metadata": {},
   "outputs": [],
   "source": [
    "Q1. Describe three applications for exception processing."
   ]
  },
  {
   "cell_type": "code",
   "execution_count": null,
   "id": "fbcc6c3e-ae10-4b12-a353-4880e3d5f8b8",
   "metadata": {},
   "outputs": [],
   "source": [
    "Exception Processing is important to find exceptions that causes the runtime error.\n",
    "As runtime errors halt the program execution when exception occurs.\n",
    "\n",
    "Exception Processing is used in Various Applications of which few examples are:\n",
    "1.Input Validation: Exception processing is used to validate and handle incorrect user input, \n",
    "ensuring the program doesnt crash and providing meaningful error messages.\n",
    "\n",
    "2.File and Resource Management: Exceptions handle issues like file not found, network errors, or \n",
    "database connection problems while ensuring proper resource cleanup.\n",
    "(File I/O exceptions during File handling)\n",
    "\n",
    "3.Robust Program Execution: Exception handling makes programs more fault-tolerant, allowing them to recover from \n",
    "unexpected errors, log issues for debugging, and maintain stability in multi-threaded or distributed applications.\n",
    "\n",
    "4.Checking for Arithmetic exceptions in mathematical executions"
   ]
  },
  {
   "cell_type": "code",
   "execution_count": null,
   "id": "25f02e43-cbf2-479d-8e0e-ddafa771ed70",
   "metadata": {},
   "outputs": [],
   "source": [
    "Q2. What happens if you dont do something extra to treat an exception?"
   ]
  },
  {
   "cell_type": "code",
   "execution_count": null,
   "id": "251c26ea-c1a3-43a6-b0ab-6cdbf5eb3b72",
   "metadata": {},
   "outputs": [],
   "source": [
    "If Exceptions are not handled flow of program the program will terminate, and the exceptions details,\n",
    "including the error message and traceback, will be displayed as part of the error message.\n",
    "Thus, inability of program to handle exceptions will result in crashing of program."
   ]
  },
  {
   "cell_type": "code",
   "execution_count": null,
   "id": "6c0aa257-5d05-4485-be60-612004036682",
   "metadata": {},
   "outputs": [],
   "source": [
    "Q3. What are your options for recovering from an exception in your script?"
   ]
  },
  {
   "cell_type": "code",
   "execution_count": null,
   "id": "b30b5cc6-4149-4073-8a4f-9f9ee713fd79",
   "metadata": {},
   "outputs": [],
   "source": [
    "Python provides try and except statements for recovering from an exception in your script or employing  multiple except \n",
    "blocks for different exception types."
   ]
  },
  {
   "cell_type": "code",
   "execution_count": null,
   "id": "dbc0f16e-32f5-4180-a528-cd131fda314d",
   "metadata": {},
   "outputs": [],
   "source": [
    "Q4. Describe two methods for triggering exceptions in your script."
   ]
  },
  {
   "cell_type": "code",
   "execution_count": null,
   "id": "bf4e8fcb-76d7-4030-9734-2994a4aaca3d",
   "metadata": {},
   "outputs": [],
   "source": [
    "raise and assert are two methods that can be used to trigger manual exceptions in your script.\n",
    "\n",
    "raise method triggers an exception if condition provided to it turns out to be True.\n",
    "assert will let the program to continue execution if condition provided to it turns out to be True else exception will be raised\n"
   ]
  },
  {
   "cell_type": "code",
   "execution_count": null,
   "id": "760cbea0-738d-4ac4-a366-6b0a7d0383d2",
   "metadata": {},
   "outputs": [],
   "source": [
    "Q5. Identify two methods for specifying actions to be executed at termination time, regardless of\n",
    "whether or not an exception exists."
   ]
  },
  {
   "cell_type": "code",
   "execution_count": null,
   "id": "d3e2fa61-5213-4288-bda9-2e74fe449cd6",
   "metadata": {},
   "outputs": [],
   "source": [
    "Python Provides else and finally blocks for specifying actions to be executed at termination time, regardless of whether\n",
    "an exceptions exists or not."
   ]
  }
 ],
 "metadata": {
  "kernelspec": {
   "display_name": "Python 3 (ipykernel)",
   "language": "python",
   "name": "python3"
  },
  "language_info": {
   "codemirror_mode": {
    "name": "ipython",
    "version": 3
   },
   "file_extension": ".py",
   "mimetype": "text/x-python",
   "name": "python",
   "nbconvert_exporter": "python",
   "pygments_lexer": "ipython3",
   "version": "3.10.6"
  }
 },
 "nbformat": 4,
 "nbformat_minor": 5
}
