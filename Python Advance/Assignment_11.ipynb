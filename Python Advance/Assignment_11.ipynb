{
 "cells": [
  {
   "cell_type": "code",
   "execution_count": null,
   "id": "79464d96-9081-4db9-a17e-f315df76c670",
   "metadata": {},
   "outputs": [],
   "source": [
    "Q1. What is the concept of a metaclass?"
   ]
  },
  {
   "cell_type": "code",
   "execution_count": null,
   "id": "57397449-4921-4de1-a3b0-20370bca7a60",
   "metadata": {},
   "outputs": [],
   "source": [
    "Metaclass in Python is a class of a class that defines how a class behaves. \n",
    "A class is itself a instance of Metaclass, and any Instance of Class in Python is an Instance of type metaclass.\n",
    "E.g. Type of of int, str, float, list, tuple and many more is of metaclass type."
   ]
  },
  {
   "cell_type": "code",
   "execution_count": null,
   "id": "6d92063a-ee1d-4ea5-91bf-d5bb84898a98",
   "metadata": {},
   "outputs": [],
   "source": [
    "Q2. What is the best way to declare a class metaclass?"
   ]
  },
  {
   "cell_type": "code",
   "execution_count": null,
   "id": "ba7c619a-f2de-4737-817a-4033d61e6d26",
   "metadata": {},
   "outputs": [],
   "source": [
    "The best way to declare a class metaclass is to:\n",
    "Subclass the built-in type metaclass.\n",
    "Define custom behavior for the __init__ method to modify or augment class attributes and methods as needed.\n",
    "This approach provides flexibility and control over class definitions. "
   ]
  },
  {
   "cell_type": "code",
   "execution_count": null,
   "id": "d85a734c-1290-4f59-b55a-24112695ed21",
   "metadata": {},
   "outputs": [],
   "source": [
    "class MyMeta(type):\n",
    "    def __init__(cls, name, bases, attrs):\n",
    "        # Your custom metaclass logic here\n",
    "        super().__init__(name, bases, attrs)\n",
    "\n",
    "class MyClass(metaclass=MyMeta):\n",
    "    pass"
   ]
  },
  {
   "cell_type": "code",
   "execution_count": null,
   "id": "762d8e98-e985-407d-8fd9-c81c23984c52",
   "metadata": {},
   "outputs": [],
   "source": [
    "Q3. How do class decorators overlap with metaclasses for handling classes?"
   ]
  },
  {
   "cell_type": "code",
   "execution_count": null,
   "id": "a1bff6fb-3eb5-43c6-954d-b8485e0de1b0",
   "metadata": {},
   "outputs": [],
   "source": [
    "We can achieve the same functionality with either class decorators or custom metaclasses.\n",
    "The key is to apply the functionality of the decorator function (the function that takes a class object and modifies it)\n",
    "within the metaclasss __new__ or __init__ methods, which are responsible for creating the class object."
   ]
  },
  {
   "cell_type": "code",
   "execution_count": null,
   "id": "a4aeb753-d009-4d50-8921-25ed2d724e23",
   "metadata": {},
   "outputs": [],
   "source": [
    "Q4. How do class decorators overlap with metaclasses for handling instances?"
   ]
  },
  {
   "cell_type": "code",
   "execution_count": null,
   "id": "8034a870-9dcc-4b7a-9555-5dd07215295c",
   "metadata": {},
   "outputs": [],
   "source": [
    "Similar to handling classes, we can replicate the functionality of a class decorator using a custom metaclass. \n",
    "We would apply the decorators functionality within the metaclasss __new__ or __init__ methods during the instance \n",
    "creation process."
   ]
  }
 ],
 "metadata": {
  "kernelspec": {
   "display_name": "Python 3 (ipykernel)",
   "language": "python",
   "name": "python3"
  },
  "language_info": {
   "codemirror_mode": {
    "name": "ipython",
    "version": 3
   },
   "file_extension": ".py",
   "mimetype": "text/x-python",
   "name": "python",
   "nbconvert_exporter": "python",
   "pygments_lexer": "ipython3",
   "version": "3.10.6"
  }
 },
 "nbformat": 4,
 "nbformat_minor": 5
}
