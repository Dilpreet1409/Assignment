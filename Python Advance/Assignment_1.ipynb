{
 "cells": [
  {
   "cell_type": "code",
   "execution_count": null,
   "id": "8332eaec-bfcb-4eae-a139-4ba8d3daa5fa",
   "metadata": {},
   "outputs": [],
   "source": [
    "Q1. What is the purpose of Pythons OOP?\n"
   ]
  },
  {
   "cell_type": "code",
   "execution_count": null,
   "id": "cc60c5f4-cc02-40b2-98cc-4aabd56f4e69",
   "metadata": {},
   "outputs": [],
   "source": [
    "OOP or object oriented programming is a programming paradigm that provides a means of structuring programs so that properties \n",
    "and behaviors are bundled into individual objects\n",
    "\n",
    "In Python, object-oriented Programming (OOPs) uses objects and classes in programming.\n",
    "It aims to implement real-world entities like inheritance, polymorphisms, encapsulation, etc. in the programming.\n",
    "It comes up with the following advantages:\n",
    "1.It helps to divide our over all program into different small segments and thus making it solving easy with the use of objects\n",
    "2.Helps in easy maintenance and modification of existing program\n",
    "3.Multiple instances of an object can be made.\n",
    "4.Reuse of code through inheritance\n",
    "5.Flexibility through polymorphism\n",
    "6.Effective problem solving ,etc"
   ]
  },
  {
   "cell_type": "code",
   "execution_count": null,
   "id": "3cf33172-5a44-46f9-bc62-bfeb0b391b9c",
   "metadata": {},
   "outputs": [],
   "source": [
    "Q2. Where does an inheritance search look for an attribute?\n"
   ]
  },
  {
   "cell_type": "code",
   "execution_count": null,
   "id": "5085ff46-f9c1-4c9c-874f-52de676a678c",
   "metadata": {},
   "outputs": [],
   "source": [
    "Python searches for an attribute in an upward tree of attributes. \n",
    "It first searches for the attribute in its instance and then looks in the class it is generated from, \n",
    "to all super classes listed in its class header"
   ]
  },
  {
   "cell_type": "code",
   "execution_count": null,
   "id": "0a566e75-c9f2-4f4a-8feb-c5e80fc48012",
   "metadata": {},
   "outputs": [],
   "source": [
    "Q3. How do you distinguish between a class object and an instance object?"
   ]
  },
  {
   "cell_type": "code",
   "execution_count": null,
   "id": "11384b42-7d07-4cf9-875f-c908596024a0",
   "metadata": {},
   "outputs": [],
   "source": [
    "Class objects represent the class itself, while instance objects represent individual instances of the class.\n",
    "Class objects can have class-level attributes and methods that are shared among all instances of the class, \n",
    "while instance objects have their own set of attributes and methods that are independent of other.\n",
    "class object is like a blueprint for intance object but instance object is a concrete item in out code.\n",
    "instance objects are new namespaces, thay start out empty but inherit object attributes that live in class object."
   ]
  },
  {
   "cell_type": "code",
   "execution_count": null,
   "id": "e3c12d31-a0ad-42f8-a3cb-ee86a595a402",
   "metadata": {},
   "outputs": [],
   "source": [
    "Q4. What makes the first argument in a class’s method function special?\n"
   ]
  },
  {
   "cell_type": "code",
   "execution_count": null,
   "id": "1623e36f-9bc8-4e7e-a356-dee6eb56bb1e",
   "metadata": {},
   "outputs": [],
   "source": [
    "Whenever we call a method of an object created from a class, the object is automatically passed as\n",
    "the first argument using the “self” parameter. This enables you to modify the objects properties and \n",
    "execute tasks unique to that particular instance.\n",
    "\n",
    "Python Classes usually have three types of methods which are:\n",
    "Instance Methods (object level methods)\n",
    "Class Methods (class level methods)\n",
    "Static Methods (general utility methods)"
   ]
  },
  {
   "cell_type": "code",
   "execution_count": null,
   "id": "88ef244a-7f72-49af-98d3-fad05eedeccf",
   "metadata": {},
   "outputs": [],
   "source": [
    "Q5. What is the purpose of the __init__ method?\n"
   ]
  },
  {
   "cell_type": "code",
   "execution_count": null,
   "id": "2b3b8e0d-379d-4d16-8477-722484f81bf5",
   "metadata": {},
   "outputs": [],
   "source": [
    "__init__ is a reseved method in python classes. It serves the role of a constructor in object oriented terminology. \n",
    "This method is called when an object is created from a class and it allows the class to initialize the attributes of the class"
   ]
  },
  {
   "cell_type": "code",
   "execution_count": null,
   "id": "cfa9e729-8476-4930-9e3b-0982e8915b93",
   "metadata": {},
   "outputs": [],
   "source": [
    "Q6. What is the process for creating a class instance?"
   ]
  },
  {
   "cell_type": "code",
   "execution_count": null,
   "id": "66ab0f7b-4bcf-4ff0-a392-5ce4b7376bb1",
   "metadata": {},
   "outputs": [],
   "source": [
    "Define a class first then create the functions after the class is made then create the object \n",
    "for calling the functions as per requirements. "
   ]
  },
  {
   "cell_type": "code",
   "execution_count": 1,
   "id": "1084876c-ebfd-42ad-bc73-9ef8d0025b34",
   "metadata": {},
   "outputs": [
    {
     "name": "stdout",
     "output_type": "stream",
     "text": [
      "abc\n"
     ]
    }
   ],
   "source": [
    "class C:\n",
    "    def __init__(self, data):\n",
    "        self.data = data\n",
    "\n",
    "an_instance = C(\"abc\")\n",
    "print(an_instance.data)\n",
    "     "
   ]
  },
  {
   "cell_type": "code",
   "execution_count": null,
   "id": "079fe0a5-8bcf-46f9-8dc4-a3095a2f66db",
   "metadata": {},
   "outputs": [],
   "source": [
    "Q7. What is the process for creating a class?"
   ]
  },
  {
   "cell_type": "code",
   "execution_count": null,
   "id": "814bc8de-cee7-41dc-b0c2-802fea74fcd2",
   "metadata": {},
   "outputs": [],
   "source": [
    "A Class is like an object constructor, or a \"blueprint\" for creating objects. class keyword is used to created a class in python. The syntax to create a class in python is class <classname>:"
   ]
  },
  {
   "cell_type": "code",
   "execution_count": 3,
   "id": "b1fc2d55-c3d9-4513-b342-6b557151f9cf",
   "metadata": {},
   "outputs": [
    {
     "name": "stdout",
     "output_type": "stream",
     "text": [
      "5\n"
     ]
    }
   ],
   "source": [
    "class MyClass: #create class using class keyword\n",
    "      x = 5\n",
    "V = MyClass()\n",
    "print(V.x)"
   ]
  },
  {
   "cell_type": "code",
   "execution_count": null,
   "id": "c155d49c-2e30-4867-a0a8-058eaad0d3b6",
   "metadata": {},
   "outputs": [],
   "source": [
    "Q8. How would you define the superclasses of a class?"
   ]
  },
  {
   "cell_type": "code",
   "execution_count": null,
   "id": "a509181b-2d67-497b-b09a-0f5b38feca8d",
   "metadata": {},
   "outputs": [],
   "source": [
    "The class from which a class inherits is called the parent or superclass. A class which inherits from a superclass is called a subclass, also called heir class or child class. "
   ]
  }
 ],
 "metadata": {
  "kernelspec": {
   "display_name": "Python 3 (ipykernel)",
   "language": "python",
   "name": "python3"
  },
  "language_info": {
   "codemirror_mode": {
    "name": "ipython",
    "version": 3
   },
   "file_extension": ".py",
   "mimetype": "text/x-python",
   "name": "python",
   "nbconvert_exporter": "python",
   "pygments_lexer": "ipython3",
   "version": "3.10.6"
  }
 },
 "nbformat": 4,
 "nbformat_minor": 5
}
