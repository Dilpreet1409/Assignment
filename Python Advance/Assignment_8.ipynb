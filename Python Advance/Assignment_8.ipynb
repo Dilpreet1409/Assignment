{
 "cells": [
  {
   "cell_type": "code",
   "execution_count": null,
   "id": "fa6eb7f2-4f17-4080-8e10-08e45d30ab22",
   "metadata": {},
   "outputs": [],
   "source": [
    "Q1. What are the two latest user-defined exception constraints in Python 3.X?"
   ]
  },
  {
   "cell_type": "code",
   "execution_count": null,
   "id": "f719c012-697d-4cfd-9d8d-dbbb1934418d",
   "metadata": {},
   "outputs": [],
   "source": [
    "raise and assert are the two latest user-defined exception constraints in Python 3.X"
   ]
  },
  {
   "cell_type": "code",
   "execution_count": null,
   "id": "09d370e1-61aa-4b3d-9398-872d617c1a0d",
   "metadata": {},
   "outputs": [],
   "source": [
    "Q2. How are class-based exceptions that have been raised matched to handlers?"
   ]
  },
  {
   "cell_type": "code",
   "execution_count": null,
   "id": "9d8c76bc-4994-480f-a86d-94ab17d5b74d",
   "metadata": {},
   "outputs": [],
   "source": [
    "In Python, class-based exceptions are matched to handlers based on their inheritance hierarchy. \n",
    "Handlers catch exceptions by specifying either the exact exception type or a superclass type they can handle.\n",
    "The first matching handler encountered is executed, and if none is found, the program terminates with an unhandled exception."
   ]
  },
  {
   "cell_type": "code",
   "execution_count": 2,
   "id": "063bad8c-af91-4f73-901a-6e1c64a8e87c",
   "metadata": {},
   "outputs": [
    {
     "name": "stdout",
     "output_type": "stream",
     "text": [
      "File not found\n"
     ]
    }
   ],
   "source": [
    "try:\n",
    "    # Attempt to open a file that doesn't exist\n",
    "    file = open(\"non_existent_file.txt\", \"r\")\n",
    "except FileNotFoundError:\n",
    "    # Handle the specific exception for a missing file\n",
    "    print(\"File not found\")\n",
    "except Exception as e:\n",
    "    # Handle a more general exception (not recommended for file handling)\n",
    "    print(f\"An error occurred: {e}\")\n"
   ]
  },
  {
   "cell_type": "code",
   "execution_count": null,
   "id": "c802dfdd-e56d-405f-9cb7-396f1f1df91f",
   "metadata": {},
   "outputs": [],
   "source": [
    "Q3. Describe two methods for attaching context information to exception artefacts."
   ]
  },
  {
   "cell_type": "code",
   "execution_count": null,
   "id": "ecd3106f-9afa-4725-91a3-0a4a3343639b",
   "metadata": {},
   "outputs": [],
   "source": [
    "Custom Exception Classes: Create custom exception classes that inherit from a base exception class and include\n",
    "additional context information as attributes. These custom classes can encapsulate details such as error codes, \n",
    "timestamps, and relevant data, providing more context when the exception is raised and caught.\n",
    "\n",
    "Exception Wrapping: Wrap exceptions with additional context information by creating a new exception instance \n",
    "and including the original exception as a nested exception. This allows you to add context-specific details like \n",
    "log messages or custom error messages, preserving the original exception's stack trace for debugging purposes."
   ]
  },
  {
   "cell_type": "code",
   "execution_count": null,
   "id": "54c728e4-251d-45d4-9d9a-043a3f10bd62",
   "metadata": {},
   "outputs": [],
   "source": [
    "Q4. Describe two methods for specifying the text of an exception objects error message."
   ]
  },
  {
   "cell_type": "code",
   "execution_count": null,
   "id": "2ba2baf3-7f94-46b1-b9a4-17c767b59b63",
   "metadata": {},
   "outputs": [],
   "source": [
    "raise and assert are two methods for specifying the text of an exception objects error message. \n",
    "raise statement is used to trigger explicit exception, if certain condition is not as per requirement of programmer.\n",
    "It helps in triggering exception as per need of programmer and logic.\n",
    "\n",
    "There are few assertions that programmer always want to be True to avoid code failure. \n",
    "This type of requirment is fullfilled by assert statement. This statement takes a Boolean Condition output of which if True, \n",
    "further program executes. if output of assert statement is False it raises an Assertion Error."
   ]
  },
  {
   "cell_type": "code",
   "execution_count": null,
   "id": "f397c6ef-a169-4e71-9d8a-f71820216c49",
   "metadata": {},
   "outputs": [],
   "source": [
    "Q5. Why do you no longer use string-based exceptions?"
   ]
  },
  {
   "cell_type": "code",
   "execution_count": null,
   "id": "8f01c71b-d1c6-40bb-aa7b-424fe00a7c92",
   "metadata": {},
   "outputs": [],
   "source": [
    "String-based Exceptions doesnt inherit from Exceptions. so plain exceptions catch all exceptions and not only system"
   ]
  }
 ],
 "metadata": {
  "kernelspec": {
   "display_name": "Python 3 (ipykernel)",
   "language": "python",
   "name": "python3"
  },
  "language_info": {
   "codemirror_mode": {
    "name": "ipython",
    "version": 3
   },
   "file_extension": ".py",
   "mimetype": "text/x-python",
   "name": "python",
   "nbconvert_exporter": "python",
   "pygments_lexer": "ipython3",
   "version": "3.10.6"
  }
 },
 "nbformat": 4,
 "nbformat_minor": 5
}
