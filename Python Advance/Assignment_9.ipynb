{
 "cells": [
  {
   "cell_type": "code",
   "execution_count": null,
   "id": "1d295273-e1a3-43d1-9a74-7eb359be45db",
   "metadata": {},
   "outputs": [],
   "source": [
    "Q1. In Python 3.X, what are the names and functions of string object types?"
   ]
  },
  {
   "cell_type": "code",
   "execution_count": null,
   "id": "57f80f44-9411-43de-b3c6-2dd488015b21",
   "metadata": {},
   "outputs": [],
   "source": [
    "capitalize() ->\tConverts the first character to upper case\n",
    "casefold()\t -> Converts string into lower case\n",
    "center()     -> Returns a centered string\n",
    "count()\t     -> Returns the number of times a specified value occurs in a string\n",
    "encode()\t -> Returns an encoded version of the string\n",
    "endswith()\t -> Returns true if the string ends with the specified value\n",
    "expandtabs() ->\tSets the tab size of the string\n",
    "find()\t        Searches the string for a specified value and returns the position of where it was found\n",
    "format()\t    Formats specified values in a string\n",
    "format_map()\tFormats specified values in a string\n",
    "index()\t        Searches the string for a specified value and returns the position of where it was found\n",
    "isalnum()\t    Returns True if all characters in the string are alphanumeric\n",
    "isalpha()\t    Returns True if all characters in the string are in the alphabet\n",
    "isascii()\t    Returns True if all characters in the string are ascii characters\n",
    "isdecimal()\t    Returns True if all characters in the string are decimals\n",
    "isdigit()\t    Returns True if all characters in the string are digits\n",
    "isidentifier()\tReturns True if the string is an identifier\n",
    "islower()\t    Returns True if all characters in the string are lower case\n",
    "isnumeric()\t    Returns True if all characters in the string are numeric\n",
    "isprintable()\tReturns True if all characters in the string are printable\n",
    "isspace()\t    Returns True if all characters in the string are whitespaces\n",
    "istitle()\t    Returns True if the string follows the rules of a title\n",
    "isupper()\t    Returns True if all characters in the string are upper case\n",
    "join()\t        Converts the elements of an iterable into a string\n",
    "ljust()     \tReturns a left justified version of the string\n",
    "lower()\t        Converts a string into lower case\n",
    "lstrip()\t    Returns a left trim version of the string\n",
    "maketrans()  \tReturns a translation table to be used in translations\n",
    "partition() \tReturns a tuple where the string is parted into three parts\n",
    "replace()\t    Returns a string where a specified value is replaced with a specified value\n",
    "rfind()\t        Searches the string for a specified value and returns the last position of where it was found\n",
    "rindex()\t    Searches the string for a specified value and returns the last position of where it was found\n",
    "rjust()\t        Returns a right justified version of the string\n",
    "rpartition()\tReturns a tuple where the string is parted into three parts\n",
    "rsplit()\t    Splits the string at the specified separator, and returns a list\n",
    "rstrip()\t    Returns a right trim version of the string\n",
    "split()\t        Splits the string at the specified separator, and returns a list\n",
    "splitlines()\tSplits the string at line breaks and returns a list\n",
    "startswith()\tReturns true if the string starts with the specified value\n",
    "strip()\t        Returns a trimmed version of the string\n",
    "swapcase()\t    Swaps cases, lower case becomes upper case and vice versa\n",
    "title()      \tConverts the first character of each word to upper case\n",
    "translate()  \tReturns a translated string\n",
    "upper()\t        Converts a string into upper case\n",
    "zfill()      \tFills the string with a specified number of 0 values at the beginning"
   ]
  },
  {
   "cell_type": "code",
   "execution_count": null,
   "id": "9f8f6c44-1750-477a-ad46-56d426734b24",
   "metadata": {},
   "outputs": [],
   "source": [
    "Q2. How do the string forms in Python 3.X vary in terms of operations?"
   ]
  },
  {
   "cell_type": "code",
   "execution_count": null,
   "id": "5e3676fe-27b5-470d-9278-6c9c94639475",
   "metadata": {},
   "outputs": [],
   "source": [
    "In Python 3, all strings are represented in Unicode.In Python 2 are stored internally as 8-bit ASCII, hence it \n",
    "is required to attach 'u' to make it Unicode. It is no longer necessary now."
   ]
  },
  {
   "cell_type": "code",
   "execution_count": null,
   "id": "950dc71e-c531-4ef1-a078-ae790b098088",
   "metadata": {},
   "outputs": [],
   "source": [
    "Q3. In 3.X, how do you put non-ASCII Unicode characters in a string?"
   ]
  },
  {
   "cell_type": "code",
   "execution_count": null,
   "id": "5ed9b68a-8cdc-45f5-a7f6-d2fd14ecd257",
   "metadata": {},
   "outputs": [],
   "source": [
    "In Python 3.X,\n",
    "unidecode() method from unidecode library can be used to put non-ASCII Unicode Characters in a string."
   ]
  },
  {
   "cell_type": "code",
   "execution_count": 4,
   "id": "c8730275-457f-44ea-a83d-ed5dd6ebafb1",
   "metadata": {},
   "outputs": [
    {
     "name": "stdout",
     "output_type": "stream",
     "text": [
      "kozuscek\n",
      "aap niice apnii bhaassaa aur inputt upkrnn cuneN aur likhnaa aarNbh kreN\n",
      "Xie Xie Ni \n",
      "arigatou. \n",
      "ulybat'sia Vladimir Putin\n"
     ]
    }
   ],
   "source": [
    "# Import unidecode module from unidecode\n",
    "from unidecode import unidecode\n",
    "  \n",
    "# Get transliteration for following\n",
    "# non-ASCII text (Unicode string)\n",
    "print(unidecode(u'ko\\u017eu\\u0161\\u010dek'))\n",
    "  \n",
    "# Get transliteration for following\n",
    "# non-ASCII text (Devanagari)\n",
    "print(unidecode(\"आप नीचे अपनी भाषा और इनपुट उपकरण चुनें और लिखना आरंभ करें\"))\n",
    "  \n",
    "# Get transliteration for following\n",
    "# non-ASCII text (Chinese)\n",
    "print(unidecode(\"谢谢你\"))\n",
    "  \n",
    "# Get transliteration for following\n",
    "# non-ASCII text (Japanese)\n",
    "print(unidecode(\"ありがとう。\"))\n",
    "  \n",
    "# Get transliteration for following\n",
    "# non-ASCII text (Russian)\n",
    "print(unidecode(\"улыбаться Владимир Путин\"))"
   ]
  },
  {
   "cell_type": "code",
   "execution_count": null,
   "id": "955382c1-5e0a-4323-921b-5a05e55eaeaa",
   "metadata": {},
   "outputs": [],
   "source": [
    "Q4. In Python 3.X, what are the key differences between text-mode and binary-mode files?"
   ]
  },
  {
   "cell_type": "code",
   "execution_count": null,
   "id": "4c44cb43-6d80-41e9-b932-33e092c400f6",
   "metadata": {},
   "outputs": [],
   "source": [
    "The major difference between these two is that a text file contains textual information in the form of alphabets, digits \n",
    "and special characters or symbols. On the other hand, a binary file contains bytes or a compiled version of a text file.\n",
    "\n",
    "When a file is opened in text mode, reading its data automatically decodes its content\n",
    "(as per the platform default or as per provided encoding), and returns it as a str; writing operation takes a str,\n",
    "and automatically encodes it before transferring to the file. Text mode files also support universal end-of-line translation, \n",
    "and encoding specification arguments.\n",
    "\n",
    "When a file is opened in binary mode by adding a b to the mode string argument in the open() call, reading its data does \n",
    "not decode it in any way, and simply returns its content raw and unchanged, as a bytes object; writing takes a bytes object \n",
    "and transfers it to the file unchanged. Binary-mode files also accept a bytearray object for the content to be written to the\n",
    "file."
   ]
  },
  {
   "cell_type": "code",
   "execution_count": null,
   "id": "82dd298c-d41d-4e94-ac45-78348583b5d0",
   "metadata": {},
   "outputs": [],
   "source": [
    "Q5. How can you interpret a Unicode text file containing text encoded in a different encoding than\n",
    "your platforms default?"
   ]
  },
  {
   "cell_type": "code",
   "execution_count": null,
   "id": "d8e1d0b0-ed43-4a5f-8b72-76514e74dd44",
   "metadata": {},
   "outputs": [],
   "source": [
    "Use of encode() and decode() method can be used to you interpret a Unicode text file containing text \n",
    "encoded in a different encoding than your platforms default, by default encoding parameter is UTF-8"
   ]
  },
  {
   "cell_type": "code",
   "execution_count": null,
   "id": "27008d1e-eb48-4329-84e6-65c6f1a68842",
   "metadata": {},
   "outputs": [],
   "source": [
    "Q6. What is the best way to make a Unicode text file in a particular encoding format?"
   ]
  },
  {
   "cell_type": "code",
   "execution_count": null,
   "id": "ff8c3c87-256c-4741-b166-2313be71b10e",
   "metadata": {},
   "outputs": [],
   "source": [
    "Use str.encode() and file.write() to make a Unicode text file in a particular encoding format, default encoding format is UTF-18.\n",
    "\n",
    "Call str.encode(encoding) with encoding set to utf8 to encode str.\n",
    "Call open(file, mode) to open a file with mode set to wb . wb writes to files in binary mode & preserves UTF-8format.\n",
    "Call file.write(data) to write data to the file."
   ]
  },
  {
   "cell_type": "code",
   "execution_count": null,
   "id": "f649de09-54fd-457d-9ece-e924bbd72c99",
   "metadata": {},
   "outputs": [],
   "source": [
    "Q7. What qualifies ASCII text as a form of Unicode text?"
   ]
  },
  {
   "cell_type": "code",
   "execution_count": null,
   "id": "c4aaf344-ed1f-47c4-8a50-2ca445270f6c",
   "metadata": {},
   "outputs": [],
   "source": [
    "Unicode represents most written languages in the world. ASCII has its equivalent in Unicode.\n",
    "The difference between ASCII and Unicode is that ASCII represents lowercase letters (a-z), \n",
    "uppercase letters (A-Z), digits (0–9) and symbols such as punctuation marks while Unicode represents letters of English,\n",
    "Arabic, Greek etc. mathematical symbols, historical scripts, emoji covering a wide range of characters than ASCII."
   ]
  },
  {
   "cell_type": "code",
   "execution_count": null,
   "id": "6aa1852e-9a2b-4c21-a385-fe0c5999977a",
   "metadata": {},
   "outputs": [],
   "source": [
    "Q8. How much of an effect does the change in string types in Python 3.X have on your code?"
   ]
  },
  {
   "cell_type": "code",
   "execution_count": null,
   "id": "9f4118d4-da67-4da8-aed5-56d0b3d223bb",
   "metadata": {},
   "outputs": [],
   "source": [
    "Python 3 stores strings as Unicode by default whereas Python 2 requires you to mark a string with a u if you want to store it as Unicode. Unicode strings are more versatile than ASCII strings, which are the Python 3.X default,\n",
    "as they can store letters from foreign languages as well as emoji and the standard Roman letters and numerals."
   ]
  }
 ],
 "metadata": {
  "kernelspec": {
   "display_name": "Python 3 (ipykernel)",
   "language": "python",
   "name": "python3"
  },
  "language_info": {
   "codemirror_mode": {
    "name": "ipython",
    "version": 3
   },
   "file_extension": ".py",
   "mimetype": "text/x-python",
   "name": "python",
   "nbconvert_exporter": "python",
   "pygments_lexer": "ipython3",
   "version": "3.10.6"
  }
 },
 "nbformat": 4,
 "nbformat_minor": 5
}
