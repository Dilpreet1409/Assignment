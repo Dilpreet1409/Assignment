{
 "cells": [
  {
   "cell_type": "code",
   "execution_count": null,
   "id": "2b0f0346-7014-4edc-a3db-83c5c6bd941d",
   "metadata": {},
   "outputs": [],
   "source": [
    "Q1. Define the relationship between a class and its instances. Is it a one-to-one or a one-to-many\n",
    "partnership, for example?"
   ]
  },
  {
   "cell_type": "code",
   "execution_count": null,
   "id": "a3cdc5ef-2c75-41de-bca2-71b1d1e6d8e2",
   "metadata": {},
   "outputs": [],
   "source": [
    "The relationship between a class and its instances is a one-to-many partnership, meaning that a single class \n",
    "can have multiple instances or objects created from it. Each instance represents a unique occurrence of the class\n",
    "and can have its own set of attributes and behaviors while sharing the structure defined by the class."
   ]
  },
  {
   "cell_type": "code",
   "execution_count": null,
   "id": "d34c3ecd-79d7-4144-b834-63b4344bf0e3",
   "metadata": {},
   "outputs": [],
   "source": [
    "Q2. What kind of data is held only in an instance?"
   ]
  },
  {
   "cell_type": "code",
   "execution_count": null,
   "id": "ec192bcb-2377-4585-89f1-215a99528c92",
   "metadata": {},
   "outputs": [],
   "source": [
    "Data held only in an instance, often referred to as instance-specific or instance-specific data, includes attributes\n",
    "and values that are unique to a particular instance of a class. This data is distinct for each object created from the \n",
    "class and is not shared among instances. It typically represents the objects state or characteristics."
   ]
  },
  {
   "cell_type": "code",
   "execution_count": null,
   "id": "e948d9a2-f463-4802-84ac-3095a0c07c9d",
   "metadata": {},
   "outputs": [],
   "source": [
    "Q3. What kind of knowledge is stored in a class?"
   ]
  },
  {
   "cell_type": "code",
   "execution_count": null,
   "id": "9af2cc0a-a4a5-4124-b064-da002cc1ac88",
   "metadata": {},
   "outputs": [],
   "source": [
    "Class creates a user-defined data structure, which holds its own data members and member functions, which can be accessed\n",
    "and used by creating an instance of that class. A class is like a blueprint for an object. \n",
    "Class is a logical entity which does not exist in real world Or we can say that class is a blueprint to create objects of \n",
    "similiar types. A class does not take space in memory. Examples:-fruits,furniture,vehicles etc."
   ]
  },
  {
   "cell_type": "code",
   "execution_count": null,
   "id": "9db37db6-7f1e-4695-a3ae-521e84f91c04",
   "metadata": {},
   "outputs": [],
   "source": [
    "Q4. What exactly is a method, and how is it different from a regular function?"
   ]
  },
  {
   "cell_type": "code",
   "execution_count": null,
   "id": "1f41ec63-5dfd-4353-ba7a-15494a6f57a7",
   "metadata": {},
   "outputs": [],
   "source": [
    "The methods with a class can be used to access the insatnce variables of its instance. \n",
    "So,the objects state can be modified by its method. Function cant access the attributes of an instance of a class or \n",
    "cant modify the state of the object. \n",
    "A function is independent, whereas a method is a function linked with an object. Explicit data is passed on to a function,\n",
    "whereas a method completely passes the object on which it was called in the program. \n",
    "A method is Object-oriented programming while a function has standalone functionality."
   ]
  },
  {
   "cell_type": "code",
   "execution_count": null,
   "id": "78dce073-aa6c-4411-b453-c00c0ef1fb54",
   "metadata": {},
   "outputs": [],
   "source": [
    "Q5. Is inheritance supported in Python, and if so, what is the syntax?\n"
   ]
  },
  {
   "cell_type": "code",
   "execution_count": null,
   "id": "d5d71537-d725-47a6-a84d-6651920a8311",
   "metadata": {},
   "outputs": [],
   "source": [
    "Yes,Python supports inheritance. The Types of Inheritence Supported by Python are:\n",
    "1.Simple Inheritence\n",
    "2.Multiple Inheritence\n",
    "3.Multilevel lInheritence\n",
    "4.Hybrid Inheritence\n",
    "5.Hierracial Inheritence"
   ]
  },
  {
   "cell_type": "code",
   "execution_count": null,
   "id": "f6d1a029-a399-4b06-b26a-8bbd8d0868de",
   "metadata": {},
   "outputs": [],
   "source": [
    "Q6. How much encapsulation (making instance or class variables private) does Python support?"
   ]
  },
  {
   "cell_type": "code",
   "execution_count": null,
   "id": "5fe90bee-32f1-4fa1-9a48-9c5e5f6a439f",
   "metadata": {},
   "outputs": [],
   "source": [
    "Encapsulation describes the idea of wrapping data and the methods that work on data within one unit. \n",
    "This puts restrictions on accessing variables and methods directly and can prevent the accidental modification of data.\n",
    "To prevent accidental change, an objects variable can only be changed by an objects method."
   ]
  },
  {
   "cell_type": "code",
   "execution_count": null,
   "id": "e7065d20-14d2-4281-b0dd-f3e60a650f51",
   "metadata": {},
   "outputs": [],
   "source": [
    "Q7. How do you distinguish between a class variable and an instance variable?"
   ]
  },
  {
   "cell_type": "code",
   "execution_count": null,
   "id": "4d6074b6-c491-4179-bb15-926f9deca699",
   "metadata": {},
   "outputs": [],
   "source": [
    "The Class Attribute is available to all the instance objects of that class whereas \n",
    "Instance Attributes are accessible only to the object or Instance of that class.\n",
    "A single copy of Class attributes is maintained by pvm at the class level Whereas different copies of instance \n",
    "attributes are maintained by pvm at objects/instance level."
   ]
  },
  {
   "cell_type": "code",
   "execution_count": null,
   "id": "ef043839-fe51-4f7f-8052-8e5c078eb676",
   "metadata": {},
   "outputs": [],
   "source": [
    "Q8. When, if ever, can self be included in a class method definitions?"
   ]
  },
  {
   "cell_type": "code",
   "execution_count": null,
   "id": "a0af1723-3a12-4774-a68a-e6065212d256",
   "metadata": {},
   "outputs": [],
   "source": [
    "Yes, self can be included in class method definitions to access the instance variables inside class methods."
   ]
  },
  {
   "cell_type": "code",
   "execution_count": null,
   "id": "845d4743-56a6-4ab8-b642-7468039a198e",
   "metadata": {},
   "outputs": [],
   "source": [
    "Q9. What is the difference between the _ _add_ _ and the _ _radd_ _ methods?"
   ]
  },
  {
   "cell_type": "code",
   "execution_count": null,
   "id": "5de6f0a4-f041-4407-9c9c-66ed3c455d39",
   "metadata": {},
   "outputs": [],
   "source": [
    "The __add__ and __radd__ methods in Python are used to define the behavior of the addition operator + when applied to objects of a custom class.\n",
    "\n",
    "Here are the key differences between the two:\n",
    "\n",
    "__add__:\n",
    "\n",
    "This method defines the behavior of the addition operator when the object is on the left side of the + operator.\n",
    "It is invoked when you perform an addition operation like obj + other, where obj is an instance of the class that implements __add__ and other is the object on the right side of the operator.\n",
    "It returns the result of the addition operation.\n",
    "\n",
    "__radd__:\n",
    "\n",
    "This method is called when the object is on the right side of the + operator and the object on the left side does not support addition with the class.\n",
    "It is used for handling the case where the left operand is not an instance of the class implementing __radd__.\n",
    "It should return the result of the addition operation."
   ]
  },
  {
   "cell_type": "code",
   "execution_count": null,
   "id": "9428f411-818a-4299-bc37-703202aa7b54",
   "metadata": {},
   "outputs": [],
   "source": [
    "Q10. When is it necessary to use a reflection method? When do you not need it, even though you\n",
    "support the operation in question?"
   ]
  },
  {
   "cell_type": "code",
   "execution_count": null,
   "id": "c28065b2-522b-4b04-8a97-1cdc143d5393",
   "metadata": {},
   "outputs": [],
   "source": [
    "Reflection refers to the ability for code to be able to examine attributes about objects that might be passed as parameters to a function.\n",
    "For example, if we write type(obj) then Python will return an object which represents the type of obj. \n",
    "Using reflection, we can write one recursive reverse function that will work for strings, lists, and any \n",
    "other sequence that supports slicing and concatenation. If an obj is a reference to a string, then Python will\n",
    "return the str type object. Further, if we write str() we get a string which is the empty string. In other words,\n",
    "writing str() is the same thing as writing “”. Likewise, writing list() is the same thing as writing []."
   ]
  },
  {
   "cell_type": "code",
   "execution_count": null,
   "id": "d1621917-43ef-41c0-bec5-d7404ecd8a8e",
   "metadata": {},
   "outputs": [],
   "source": [
    "Q11. What is the _ _iadd_ _ method called?"
   ]
  },
  {
   "cell_type": "code",
   "execution_count": null,
   "id": "fb3bbb25-b58f-4fc2-b039-7b3cb7fa5357",
   "metadata": {},
   "outputs": [],
   "source": [
    "__iadd__ method is called when we use implementation like a+=b which is a.__iadd__(b"
   ]
  },
  {
   "cell_type": "code",
   "execution_count": null,
   "id": "4c5672ed-fca1-4031-a5b1-6784c76d1ac3",
   "metadata": {},
   "outputs": [],
   "source": [
    "Q12. Is the _ _init_ _ method inherited by subclasses? What do you do if you need to customize its\n",
    "behavior within a subclass?"
   ]
  },
  {
   "cell_type": "code",
   "execution_count": null,
   "id": "f125fd5a-2313-49c2-a76a-2c56c08df97f",
   "metadata": {},
   "outputs": [],
   "source": [
    "Yes, __init__ method will be inherited by subclasses. If we want to customize its behaviour within a subclass, we can use super() method."
   ]
  }
 ],
 "metadata": {
  "kernelspec": {
   "display_name": "Python 3 (ipykernel)",
   "language": "python",
   "name": "python3"
  },
  "language_info": {
   "codemirror_mode": {
    "name": "ipython",
    "version": 3
   },
   "file_extension": ".py",
   "mimetype": "text/x-python",
   "name": "python",
   "nbconvert_exporter": "python",
   "pygments_lexer": "ipython3",
   "version": "3.10.6"
  }
 },
 "nbformat": 4,
 "nbformat_minor": 5
}
