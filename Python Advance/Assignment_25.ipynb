{
 "cells": [
  {
   "cell_type": "code",
   "execution_count": null,
   "id": "4a304f4a-18fc-4742-9162-12c6873b1530",
   "metadata": {},
   "outputs": [],
   "source": [
    "Q1. What is the distinction between a numpy array and a pandas data frame? Is there a way to\n",
    "convert between the two if there is?"
   ]
  },
  {
   "cell_type": "code",
   "execution_count": null,
   "id": "2af49f18-1d4e-4044-9d30-84042f1eb6d5",
   "metadata": {},
   "outputs": [],
   "source": [
    "The main distinction between a NumPy array and a Pandas DataFrame is that a NumPy array is a homogeneous, \n",
    "multi-dimensional array primarily used for numerical computations, while a Pandas DataFrame is a \n",
    "tabular data structure that can hold heterogeneous data types, including numbers, strings, and more. \n",
    "DataFrames are also equipped with labeled rows and columns.\n",
    "\n",
    "1. Converting a Pandas DataFrame to a NumPy array using the .values attribute of the DataFrame. \n",
    "For example, if df is a DataFrame, you can obtain a NumPy array by using array = df.values.\n",
    "\n",
    "2. To convert a NumPy array to a Pandas DataFrame, you can use the pd.DataFrame() constructor.\n",
    "For example, if arr is a NumPy array, you can create a DataFrame with df = pd.DataFrame(arr)"
   ]
  },
  {
   "cell_type": "code",
   "execution_count": null,
   "id": "3b8d0e63-6bdb-4a2a-82ea-5985d0fc30d3",
   "metadata": {},
   "outputs": [],
   "source": [
    "Q2. Identify some of the plotting techniques that are used to produce a stock-market chart."
   ]
  },
  {
   "cell_type": "code",
   "execution_count": null,
   "id": "1be1dabb-09c3-4fd3-af81-5bbf6f1de4db",
   "metadata": {},
   "outputs": [],
   "source": [
    "Bar chart, Line Chart, Candlestick, Moving Averages are used for plotting."
   ]
  },
  {
   "cell_type": "code",
   "execution_count": null,
   "id": "9461e728-f612-4b48-bf07-e443c753ee42",
   "metadata": {},
   "outputs": [],
   "source": [
    "Q3. Why is it essential to print a legend on a stock market chart?"
   ]
  },
  {
   "cell_type": "code",
   "execution_count": null,
   "id": "966fee36-8c78-4e64-b8dd-a686d81bb705",
   "metadata": {},
   "outputs": [],
   "source": [
    "A legend on a stock market chart is essential because it clarifies what each element \n",
    "(line, color, or symbol) represents, making data interpretation, identification, and comparisons clear and accurate."
   ]
  },
  {
   "cell_type": "code",
   "execution_count": null,
   "id": "79dc06ba-0d37-4397-8162-45c5cc6b00c9",
   "metadata": {},
   "outputs": [],
   "source": [
    "Q4. What is the best way to limit the length of a pandas data frame to less than a year?"
   ]
  },
  {
   "cell_type": "code",
   "execution_count": null,
   "id": "9e421a5c-9255-4818-8005-bf1a7de95457",
   "metadata": {},
   "outputs": [],
   "source": [
    "We can use start and end parameters for that. \n",
    "In start we write the date from where we are starting and at the end we write the end date so within this span \n",
    "we can restrict the duration. \n",
    "Also we can use the parameters like periods for how much times we need the duration and we can also use the frequency parameter."
   ]
  },
  {
   "cell_type": "code",
   "execution_count": null,
   "id": "69d80bb1-0834-4128-9ccc-a9a11d84c9dd",
   "metadata": {},
   "outputs": [],
   "source": [
    "Q5. What is the definition of a 180-day moving average?"
   ]
  },
  {
   "cell_type": "code",
   "execution_count": null,
   "id": "bb076feb-b15a-4104-b6c6-76d4971c5b72",
   "metadata": {},
   "outputs": [],
   "source": [
    "A 180-day moving average is a statistical calculation used in finance to determine the average value of a data series, \n",
    "such as a stocks closing prices, over a period of 180 consecutive days. \n",
    "It provides a smoothed trendline that helps identify long-term price trends and reduces short-term fluctuations for analysis \n",
    "and decision-making."
   ]
  }
 ],
 "metadata": {
  "kernelspec": {
   "display_name": "Python 3 (ipykernel)",
   "language": "python",
   "name": "python3"
  },
  "language_info": {
   "codemirror_mode": {
    "name": "ipython",
    "version": 3
   },
   "file_extension": ".py",
   "mimetype": "text/x-python",
   "name": "python",
   "nbconvert_exporter": "python",
   "pygments_lexer": "ipython3",
   "version": "3.10.6"
  }
 },
 "nbformat": 4,
 "nbformat_minor": 5
}
