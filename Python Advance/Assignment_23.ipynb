{
 "cells": [
  {
   "cell_type": "code",
   "execution_count": null,
   "id": "3ae734a8-0f0d-4de8-815d-518f0aefcac6",
   "metadata": {},
   "outputs": [],
   "source": [
    "Q1. If you have any, what are your choices for increasing the comparison between different figures on\n",
    "the same graph?"
   ]
  },
  {
   "cell_type": "code",
   "execution_count": null,
   "id": "34c87050-a6a3-440f-a4dc-6ce277ffa474",
   "metadata": {},
   "outputs": [],
   "source": [
    "Matplotlib provides a convenient method called subplots for increasing the comparison between different figures on the same graph. Subplots mean a group of smaller axes (where each axis is a plot) that can exist together within a single figure."
   ]
  },
  {
   "cell_type": "code",
   "execution_count": null,
   "id": "46380c75-de1b-44ee-be67-1973a7544209",
   "metadata": {},
   "outputs": [],
   "source": [
    "Q2. Can you explain the benefit of compound interest over a higher rate of interest that does not\n",
    "compound after reading this chapter?"
   ]
  },
  {
   "cell_type": "code",
   "execution_count": null,
   "id": "36423bdb-de57-42dd-b8b4-42670bf6e3ed",
   "metadata": {},
   "outputs": [],
   "source": [
    "Compound interest makes a sum of money grow at a faster rate than simple interest,because in addition to \n",
    "earning returns on the money you invest, you also earn returns on those returns at the end of every compounding period, \n",
    "which could be daily, monthly, quarterly or annually."
   ]
  },
  {
   "cell_type": "code",
   "execution_count": null,
   "id": "2895fedb-4206-425b-a57f-c77cc622098f",
   "metadata": {},
   "outputs": [],
   "source": [
    "Q3. What is a histogram, exactly? Name a numpy method for creating such a graph."
   ]
  },
  {
   "cell_type": "code",
   "execution_count": null,
   "id": "1274886e-3591-4cdc-8bf1-6116517aaf3d",
   "metadata": {},
   "outputs": [],
   "source": [
    "Histogram shows total values of X wrt Y. Which means at any particular position of X, Y value shows the\n",
    "total number of counts or data below that value of X.\n",
    "numpy.histogram() is the built in function used."
   ]
  },
  {
   "cell_type": "code",
   "execution_count": null,
   "id": "b60c4780-e477-4b5f-a7c2-3c64e9c628f8",
   "metadata": {},
   "outputs": [],
   "source": [
    "Q4. If necessary, how do you change the aspect ratios between the X and Y axes?"
   ]
  },
  {
   "cell_type": "code",
   "execution_count": null,
   "id": "67a4cdbe-e3e8-4935-b650-424106cfe473",
   "metadata": {},
   "outputs": [],
   "source": [
    "We can use figure(figsize=(10,8)) function inside the matplotlib.pyplot library which we scale down or up the graph."
   ]
  },
  {
   "cell_type": "code",
   "execution_count": null,
   "id": "fb7b71d8-a064-4f9f-bd0f-3d298d742300",
   "metadata": {},
   "outputs": [],
   "source": [
    "Q5. Compare and contrast the three types of array multiplication between two numpy arrays: dot\n",
    "product, outer product, and regular multiplication of two numpy arrays."
   ]
  },
  {
   "cell_type": "code",
   "execution_count": null,
   "id": "6b32da89-ff4b-402b-bdfd-824ba6cc2086",
   "metadata": {},
   "outputs": [],
   "source": [
    "In regular multiplication values of same index get multiplied.\n",
    "In dot product there is row wise multiplication, row of one array with column of second array and so on.\n",
    "In outer multiplication every element of first array a1 will be multiply by every element of other array a2 such such the number of columns will be equal to the number of element in another array a2."
   ]
  },
  {
   "cell_type": "code",
   "execution_count": null,
   "id": "6b554e0e-a291-4c18-b05a-2333c74a1e60",
   "metadata": {},
   "outputs": [],
   "source": [
    "Q6. Before you buy a home, which numpy function will you use to measure your monthly mortgage\n",
    "payment?"
   ]
  },
  {
   "cell_type": "code",
   "execution_count": null,
   "id": "d746e851-ea6d-47a0-aaa5-e32a3042669a",
   "metadata": {},
   "outputs": [],
   "source": [
    "np.pmt(rate, nper, pv) function we will be using in order to calculate monthly mortgage payment before you purchase a house.\n",
    "\n",
    "rate = The periodic interest rate\n",
    "nper = The number of payment periods\n",
    "pv = The total value of the mortgage loan"
   ]
  },
  {
   "cell_type": "code",
   "execution_count": null,
   "id": "a27dd96b-94c0-46e3-8a10-51d99005b748",
   "metadata": {},
   "outputs": [],
   "source": [
    "Q7. Can string data be stored in numpy arrays? If so, list at least one restriction that applies to this\n",
    "data."
   ]
  },
  {
   "cell_type": "code",
   "execution_count": null,
   "id": "97a00cf2-14d3-40fd-9f0b-6f212dd7412f",
   "metadata": {},
   "outputs": [],
   "source": [
    "Yes, an array can store the string. \n",
    "The limitation which imposed on the string data is, whenever we store the data of string dtype then it \n",
    "should should keep in mind that the string which is having the maximum length is the limit."
   ]
  }
 ],
 "metadata": {
  "kernelspec": {
   "display_name": "Python 3 (ipykernel)",
   "language": "python",
   "name": "python3"
  },
  "language_info": {
   "codemirror_mode": {
    "name": "ipython",
    "version": 3
   },
   "file_extension": ".py",
   "mimetype": "text/x-python",
   "name": "python",
   "nbconvert_exporter": "python",
   "pygments_lexer": "ipython3",
   "version": "3.10.6"
  }
 },
 "nbformat": 4,
 "nbformat_minor": 5
}
