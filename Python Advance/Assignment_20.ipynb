{
 "cells": [
  {
   "cell_type": "code",
   "execution_count": null,
   "id": "29e54120-3a1b-430b-b6d3-575619df29ef",
   "metadata": {},
   "outputs": [],
   "source": [
    "1. Compare and contrast the float and Decimal classes benefits and drawbacks."
   ]
  },
  {
   "cell_type": "code",
   "execution_count": null,
   "id": "0ec79e70-98cb-4211-81cf-58824e279c77",
   "metadata": {},
   "outputs": [],
   "source": [
    "Both the float and decimal types store numerical values in Python.\n",
    "We use floats when convenience and speed matter. A float gives us an approximation of the number we declare.\n",
    "We use decimals when precision matters. Decimals can suffer from their own precision issues, but generally, \n",
    "decimals are more precise than floats. "
   ]
  },
  {
   "cell_type": "code",
   "execution_count": null,
   "id": "04750ae8-364d-4760-a3bd-14207e23c54b",
   "metadata": {},
   "outputs": [],
   "source": [
    "2. Decimal(\"1.200\") and Decimal(\"1.2\") are two objects to consider. In what sense are these the same\n",
    "object? Are these just two ways of representing the exact same value, or do they correspond to\n",
    "different internal states?"
   ]
  },
  {
   "cell_type": "code",
   "execution_count": null,
   "id": "7c8b0e60-a35a-46a1-aafa-8309f27114d6",
   "metadata": {},
   "outputs": [],
   "source": [
    "Both values are same but internal representation at storage Is different.\n",
    "Precsion differs, Decimal('1.200') gives internally 1.200 and Decimal('1.2') gives 1.2."
   ]
  },
  {
   "cell_type": "code",
   "execution_count": null,
   "id": "5e160189-e5ff-4473-bcd3-b647dfc70a85",
   "metadata": {},
   "outputs": [],
   "source": [
    "3. What happens if the equality of Decimal(\"1.200\") and Decimal(\"1.2\") is checked?\n"
   ]
  },
  {
   "cell_type": "code",
   "execution_count": null,
   "id": "92c80256-4372-421e-81ab-acaa6a1e1ace",
   "metadata": {},
   "outputs": [],
   "source": [
    "Both values are checked to be equal since they only differ in precision."
   ]
  },
  {
   "cell_type": "code",
   "execution_count": null,
   "id": "44d1dc18-3d05-4b87-bfc7-97756e0fba55",
   "metadata": {},
   "outputs": [],
   "source": [
    "4. Why is it preferable to start a Decimal object with a string rather than a floating-point value?\n"
   ]
  },
  {
   "cell_type": "code",
   "execution_count": null,
   "id": "353ff636-5c27-4d8b-9db0-dbafe67070f7",
   "metadata": {},
   "outputs": [],
   "source": [
    "Floating-point value is converted to Decimal format. Decimal can store float value with absolute precision.\n",
    "But when float value is given as Decimal object,it first has to be converted from floating point value which might \n",
    "already have rounding error.\n",
    "Hence it is preferable to start a Decimal object with a string."
   ]
  },
  {
   "cell_type": "code",
   "execution_count": null,
   "id": "f11509d5-a697-4657-9842-6536ebb0c177",
   "metadata": {},
   "outputs": [],
   "source": [
    "5. In an arithmetic phrase, how simple is it to combine Decimal objects with integers?\n"
   ]
  },
  {
   "cell_type": "code",
   "execution_count": null,
   "id": "0a52c11b-a300-448e-a907-05c9f3cdc5da",
   "metadata": {},
   "outputs": [],
   "source": [
    "Decimal()"
   ]
  },
  {
   "cell_type": "code",
   "execution_count": null,
   "id": "f472431d-8a05-4453-b4a2-fd2aac0e8896",
   "metadata": {},
   "outputs": [],
   "source": [
    "6. Can Decimal objects and floating-point values be combined easily?\n"
   ]
  },
  {
   "cell_type": "code",
   "execution_count": null,
   "id": "49c05447-5347-4b9d-8b84-b840a18e7f02",
   "metadata": {},
   "outputs": [],
   "source": [
    "Arithmetic operfations like Adding,subtracting or multiplying a Decimal object by a \n",
    "floating-point value generates an error.\n",
    "To do these operations, the floating point has to be converted to a Decimal."
   ]
  },
  {
   "cell_type": "code",
   "execution_count": null,
   "id": "93f1a54f-7b95-4877-b558-f33cbae85f29",
   "metadata": {},
   "outputs": [],
   "source": [
    "7. Using the Fraction class but not the Decimal class, give an example of a quantity that can be\n",
    "expressed with absolute precision.\n"
   ]
  },
  {
   "cell_type": "code",
   "execution_count": null,
   "id": "3709290f-e133-4ff5-b0d7-656db6df2fa6",
   "metadata": {},
   "outputs": [],
   "source": [
    "Value of 0.5 will be represented as ½"
   ]
  },
  {
   "cell_type": "code",
   "execution_count": null,
   "id": "e4bd51a0-39cb-4877-820b-323c24c0b1e2",
   "metadata": {},
   "outputs": [],
   "source": [
    "8. Describe a quantity that can be accurately expressed by the Decimal or Fraction classes but not by\n",
    "a floating-point value.\n"
   ]
  },
  {
   "cell_type": "code",
   "execution_count": null,
   "id": "be233ea3-7ee3-4b97-b331-6850e6498027",
   "metadata": {},
   "outputs": [],
   "source": [
    " Both will be reduced to 1/2"
   ]
  },
  {
   "cell_type": "code",
   "execution_count": null,
   "id": "122eeae9-54ac-4a08-84f9-d05a1430cfe6",
   "metadata": {},
   "outputs": [],
   "source": [
    "Q9.Consider the following two fraction objects: Fraction(1, 2) and Fraction(1, 2). (5, 10). Is the internal\n",
    "state of these two objects the same? Why do you think that is?\n"
   ]
  },
  {
   "cell_type": "code",
   "execution_count": null,
   "id": "5f958ca2-42d1-42e9-871a-c60915247aba",
   "metadata": {},
   "outputs": [],
   "source": [
    "The internal state of the two Fraction objects, Fraction(1, 2) and Fraction(5, 10), is indeed the same. \n",
    "Both fractions represent the same mathematical value, which is one-half (1/2). \n",
    "The reason for this equivalence is that fractions can be simplified, and both 1/2 and 5/10 reduce to the same \n",
    "reduced form of 1/2.\n",
    "\n",
    "In Pythons fractions module (assuming you are using it to create Fraction objects),\n",
    "fractions are typically stored in their reduced form to ensure consistency and accuracy in mathematical operations. \n",
    "Therefore, when you create a Fraction object with Fraction(5, 10), it automatically simplifies the fraction to Fraction(1, 2).\n",
    "\n"
   ]
  },
  {
   "cell_type": "code",
   "execution_count": null,
   "id": "77be82b5-ef46-4938-92eb-2cc18f9e478c",
   "metadata": {},
   "outputs": [],
   "source": [
    "Q10. How do the Fraction class and the integer type (int) relate to each other? Containment or\n",
    "inheritance?"
   ]
  },
  {
   "cell_type": "code",
   "execution_count": null,
   "id": "dcdc3255-f8ef-4c1e-af6d-62de4ac97fd5",
   "metadata": {},
   "outputs": [],
   "source": [
    "Fraction class and integer type(int) are related in form of a container. It contains two ints, one in the numerator and the other in the denominator"
   ]
  }
 ],
 "metadata": {
  "kernelspec": {
   "display_name": "Python 3 (ipykernel)",
   "language": "python",
   "name": "python3"
  },
  "language_info": {
   "codemirror_mode": {
    "name": "ipython",
    "version": 3
   },
   "file_extension": ".py",
   "mimetype": "text/x-python",
   "name": "python",
   "nbconvert_exporter": "python",
   "pygments_lexer": "ipython3",
   "version": "3.10.6"
  }
 },
 "nbformat": 4,
 "nbformat_minor": 5
}
