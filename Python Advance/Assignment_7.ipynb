{
 "cells": [
  {
   "cell_type": "code",
   "execution_count": null,
   "id": "e7015ff6-ef12-4355-9b64-433f75cc3c85",
   "metadata": {},
   "outputs": [],
   "source": [
    "Q1. What is the purpose of the try statement?"
   ]
  },
  {
   "cell_type": "code",
   "execution_count": null,
   "id": "bc3de3c6-5492-4c75-a079-2c749c54c132",
   "metadata": {},
   "outputs": [],
   "source": [
    "Try statement is used for exception handling in python. It consists of a block of risky statements which might cause \n",
    "an exception during runtime. if code within try block raises exception, then the exception will be reverted to the \n",
    "corresponding except block if multiple except blocks are present, else it willbe reverted to the default except block. \n",
    "In short try and except in union avoid programs from crashing during runtime due to exceptions."
   ]
  },
  {
   "cell_type": "code",
   "execution_count": null,
   "id": "c127a9dc-065d-4435-b237-4dabc3244194",
   "metadata": {},
   "outputs": [],
   "source": [
    "Q2. What are the two most popular try statement variations?"
   ]
  },
  {
   "cell_type": "code",
   "execution_count": null,
   "id": "858155df-be51-4c94-9282-3bf8ad1f5100",
   "metadata": {},
   "outputs": [],
   "source": [
    "The Popular try statement variations are:\n",
    "\n",
    "try,except\n",
    "try,except,finally\n",
    "try,except,finally,else\n",
    "The try block is used to check code for exceptions during runtime. ie code inside try block will execute completely when there is no error in the program. Whereas the code inside except block will execute whenever the program encounters some error in the preceeding try block.\n",
    "\n",
    "Whereas the code enters the else block if and only if the try clause does not raise and exception. The code in the finally block will execute irrespective of exception."
   ]
  },
  {
   "cell_type": "code",
   "execution_count": null,
   "id": "c7186694-a927-4bcb-8178-83de33afba7c",
   "metadata": {},
   "outputs": [],
   "source": [
    "Q3. What is the purpose of the raise statement?"
   ]
  },
  {
   "cell_type": "code",
   "execution_count": null,
   "id": "21082d31-b8c1-47a6-8531-8aefc62a9477",
   "metadata": {},
   "outputs": [],
   "source": [
    "raise statement is used to trigger an exception explicitly, if a certain condition is not as per requirement of \n",
    "programmer, allowing us to handle specific error conditions or exceptional situations gracefully."
   ]
  },
  {
   "cell_type": "code",
   "execution_count": null,
   "id": "d5b30655-ddbc-4385-b95a-9b6230c17c75",
   "metadata": {},
   "outputs": [],
   "source": [
    "Q4. What does the assert statement do, and what other statement is it like?"
   ]
  },
  {
   "cell_type": "code",
   "execution_count": null,
   "id": "ce7e8320-9534-4b35-804d-7124a671b4e6",
   "metadata": {},
   "outputs": [],
   "source": [
    "The assert statement checks a condition, and if the condition is False, it raises an AssertionError exception. \n",
    "It is used primarily for debugging and testing purposes to ensure that certain conditions or assumptions in your code \n",
    "hold true. It is similar to the raise statement in that it can trigger an exception but is typically used for checking\n",
    "conditions during debugging."
   ]
  },
  {
   "cell_type": "code",
   "execution_count": null,
   "id": "c84d91cb-2e19-41b3-b8c7-8dbfc3bb2846",
   "metadata": {},
   "outputs": [],
   "source": [
    "Q5. What is the purpose of the with/as argument, and what other statement is it like?"
   ]
  },
  {
   "cell_type": "code",
   "execution_count": null,
   "id": "7254a1f3-198a-4fc4-9554-c523f7e15e32",
   "metadata": {},
   "outputs": [],
   "source": [
    "with/as statement simplifies use of file handling in python.\n",
    "When we use a with statement for file reading, there is no need for programmer to explicitly \n",
    "takecare of activities like resource deallocation and file closing by using file.close() method. \n",
    "with statement itself ensures proper acquisition and release of resources. this avoids triggering of exceptions \n",
    "if file closing is unknowingly forgotten in the code execution.\n",
    "The with statement is similar in purpose to the try-finally block, but it simplifies resource management and error handling,\n",
    "making code cleaner and less error-prone.\n"
   ]
  }
 ],
 "metadata": {
  "kernelspec": {
   "display_name": "Python 3 (ipykernel)",
   "language": "python",
   "name": "python3"
  },
  "language_info": {
   "codemirror_mode": {
    "name": "ipython",
    "version": 3
   },
   "file_extension": ".py",
   "mimetype": "text/x-python",
   "name": "python",
   "nbconvert_exporter": "python",
   "pygments_lexer": "ipython3",
   "version": "3.10.6"
  }
 },
 "nbformat": 4,
 "nbformat_minor": 5
}
