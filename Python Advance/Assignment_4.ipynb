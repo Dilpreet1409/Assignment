{
 "cells": [
  {
   "cell_type": "code",
   "execution_count": null,
   "id": "9e7fbcd8-9bfa-4851-be1f-be24a33fc17f",
   "metadata": {},
   "outputs": [],
   "source": [
    "Q1. Which two operator overloading methods can you use in your classes to support iteration?"
   ]
  },
  {
   "cell_type": "code",
   "execution_count": null,
   "id": "edd22e53-5eeb-4a7e-8512-b29aef31f186",
   "metadata": {},
   "outputs": [],
   "source": [
    "The two operator overloading methods to use to support iteration are  __iter__ and __next__ \n",
    "and are collectively called iterator protocol.\n",
    "\n",
    "__iter__ returns the iterator object and is implicitly called at the start of loops.\n",
    " __next__ method returns the next value and is implicitly called at each loop increment.\n",
    "__next__ raises a StopIteration exception when there are no more value to return"
   ]
  },
  {
   "cell_type": "code",
   "execution_count": null,
   "id": "b61e8f97-0850-442c-a2e8-1c5240fd339b",
   "metadata": {},
   "outputs": [],
   "source": [
    "Q2. In what contexts do the two operator overloading methods manage printing?"
   ]
  },
  {
   "cell_type": "code",
   "execution_count": null,
   "id": "2505096c-1c8f-4881-ae68-ee4fcca760ff",
   "metadata": {},
   "outputs": [],
   "source": [
    "__str__ and __repr__ are two operator overloading methods that manage printing.\n",
    "\n",
    "In Short, the difference between both these operators is the goal of __repr__ is to be unambiguous and __str__ is to be readable.\n",
    "Whenever we are printing any object reference internally __str__ method will be called by default.\n",
    "The main purpose of __str__ is for readability. it prints the informal string representation of an object, one that is useful for printing the object. \n",
    "it may not be possible to convert result string to original object.\n",
    "__repr__ is used to print official string representation of an object, so it includes all information and development."
   ]
  },
  {
   "cell_type": "code",
   "execution_count": null,
   "id": "8273dc79-f288-4c7d-b70b-32efade55f48",
   "metadata": {},
   "outputs": [],
   "source": [
    "Q3. In a class, how do you intercept slice operations?"
   ]
  },
  {
   "cell_type": "code",
   "execution_count": null,
   "id": "27343525-58ee-46ac-a197-d2b765473c70",
   "metadata": {},
   "outputs": [],
   "source": [
    "In a class use of slice() in __getitem__ method is used for intercept slice operation. \n",
    "This slice method is provided with start integer number, stop integer number and step integer number.\n",
    "\n",
    "Example: __getitem__(slice(start,stop,step))"
   ]
  },
  {
   "cell_type": "code",
   "execution_count": null,
   "id": "a017d342-88da-42ae-87c1-a06bc16d5d30",
   "metadata": {},
   "outputs": [],
   "source": [
    "Q4. In a class, how do you capture in-place addition?"
   ]
  },
  {
   "cell_type": "code",
   "execution_count": null,
   "id": "a58c032d-e29f-4c1b-bc67-d8bdf6d1cd13",
   "metadata": {},
   "outputs": [],
   "source": [
    "a+b is normal addition. Whereas a+=b is inplace addition operation. \n",
    "In this in-place addition a itself will store the value of addition. \n",
    "In a class __iadd__ method is used for this in-place operation"
   ]
  },
  {
   "cell_type": "code",
   "execution_count": 1,
   "id": "48a91bd5-d2a9-407b-8f80-8e305082e2ed",
   "metadata": {},
   "outputs": [
    {
     "name": "stdout",
     "output_type": "stream",
     "text": [
      "300\n"
     ]
    }
   ],
   "source": [
    "class Book:\n",
    "    def __init__(self,pages):\n",
    "        self.pages = pages\n",
    "    def __iadd__(self,other):\n",
    "        self.pages += other.pages\n",
    "        return self.pages\n",
    "        \n",
    "b1 = Book(100)\n",
    "b2 = Book(200)\n",
    "b1+=b2\n",
    "print(b1)"
   ]
  },
  {
   "cell_type": "code",
   "execution_count": null,
   "id": "13860d72-c4c3-4df2-a31a-9ee8522a484b",
   "metadata": {},
   "outputs": [],
   "source": [
    "Q5. When is it appropriate to use operator overloading?"
   ]
  },
  {
   "cell_type": "code",
   "execution_count": null,
   "id": "4ba0066d-673f-48a9-8db6-e016ceacb27e",
   "metadata": {},
   "outputs": [],
   "source": [
    "Operator overloading is used when we want to use an operator other than its normal operation to have \n",
    "different meaning according to the context required in user defined function."
   ]
  },
  {
   "cell_type": "code",
   "execution_count": 2,
   "id": "88cdbe95-7c0e-4c90-8380-94f489da0200",
   "metadata": {},
   "outputs": [
    {
     "name": "stdout",
     "output_type": "stream",
     "text": [
      "Total Number of Pages -> 300\n"
     ]
    }
   ],
   "source": [
    "class Book:\n",
    "    def __init__(self,pages):\n",
    "        self.pages = pages\n",
    "    def __add__(self,other):\n",
    "        return self.pages+other.pages\n",
    "b1 = Book(100)\n",
    "b2 = Book(200)\n",
    "print(f'Total Number of Pages -> {b1+b2}')"
   ]
  },
  {
   "cell_type": "code",
   "execution_count": null,
   "id": "b757bf1d-2b8b-4e78-94df-def46548de04",
   "metadata": {},
   "outputs": [],
   "source": []
  }
 ],
 "metadata": {
  "kernelspec": {
   "display_name": "Python 3 (ipykernel)",
   "language": "python",
   "name": "python3"
  },
  "language_info": {
   "codemirror_mode": {
    "name": "ipython",
    "version": 3
   },
   "file_extension": ".py",
   "mimetype": "text/x-python",
   "name": "python",
   "nbconvert_exporter": "python",
   "pygments_lexer": "ipython3",
   "version": "3.10.6"
  }
 },
 "nbformat": 4,
 "nbformat_minor": 5
}
