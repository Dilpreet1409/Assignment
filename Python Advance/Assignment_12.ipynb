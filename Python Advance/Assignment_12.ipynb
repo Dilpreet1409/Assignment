{
 "cells": [
  {
   "cell_type": "code",
   "execution_count": null,
   "id": "c56194d3-b56b-4d27-8b5e-0e11ab34d210",
   "metadata": {},
   "outputs": [],
   "source": [
    "Q1. Does assigning a value to a strings indexed character violate Pythons string immutability?\n"
   ]
  },
  {
   "cell_type": "code",
   "execution_count": null,
   "id": "5d44690c-fcde-4aa4-a3ad-030e76ec6b8d",
   "metadata": {},
   "outputs": [],
   "source": [
    "String’s indexed character cannot to be assigned a New value , as Strings are immutable."
   ]
  },
  {
   "cell_type": "code",
   "execution_count": 1,
   "id": "f26d466d-ff50-4784-8ddc-c683a63079c3",
   "metadata": {},
   "outputs": [
    {
     "name": "stdout",
     "output_type": "stream",
     "text": [
      "140522299283952\n"
     ]
    },
    {
     "ename": "TypeError",
     "evalue": "'str' object does not support item assignment",
     "output_type": "error",
     "traceback": [
      "\u001b[0;31m---------------------------------------------------------------------------\u001b[0m",
      "\u001b[0;31mTypeError\u001b[0m                                 Traceback (most recent call last)",
      "Cell \u001b[0;32mIn [1], line 4\u001b[0m\n\u001b[1;32m      2\u001b[0m day\u001b[38;5;241m=\u001b[39m\u001b[38;5;124m'\u001b[39m\u001b[38;5;124msaturday\u001b[39m\u001b[38;5;124m'\u001b[39m\n\u001b[1;32m      3\u001b[0m \u001b[38;5;28mprint\u001b[39m(\u001b[38;5;28mid\u001b[39m(day))\n\u001b[0;32m----> 4\u001b[0m \u001b[43mday\u001b[49m\u001b[43m[\u001b[49m\u001b[38;5;241;43m0\u001b[39;49m\u001b[43m]\u001b[49m\u001b[38;5;241m=\u001b[39m\u001b[38;5;124m'\u001b[39m\u001b[38;5;124mS\u001b[39m\u001b[38;5;124m'\u001b[39m\n",
      "\u001b[0;31mTypeError\u001b[0m: 'str' object does not support item assignment"
     ]
    }
   ],
   "source": [
    "#example\n",
    "day='Saturday'\n",
    "print(id(day))\n",
    "day[0]='V' #raises type error"
   ]
  },
  {
   "cell_type": "code",
   "execution_count": null,
   "id": "9382d7bd-5643-4ed7-948c-7bcb0baf5f1b",
   "metadata": {},
   "outputs": [],
   "source": [
    "Q2. Does using the += operator to concatenate strings violate Pythons string immutability? Why or\n",
    "why not?"
   ]
  },
  {
   "cell_type": "code",
   "execution_count": null,
   "id": "8831e8c5-a3e0-4bf9-9699-88e10121971d",
   "metadata": {},
   "outputs": [],
   "source": [
    "+= operator is used to concatenate strings, it does not violate Python’s string immutability Property.\n",
    "Because doing so new creates a new association with data and variable. \n",
    "E.g. str_1=\"D\" and str_1+=\"ay\", effect of this statements to create string Day and reassign it to variable str_1,\n",
    "any string data is not actually modified."
   ]
  },
  {
   "cell_type": "code",
   "execution_count": 3,
   "id": "4afbd367-a1f7-4fed-810f-132acda2fa7b",
   "metadata": {},
   "outputs": [
    {
     "name": "stdout",
     "output_type": "stream",
     "text": [
      "140522346158768\n",
      "140522299576368\n",
      "Day\n"
     ]
    }
   ],
   "source": [
    "str_1 = 'D'\n",
    "print(id(str_1))\n",
    "str_1 += 'ay'\n",
    "print(id(str_1)) # Does not Modify existing string, Creates a New String Object\n",
    "print(str_1)"
   ]
  },
  {
   "cell_type": "code",
   "execution_count": null,
   "id": "0994c5e3-cf4e-4c1e-971a-6368ad4fde16",
   "metadata": {},
   "outputs": [],
   "source": [
    "Q3. In Python, how many different ways are there to index a character?\n"
   ]
  },
  {
   "cell_type": "code",
   "execution_count": null,
   "id": "81aa237b-c284-4ea5-b157-037085e51657",
   "metadata": {},
   "outputs": [],
   "source": [
    " A Character in string can be indexed using string name followed by index number of character in square bracket.\n",
    "Positive Indexing i.e. first index is 0 an so on, or Negative Indexing i.e. last letter is -1 and so on can be used \n",
    "to index a character"
   ]
  },
  {
   "cell_type": "code",
   "execution_count": 5,
   "id": "9e193a34-3d05-4424-b1bc-bb50658191bb",
   "metadata": {},
   "outputs": [
    {
     "name": "stdout",
     "output_type": "stream",
     "text": [
      "a c t\n",
      "e i c\n"
     ]
    }
   ],
   "source": [
    "s = \"Data Science\"\n",
    "print(s[3],s[6],s[2]) # Positive Indexing\n",
    "print(s[-1],s[-5],s[-2]) # Negative Indexing"
   ]
  },
  {
   "cell_type": "code",
   "execution_count": null,
   "id": "882b8a79-7f98-4b1f-8400-861cccc61b51",
   "metadata": {},
   "outputs": [],
   "source": [
    "Q4. What is the relationship between indexing and slicing?"
   ]
  },
  {
   "cell_type": "code",
   "execution_count": null,
   "id": "dc9aadc0-6f7b-44a4-aa1c-7c92aeac65e8",
   "metadata": {},
   "outputs": [],
   "source": [
    "We can access elements of sequence datatypes by using slicing and indexing. \n",
    "Indexing is used to obtaining individual element while slicing for sequence of elements."
   ]
  },
  {
   "cell_type": "code",
   "execution_count": 8,
   "id": "99b8b1e3-12ea-40e9-8a7b-ccbb41ef5dc9",
   "metadata": {},
   "outputs": [
    {
     "name": "stdout",
     "output_type": "stream",
     "text": [
      "t a a\n",
      "Data \n"
     ]
    }
   ],
   "source": [
    "s = \"Data Science\"\n",
    "print(s[2],s[1],s[3]) # Indexing\n",
    "print(s[0:5]) # Slicing\n"
   ]
  },
  {
   "cell_type": "code",
   "execution_count": null,
   "id": "d2a5b2bc-dcdf-475b-a382-c2fe69aabb5b",
   "metadata": {},
   "outputs": [],
   "source": [
    "Q5. What is an indexed characters exact data type? What is the data form of a slicing-generated\n",
    "substring?"
   ]
  },
  {
   "cell_type": "code",
   "execution_count": null,
   "id": "87c802bb-ac00-4927-856e-da9a0538d05d",
   "metadata": {},
   "outputs": [],
   "source": [
    "Indexed characters and sliced substrings have datatype String."
   ]
  },
  {
   "cell_type": "code",
   "execution_count": 11,
   "id": "c59f7554-9f37-48f4-a3d9-88a4ea4c7d4a",
   "metadata": {},
   "outputs": [
    {
     "name": "stdout",
     "output_type": "stream",
     "text": [
      "<class 'str'>\n",
      "<class 'str'>\n"
     ]
    }
   ],
   "source": [
    "s = \"Data Science\"\n",
    "print(type(s[3])) # Indexing -> str\n",
    "print(type(s[0:5])) # Slicing -> str"
   ]
  },
  {
   "cell_type": "code",
   "execution_count": null,
   "id": "dde80725-1dcd-4094-9d4f-da4e27a5f77a",
   "metadata": {},
   "outputs": [],
   "source": [
    "Q6. What is the relationship between string and character \"types\" in Python?"
   ]
  },
  {
   "cell_type": "code",
   "execution_count": null,
   "id": "e79e005d-02b2-426a-b3aa-49615f1ccac2",
   "metadata": {},
   "outputs": [],
   "source": [
    "Object that contains sequence of character datatypes are called String.\n",
    "The relationship between strings and characters is that characters are a subset of strings, \n",
    "and strings are sequences of characters."
   ]
  },
  {
   "cell_type": "code",
   "execution_count": null,
   "id": "32f936b8-0971-4aa4-9b06-1811dce9764c",
   "metadata": {},
   "outputs": [],
   "source": [
    "Q7. Identify at least two operators and one method that allow you to combine one or more smaller\n",
    "strings to create a larger string.\n"
   ]
  },
  {
   "cell_type": "code",
   "execution_count": null,
   "id": "cc75e8ac-e6e3-4caa-b2eb-72c10db9b61b",
   "metadata": {},
   "outputs": [],
   "source": [
    "Operators and methods for combining smaller strings into a larger string in Python:\n",
    "\n",
    "+ operator for string concatenation.\n",
    ".join() method for joining a list of strings with a specified delimiter."
   ]
  },
  {
   "cell_type": "code",
   "execution_count": 12,
   "id": "7450453d-4579-405c-b2c1-ddc1633836de",
   "metadata": {},
   "outputs": [
    {
     "name": "stdout",
     "output_type": "stream",
     "text": [
      "Hello, World!\n"
     ]
    }
   ],
   "source": [
    "str1 = \"Hello, \"\n",
    "str2 = \"World!\"\n",
    "result = str1 + str2  # Concatenates str1 and str2\n",
    "print(result)  # Output: \"Hello, World!\""
   ]
  },
  {
   "cell_type": "code",
   "execution_count": 13,
   "id": "e37f31c0-c919-4519-aa2d-2dcb453b280f",
   "metadata": {},
   "outputs": [
    {
     "name": "stdout",
     "output_type": "stream",
     "text": [
      "Hello World Python\n"
     ]
    }
   ],
   "source": [
    "words = [\"Hello\", \"World\", \"Python\"]\n",
    "combined_string = \" \".join(words)  # Combines the words with a space separator\n",
    "print(combined_string)  # Output: \"Hello World Python\""
   ]
  },
  {
   "cell_type": "code",
   "execution_count": null,
   "id": "5ecf762e-fe80-4e82-97db-7e980290f9f9",
   "metadata": {},
   "outputs": [],
   "source": [
    "Q8. What is the benefit of first checking the target string with in or not in before using the index\n",
    "method to find a substring?"
   ]
  },
  {
   "cell_type": "code",
   "execution_count": null,
   "id": "be267b77-cc8a-4d69-b927-9c4557ecb92a",
   "metadata": {},
   "outputs": [],
   "source": [
    "Checking the target string with in or not Operators before using the index method to find a substring \n",
    "just helps confirming availability of substring and thus avoid raising of ValueError.\n"
   ]
  },
  {
   "cell_type": "code",
   "execution_count": 19,
   "id": "c43a0b99-b4b3-401c-b225-8775dd9005f9",
   "metadata": {},
   "outputs": [
    {
     "name": "stdout",
     "output_type": "stream",
     "text": [
      "1\n"
     ]
    },
    {
     "ename": "ValueError",
     "evalue": "substring not found",
     "output_type": "error",
     "traceback": [
      "\u001b[0;31m---------------------------------------------------------------------------\u001b[0m",
      "\u001b[0;31mValueError\u001b[0m                                Traceback (most recent call last)",
      "Cell \u001b[0;32mIn [19], line 4\u001b[0m\n\u001b[1;32m      2\u001b[0m s \u001b[38;5;241m=\u001b[39m \u001b[38;5;124m\"\u001b[39m\u001b[38;5;124mDilpreet\u001b[39m\u001b[38;5;124m\"\u001b[39m\n\u001b[1;32m      3\u001b[0m \u001b[38;5;28mprint\u001b[39m(s\u001b[38;5;241m.\u001b[39mindex(\u001b[38;5;124m'\u001b[39m\u001b[38;5;124mi\u001b[39m\u001b[38;5;124m'\u001b[39m)) \u001b[38;5;66;03m# 1\u001b[39;00m\n\u001b[0;32m----> 4\u001b[0m \u001b[38;5;28mprint\u001b[39m(\u001b[43ms\u001b[49m\u001b[38;5;241;43m.\u001b[39;49m\u001b[43mindex\u001b[49m\u001b[43m(\u001b[49m\u001b[38;5;124;43m'\u001b[39;49m\u001b[38;5;124;43mx\u001b[39;49m\u001b[38;5;124;43m'\u001b[39;49m\u001b[43m)\u001b[49m)\n",
      "\u001b[0;31mValueError\u001b[0m: substring not found"
     ]
    }
   ],
   "source": [
    "#Example:\n",
    "s = \"Dilpreet\"\n",
    "print(s.index('i')) # 1\n",
    "print(s.index('x')) # Raises ValueError\n"
   ]
  },
  {
   "cell_type": "code",
   "execution_count": null,
   "id": "d0a91939-5f4e-4923-8843-e0a20bad7d49",
   "metadata": {},
   "outputs": [],
   "source": [
    "Q9. Which operators and built-in string methods produce simple Boolean (true/false) results?"
   ]
  },
  {
   "cell_type": "code",
   "execution_count": null,
   "id": "fc5e24ed-d0ff-403e-b7ce-d03387a5a253",
   "metadata": {},
   "outputs": [],
   "source": [
    " The String Operators and built-in methods to Produce Simple Boolean (True/False) Results are:\n",
    "\n",
    "in\n",
    "not\n",
    "<string>.isalpha()\n",
    "<string>.isalnum()\n",
    "<string>.isdecimal()\n",
    "<string>.isdigit()\n",
    "<string>.islower()\n",
    "<string>.isnumeric()\n",
    "<string>.isprintable()\n",
    "<string>.isspace()\n",
    "<string>.istitle()"
   ]
  }
 ],
 "metadata": {
  "kernelspec": {
   "display_name": "Python 3 (ipykernel)",
   "language": "python",
   "name": "python3"
  },
  "language_info": {
   "codemirror_mode": {
    "name": "ipython",
    "version": 3
   },
   "file_extension": ".py",
   "mimetype": "text/x-python",
   "name": "python",
   "nbconvert_exporter": "python",
   "pygments_lexer": "ipython3",
   "version": "3.10.6"
  }
 },
 "nbformat": 4,
 "nbformat_minor": 5
}
