{
 "cells": [
  {
   "cell_type": "code",
   "execution_count": null,
   "id": "b9648e62-b3ac-48d6-95c4-2e3c0b1e32d5",
   "metadata": {},
   "outputs": [],
   "source": [
    "1. What is the concept of an abstract superclass?"
   ]
  },
  {
   "cell_type": "code",
   "execution_count": null,
   "id": "525bc371-7479-4d1f-bd49-6af1e5f44662",
   "metadata": {},
   "outputs": [],
   "source": [
    "An abstract class/superclass can be considered as a blueprint for other classes. \n",
    "It allows you to create a set of methods that must be created within any child classes built from the abstract class. \n",
    "A class which contains one or more abstract methods is called an abstract class.\n",
    "\n",
    "Whereas an abstract method is a method that has a declaration but does not have an implementation"
   ]
  },
  {
   "cell_type": "code",
   "execution_count": 3,
   "id": "86ec5021-ebc9-482c-8394-f7f2fb73a401",
   "metadata": {},
   "outputs": [],
   "source": [
    "from abc import ABC, abstractmethod\n",
    "class Polygon(ABC): # Abstract Class\n",
    "    @abstractmethod\n",
    "    def noofsides(self): # Abstract Method\n",
    "        pass\n",
    "class Triangle(Polygon):\n",
    "    def noofsides(self):  # overriding abstract method in child class Triangle\n",
    "        print(\"I have 3 sides\")\n",
    "class Pentagon(Polygon):\n",
    "    def noofsides(self): # overriding abstract method in child class Pentagon\n",
    "        print(\"I have 5 sides\")"
   ]
  },
  {
   "cell_type": "code",
   "execution_count": null,
   "id": "c9002c70-330f-4626-87a7-ec05dc633071",
   "metadata": {},
   "outputs": [],
   "source": [
    "2. What happens when a class statements top level contains a basic assignment statement?\n"
   ]
  },
  {
   "cell_type": "code",
   "execution_count": null,
   "id": "0dc8c2c7-9bd7-43ca-8b34-eac39b2e8296",
   "metadata": {},
   "outputs": [],
   "source": [
    "When a Class statements top level contains a basic assignment statement, it is usually treated as a class attribute\n",
    "or class level variable where as assignment statements inside methods are treated as instance attributes or local attributes."
   ]
  },
  {
   "cell_type": "code",
   "execution_count": null,
   "id": "ab42dfbe-cedd-4521-8132-a53c8377489b",
   "metadata": {},
   "outputs": [],
   "source": [
    "3. Why does a class need to manually call a superclass __init__ method?\n"
   ]
  },
  {
   "cell_type": "code",
   "execution_count": null,
   "id": "01db10cd-b6ad-435a-8720-6b5284bdab19",
   "metadata": {},
   "outputs": [],
   "source": [
    "A class need to manually call a superclass __init__ method because if a child class has __init__ method then it does\n",
    "not inherit the __init__ method of the parent class i.e. the __init__ method of the child class overrides \n",
    "the __init__ method of the superclass so we use super() method to manually call it"
   ]
  },
  {
   "cell_type": "code",
   "execution_count": 2,
   "id": "ce5343f6-2ca6-47b6-bfed-d72adea8a316",
   "metadata": {},
   "outputs": [
    {
     "name": "stdout",
     "output_type": "stream",
     "text": [
      "{'name': 'Naman', 'age': 28, 'salary': 20000}\n"
     ]
    }
   ],
   "source": [
    "class Person:\n",
    "    def __init__(self,name,age):\n",
    "        self.name = name\n",
    "        self.age = age \n",
    "class Employee(Person):\n",
    "    def __init__(self,name,age,salary):\n",
    "        super().__init__(name,age)\n",
    "        self.salary = salary\n",
    "emp_1 = Employee('Naman',28,20000)\n",
    "print(emp_1.__dict__)"
   ]
  },
  {
   "cell_type": "code",
   "execution_count": null,
   "id": "55ae9a91-958f-41da-9352-c83fe42e874c",
   "metadata": {},
   "outputs": [],
   "source": [
    "4. How can you augment, instead of completely replacing, an inherited method?\n"
   ]
  },
  {
   "cell_type": "code",
   "execution_count": null,
   "id": "1d54725e-6dca-48c5-8137-4f3c0b6b8fe6",
   "metadata": {},
   "outputs": [],
   "source": [
    "super() method can be used to augment, instead of completely replacing, an inherited method."
   ]
  },
  {
   "cell_type": "code",
   "execution_count": null,
   "id": "3e02db37-eddd-41f9-9b8c-76f9b320423c",
   "metadata": {},
   "outputs": [],
   "source": [
    "5. How is the local scope of a class different from that of a function?"
   ]
  },
  {
   "cell_type": "code",
   "execution_count": null,
   "id": "02d195f2-0bb8-40e4-802b-c745268dc952",
   "metadata": {},
   "outputs": [],
   "source": [
    "A variable which is defined within the function is local to that function.\n",
    "Its scope is limited within the function i.e. as long as the function is existing \n",
    "\n",
    "Similarly a variable inside a class has a local scope. A variable defined within a class but outside all methods are\n",
    "class level variables or class attributes. They can be referenced by there bare names within the same scope, but they can\n",
    "also be accessed from outside this scope if we use the attribute access operator (.). on a class or an instance of the class."
   ]
  }
 ],
 "metadata": {
  "kernelspec": {
   "display_name": "Python 3 (ipykernel)",
   "language": "python",
   "name": "python3"
  },
  "language_info": {
   "codemirror_mode": {
    "name": "ipython",
    "version": 3
   },
   "file_extension": ".py",
   "mimetype": "text/x-python",
   "name": "python",
   "nbconvert_exporter": "python",
   "pygments_lexer": "ipython3",
   "version": "3.10.6"
  }
 },
 "nbformat": 4,
 "nbformat_minor": 5
}
