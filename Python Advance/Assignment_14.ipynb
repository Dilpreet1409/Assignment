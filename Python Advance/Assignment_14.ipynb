{
 "cells": [
  {
   "cell_type": "code",
   "execution_count": null,
   "id": "512df6f0-ca48-4e15-83f0-47edef9dc1d7",
   "metadata": {},
   "outputs": [],
   "source": [
    "Q1. Is an assignment operator like += only for show? Is it possible that it would lead to faster results\n",
    "at the runtime?"
   ]
  },
  {
   "cell_type": "code",
   "execution_count": null,
   "id": "4fced381-003f-4f54-99a0-09d11b40c8dc",
   "metadata": {},
   "outputs": [],
   "source": [
    "A=A+1 evaluates to finding A, adding 1 to it. Then storing the value again in variable A. This expression makes \n",
    "Python to look for memory holder of a twice. But A+=1 simply means value of A is to incremented by 1.\n",
    "As memory address has to be identified once, += leads to faster operation."
   ]
  },
  {
   "cell_type": "code",
   "execution_count": null,
   "id": "74d2eeb3-6f23-452e-a617-3ad775f42356",
   "metadata": {},
   "outputs": [],
   "source": [
    "Q2. What is the smallest number of statements you have to write in most programming languages to\n",
    "replace the Python expression a, b = a + b, a?\n"
   ]
  },
  {
   "cell_type": "code",
   "execution_count": null,
   "id": "b715b43a-9468-4e7f-82dd-2460c6d1a4b7",
   "metadata": {},
   "outputs": [],
   "source": [
    "Minimum number of lines required to write above code in languages other Python will be 4, two for \n",
    "assigning initial values for variables a and b, and two for reassignment\n",
    "i.e. a=a+b and b=a"
   ]
  },
  {
   "cell_type": "code",
   "execution_count": null,
   "id": "78ce2afc-e214-47fd-b6ba-c8132a215e46",
   "metadata": {},
   "outputs": [],
   "source": [
    "Q3. In Python, what is the most effective way to set a list of 100 integers to 0?\n"
   ]
  },
  {
   "cell_type": "code",
   "execution_count": null,
   "id": "8feafd99-be60-49fa-b73c-b10f4278a9f5",
   "metadata": {},
   "outputs": [],
   "source": [
    "The Most effective way to set a list of 100 integers to 0 in python is by using repition operator(*) \n",
    "or by using list comprehension."
   ]
  },
  {
   "cell_type": "code",
   "execution_count": 3,
   "id": "f5e1bee7-f0b9-4a4a-8f05-cb02de7254f8",
   "metadata": {},
   "outputs": [
    {
     "name": "stdout",
     "output_type": "stream",
     "text": [
      "[0, 0, 0, 0, 0, 0, 0, 0, 0, 0, 0, 0, 0, 0, 0, 0, 0, 0, 0, 0, 0, 0, 0, 0, 0, 0, 0, 0, 0, 0, 0, 0, 0, 0, 0, 0, 0, 0, 0, 0, 0, 0, 0, 0, 0, 0, 0, 0, 0, 0, 0, 0, 0, 0, 0, 0, 0, 0, 0, 0, 0, 0, 0, 0, 0, 0, 0, 0, 0, 0, 0, 0, 0, 0, 0, 0, 0, 0, 0, 0, 0, 0, 0, 0, 0, 0, 0, 0, 0, 0, 0, 0, 0, 0, 0, 0, 0, 0, 0, 0]\n",
      "[0, 0, 0, 0, 0, 0, 0, 0, 0, 0, 0, 0, 0, 0, 0, 0, 0, 0, 0, 0, 0, 0, 0, 0, 0, 0, 0, 0, 0, 0, 0, 0, 0, 0, 0, 0, 0, 0, 0, 0, 0, 0, 0, 0, 0, 0, 0, 0, 0, 0, 0, 0, 0, 0, 0, 0, 0, 0, 0, 0, 0, 0, 0, 0, 0, 0, 0, 0, 0, 0, 0, 0, 0, 0, 0, 0, 0, 0, 0, 0, 0, 0, 0, 0, 0, 0, 0, 0, 0, 0, 0, 0, 0, 0, 0, 0, 0, 0, 0, 0]\n"
     ]
    }
   ],
   "source": [
    "# Method 1\n",
    "z=[0]*100\n",
    "print(z)\n",
    "# Method 2\n",
    "zero = [0 for x in range(100)]\n",
    "print(zero)"
   ]
  },
  {
   "cell_type": "code",
   "execution_count": null,
   "id": "20a9dbc1-e1eb-46a8-b879-92980d7d6ef6",
   "metadata": {},
   "outputs": [],
   "source": [
    "Q4. What is the most effective way to initialise a list of 99 integers that repeats the sequence 1, 2, 3?\n",
    "S If necessary, show step-by-step instructions on how to accomplish this"
   ]
  },
  {
   "cell_type": "code",
   "execution_count": null,
   "id": "2e395a40-bf4a-48ec-9327-2ed0d7c565d7",
   "metadata": {},
   "outputs": [
    {
     "name": "stdout",
     "output_type": "stream",
     "text": [
      "[1, 2, 3, 1, 2, 3, 1, 2, 3, 1, 2, 3, 1, 2, 3, 1, 2, 3, 1, 2, 3, 1, 2, 3, 1, 2, 3, 1, 2, 3, 1, 2, 3, 1, 2, 3, 1, 2, 3, 1, 2, 3, 1, 2, 3, 1, 2, 3, 1, 2, 3, 1, 2, 3, 1, 2, 3, 1, 2, 3, 1, 2, 3, 1, 2, 3, 1, 2, 3, 1, 2, 3, 1, 2, 3, 1, 2, 3, 1, 2, 3, 1, 2, 3, 1, 2, 3, 1, 2, 3, 1, 2, 3, 1, 2, 3, 1, 2, 3]\n"
     ]
    }
   ],
   "source": [
    "l = [1,2,3]*33\n",
    "print(l)"
   ]
  },
  {
   "cell_type": "code",
   "execution_count": null,
   "id": "b9e740ef-149b-4b77-a869-dfad385f427b",
   "metadata": {},
   "outputs": [],
   "source": [
    "Q5. If you are using IDLE to run a Python application, explain how to print a multidimensional list as\n",
    "efficiently?"
   ]
  },
  {
   "cell_type": "code",
   "execution_count": 8,
   "id": "a55b0e98-9502-4e50-8a11-2bf521689eea",
   "metadata": {},
   "outputs": [
    {
     "name": "stdout",
     "output_type": "stream",
     "text": [
      "1 1 2 2 3 3 4 4 5 5 "
     ]
    }
   ],
   "source": [
    "l = [[1,1],[2,2],[3,3],[4,4],[5,5]] # 2 dimensional List\n",
    "for x in range(len(l)):\n",
    "    for y in range(len(l[x])):\n",
    "        print(l[x][y],end=\" \")"
   ]
  },
  {
   "cell_type": "code",
   "execution_count": null,
   "id": "8378c32e-cd19-4e0e-b9e2-3d89380a1114",
   "metadata": {},
   "outputs": [],
   "source": [
    "Q6. Is it possible to use list comprehension with a string? If so, how can you go about doing it?\n"
   ]
  },
  {
   "cell_type": "code",
   "execution_count": 6,
   "id": "ba90372f-4c20-46c0-a3ae-c05d1edac838",
   "metadata": {},
   "outputs": [
    {
     "name": "stdout",
     "output_type": "stream",
     "text": [
      "['D', 'i', 'l', 'p', 'r', 'e', 'e', 't']\n"
     ]
    }
   ],
   "source": [
    "l = [i for i in 'Dilpreet']\n",
    "print(l)"
   ]
  },
  {
   "cell_type": "code",
   "execution_count": null,
   "id": "f945aca0-35bd-437e-9839-89e3da90f80f",
   "metadata": {},
   "outputs": [],
   "source": [
    "Q7. From the command line, how do you get support with a user-written Python programme? Is this\n",
    "possible from inside IDLE?\n"
   ]
  },
  {
   "cell_type": "code",
   "execution_count": null,
   "id": "8fd67efb-f0dc-453a-842f-5e669adaf86f",
   "metadata": {},
   "outputs": [],
   "source": []
  },
  {
   "cell_type": "code",
   "execution_count": null,
   "id": "b986d942-2bc3-40fe-b62e-508e206dffc5",
   "metadata": {},
   "outputs": [],
   "source": [
    "Q8. Functions are said to be “first-class objects” in Python but not in most other languages, such as\n",
    "C++ or Java. What can you do in Python with a function (callable object) that you can&#39;t do in C or\n",
    "C++?"
   ]
  },
  {
   "cell_type": "code",
   "execution_count": null,
   "id": "68fcc76f-fbbe-460e-9a48-f7cbee15793f",
   "metadata": {},
   "outputs": [],
   "source": [
    "In Python, functions are considered first-class objects, and thus can perform the tasks mentioned:\n",
    "\n",
    "A function is an instance of the Object type.\n",
    "You can store the function in a variable.\n",
    "You can pass the function as a parameter to another function.\n",
    "You can return the function from a function.\n",
    "You can store functions in data structures such as hash tables, lists, or dictionaries.\n",
    "These capabilities are not as straightforward in languages like C or C++, which do not treat functions \n",
    "as first-class objects with the same level of flexibility and expressiveness"
   ]
  },
  {
   "cell_type": "code",
   "execution_count": null,
   "id": "df6c24fc-57b7-44e0-9a55-a8fa2ca5f673",
   "metadata": {},
   "outputs": [],
   "source": [
    "Q9. How do you distinguish between a wrapper, a wrapped feature, and a decorator?\n"
   ]
  },
  {
   "cell_type": "code",
   "execution_count": null,
   "id": "d8334352-7335-4ad6-8c65-41e66069e9aa",
   "metadata": {},
   "outputs": [],
   "source": [
    "Wrapper: A wrapper is a function or class that adds additional behavior or functionality around an existing\n",
    "feature or object without modifying its core functionality. It typically encapsulates the original feature.\n",
    "\n",
    "Wrapped Feature: The wrapped feature is the original function or object that the wrapper function or class \n",
    "enhances or modifies.\n",
    "\n",
    "Decorator: A decorator is a specific type of wrapper in Python. It is a design pattern that allows you to \n",
    "add behavior to functions or methods using a special syntax (@decorator_name) before the function definition. Decorators are often used for tasks like logging, authentication, and code instrumentation.\n",
    "\n"
   ]
  },
  {
   "cell_type": "code",
   "execution_count": null,
   "id": "0e3a19fb-f96d-4e08-914b-35ddd06b8371",
   "metadata": {},
   "outputs": [],
   "source": [
    "Q10. If a function is a generator function, what does it return?"
   ]
  },
  {
   "cell_type": "code",
   "execution_count": null,
   "id": "5dbdcf11-10f8-4ec7-84d9-5099fa405674",
   "metadata": {},
   "outputs": [],
   "source": [
    "Generator functions are a special kind of function that return a lazy iterator. \n",
    "These are objects that you can loop over like a list. However, unlike lists, lazy iterators do not \n",
    "store their contents in memory. Generator functions are defined using the yield keyword instead of return.\n",
    "When the yield statement is encountered in a generator function, it suspends the functions execution and yields\n",
    "a value to the caller. The functions state is saved, and it can be resumed from where it left off the next time \n",
    "it is called."
   ]
  },
  {
   "cell_type": "code",
   "execution_count": null,
   "id": "eb6582ce-2d0b-4ecd-827c-a1762faaa932",
   "metadata": {},
   "outputs": [],
   "source": [
    "Q11. What is the one improvement that must be made to a function in order for it to become a\n",
    "generator function in the Python language?"
   ]
  },
  {
   "cell_type": "code",
   "execution_count": null,
   "id": "d93484ef-e888-4291-95db-76f714757620",
   "metadata": {},
   "outputs": [],
   "source": [
    " Generator is a written as normal function but uses yield keyword to return values instead of return keyword."
   ]
  },
  {
   "cell_type": "code",
   "execution_count": null,
   "id": "f44d9716-3cb8-4dc9-b1ad-3f6295e8e09b",
   "metadata": {},
   "outputs": [],
   "source": [
    "Q12. Identify at least one benefit of generators."
   ]
  },
  {
   "cell_type": "code",
   "execution_count": null,
   "id": "7f7e92c5-fe5d-4a88-a18b-1df672c8779d",
   "metadata": {},
   "outputs": [],
   "source": [
    "return statement sends a specified value back to its caller whereas yield statment can produce a sequence of values.\n",
    "We should use generator when we want to iterate over a sequence, but don’t want to store the entire sequence in memory."
   ]
  }
 ],
 "metadata": {
  "kernelspec": {
   "display_name": "Python 3 (ipykernel)",
   "language": "python",
   "name": "python3"
  },
  "language_info": {
   "codemirror_mode": {
    "name": "ipython",
    "version": 3
   },
   "file_extension": ".py",
   "mimetype": "text/x-python",
   "name": "python",
   "nbconvert_exporter": "python",
   "pygments_lexer": "ipython3",
   "version": "3.10.6"
  }
 },
 "nbformat": 4,
 "nbformat_minor": 5
}
