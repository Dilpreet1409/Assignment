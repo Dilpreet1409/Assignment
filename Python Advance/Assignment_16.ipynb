{
 "cells": [
  {
   "cell_type": "code",
   "execution_count": null,
   "id": "49757f05-a446-496c-8775-a4f7b381c91a",
   "metadata": {},
   "outputs": [],
   "source": [
    "Q1. What is the benefit of regular expressions?\n"
   ]
  },
  {
   "cell_type": "code",
   "execution_count": null,
   "id": "192b68c1-c577-4508-88aa-de9fdbe007fd",
   "metadata": {},
   "outputs": [],
   "source": [
    "Regular Expressions, also known as regex or regexp, are used to match strings of text such as particular characters,\n",
    "words, or patterns of characters. It means that we can match and extract any string pattern from the text with the help\n",
    "of regular expressions. It helps the programmers to Write less and cleaner code. it also avoids multiple use of if/else \n",
    "statements.\n",
    "Regular expressions provide benefits like pattern matching, text validation, extraction, replacement, data cleaning, \n",
    "validation, string manipulation, efficient text processing, cross-language compatibility, and versatility in various \n",
    "fields like programming and data analysis."
   ]
  },
  {
   "cell_type": "code",
   "execution_count": null,
   "id": "cb9fe9e3-25b8-40cc-a83c-c2de2a305b00",
   "metadata": {},
   "outputs": [],
   "source": [
    "Q2. Describe the difference between the effects of \"(ab)c+\" and \"a(bc)+\". Which of these, if any, is the\n",
    "unqualified pattern \"abc\"?\n"
   ]
  },
  {
   "cell_type": "code",
   "execution_count": null,
   "id": "0ef7bd7b-5a39-48d4-a143-2a5bdef3ed9c",
   "metadata": {},
   "outputs": [],
   "source": [
    "Both (ab)c+ and a(bc)+ are valid patterns. \n",
    "The difference between both these patterns is in (ab)c+ ab is group whereas in a(bc)+ bc is a group."
   ]
  },
  {
   "cell_type": "code",
   "execution_count": null,
   "id": "f57b43a1-16b8-4da4-8eee-f555f580b7cd",
   "metadata": {},
   "outputs": [],
   "source": [
    "Q3. How much do you need to use the following sentence while using regular expressions?\n",
    "import re"
   ]
  },
  {
   "cell_type": "code",
   "execution_count": null,
   "id": "bd25f9f6-68ae-471c-b766-695052ec5f2d",
   "metadata": {},
   "outputs": [],
   "source": [
    "import re statement always has to be imported before using regular expressions.\n",
    "Its a fundamental step to access the regular expression capabilities provided by the re module."
   ]
  },
  {
   "cell_type": "code",
   "execution_count": null,
   "id": "3767b500-470e-4329-beea-eb53435e7c1b",
   "metadata": {},
   "outputs": [],
   "source": [
    "Q4. Which characters have special significance in square brackets when expressing a range, and\n",
    "under what circumstances?\n"
   ]
  },
  {
   "cell_type": "code",
   "execution_count": null,
   "id": "84cd4482-6194-43ab-8a63-058313124cdf",
   "metadata": {},
   "outputs": [],
   "source": [
    "The Characters .,*,?,^,or,(), have a special signiface when used with square brackets. \n",
    "They need not be be explicitly escaped by \\ as in case of pattern texts in a raw string."
   ]
  },
  {
   "cell_type": "code",
   "execution_count": null,
   "id": "14c2cd96-ddb7-449f-a0ff-dbcf5edcc9b6",
   "metadata": {},
   "outputs": [],
   "source": [
    "Q5. How does compiling a regular-expression object benefit you?\n"
   ]
  },
  {
   "cell_type": "code",
   "execution_count": null,
   "id": "9b8220ea-a5f6-4482-830b-bdbd50ca6555",
   "metadata": {},
   "outputs": [],
   "source": [
    "We can Combine a regular expression pattern into pattern Objects which can be used for pattern matching.\n",
    "It also helps to search a pattern again without rewritting it."
   ]
  },
  {
   "cell_type": "code",
   "execution_count": null,
   "id": "ce102fa8-d5e1-4054-93da-194a1015c983",
   "metadata": {},
   "outputs": [],
   "source": [
    "Q6. What are some examples of how to use the match object returned by re.match and re.search?"
   ]
  },
  {
   "cell_type": "code",
   "execution_count": null,
   "id": "c93e28e7-9a50-44d4-aae5-25a37ccd6653",
   "metadata": {},
   "outputs": [],
   "source": [
    "The re.search() and re.match() both are functions of re module in python. These functions are very efficient and \n",
    "fast for searching in strings. The function searches for some substring in a string and returns a match object if found,\n",
    "else it returns none.\n",
    "\n",
    "There is a difference between the use of both functions. Both return the first match of a substring found in the string, \n",
    "but re.match() searches only from the beginning of the string and return match object if found. But if a match of substring \n",
    "is found somewhere in the middle of the string, it returns none.\n",
    "\n",
    "While re.search() searches for the whole string even if the string contains multi-lines and tries to find a match \n",
    "of the substring in all the lines of string"
   ]
  },
  {
   "cell_type": "code",
   "execution_count": null,
   "id": "5ae33069-962b-40c4-832a-630a02f54fec",
   "metadata": {},
   "outputs": [],
   "source": [
    "Q7. What is the difference between using a vertical bar (|) as an alteration and using square brackets\n",
    "as a character set?"
   ]
  },
  {
   "cell_type": "code",
   "execution_count": null,
   "id": "bdf71247-0591-416b-aa36-8e3ba199d6f9",
   "metadata": {},
   "outputs": [],
   "source": [
    "When | us used then patterns searches for or option. i.e <pattern_1>|<pattern_2> means it searches as \n",
    "<pattern_1>or<<pattern_2> in the searched string. the first occurance of matched string will be returned as the \n",
    "Match Object. Using Character set in square Brackets searches for all the character set in the square bracket and \n",
    "if match is found, it returns it."
   ]
  },
  {
   "cell_type": "code",
   "execution_count": null,
   "id": "91e47953-6329-44d6-bd07-c350b8bb1ee2",
   "metadata": {},
   "outputs": [],
   "source": [
    "Q8. In regular-expression search patterns, why is it necessary to use the raw-string indicator (r)? In  \n",
    "replacement strings?"
   ]
  },
  {
   "cell_type": "code",
   "execution_count": null,
   "id": "85a1808d-beed-4fe8-954f-580333eb2c5d",
   "metadata": {},
   "outputs": [],
   "source": [
    "Raw Strings are used in the regular-expression search patterns, so that blackslashes donot have to be escaped."
   ]
  }
 ],
 "metadata": {
  "kernelspec": {
   "display_name": "Python 3 (ipykernel)",
   "language": "python",
   "name": "python3"
  },
  "language_info": {
   "codemirror_mode": {
    "name": "ipython",
    "version": 3
   },
   "file_extension": ".py",
   "mimetype": "text/x-python",
   "name": "python",
   "nbconvert_exporter": "python",
   "pygments_lexer": "ipython3",
   "version": "3.10.6"
  }
 },
 "nbformat": 4,
 "nbformat_minor": 5
}
