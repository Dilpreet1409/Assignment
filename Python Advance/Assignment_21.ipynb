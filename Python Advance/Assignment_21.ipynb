{
 "cells": [
  {
   "cell_type": "code",
   "execution_count": null,
   "id": "e6aefb0e-99bf-44d8-a098-0b13d8e7fc65",
   "metadata": {},
   "outputs": [],
   "source": [
    "Q1. What is a probability distribution, exactly? If the values are meant to be random, how can you\n",
    "predict them at all?"
   ]
  },
  {
   "cell_type": "code",
   "execution_count": null,
   "id": "9d76486d-89eb-416d-93a9-18d0bc7775a7",
   "metadata": {},
   "outputs": [],
   "source": [
    "A probability distribution is a mathematical function or model that describes the likelihood of different outcomes or \n",
    "values occurring in a random experiment or process.\n",
    "It tells us which values a random variable is most likely to take on and which values are less likely. \n",
    "Based on the previous data and the occurences of the random event, we can predict the outcome in terms of probabilities."
   ]
  },
  {
   "cell_type": "code",
   "execution_count": null,
   "id": "41f297e6-6541-4124-9ffd-1cac40f554ca",
   "metadata": {},
   "outputs": [],
   "source": [
    "Q2. Is there a distinction between true random numbers and pseudo-random numbers, if there is\n",
    "one? Why are the latter considered “good enough”?\n"
   ]
  },
  {
   "cell_type": "code",
   "execution_count": null,
   "id": "44479872-ed54-47de-92d7-47ee1a164159",
   "metadata": {},
   "outputs": [],
   "source": [
    "True Random Numbers are true physical values while pseudo-random numbers are generated internally by a program .\n",
    "Latter is considered good enough as they have sort of uniform distribution and are fast and efficient."
   ]
  },
  {
   "cell_type": "code",
   "execution_count": null,
   "id": "b2d16ec0-df55-4205-869e-4e65fe1c90b5",
   "metadata": {},
   "outputs": [],
   "source": [
    "Q3. What are the two main factors that influence the behaviour of a \"normal\" probability distribution?\n"
   ]
  },
  {
   "cell_type": "code",
   "execution_count": null,
   "id": "adc0a648-c0eb-4a75-bfa7-a661f77814a6",
   "metadata": {},
   "outputs": [],
   "source": [
    "Normal Probability Distribution are influenced by two factors mean and standard deviation"
   ]
  },
  {
   "cell_type": "code",
   "execution_count": null,
   "id": "0b904b59-3323-4a6e-9298-0136f8924867",
   "metadata": {},
   "outputs": [],
   "source": [
    "Q4. Provide a real-life example of a normal distribution."
   ]
  },
  {
   "cell_type": "code",
   "execution_count": null,
   "id": "13281235-5d80-414c-a7cc-3fb36a150607",
   "metadata": {},
   "outputs": [],
   "source": [
    "A Real-life example of a normal distribution are heights or blood pressure measurements"
   ]
  },
  {
   "cell_type": "code",
   "execution_count": null,
   "id": "c9a93ebd-6957-43e5-b2b0-7d0c7bf288a4",
   "metadata": {},
   "outputs": [],
   "source": [
    "Q5. What kind of object can be shuffled by using random.shuffle?\n"
   ]
  },
  {
   "cell_type": "code",
   "execution_count": null,
   "id": "89a39486-faf3-491d-aa03-5dedee11e356",
   "metadata": {},
   "outputs": [],
   "source": [
    "lists (list), strings (str) ,tuples (tuple), array objects can be shuffled by using random.shuffle"
   ]
  },
  {
   "cell_type": "code",
   "execution_count": null,
   "id": "d925b4c1-07e0-44d2-9d36-db2fbeeed610",
   "metadata": {},
   "outputs": [],
   "source": [
    "Q6. Describe the math packages general categories of functions."
   ]
  },
  {
   "cell_type": "code",
   "execution_count": null,
   "id": "15231b81-4a09-40b4-8d61-f42faf4c5eb5",
   "metadata": {},
   "outputs": [],
   "source": [
    "The Math packages general categories of functions are:\n",
    "\n",
    "Trigonometric functions\n",
    "Quadratic functions\n",
    "Exponential functions\n",
    "Hyperbolic functions\n",
    "Periodic functions\n",
    "Arithmetic functions\n",
    "Logarithimic functions\n",
    "Conversions to Integer"
   ]
  },
  {
   "cell_type": "code",
   "execution_count": null,
   "id": "fed7458f-ac88-4c72-b9a2-374376eca107",
   "metadata": {},
   "outputs": [],
   "source": [
    "Q7. What is the relationship between exponentiation and logarithms?"
   ]
  },
  {
   "cell_type": "code",
   "execution_count": null,
   "id": "8840930e-a047-4217-95a1-d97e74b2a4dc",
   "metadata": {},
   "outputs": [],
   "source": [
    "Exponentiation involves raising a base to an exponent, while logarithms provide a way to find the exponent \n",
    "needed to produce a given result. They are inverse operations and are used in various mathematical and scientific \n",
    "applications."
   ]
  },
  {
   "cell_type": "code",
   "execution_count": null,
   "id": "f7b886bf-20f6-469c-b701-dd49a89160ed",
   "metadata": {},
   "outputs": [],
   "source": [
    "Q8. What are the three logarithmic functions that Python supports?"
   ]
  },
  {
   "cell_type": "code",
   "execution_count": null,
   "id": "06570555-3770-43fd-be6e-42dc994d1ad7",
   "metadata": {},
   "outputs": [],
   "source": [
    "The Three Logarithmic Functions that Python supports are:\n",
    "\n",
    "log2(x) - logarithmic value of x to base 2\n",
    "log10(x) - logarithmic value of x to base 10\n",
    "log1p(a) - This function is used to compute logarithm(1+a) ."
   ]
  }
 ],
 "metadata": {
  "kernelspec": {
   "display_name": "Python 3 (ipykernel)",
   "language": "python",
   "name": "python3"
  },
  "language_info": {
   "codemirror_mode": {
    "name": "ipython",
    "version": 3
   },
   "file_extension": ".py",
   "mimetype": "text/x-python",
   "name": "python",
   "nbconvert_exporter": "python",
   "pygments_lexer": "ipython3",
   "version": "3.10.6"
  }
 },
 "nbformat": 4,
 "nbformat_minor": 5
}
