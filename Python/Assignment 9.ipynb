{
 "cells": [
  {
   "cell_type": "code",
   "execution_count": null,
   "id": "aba5fc29-dba8-4cc3-be1e-cbcf2b57fd30",
   "metadata": {},
   "outputs": [],
   "source": [
    "1. To what does a relative path refer?"
   ]
  },
  {
   "cell_type": "code",
   "execution_count": null,
   "id": "cbb7869b-d1a0-4831-be3a-71417418125f",
   "metadata": {},
   "outputs": [],
   "source": [
    "A relative path describes the location of a file relative to the current (working) directory.\n",
    "For example, data/hello is a relative path."
   ]
  },
  {
   "cell_type": "code",
   "execution_count": null,
   "id": "0bf154c2-4a62-4bf5-ad51-3b545c3452ce",
   "metadata": {},
   "outputs": [],
   "source": [
    "2. What does an absolute path start with your operating system?\n"
   ]
  },
  {
   "cell_type": "code",
   "execution_count": null,
   "id": "4d9df769-7791-477f-b4c4-83e3c5fa75a3",
   "metadata": {},
   "outputs": [],
   "source": [
    "An absolute path is a path that describes the location of a file or folder regardless of the current working directory;\n",
    "in fact, it is relative to the root directory. \n",
    "It contains the complete location of a file or directory, hence the name.\n",
    "it starts with such as / or C:\\.\n",
    "\n"
   ]
  },
  {
   "cell_type": "code",
   "execution_count": null,
   "id": "8e3c1941-629a-4db8-99c0-fff315c56c7f",
   "metadata": {},
   "outputs": [],
   "source": [
    "3. What do the functions os.getcwd() and os.chdir() do?\n"
   ]
  },
  {
   "cell_type": "code",
   "execution_count": null,
   "id": "2aad9da9-0a2c-4975-880b-cc2c7d1341fb",
   "metadata": {},
   "outputs": [],
   "source": [
    "getcwd() : CWD stands for Current Working Directory.\n",
    "This function allows you to see what your current working directory is. \n",
    "\n",
    "chdir(\"path-to-dir\") : Short for CHange DIrectory, this function allows you to set the current working directory \n",
    "to a path of your choice."
   ]
  },
  {
   "cell_type": "code",
   "execution_count": null,
   "id": "bfe51148-969b-4816-9e42-83c3803d9877",
   "metadata": {},
   "outputs": [],
   "source": [
    "4. What are the . and .. folders?\n"
   ]
  },
  {
   "cell_type": "code",
   "execution_count": null,
   "id": "fca616d5-a99e-4148-86ae-62a99eb4be35",
   "metadata": {},
   "outputs": [],
   "source": [
    "\".\" is the current directory.\n",
    "\n",
    "\"..\" is the parent directory."
   ]
  },
  {
   "cell_type": "code",
   "execution_count": null,
   "id": "2951a7fc-fb84-4a53-906b-c632d358a3c6",
   "metadata": {},
   "outputs": [],
   "source": [
    "5. In C:\\bacon\\eggs\\spam.txt, which part is the dir name, and which part is the base name?\n"
   ]
  },
  {
   "cell_type": "code",
   "execution_count": null,
   "id": "6af9cb38-aeca-4284-a9d5-7d68ce09f291",
   "metadata": {},
   "outputs": [],
   "source": [
    "C:\\bacon\\eggs is the dir\n",
    "spam.txt is the base name"
   ]
  },
  {
   "cell_type": "code",
   "execution_count": null,
   "id": "f1a4fe56-5643-4de6-b713-599969805cf2",
   "metadata": {},
   "outputs": [],
   "source": [
    "6. What are the three “mode” arguments that can be passed to the open() function?\n"
   ]
  },
  {
   "cell_type": "code",
   "execution_count": null,
   "id": "80ce8a74-35ab-4784-8742-ad19c1a3a626",
   "metadata": {},
   "outputs": [],
   "source": [
    "read-'r' \n",
    "write-'w'\n",
    "append-'a'"
   ]
  },
  {
   "cell_type": "code",
   "execution_count": null,
   "id": "ce2e48b3-08fc-49a1-849e-232f0d6d6c30",
   "metadata": {},
   "outputs": [],
   "source": [
    "7. What happens if an existing file is opened in write mode?\n"
   ]
  },
  {
   "cell_type": "code",
   "execution_count": null,
   "id": "897ba533-ed08-4625-a7b2-80dfaba244fe",
   "metadata": {},
   "outputs": [],
   "source": [
    "If an existing file is opened in write mode then it is erased and completely overwritten.\n"
   ]
  },
  {
   "cell_type": "code",
   "execution_count": null,
   "id": "bce25326-11d6-4870-b453-e326ba77b7bb",
   "metadata": {},
   "outputs": [],
   "source": [
    "8. How do you tell the difference between read() and readlines()?\n"
   ]
  },
  {
   "cell_type": "code",
   "execution_count": null,
   "id": "6e94661f-6c1d-454d-bc54-f8539eec530a",
   "metadata": {},
   "outputs": [],
   "source": [
    "read() method returns the file’s entire contents as a single string value\n",
    "whereas\n",
    "readlines() method returns a list of strings i.e.lines from the file’s content"
   ]
  },
  {
   "cell_type": "code",
   "execution_count": null,
   "id": "1c4d0d17-ef2a-46b4-a85b-ebb6f4e8f9f9",
   "metadata": {},
   "outputs": [],
   "source": [
    "9. What data structure does a shelf value resemble?\n"
   ]
  },
  {
   "cell_type": "code",
   "execution_count": null,
   "id": "273e5885-bf95-43ff-83fb-fbb93d0534ce",
   "metadata": {},
   "outputs": [],
   "source": [
    "Shelf value resembles a dictionary value as it has keys and values"
   ]
  }
 ],
 "metadata": {
  "kernelspec": {
   "display_name": "Python 3 (ipykernel)",
   "language": "python",
   "name": "python3"
  },
  "language_info": {
   "codemirror_mode": {
    "name": "ipython",
    "version": 3
   },
   "file_extension": ".py",
   "mimetype": "text/x-python",
   "name": "python",
   "nbconvert_exporter": "python",
   "pygments_lexer": "ipython3",
   "version": "3.10.6"
  }
 },
 "nbformat": 4,
 "nbformat_minor": 5
}
