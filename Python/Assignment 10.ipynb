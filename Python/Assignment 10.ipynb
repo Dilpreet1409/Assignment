{
 "cells": [
  {
   "cell_type": "code",
   "execution_count": null,
   "id": "e48fcba3-0d01-405a-8d2d-e62b644c4996",
   "metadata": {},
   "outputs": [],
   "source": [
    "1. How do you distinguish between shutil.copy() and shutil.copytree()?"
   ]
  },
  {
   "cell_type": "code",
   "execution_count": null,
   "id": "958472d0-e4ee-4722-8637-1f65ebd62141",
   "metadata": {},
   "outputs": [],
   "source": [
    "shutil.copy() function will copy a single file\n",
    "shutil.copytree() will copy an entire folder, along with all its contents."
   ]
  },
  {
   "cell_type": "code",
   "execution_count": null,
   "id": "4d71c388-8775-4eef-81ed-cf889ea43ba8",
   "metadata": {},
   "outputs": [],
   "source": [
    "2. What function is used to rename files??"
   ]
  },
  {
   "cell_type": "code",
   "execution_count": null,
   "id": "734dea15-a4a7-41fa-93fa-c5fe4340045b",
   "metadata": {},
   "outputs": [],
   "source": [
    "shutil.move function is used for renaming files as well as moving them."
   ]
  },
  {
   "cell_type": "code",
   "execution_count": null,
   "id": "ba8fb0b7-19f1-4aa6-8d20-8d75b95dd533",
   "metadata": {},
   "outputs": [],
   "source": [
    "3. What is the difference between the delete functions in the send2trash and shutil modules?"
   ]
  },
  {
   "cell_type": "code",
   "execution_count": null,
   "id": "11a594d3-b5a5-42be-ac67-c4b71636374e",
   "metadata": {},
   "outputs": [],
   "source": [
    "send2trash will move a file or folder to the recycle bin \n",
    "shutil functions permanently deletes the files and folders"
   ]
  },
  {
   "cell_type": "code",
   "execution_count": null,
   "id": "e054a668-b243-4a0d-bcd8-37abbded117f",
   "metadata": {},
   "outputs": [],
   "source": [
    "4.ZipFile objects have a close() method just like File objects’ close() method. What ZipFile method is\n",
    "equivalent to File objects’ open() method?"
   ]
  },
  {
   "cell_type": "code",
   "execution_count": null,
   "id": "7ddf2105-9ec8-4751-9859-e3009d041493",
   "metadata": {},
   "outputs": [],
   "source": [
    "zipfile.ZipFile method is equivalent to open() method\n",
    "Here, the first argument is the filename, and the second argument is the mode to open the ZIP file in (read, write, or append)"
   ]
  },
  {
   "cell_type": "code",
   "execution_count": null,
   "id": "c4997611-290a-429c-a92c-fecf522aa800",
   "metadata": {},
   "outputs": [],
   "source": []
  }
 ],
 "metadata": {
  "kernelspec": {
   "display_name": "Python 3 (ipykernel)",
   "language": "python",
   "name": "python3"
  },
  "language_info": {
   "codemirror_mode": {
    "name": "ipython",
    "version": 3
   },
   "file_extension": ".py",
   "mimetype": "text/x-python",
   "name": "python",
   "nbconvert_exporter": "python",
   "pygments_lexer": "ipython3",
   "version": "3.10.6"
  }
 },
 "nbformat": 4,
 "nbformat_minor": 5
}
