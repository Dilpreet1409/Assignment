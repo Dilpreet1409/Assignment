{
 "cells": [
  {
   "cell_type": "code",
   "execution_count": null,
   "id": "4241d7b8-58e6-451d-8c52-a232fc76b99b",
   "metadata": {},
   "outputs": [],
   "source": [
    "1. What exactly is []?"
   ]
  },
  {
   "cell_type": "code",
   "execution_count": null,
   "id": "57881209-ce4e-4536-aaf5-7408165b0b9c",
   "metadata": {},
   "outputs": [],
   "source": [
    "1. [] this is an empty list i.e. with no items in the list "
   ]
  },
  {
   "cell_type": "code",
   "execution_count": null,
   "id": "fd26a0b9-b7e6-4ea5-8beb-9b15c8d1415b",
   "metadata": {},
   "outputs": [],
   "source": [
    "2. In a list of values stored in a variable called spam, how would you assign the value 'hello'; as the\n",
    "third value? (Assume [2, 4, 6, 8, 10] are in spam.)"
   ]
  },
  {
   "cell_type": "code",
   "execution_count": null,
   "id": "d5f53643-cd1d-4695-bddc-b0803562d491",
   "metadata": {},
   "outputs": [],
   "source": [
    "2.spam[2]='hello'"
   ]
  },
  {
   "cell_type": "code",
   "execution_count": null,
   "id": "3dcf3dc4-6d40-47af-b8e4-3a5060ce7167",
   "metadata": {},
   "outputs": [],
   "source": [
    "Lets pretend the spam includes the list ['a','b','c','d'] for the next three queries.\n",
    "3. What is the value of spam[int(int('3'* 2) / 11)]?"
   ]
  },
  {
   "cell_type": "code",
   "execution_count": null,
   "id": "3da5f9aa-a552-4c7b-9a56-ff8b54ddc56b",
   "metadata": {},
   "outputs": [],
   "source": [
    "3.   '3' * 2 = '33'\n",
    "    int('33')=33\n",
    "     33/11=3\n",
    "    Spam[3]\n",
    "ans is 'd'"
   ]
  },
  {
   "cell_type": "code",
   "execution_count": null,
   "id": "f85e44da-cf20-4597-b721-4c9b2a6360a6",
   "metadata": {},
   "outputs": [],
   "source": [
    "4. What is the value of spam[-1]?"
   ]
  },
  {
   "cell_type": "code",
   "execution_count": null,
   "id": "d2ebb057-6339-40d6-a44b-2e9fb7e771c1",
   "metadata": {},
   "outputs": [],
   "source": [
    "4. \"d\""
   ]
  },
  {
   "cell_type": "code",
   "execution_count": null,
   "id": "c09551cb-f64f-45d2-8eac-62f73f91ee3e",
   "metadata": {},
   "outputs": [],
   "source": [
    "5. What is the value of spam[:2]?"
   ]
  },
  {
   "cell_type": "code",
   "execution_count": null,
   "id": "f34c6ec0-41ec-4265-bef7-4fceab7f4a52",
   "metadata": {},
   "outputs": [],
   "source": [
    "5. ['a','b']"
   ]
  },
  {
   "cell_type": "code",
   "execution_count": null,
   "id": "35924dcd-a968-4742-9bfb-2c7e84ab5eb0",
   "metadata": {},
   "outputs": [],
   "source": [
    "5. What is the value of spam[:2]?"
   ]
  },
  {
   "cell_type": "code",
   "execution_count": null,
   "id": "038b0baf-d497-4f52-8c26-9b62ee3c06b6",
   "metadata": {},
   "outputs": [],
   "source": [
    "Lets pretend bacon has the list [3.14, 'cat',11, 'cat', True] for the next three questions.\n",
    "6. What is the value of bacon.index('cat')?"
   ]
  },
  {
   "cell_type": "code",
   "execution_count": null,
   "id": "cfd1be1c-c26b-4954-b723-297c76c01e91",
   "metadata": {},
   "outputs": [],
   "source": [
    "6. 1"
   ]
  },
  {
   "cell_type": "code",
   "execution_count": null,
   "id": "2971fd53-5f66-424c-9372-91f47a5e9bb9",
   "metadata": {},
   "outputs": [],
   "source": [
    "7. How does bacon.append(99) change the look of the list value in bacon?"
   ]
  },
  {
   "cell_type": "code",
   "execution_count": null,
   "id": "648899bc-260f-4347-affb-425e3d60e353",
   "metadata": {},
   "outputs": [],
   "source": [
    "7. [3.14, 'cat', 11, 'cat', True, 99]"
   ]
  },
  {
   "cell_type": "code",
   "execution_count": 7,
   "id": "4a36e14d-6436-4a8a-8c2e-dbc0dadc5f1c",
   "metadata": {},
   "outputs": [
    {
     "data": {
      "text/plain": [
       "[3.14, 'cat', 11, 'cat', True, 99]"
      ]
     },
     "execution_count": 7,
     "metadata": {},
     "output_type": "execute_result"
    }
   ],
   "source": [
    "bacon =[3.14, 'cat',11, 'cat', True]\n",
    "bacon.append(99)\n",
    "bacon"
   ]
  },
  {
   "cell_type": "code",
   "execution_count": null,
   "id": "1bb6978b-71cd-477b-a0f8-6d9e91e6c337",
   "metadata": {},
   "outputs": [],
   "source": [
    "8. How does bacon.remove('cat') change the look of the list in bacon?"
   ]
  },
  {
   "cell_type": "code",
   "execution_count": null,
   "id": "32d19370-8064-4784-97ee-1f6e08f6689f",
   "metadata": {},
   "outputs": [],
   "source": [
    "8. [3.14, 11, 'cat', True]"
   ]
  },
  {
   "cell_type": "code",
   "execution_count": null,
   "id": "1e8f4f6c-0dd9-408d-922a-532bddb31f55",
   "metadata": {},
   "outputs": [],
   "source": [
    "9. What are the list concatenation and list replication operators?"
   ]
  },
  {
   "cell_type": "code",
   "execution_count": null,
   "id": "8d82ed81-7f86-4466-9555-19823ffdbfc3",
   "metadata": {},
   "outputs": [],
   "source": [
    "9. List concatenation operator is + whereas list replication operator is *"
   ]
  },
  {
   "cell_type": "code",
   "execution_count": null,
   "id": "5e0b5cf4-2132-46e6-a5cf-d8f49290aac8",
   "metadata": {},
   "outputs": [],
   "source": [
    "10. What is difference between the list methods append() and insert()?"
   ]
  },
  {
   "cell_type": "code",
   "execution_count": null,
   "id": "b8f41be1-d3d4-4fdc-b633-0bd184c5016e",
   "metadata": {},
   "outputs": [],
   "source": [
    "10. append method adds values only to the end of a list\n",
    "    insert method adds item anywhere in the list"
   ]
  },
  {
   "cell_type": "code",
   "execution_count": null,
   "id": "357d9d02-d925-461f-b926-18b1f5f8153a",
   "metadata": {},
   "outputs": [],
   "source": [
    "11. What are the two methods for removing items from a list?"
   ]
  },
  {
   "cell_type": "code",
   "execution_count": null,
   "id": "15396fd9-afc3-4865-a569-97a788c2bb70",
   "metadata": {},
   "outputs": [],
   "source": [
    "11. Two methods of removing items from a list are:\n",
    "    remove() method \n",
    "    pop() method"
   ]
  },
  {
   "cell_type": "code",
   "execution_count": null,
   "id": "a1d85140-9fa2-4155-8c0c-3494c7458815",
   "metadata": {},
   "outputs": [],
   "source": [
    "12. Describe how list values and string values are identical."
   ]
  },
  {
   "cell_type": "code",
   "execution_count": null,
   "id": "8168ef41-56d3-4a81-84a8-66745c4198fc",
   "metadata": {},
   "outputs": [],
   "source": [
    "12. Both list and strings have indexes ,can be sliced, can be concatenated or replicated, can be passed into len func."
   ]
  },
  {
   "cell_type": "code",
   "execution_count": null,
   "id": "6aca6352-3638-48b6-beb5-d145f5601269",
   "metadata": {},
   "outputs": [],
   "source": [
    "13. Whats the difference between tuples and lists?"
   ]
  },
  {
   "cell_type": "code",
   "execution_count": null,
   "id": "e5c167f0-5318-4ba9-940f-5510bfc48711",
   "metadata": {},
   "outputs": [],
   "source": [
    "13. The disfference between lists and tuple is that lists are mutuable i.e. can be changed and [] square brackets used whereas tuple are immutable i.e. can not be changes "
   ]
  },
  {
   "cell_type": "code",
   "execution_count": null,
   "id": "f4dd78d3-f955-4393-aff0-943ff7d5a4b3",
   "metadata": {},
   "outputs": [],
   "source": [
    "14. How do you type a tuple value that only contains the integer 42?"
   ]
  },
  {
   "cell_type": "code",
   "execution_count": null,
   "id": "409c4d6d-4afb-4928-8fff-1213e9375119",
   "metadata": {},
   "outputs": [],
   "source": [
    "14. (42,)"
   ]
  },
  {
   "cell_type": "code",
   "execution_count": null,
   "id": "74627889-53fd-42d1-8776-cbb7ab4e2697",
   "metadata": {},
   "outputs": [],
   "source": [
    "15. How do you get a list values tuple form? How do you get a tuple values list form?"
   ]
  },
  {
   "cell_type": "code",
   "execution_count": null,
   "id": "6e97bf8f-4bf9-46aa-be9e-aac2b37c47f8",
   "metadata": {},
   "outputs": [],
   "source": [
    "15. by using tuple()\n",
    "    by using list()"
   ]
  },
  {
   "cell_type": "code",
   "execution_count": null,
   "id": "d5a8db8d-f3cb-4a84-a6fd-8575eb745d09",
   "metadata": {},
   "outputs": [],
   "source": [
    "16. Variables that \"contain\" list values are not necessarily lists themselves. Instead, what do they\n",
    "contain?"
   ]
  },
  {
   "cell_type": "code",
   "execution_count": null,
   "id": "a340409b-197a-49e5-a2d2-509c00fd9e36",
   "metadata": {},
   "outputs": [],
   "source": [
    "16. These contain references to list values."
   ]
  },
  {
   "cell_type": "code",
   "execution_count": null,
   "id": "42c7ba74-92e3-4bf9-9338-e37b19785fff",
   "metadata": {},
   "outputs": [],
   "source": [
    "17. How do you distinguish between copy.copy() and copy.deepcopy()?"
   ]
  },
  {
   "cell_type": "code",
   "execution_count": null,
   "id": "7fc349b6-c762-42ef-b966-ef25b06c078d",
   "metadata": {},
   "outputs": [],
   "source": [
    "17.copy() create reference to original object. If we the change copied object it will affect the original object.\n",
    "whereas deepcopy() creates new object, copies same original object and changing new deepcopied object does not affect original object.\n"
   ]
  }
 ],
 "metadata": {
  "kernelspec": {
   "display_name": "Python 3 (ipykernel)",
   "language": "python",
   "name": "python3"
  },
  "language_info": {
   "codemirror_mode": {
    "name": "ipython",
    "version": 3
   },
   "file_extension": ".py",
   "mimetype": "text/x-python",
   "name": "python",
   "nbconvert_exporter": "python",
   "pygments_lexer": "ipython3",
   "version": "3.10.6"
  }
 },
 "nbformat": 4,
 "nbformat_minor": 5
}
