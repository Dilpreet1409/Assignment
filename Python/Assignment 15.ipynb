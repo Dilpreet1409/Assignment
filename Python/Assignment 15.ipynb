{
 "cells": [
  {
   "cell_type": "code",
   "execution_count": null,
   "id": "0b8b2d52-44a1-413e-888c-892a956ba3df",
   "metadata": {},
   "outputs": [],
   "source": [
    "1.How many seconds are in an hour? Use the interactive interpreter as a calculator and multiply the\n",
    "number of seconds in a minute (60) by the number of minutes in an hour (also 60).\n",
    "sol. 60"
   ]
  },
  {
   "cell_type": "code",
   "execution_count": 1,
   "id": "5b8beb6f-fb31-48bd-bec2-1478b5bb181d",
   "metadata": {},
   "outputs": [
    {
     "name": "stdout",
     "output_type": "stream",
     "text": [
      "3600\n"
     ]
    }
   ],
   "source": [
    "print(60*60)"
   ]
  },
  {
   "cell_type": "code",
   "execution_count": null,
   "id": "ed4bfeea-615e-4f28-8702-085fcbc12996",
   "metadata": {},
   "outputs": [],
   "source": [
    "2. Assign the result from the previous task (seconds in an hour) to a variable called\n",
    "seconds_per_hour."
   ]
  },
  {
   "cell_type": "code",
   "execution_count": 2,
   "id": "1453eee6-37a3-4b30-ac02-6690a88e8595",
   "metadata": {},
   "outputs": [
    {
     "name": "stdout",
     "output_type": "stream",
     "text": [
      "3600\n"
     ]
    }
   ],
   "source": [
    "seconds_per_hour = 60*60\n",
    "print(seconds_per_hour)"
   ]
  },
  {
   "cell_type": "code",
   "execution_count": null,
   "id": "0b4d74da-89d9-4f5d-b1cc-189169a35b30",
   "metadata": {},
   "outputs": [],
   "source": [
    "3. How many seconds do you think there are in a day? Make use of the variables seconds per hour\n",
    "and minutes per hour."
   ]
  },
  {
   "cell_type": "code",
   "execution_count": 3,
   "id": "f09a75ca-a2c9-4d94-a147-164a44f0fe84",
   "metadata": {},
   "outputs": [
    {
     "name": "stdout",
     "output_type": "stream",
     "text": [
      "86400\n"
     ]
    }
   ],
   "source": [
    "minutes_per_hour=60\n",
    "print(seconds_per_hour*24)"
   ]
  },
  {
   "cell_type": "code",
   "execution_count": null,
   "id": "663b01a4-2a68-4140-9312-cc609b66e37e",
   "metadata": {},
   "outputs": [],
   "source": [
    "4. Calculate seconds per day again, but this time save the result in a variable called seconds_per_day"
   ]
  },
  {
   "cell_type": "code",
   "execution_count": 4,
   "id": "730b84ec-04a3-4ae6-a097-4675143024ba",
   "metadata": {},
   "outputs": [
    {
     "name": "stdout",
     "output_type": "stream",
     "text": [
      "86400\n"
     ]
    }
   ],
   "source": [
    "seconds_per_day = 24*60*60\n",
    "print(seconds_per_day)"
   ]
  },
  {
   "cell_type": "code",
   "execution_count": null,
   "id": "750b079a-a988-4bc0-a080-4aabfbd7041a",
   "metadata": {},
   "outputs": [],
   "source": [
    "5. Divide seconds_per_day by seconds_per_hour. Use floating-point (/) division."
   ]
  },
  {
   "cell_type": "code",
   "execution_count": 5,
   "id": "37cb40eb-2c90-4eba-85b8-9d2fd869de61",
   "metadata": {},
   "outputs": [
    {
     "name": "stdout",
     "output_type": "stream",
     "text": [
      "24.0\n"
     ]
    }
   ],
   "source": [
    "print(seconds_per_day/seconds_per_hour)"
   ]
  },
  {
   "cell_type": "code",
   "execution_count": null,
   "id": "f3912f06-a964-4cdf-a5bb-f97f3efdc0f5",
   "metadata": {},
   "outputs": [],
   "source": [
    "6. Divide seconds_per_day by seconds_per_hour, using integer (//) division. Did this number agree\n",
    "with the floating-point value from the previous question, aside from the final .0?"
   ]
  },
  {
   "cell_type": "code",
   "execution_count": 7,
   "id": "2cdb57bf-eb06-4621-a4f9-afb21c981ff5",
   "metadata": {},
   "outputs": [
    {
     "name": "stdout",
     "output_type": "stream",
     "text": [
      "24 : yes this values agree with the floating point value from the previous question\n"
     ]
    }
   ],
   "source": [
    "print(seconds_per_day//seconds_per_hour, \": yes this values agree with the floating point value from the previous question\")"
   ]
  },
  {
   "cell_type": "code",
   "execution_count": null,
   "id": "62a3c645-17ab-41fc-b14b-399db404f41e",
   "metadata": {},
   "outputs": [],
   "source": [
    "7. Write a generator, genPrimes, that returns the sequence of prime numbers on successive calls to\n",
    "its next() method: 2, 3, 5, 7, 11, ..."
   ]
  },
  {
   "cell_type": "code",
   "execution_count": null,
   "id": "8fec87e2-54d7-4a72-a74c-c809822d6605",
   "metadata": {},
   "outputs": [],
   "source": []
  }
 ],
 "metadata": {
  "kernelspec": {
   "display_name": "Python 3 (ipykernel)",
   "language": "python",
   "name": "python3"
  },
  "language_info": {
   "codemirror_mode": {
    "name": "ipython",
    "version": 3
   },
   "file_extension": ".py",
   "mimetype": "text/x-python",
   "name": "python",
   "nbconvert_exporter": "python",
   "pygments_lexer": "ipython3",
   "version": "3.10.6"
  }
 },
 "nbformat": 4,
 "nbformat_minor": 5
}
