{
 "cells": [
  {
   "cell_type": "code",
   "execution_count": null,
   "id": "061b1c62-fcd3-4c27-91de-8c7442526c1d",
   "metadata": {},
   "outputs": [],
   "source": [
    "1.Write a function that stutters a word as if someone is struggling to read it. \n",
    "The first two letters are repeated twice with an ellipsis ... and space after each, \n",
    "and then the word is pronounced with a question mark ?\n",
    "Examples: stutter(\"incredible\") ➞ \"in... in... incredible?\"\n",
    "stutter(\"enthusiastic\") ➞ \"en... en... enthusiastic?\"\n",
    "stutter(\"outstanding\") ➞ \"ou... ou... outstanding?\"\n",
    "\n",
    "Hint :- Assume all input is in lower case and at least two characters long."
   ]
  },
  {
   "cell_type": "code",
   "execution_count": 11,
   "id": "d4cddcdf-b76b-4eaa-8eb1-491aaedf9786",
   "metadata": {},
   "outputs": [
    {
     "name": "stdin",
     "output_type": "stream",
     "text": [
      "Enter a word: incredible\n"
     ]
    },
    {
     "name": "stdout",
     "output_type": "stream",
     "text": [
      "incredible ➞ in... in... incredible?\n"
     ]
    },
    {
     "name": "stdin",
     "output_type": "stream",
     "text": [
      "Enter a word: enthusiastic\n"
     ]
    },
    {
     "name": "stdout",
     "output_type": "stream",
     "text": [
      "enthusiastic ➞ en... en... enthusiastic?\n"
     ]
    },
    {
     "name": "stdin",
     "output_type": "stream",
     "text": [
      "Enter a word: outstanding\n"
     ]
    },
    {
     "name": "stdout",
     "output_type": "stream",
     "text": [
      "outstanding ➞ ou... ou... outstanding?\n"
     ]
    }
   ],
   "source": [
    "def stutter():\n",
    "    a=input('Enter a word:')\n",
    "    result=a.replace(a[0:2],((a[0:2]+'... ')*2)+a[0:2])\n",
    "    print(f\"{a} ➞ {result}?\")\n",
    "\n",
    "for i in range(3):\n",
    "    stutter()    "
   ]
  },
  {
   "cell_type": "code",
   "execution_count": null,
   "id": "e847bed5-bca3-422a-b6d5-f5e2e1b8d520",
   "metadata": {},
   "outputs": [],
   "source": [
    "2.Create a function that takes an angle in radians and returns the corresponding angle in degrees rounded to one decimal place ?\n",
    "Examples: radians_to_degrees(1) ➞ 57.3\n",
    "radians_to_degrees(20) ➞ 1145.9\n",
    "radians_to_degrees(50) ➞ 2864.8"
   ]
  },
  {
   "cell_type": "code",
   "execution_count": 1,
   "id": "51367db6-0673-478c-8de3-f39b210489b5",
   "metadata": {},
   "outputs": [
    {
     "name": "stdin",
     "output_type": "stream",
     "text": [
      "Enter the angle in Radians:  20\n"
     ]
    },
    {
     "name": "stdout",
     "output_type": "stream",
     "text": [
      "20 radian(s) ➞ 1145.9 degrees\n"
     ]
    }
   ],
   "source": [
    "import math\n",
    "def Degree():\n",
    "    num = int(input('Enter the angle in Radians: '))\n",
    "    result = (180/math.pi)*num\n",
    "    print(f'{num} radian(s) ➞ {result:.1f} degrees')\n",
    "Degree()"
   ]
  },
  {
   "cell_type": "code",
   "execution_count": null,
   "id": "56fdffa5-9a33-43ef-a441-4926903de547",
   "metadata": {},
   "outputs": [],
   "source": [
    "3.In this challenge, establish if a given integer num is a Curzon number. \n",
    "If 1 plus 2 elevated to num is exactly divisible by 1 plus 2 multiplied by num, then num is a Curzon number. \n",
    "Given a non-negative integer num, implement a function that returns True if num is a Curzon number, or False otherwise.\n",
    "Examples: \n",
    "is_curzon(5) ➞ True # 2 ** 5 + 1 = 33 # 2 * 5 + 1 = 11 # 33 is a multiple of 11 \n",
    "is_curzon(10) ➞ False # 2 ** 10 + 1 = 1025 # 2 * 10 + 1 = 21 # 1025 is not a multiple of 21 \n",
    "is_curzon(14) ➞ True # 2 ** 14 + 1 = 16385 # 2 * 14 + 1 = 29 # 16385 is a multiple of 29"
   ]
  },
  {
   "cell_type": "code",
   "execution_count": 3,
   "id": "b85d1941-6da0-4b0f-b33a-e3a2df07c74c",
   "metadata": {},
   "outputs": [
    {
     "name": "stdin",
     "output_type": "stream",
     "text": [
      "Enter a number:  5\n"
     ]
    },
    {
     "name": "stdout",
     "output_type": "stream",
     "text": [
      "5 is a Curzon Number\n"
     ]
    }
   ],
   "source": [
    "def curzon_num():\n",
    "    num = int(input(\"Enter a number: \"))\n",
    "    if (pow(2,num)+1)%((2*num)+1) == 0:\n",
    "        print(f'{num} is a Curzon Number')\n",
    "    else:\n",
    "        print(f'{num} is Not a Curzon Number')\n",
    "\n",
    "curzon_num()"
   ]
  },
  {
   "cell_type": "code",
   "execution_count": null,
   "id": "8ef2b533-7a8e-4771-9817-45f8d4c2d3ec",
   "metadata": {},
   "outputs": [],
   "source": [
    "4.Given the side length x find the area of a hexagon ?\n",
    "Examples: area_of_hexagon(1) ➞ 2.6\n",
    "area_of_hexagon(2) ➞ 10.4\n",
    "area_of_hexagon(3) ➞ 23.4"
   ]
  },
  {
   "cell_type": "code",
   "execution_count": 4,
   "id": "71cfee96-ad12-4279-9950-db3eb6065c5c",
   "metadata": {},
   "outputs": [
    {
     "name": "stdin",
     "output_type": "stream",
     "text": [
      "Enter side length:  3\n"
     ]
    },
    {
     "name": "stdout",
     "output_type": "stream",
     "text": [
      "Area of Hexagon of sidelength 3 ➞ 23.4\n"
     ]
    }
   ],
   "source": [
    "def area_hexagon():\n",
    "    num = int(input(\"Enter side length: \"))\n",
    "    result = ((3*math.sqrt(3))/2)*(pow(num,2))\n",
    "    print(f'Area of Hexagon of sidelength {num} ➞ {result:.1f}')\n",
    "area_hexagon()"
   ]
  },
  {
   "cell_type": "code",
   "execution_count": null,
   "id": "b5de9dd2-5ab9-4c25-a7f9-1ad96aaffa6d",
   "metadata": {},
   "outputs": [],
   "source": [
    "5.Create a function that returns a base-2 (binary) representation of a base-10 (decimal) string number. To convert is simple:\n",
    "((2) means base-2 and (10) means base-10)\n",
    "010101001(2) = 1 + 8 + 32 + 128.\n",
    "Going from right to left, the value of the most right bit is 1, now from that every bit to the left will be x2 the value, value of an 8 bit binary numbers are (256, 128, 64, 32, 16, 8, 4, 2, 1).\n",
    "Examples:\n",
    "binary(1) ➞ \"1\" # 1* 1 = 1 binary(5) ➞ \"101\" # 1 1 + 1 4 = 5 binary(10) ➞ \"1010\" # 1 2 + 1 8 = 10"
   ]
  },
  {
   "cell_type": "code",
   "execution_count": 6,
   "id": "96876699-a91b-4a1e-88dc-e8df8a732a24",
   "metadata": {},
   "outputs": [
    {
     "name": "stdin",
     "output_type": "stream",
     "text": [
      "Enter a Number:  10\n"
     ]
    },
    {
     "name": "stdout",
     "output_type": "stream",
     "text": [
      "Binary of 10 ➞ 1010\n"
     ]
    }
   ],
   "source": [
    "def Binary():\n",
    "    num = int(input(\"Enter a Number: \"))\n",
    "    result = bin(num).replace('0b','') #If we print a binary number, Python uses the prefix '0b' to indicate that it's a number in the binary system and not in the decimal system like normal integers. print(bin(42)) # 0b101010.\n",
    "    print(f'Binary of {num} ➞ {result}')\n",
    "Binary()"
   ]
  },
  {
   "cell_type": "code",
   "execution_count": null,
   "id": "816004b7-53c4-433c-8035-fdf02c6c85e3",
   "metadata": {},
   "outputs": [],
   "source": []
  }
 ],
 "metadata": {
  "kernelspec": {
   "display_name": "Python 3 (ipykernel)",
   "language": "python",
   "name": "python3"
  },
  "language_info": {
   "codemirror_mode": {
    "name": "ipython",
    "version": 3
   },
   "file_extension": ".py",
   "mimetype": "text/x-python",
   "name": "python",
   "nbconvert_exporter": "python",
   "pygments_lexer": "ipython3",
   "version": "3.10.6"
  }
 },
 "nbformat": 4,
 "nbformat_minor": 5
}
