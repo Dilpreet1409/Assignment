{
 "cells": [
  {
   "cell_type": "code",
   "execution_count": null,
   "id": "12913f0b-9337-4d44-a0f5-6e7c4bc2d1ad",
   "metadata": {},
   "outputs": [],
   "source": [
    "1. Write a Python Program to Add Two Matrices?\n"
   ]
  },
  {
   "cell_type": "code",
   "execution_count": 2,
   "id": "9d35f25a-3bc5-4901-a86b-4fff689b4e07",
   "metadata": {},
   "outputs": [
    {
     "name": "stdout",
     "output_type": "stream",
     "text": [
      "[4, 8, 12]\n",
      "[4, 4, 4]\n",
      "[4, 8, 12]\n"
     ]
    }
   ],
   "source": [
    "X = [[2,4,6],\n",
    "    [2 ,2,2],\n",
    "    [2 ,4,6]]\n",
    " \n",
    "Y = [[2,4,6],\n",
    "    [2,2,2],\n",
    "    [2,4,6]]\n",
    "\n",
    "result = [[0,0,0],\n",
    "        [0,0,0],\n",
    "        [0,0,0]]\n",
    " \n",
    "for i in range(len(X)): # iterate through rows\n",
    "    for j in range(len(X[0])): #iterate through columns\n",
    "        result[i][j] = X[i][j] + Y[i][j]\n",
    " \n",
    "for r in result:\n",
    "    print(r)"
   ]
  },
  {
   "cell_type": "code",
   "execution_count": null,
   "id": "8263deef-b437-4a04-9f26-26ec4c57ad73",
   "metadata": {},
   "outputs": [],
   "source": [
    "2. Write a Python Program to Multiply Two Matrices?\n"
   ]
  },
  {
   "cell_type": "code",
   "execution_count": 8,
   "id": "32122f56-52c9-42a1-9be6-56dc3b212c69",
   "metadata": {},
   "outputs": [
    {
     "name": "stdout",
     "output_type": "stream",
     "text": [
      "[[24 40 56]\n",
      " [12 20 28]\n",
      " [24 40 56]]\n"
     ]
    }
   ],
   "source": [
    "X = [[2,4,6],\n",
    "    [2 ,2,2],\n",
    "    [2 ,4,6]]\n",
    " \n",
    "Y = [[2,4,6],\n",
    "    [2,2,2],\n",
    "    [2,4,6]]\n",
    "\n",
    "result = [[0,0,0],\n",
    "        [0,0,0],\n",
    "        [0,0,0]]\n",
    "\n",
    "import numpy as np\n",
    "\n",
    "result = np.dot(X,Y)\n",
    "print(result)"
   ]
  },
  {
   "cell_type": "code",
   "execution_count": 9,
   "id": "0764830b-fb71-4ca2-8016-793c959e5483",
   "metadata": {},
   "outputs": [
    {
     "name": "stdout",
     "output_type": "stream",
     "text": [
      "[24, 40, 56]\n",
      "[12, 20, 28]\n",
      "[24, 40, 56]\n"
     ]
    }
   ],
   "source": [
    "X = [[2,4,6],\n",
    "    [2 ,2,2],\n",
    "    [2 ,4,6]]\n",
    " \n",
    "Y = [[2,4,6],\n",
    "    [2,2,2],\n",
    "    [2,4,6]]\n",
    "\n",
    "result = [[0,0,0],\n",
    "        [0,0,0],\n",
    "        [0,0,0]]\n",
    " \n",
    "for i in range(len(X)): #iterating by row of X\n",
    "    \n",
    "    for j in range(len(X[0])): #iterating by column of Y\n",
    "        \n",
    "        for u in range(len(Y)):#iterating by row of Y\n",
    "            \n",
    "            result[i][j]+= X[i][u] * Y[u][j]\n",
    " \n",
    "for r in result:\n",
    "    print(r)"
   ]
  },
  {
   "cell_type": "code",
   "execution_count": null,
   "id": "2c7ba554-6501-4b38-8067-e8a75b29c4c5",
   "metadata": {},
   "outputs": [],
   "source": [
    "3. Write a Python Program to Transpose a Matrix?\n"
   ]
  },
  {
   "cell_type": "code",
   "execution_count": 17,
   "id": "3feda613-906c-4194-92fb-3b33e21c56a5",
   "metadata": {},
   "outputs": [
    {
     "name": "stdout",
     "output_type": "stream",
     "text": [
      "[1, 2, 3]\n",
      "[1, 2, 3]\n",
      "[1, 2, 3]\n"
     ]
    }
   ],
   "source": [
    "A = [ [1, 1, 1],\n",
    " [2, 2, 2],\n",
    " [3, 3, 3]]\n",
    "\n",
    "B= [[0,0,0],\n",
    "    [0,0,0],\n",
    "    [0,0,0]]\n",
    "N=3 \n",
    "for i in range(N):\n",
    "      for j in range(N):\n",
    "           B[i][j] = A[j][i]\n",
    "for b in B:\n",
    "    print(b)\n",
    " "
   ]
  },
  {
   "cell_type": "code",
   "execution_count": null,
   "id": "669f7ac1-f6b2-4120-bd34-8e2b3e389059",
   "metadata": {},
   "outputs": [],
   "source": [
    "4. Write a Python Program to Sort Words in Alphabetic Order?\n"
   ]
  },
  {
   "cell_type": "code",
   "execution_count": 26,
   "id": "f9027f36-b87e-41e7-88d2-7d60a539158e",
   "metadata": {},
   "outputs": [
    {
     "name": "stdin",
     "output_type": "stream",
     "text": [
      "enter a word: Dilpreet\n"
     ]
    },
    {
     "name": "stdout",
     "output_type": "stream",
     "text": [
      "['D', 'e', 'e', 'i', 'l', 'p', 'r', 't']\n",
      "Deeilprt\n"
     ]
    }
   ],
   "source": [
    "x=input(\"enter a word:\")\n",
    "print(sorted(x))\n",
    "print(\"\".join(sorted(x)))"
   ]
  },
  {
   "cell_type": "code",
   "execution_count": null,
   "id": "b746d0cb-beb0-45b9-a214-bc144449e810",
   "metadata": {},
   "outputs": [],
   "source": [
    "5. Write a Python Program to Remove Punctuation From a String?"
   ]
  },
  {
   "cell_type": "code",
   "execution_count": null,
   "id": "115182e0-2dc1-40fc-970c-fa4a2155903f",
   "metadata": {},
   "outputs": [],
   "source": [
    "import string\n",
    "\n",
    "a=str(input(\"ENTER THE STRING\"))\n",
    "\n",
    "for char in string.punctuation:\n",
    "    a = a.replace(char, ' ')\n",
    "\n",
    "print(a)\n"
   ]
  },
  {
   "cell_type": "code",
   "execution_count": null,
   "id": "f762f1f7-f3cf-4954-8e58-84d50e0dacdd",
   "metadata": {},
   "outputs": [],
   "source": [
    ";"
   ]
  }
 ],
 "metadata": {
  "kernelspec": {
   "display_name": "Python 3 (ipykernel)",
   "language": "python",
   "name": "python3"
  },
  "language_info": {
   "codemirror_mode": {
    "name": "ipython",
    "version": 3
   },
   "file_extension": ".py",
   "mimetype": "text/x-python",
   "name": "python",
   "nbconvert_exporter": "python",
   "pygments_lexer": "ipython3",
   "version": "3.10.6"
  }
 },
 "nbformat": 4,
 "nbformat_minor": 5
}
