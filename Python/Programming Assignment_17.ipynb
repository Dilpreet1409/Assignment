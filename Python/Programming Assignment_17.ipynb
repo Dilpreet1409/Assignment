{
 "cells": [
  {
   "cell_type": "code",
   "execution_count": null,
   "id": "7dff4f93-82c1-477e-8d09-b1bf95de0a15",
   "metadata": {},
   "outputs": [],
   "source": [
    "1.Create a function that takes three arguments a, b, c and returns the sum of the numbers that are evenly divided by c \n",
    "from the range a, b inclusive ?\n",
    "Examples:\n",
    "evenly_divisible(1, 10, 20) ➞ 0 # No number between 1 and 10 can be evenly divided by 20. \n",
    "evenly_divisible(1, 10, 2) ➞ 30 # 2 + 4 + 6 + 8 + 10 = 30 \n",
    "evenly_divisible(1, 10, 3) ➞ 18 # 3 + 6 + 9 = 18"
   ]
  },
  {
   "cell_type": "code",
   "execution_count": 6,
   "id": "ae82acdd-e430-4268-93c1-bacbc4a2e454",
   "metadata": {},
   "outputs": [
    {
     "name": "stdout",
     "output_type": "stream",
     "text": [
      "(1, 10, 2) ➞ 30\n",
      "(1, 10, 3) ➞ 18\n"
     ]
    }
   ],
   "source": [
    "def evenly_divisible(a,b,c):\n",
    "    div = []\n",
    "    for num in range(a,b+1):\n",
    "        if num%c == 0:\n",
    "            div.append(num)\n",
    "    print(f'{a,b,c} ➞ {sum(div)}')\n",
    "evenly_divisible(1,10,2)\n",
    "evenly_divisible(1, 10, 3) "
   ]
  },
  {
   "cell_type": "code",
   "execution_count": null,
   "id": "8d0d8630-8feb-4915-b993-4df11fb85223",
   "metadata": {},
   "outputs": [],
   "source": [
    "2.Create a function that returns True if a given inequality expression is correct and False otherwise ?\n",
    "Examples:\n",
    "correct_signs(\"3 < 7 < 11\") ➞ True\n",
    "correct_signs(\"13 > 44 > 33 > 1\") ➞ False\n",
    "correct_signs(\"1 < 2 < 6 < 9 > 3\") ➞ True"
   ]
  },
  {
   "cell_type": "code",
   "execution_count": 10,
   "id": "9f2e06ca-8dd3-4599-acf1-b464721c3df3",
   "metadata": {},
   "outputs": [
    {
     "name": "stdin",
     "output_type": "stream",
     "text": [
      "Enter the inequality:  13 > 44 > 33 > 1\n"
     ]
    },
    {
     "name": "stdout",
     "output_type": "stream",
     "text": [
      "13 > 44 > 33 > 1 ➞ False\n"
     ]
    }
   ],
   "source": [
    "def correct_signs():\n",
    "    a = input('Enter the inequality: ')\n",
    "    result = eval(a)\n",
    "    print(f'{a} ➞ {result}')\n",
    "correct_signs()\n"
   ]
  },
  {
   "cell_type": "code",
   "execution_count": null,
   "id": "7c135234-4dd6-4b6d-bf87-eee98b9694e5",
   "metadata": {},
   "outputs": [],
   "source": [
    "3.Create a function that replaces all the vowels in a string with a specified character ?\n",
    "Examples:\n",
    "replace_vowels(\"the aardvark\", \"#\") ➞ \"th# ##rdv#rk\"\n",
    "replace_vowels(\"minnie mouse\", \"?\") ➞ \"m?nn?? m??s?\"\n",
    "replace_vowels(\"shakespeare\", \"*\") ➞ \"shksp**r\""
   ]
  },
  {
   "cell_type": "code",
   "execution_count": 3,
   "id": "24a203b3-bd7f-417b-8243-6980c09a8d6b",
   "metadata": {},
   "outputs": [
    {
     "name": "stdin",
     "output_type": "stream",
     "text": [
      "String:  the aardvark\n",
      "Replacement character:  #\n"
     ]
    },
    {
     "name": "stdout",
     "output_type": "stream",
     "text": [
      "the aardvark , # ➞ th# ##rdv#rk\n"
     ]
    }
   ],
   "source": [
    "def replace_vowels():\n",
    "    vowels = ['a','e','i','o','u','A','E','I','O','U']\n",
    "    a= input(\"String: \")\n",
    "    b = a\n",
    "    c = input('Replacement character: ')\n",
    "    for i in a:\n",
    "        if i in vowels:\n",
    "            a = a.replace(i,c)\n",
    "    print(f'{b} , {c} ➞ {a}')\n",
    "replace_vowels()"
   ]
  },
  {
   "cell_type": "code",
   "execution_count": null,
   "id": "0b319462-6889-4447-8cc9-ab104abd9f57",
   "metadata": {},
   "outputs": [],
   "source": [
    "4.Write a function that calculates the factorial of a number recursively ?\n",
    "Examples:\n",
    "factorial(5) ➞ 120\n",
    "factorial(3) ➞ 6\n",
    "factorial(1) ➞ 1\n",
    "factorial(0) ➞ 1"
   ]
  },
  {
   "cell_type": "code",
   "execution_count": 6,
   "id": "47c01f9b-5129-4f4c-9406-964c40fd83bf",
   "metadata": {},
   "outputs": [
    {
     "name": "stdout",
     "output_type": "stream",
     "text": [
      "120\n",
      "6\n",
      "1\n",
      "1\n"
     ]
    }
   ],
   "source": [
    "def factorial(n):\n",
    "    if n==0:\n",
    "        return 1\n",
    "    else:\n",
    "        return n*factorial(n-1)\n",
    "    \n",
    "print(factorial(5))\n",
    "print(factorial(3))\n",
    "print(factorial(1))\n",
    "print(factorial(0))"
   ]
  },
  {
   "cell_type": "code",
   "execution_count": null,
   "id": "8713a781-4bcb-4c75-aea9-3a84de005072",
   "metadata": {},
   "outputs": [],
   "source": [
    "5.Hamming distance is the number of characters that differ between two strings ?\n",
    "To illustrate:\n",
    "String1: \"abcbba\"\n",
    "String2: \"abcbda\"\n",
    "Hamming Distance: 1 - \"b\" vs. \"d\" is the only difference.\n",
    "Create a function that computes the hamming distance between two strings.\n",
    "Examples:\n",
    "hamming_distance(\"abcde\", \"bcdef\") ➞ 5\n",
    "hamming_distance(\"abcde\", \"abcde\") ➞ 0\n",
    "hamming_distance(\"strong\", \"strung\") ➞ 1"
   ]
  },
  {
   "cell_type": "code",
   "execution_count": 8,
   "id": "4345636a-8e92-41ae-93a1-b0fdd28e1e9f",
   "metadata": {},
   "outputs": [
    {
     "name": "stdin",
     "output_type": "stream",
     "text": [
      "Enter string 1: bcdef\n",
      "Enter string 2: abcde\n"
     ]
    },
    {
     "name": "stdout",
     "output_type": "stream",
     "text": [
      " Hamming Distance: 5\n"
     ]
    }
   ],
   "source": [
    "def hamming_distance():\n",
    "    a=input('Enter string 1:')\n",
    "    b=input('Enter string 2:')\n",
    "    if len(a)==len(b):\n",
    "        c=0\n",
    "        for i in range(len(a)):\n",
    "             if a[i]!=b[i]:\n",
    "                    c=c+1\n",
    "        print(f' Hamming Distance: {c}')\n",
    "    else:\n",
    "        print(\"Not of same length\")\n",
    "hamming_distance()"
   ]
  },
  {
   "cell_type": "code",
   "execution_count": null,
   "id": "b7d06596-e14b-4309-959d-dea72ba9bef9",
   "metadata": {},
   "outputs": [],
   "source": []
  }
 ],
 "metadata": {
  "kernelspec": {
   "display_name": "Python 3 (ipykernel)",
   "language": "python",
   "name": "python3"
  },
  "language_info": {
   "codemirror_mode": {
    "name": "ipython",
    "version": 3
   },
   "file_extension": ".py",
   "mimetype": "text/x-python",
   "name": "python",
   "nbconvert_exporter": "python",
   "pygments_lexer": "ipython3",
   "version": "3.10.6"
  }
 },
 "nbformat": 4,
 "nbformat_minor": 5
}
