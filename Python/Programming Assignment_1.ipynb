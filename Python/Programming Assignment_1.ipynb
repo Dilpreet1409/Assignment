{
 "cells": [
  {
   "cell_type": "code",
   "execution_count": null,
   "id": "cfe8b06a-0bd2-4f75-bf8a-27124c650cc2",
   "metadata": {},
   "outputs": [],
   "source": [
    "1. Write a Python program to print \"Hello Python\"?\n"
   ]
  },
  {
   "cell_type": "code",
   "execution_count": 1,
   "id": "6e0e9148-5fe0-4bf1-a729-f6c484e9c023",
   "metadata": {},
   "outputs": [
    {
     "name": "stdout",
     "output_type": "stream",
     "text": [
      "Hello World\n"
     ]
    }
   ],
   "source": [
    "print(\"Hello World\")"
   ]
  },
  {
   "cell_type": "code",
   "execution_count": null,
   "id": "ff6cc659-856e-4d90-9f4c-753e288853c3",
   "metadata": {},
   "outputs": [],
   "source": [
    "2. Write a Python program to do arithmetical operations addition and division.?\n"
   ]
  },
  {
   "cell_type": "code",
   "execution_count": 2,
   "id": "e13d1d97-bbe3-406b-b936-038756c702ed",
   "metadata": {},
   "outputs": [
    {
     "name": "stdin",
     "output_type": "stream",
     "text": [
      "Enter a arithmetic operation ->  +\n",
      "Enter 1st Number:  40\n",
      "Enter 2nd Number:  40\n"
     ]
    },
    {
     "name": "stdout",
     "output_type": "stream",
     "text": [
      "80\n"
     ]
    }
   ],
   "source": [
    "operator = input('Enter a arithmetic operation -> ')\n",
    "num_1 = int(input('Enter 1st Number: '))\n",
    "num_2 = int(input('Enter 2nd Number: '))\n",
    "if operator == '+':\n",
    "    res=num_1+num_2\n",
    "else:\n",
    "    res= num_1/num_2\n",
    "print(res)"
   ]
  },
  {
   "cell_type": "code",
   "execution_count": null,
   "id": "37459785-a334-42c7-b3a4-6af8c12b02dc",
   "metadata": {},
   "outputs": [],
   "source": [
    "3. Write a Python program to find the area of a triangle?\n"
   ]
  },
  {
   "cell_type": "code",
   "execution_count": 3,
   "id": "f497cdf0-324b-46a2-9e38-808725c84b55",
   "metadata": {},
   "outputs": [
    {
     "name": "stdin",
     "output_type": "stream",
     "text": [
      "Enter height of triangle:  10\n",
      "Enter base of triangle:  5\n"
     ]
    },
    {
     "name": "stdout",
     "output_type": "stream",
     "text": [
      "25.0\n"
     ]
    }
   ],
   "source": [
    "h = int(input(\"Enter height of triangle: \"))\n",
    "b = int(input('Enter base of triangle: '))\n",
    "Area = 0.5*h*b\n",
    "print(Area)\n"
   ]
  },
  {
   "cell_type": "code",
   "execution_count": null,
   "id": "63cceb61-dd60-4eef-9f63-b6879fa36725",
   "metadata": {},
   "outputs": [],
   "source": [
    "4. Write a Python program to swap two variables?\n"
   ]
  },
  {
   "cell_type": "code",
   "execution_count": 2,
   "id": "e931da90-5847-4a91-93f0-8614f046d085",
   "metadata": {},
   "outputs": [
    {
     "name": "stdin",
     "output_type": "stream",
     "text": [
      "Enter First Number:  9\n",
      "Enter Second Number:  8\n"
     ]
    },
    {
     "name": "stdout",
     "output_type": "stream",
     "text": [
      "First Number:  8 Second Number:  9\n"
     ]
    }
   ],
   "source": [
    "a = int(input(\"Enter First Number: \"))\n",
    "b = int(input(\"Enter Second Number: \"))\n",
    "temp=a\n",
    "a=b\n",
    "b=temp\n",
    "\n",
    "print('First Number: ',a,'Second Number: ',b)"
   ]
  },
  {
   "cell_type": "code",
   "execution_count": null,
   "id": "ae834109-e7c0-4fc9-9fa7-a094f0d5c3fc",
   "metadata": {},
   "outputs": [],
   "source": [
    "\n",
    "5. Write a Python program to generate a random number?"
   ]
  },
  {
   "cell_type": "code",
   "execution_count": 10,
   "id": "e7759e70-3160-4146-8fc5-0c21f5c56eea",
   "metadata": {},
   "outputs": [
    {
     "name": "stdout",
     "output_type": "stream",
     "text": [
      "78\n"
     ]
    }
   ],
   "source": [
    "import random\n",
    "a=random.randint(0,100)\n",
    "print(a)"
   ]
  }
 ],
 "metadata": {
  "kernelspec": {
   "display_name": "Python 3 (ipykernel)",
   "language": "python",
   "name": "python3"
  },
  "language_info": {
   "codemirror_mode": {
    "name": "ipython",
    "version": 3
   },
   "file_extension": ".py",
   "mimetype": "text/x-python",
   "name": "python",
   "nbconvert_exporter": "python",
   "pygments_lexer": "ipython3",
   "version": "3.10.6"
  }
 },
 "nbformat": 4,
 "nbformat_minor": 5
}
