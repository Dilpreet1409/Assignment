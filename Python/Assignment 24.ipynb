{
 "cells": [
  {
   "cell_type": "code",
   "execution_count": null,
   "id": "e72b1c6c-9ea9-4993-96c3-ac003f0b1dca",
   "metadata": {},
   "outputs": [],
   "source": [
    "1. What is the relationship between def statements and lambda expressions ?"
   ]
  },
  {
   "cell_type": "code",
   "execution_count": null,
   "id": "d9d07cc1-29ec-4c17-b2e9-4e663c98f1b4",
   "metadata": {},
   "outputs": [],
   "source": [
    "def statement is used to create a normal function. where as lamba expressions are used to create Anonymous functions\n",
    "Lambdas body is a single expression and not a block of statements like def statement. "
   ]
  },
  {
   "cell_type": "code",
   "execution_count": null,
   "id": "0c752237-f148-4a1c-8fbd-a7e7540dc5c9",
   "metadata": {},
   "outputs": [],
   "source": [
    "2. What is the benefit of lambda?"
   ]
  },
  {
   "cell_type": "code",
   "execution_count": null,
   "id": "c6d7f04b-ea17-4a6c-96c2-2ae4205e573f",
   "metadata": {},
   "outputs": [],
   "source": [
    "Can be used to create Nameless/Anonymous functions inside some complex functions if we are planning to use it only once.\n",
    "Moderate to small functions can be created in a single line\n",
    "Fuctions created using lambda expressions can be assigned to a variable and can be used by simply calling the variable"
   ]
  },
  {
   "cell_type": "code",
   "execution_count": null,
   "id": "af3f5599-cf6f-4b70-8701-c765c949c31e",
   "metadata": {},
   "outputs": [],
   "source": [
    "3. Compare and contrast map, filter, and reduce."
   ]
  },
  {
   "cell_type": "code",
   "execution_count": null,
   "id": "b1f4d32b-b6f2-46ec-880f-ae79e5a67be0",
   "metadata": {},
   "outputs": [],
   "source": [
    "'''MAP'''\n",
    "Being a higher-order function, the map function takes another function and an iterable (e.g., a list, set, tuple) as input, \n",
    "applies the function to the iterable, and returns an output. It’s syntax is defined as follows:\n",
    "map(function, iterable)"
   ]
  },
  {
   "cell_type": "code",
   "execution_count": null,
   "id": "fd24ddcb-1c9f-47fb-8fc6-9804345b1672",
   "metadata": {},
   "outputs": [],
   "source": [
    "'''FILTER'''\n",
    "The filter() higher-order function takes a function and an iterable as inputs. \n",
    "The function in case needs to be of a Boolean nature, returning True/False values corresponding to the filter conditions. \n",
    "As output, it returns a subset of the input data that meets the conditions stipulated by the function."
   ]
  },
  {
   "cell_type": "code",
   "execution_count": null,
   "id": "9951559f-0158-42b4-b5b0-31a65da40cf9",
   "metadata": {},
   "outputs": [],
   "source": [
    "'''REDUCE'''\n",
    "reduce() must be imported from functools to work properly. \n",
    "It returns a single value (i.e., it reduces the input to a single element). "
   ]
  },
  {
   "cell_type": "code",
   "execution_count": 2,
   "id": "ebc8073f-f866-4b69-b0c2-5f0f292aadf9",
   "metadata": {},
   "outputs": [
    {
     "name": "stdout",
     "output_type": "stream",
     "text": [
      "Map: [2, 4, 6, 8]\n",
      "Filter: [1, 3]\n",
      "Reduce: 21\n"
     ]
    }
   ],
   "source": [
    "from functools import reduce\n",
    "# map function\n",
    "print('Map:',list(map(lambda x:x+x, [1,2,3,4])))\n",
    "# fitler function\n",
    "print('Filter:',list(filter(lambda x:x%2 !=0, [1,2,3,4])))\n",
    "# reduce function\n",
    "print('Reduce:',reduce(lambda x,y:x+y, [1,2,3,4,5,6]))"
   ]
  },
  {
   "cell_type": "code",
   "execution_count": null,
   "id": "5bd329ef-16e5-4ee4-9530-2b3e036691cb",
   "metadata": {},
   "outputs": [],
   "source": [
    "4. What are function annotations, and how are they used?"
   ]
  },
  {
   "cell_type": "code",
   "execution_count": null,
   "id": "4474ad88-8b0b-47f9-86ba-14098fe2b768",
   "metadata": {},
   "outputs": [],
   "source": [
    " Function annotations provide a way of associating various parts of a function with arbitrary pythoncexpressions at compile time.\n",
    "Annotations of simple parameters def func(x: expression, y: expression = 20):\n",
    "Whereas the annotations for excess parameters are as − def func (**args: expression, **kwargs: expression):"
   ]
  },
  {
   "cell_type": "code",
   "execution_count": null,
   "id": "910b18df-ea45-44e6-9411-5b77b3084345",
   "metadata": {},
   "outputs": [],
   "source": [
    "5. What are recursive functions, and how are they used?"
   ]
  },
  {
   "cell_type": "code",
   "execution_count": null,
   "id": "2333e65e-4c62-4f65-8ca3-1945835a9ae2",
   "metadata": {},
   "outputs": [],
   "source": [
    "Recursive functions are functions that calls itself."
   ]
  },
  {
   "cell_type": "code",
   "execution_count": 1,
   "id": "094a3545-b699-4d6b-aa24-8717895bd3a5",
   "metadata": {},
   "outputs": [
    {
     "name": "stdout",
     "output_type": "stream",
     "text": [
      "The factorial of 3 is 6\n"
     ]
    }
   ],
   "source": [
    "def factorial(x):\n",
    "    \"\"\"This is a recursive function\n",
    "    to find the factorial of an integer\"\"\"\n",
    "\n",
    "    if x == 1:\n",
    "        return 1\n",
    "    else:\n",
    "        return (x * factorial(x-1))\n",
    "\n",
    "\n",
    "num = 3\n",
    "print(\"The factorial of\", num, \"is\", factorial(num))"
   ]
  },
  {
   "cell_type": "code",
   "execution_count": null,
   "id": "c962d4de-170d-466d-8c7b-04dc6ca316b6",
   "metadata": {},
   "outputs": [],
   "source": [
    "6. What are some general design guidelines for coding functions?"
   ]
  },
  {
   "cell_type": "code",
   "execution_count": null,
   "id": "60c5a989-5ac5-4885-a993-d07e0d9244e3",
   "metadata": {},
   "outputs": [],
   "source": [
    "Some of the general design guidelines for coding functions are:\n",
    "\n",
    "Always use a docstring to explain the functionality of the function\n",
    "Define a function with the def keyword, then write the function identifier (name) followed by parentheses and a colon\n",
    "Use the return keyword to exit a function so it goes back to where it was called.\n",
    "Proper Identation to increase the code readability\n",
    "Avoid using digits while choosing a variable name\n",
    "Try to use a name for the function which conveys the purpose of the function"
   ]
  },
  {
   "cell_type": "code",
   "execution_count": null,
   "id": "3bd727ef-a602-40c0-ad51-633e714d9d63",
   "metadata": {},
   "outputs": [],
   "source": [
    "7. Name three or more ways that functions can communicate results to a caller."
   ]
  },
  {
   "cell_type": "code",
   "execution_count": null,
   "id": "e700f9a3-18b8-4969-86a1-d655f927743a",
   "metadata": {},
   "outputs": [],
   "source": [
    "print\n",
    "return\n",
    "yield"
   ]
  }
 ],
 "metadata": {
  "kernelspec": {
   "display_name": "Python 3 (ipykernel)",
   "language": "python",
   "name": "python3"
  },
  "language_info": {
   "codemirror_mode": {
    "name": "ipython",
    "version": 3
   },
   "file_extension": ".py",
   "mimetype": "text/x-python",
   "name": "python",
   "nbconvert_exporter": "python",
   "pygments_lexer": "ipython3",
   "version": "3.10.6"
  }
 },
 "nbformat": 4,
 "nbformat_minor": 5
}
