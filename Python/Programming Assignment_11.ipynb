{
 "cells": [
  {
   "cell_type": "code",
   "execution_count": null,
   "id": "f5406028-6190-4df7-9221-37bc4cb79223",
   "metadata": {},
   "outputs": [],
   "source": [
    "1. Write a Python program to find words which are greater than given length k?\n"
   ]
  },
  {
   "cell_type": "code",
   "execution_count": 14,
   "id": "e95fe304-4e20-4134-bfac-b00f6a80ab52",
   "metadata": {},
   "outputs": [
    {
     "name": "stdin",
     "output_type": "stream",
     "text": [
      "Enter the length: 4\n",
      "Enter a word: hi my name is dilpreet\n"
     ]
    },
    {
     "name": "stdout",
     "output_type": "stream",
     "text": [
      "['dilpreet']\n"
     ]
    }
   ],
   "source": [
    "k=int(input(\"Enter the length:\"))\n",
    "sentence=input(\"Enter a word:\")\n",
    "word=sentence.split(\" \")\n",
    "new=[]\n",
    "for i in word:\n",
    "    if len(i)>k:\n",
    "        new.append(i)\n",
    "        \n",
    "print(new)"
   ]
  },
  {
   "cell_type": "code",
   "execution_count": null,
   "id": "c6af7a84-6106-44ce-9a19-b98f1e12c9eb",
   "metadata": {},
   "outputs": [],
   "source": [
    "2. Write a Python program for removing i-th character from a string?\n"
   ]
  },
  {
   "cell_type": "code",
   "execution_count": 36,
   "id": "71da65e2-05b1-4e2d-a20b-f129e819d542",
   "metadata": {},
   "outputs": [
    {
     "name": "stdin",
     "output_type": "stream",
     "text": [
      "Enter a string: gangan\n",
      "Enter the i th position: 3\n"
     ]
    },
    {
     "name": "stdout",
     "output_type": "stream",
     "text": [
      "gagan\n"
     ]
    }
   ],
   "source": [
    "s=input(\"Enter a string:\")\n",
    "i=int(input('Enter the i th position:'))\n",
    "result = \"\" \n",
    "  \n",
    "for j in range(0, len(s)): \n",
    "    if j != i-1: \n",
    "        result = result + s[j] \n",
    "print(result)"
   ]
  },
  {
   "cell_type": "code",
   "execution_count": null,
   "id": "dcb56ac5-b9d1-4c53-a62f-8479cf47dd0c",
   "metadata": {},
   "outputs": [],
   "source": [
    "3. Write a Python program to split and join a string?\n"
   ]
  },
  {
   "cell_type": "code",
   "execution_count": 1,
   "id": "69b37b8f-f8ba-4998-b666-094bbf456c90",
   "metadata": {},
   "outputs": [
    {
     "name": "stdin",
     "output_type": "stream",
     "text": [
      "Enter a string: i am dilpreet kaur\n"
     ]
    },
    {
     "name": "stdout",
     "output_type": "stream",
     "text": [
      "['i', 'am', 'dilpreet', 'kaur']\n",
      "i-am-dilpreet-kaur\n"
     ]
    }
   ],
   "source": [
    "s =input(\"Enter a string:\")\n",
    "print(s.split(\" \"))\n",
    "print(\"-\".join(s.split()))"
   ]
  },
  {
   "cell_type": "code",
   "execution_count": null,
   "id": "eaeb8eeb-ab8e-471e-a391-a1364549d3f2",
   "metadata": {},
   "outputs": [],
   "source": [
    "4. Write a Python to check if a given string is binary string or not?\n"
   ]
  },
  {
   "cell_type": "code",
   "execution_count": 7,
   "id": "45a57249-5f74-4d0f-8ae1-1f0f7577e925",
   "metadata": {},
   "outputs": [
    {
     "name": "stdin",
     "output_type": "stream",
     "text": [
      "Enter a string: 010101\n"
     ]
    },
    {
     "name": "stdout",
     "output_type": "stream",
     "text": [
      "{'1', '0'}\n",
      "Yes\n"
     ]
    }
   ],
   "source": [
    "string =input(\"Enter a string:\")\n",
    "c=set(string)\n",
    "print(c)\n",
    "s = {'0', '1'}\n",
    "if s == c or c == {'0'} or c== {'1'}:\n",
    "        print(\"Yes\")\n",
    "else:\n",
    "        print(\"No\")\n",
    " "
   ]
  },
  {
   "cell_type": "code",
   "execution_count": null,
   "id": "31c544dc-55f0-45e6-822d-11ec47c07308",
   "metadata": {},
   "outputs": [],
   "source": [
    "5. Write a Python program to find uncommon words from two Strings?\n"
   ]
  },
  {
   "cell_type": "code",
   "execution_count": 11,
   "id": "4af38b52-9aa9-4d5e-9af9-4724e116b989",
   "metadata": {},
   "outputs": [
    {
     "name": "stdin",
     "output_type": "stream",
     "text": [
      "Enter a string: dilpreet vartika aparna mahima anushka\n",
      "Enter a string: divyanhsi sanjana shreya mahima anushka\n"
     ]
    },
    {
     "name": "stdout",
     "output_type": "stream",
     "text": [
      "['dilpreet', 'vartika', 'aparna', 'divyanhsi', 'sanjana', 'shreya']\n"
     ]
    }
   ],
   "source": [
    "#A word is uncommon only if it appears exactly once in any one of the given strings, and does not appear in the other string.\n",
    "A=input(\"Enter a string:\")\n",
    "B=input(\"Enter a string:\")\n",
    "count = {}\n",
    "for word in A.split():\n",
    "    count[word] = count.get(word, 0) + 1\n",
    "for word in B.split():\n",
    "    count[word] = count.get(word, 0) + 1\n",
    "result=[word for word in count if count[word] == 1]\n",
    "print(result)"
   ]
  },
  {
   "cell_type": "code",
   "execution_count": null,
   "id": "fe31b61c-c84d-487d-a22c-e4f9c9b65ddc",
   "metadata": {},
   "outputs": [],
   "source": [
    "6. Write a Python to find all duplicate characters in string?\n"
   ]
  },
  {
   "cell_type": "code",
   "execution_count": 24,
   "id": "c02f551c-d177-4b93-abb5-d760923ae694",
   "metadata": {},
   "outputs": [
    {
     "name": "stdin",
     "output_type": "stream",
     "text": [
      "Enter a string: dilpreet\n"
     ]
    },
    {
     "name": "stdout",
     "output_type": "stream",
     "text": [
      "['e']\n"
     ]
    }
   ],
   "source": [
    "A=input(\"Enter a string:\")\n",
    "count={}\n",
    "for i in A:\n",
    "    if i not in count:\n",
    "        count[i]=1\n",
    "    else:\n",
    "        count[i]=count[i]+1\n",
    "l=[]\n",
    "result=[ l.append(j) for j,count in count.items() if count>1]\n",
    "print(l)"
   ]
  },
  {
   "cell_type": "code",
   "execution_count": null,
   "id": "54f1ffdd-e4ee-4647-86e3-89db8ed4d3d7",
   "metadata": {},
   "outputs": [],
   "source": [
    "7. Write a Python Program to check if a string contains any special character?"
   ]
  },
  {
   "cell_type": "code",
   "execution_count": 2,
   "id": "3d0e2067-321f-49e5-99b7-fcd87188e826",
   "metadata": {},
   "outputs": [
    {
     "name": "stdin",
     "output_type": "stream",
     "text": [
      "enter a string: python has/ multiple;-libraries\n"
     ]
    },
    {
     "name": "stdout",
     "output_type": "stream",
     "text": [
      "String contains special character /\n"
     ]
    }
   ],
   "source": [
    "import string\n",
    " \n",
    "def check(s):\n",
    "    for c in s:\n",
    "        if c in string.punctuation:\n",
    "            print(\"String contains special character\",c)\n",
    "            return\n",
    "    print(\"String does not contain specail character\",c )\n",
    "\n",
    "s=input(\"enter a string:\")\n",
    "check(s)"
   ]
  },
  {
   "cell_type": "code",
   "execution_count": null,
   "id": "f5aa4af4-19c0-46ae-9a44-af3613a1c340",
   "metadata": {},
   "outputs": [],
   "source": []
  }
 ],
 "metadata": {
  "kernelspec": {
   "display_name": "Python 3 (ipykernel)",
   "language": "python",
   "name": "python3"
  },
  "language_info": {
   "codemirror_mode": {
    "name": "ipython",
    "version": 3
   },
   "file_extension": ".py",
   "mimetype": "text/x-python",
   "name": "python",
   "nbconvert_exporter": "python",
   "pygments_lexer": "ipython3",
   "version": "3.10.6"
  }
 },
 "nbformat": 4,
 "nbformat_minor": 5
}
