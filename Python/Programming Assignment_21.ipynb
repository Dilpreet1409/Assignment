{
 "cells": [
  {
   "cell_type": "code",
   "execution_count": null,
   "id": "604037ae-dece-45f5-9251-6759627ec4a9",
   "metadata": {},
   "outputs": [],
   "source": [
    "1.Write a function that takes a list and a number as arguments.\n",
    "Add the number to the end of the list, then remove the first element of the list.\n",
    "The function should then return the updated list.\n",
    "Examples:\n",
    "next_in_line([5, 6, 7, 8, 9], 1) ➞ [6, 7, 8, 9, 1]\n",
    "next_in_line([7, 6, 3, 23, 17], 10) ➞ [6, 3, 23, 17, 10]\n",
    "next_in_line([1, 10, 20, 42 ], 6) ➞ [10, 20, 42, 6]\n",
    "next_in_line([], 6) ➞ \"No list has been selected\""
   ]
  },
  {
   "cell_type": "code",
   "execution_count": 2,
   "id": "26d67135-9dc0-43d7-b7dd-9ee1bf6ff2ee",
   "metadata": {},
   "outputs": [
    {
     "name": "stdout",
     "output_type": "stream",
     "text": [
      "[6, 7, 8, 9, 1]\n",
      "[6, 3, 23, 17, 10]\n",
      "[10, 20, 42, 6]\n",
      "No list has been selected\n"
     ]
    }
   ],
   "source": [
    "def next_in_line(l,num):\n",
    "    if len(l)>1:\n",
    "        l.append(num)\n",
    "        l.remove(l[0])\n",
    "        print(l)\n",
    "    else:\n",
    "        print(\"No list has been selected\")\n",
    "next_in_line([5, 6, 7, 8, 9], 1) \n",
    "next_in_line([7, 6, 3, 23, 17], 10) \n",
    "next_in_line([1, 10, 20, 42 ], 6) \n",
    "next_in_line([], 6) "
   ]
  },
  {
   "cell_type": "code",
   "execution_count": null,
   "id": "e0bdffc9-3415-43dd-b940-4679b8fc3bd4",
   "metadata": {},
   "outputs": [],
   "source": [
    ".Create the function that takes a list of dictionaries and returns the sum of people's budgets.\n",
    "Examples:\n",
    "get_budgets([ { \"name\": \"John\", \"age\": 21, \"budget\": 23000 }, { \"name\": \"Steve\", \"age\": 32, \"budget\": 40000 }, { \"name\": \"Martin\", \"age\": 16, \"budget\": 2700 } ]) ➞ 65700\n",
    "\n",
    "get_budgets([ { \"name\": \"John\", \"age\": 21, \"budget\": 29000 }, { \"name\": \"Steve\", \"age\": 32, \"budget\": 32000 }, { \"name\": \"Martin\", \"age\": 16, \"budget\": 1600 } ]) ➞ 62600"
   ]
  },
  {
   "cell_type": "code",
   "execution_count": 5,
   "id": "3fd7d795-6e87-4b1e-bff9-088415588354",
   "metadata": {},
   "outputs": [
    {
     "name": "stdout",
     "output_type": "stream",
     "text": [
      "65700\n",
      "62600\n"
     ]
    }
   ],
   "source": [
    "def get_budgets(dic):\n",
    "    s=0\n",
    "    for i in dic:\n",
    "        s=s+i['budget']\n",
    "    print(s)\n",
    "    \n",
    "get_budgets([ { \"name\": \"John\", \"age\": 21, \"budget\": 23000 }, { \"name\": \"Steve\", \"age\": 32, \"budget\": 40000 }, { \"name\": \"Martin\", \"age\": 16, \"budget\": 2700 } ]) \n",
    "\n",
    "get_budgets([ { \"name\": \"John\", \"age\": 21, \"budget\": 29000 }, { \"name\": \"Steve\", \"age\": 32, \"budget\": 32000 }, { \"name\": \"Martin\", \"age\": 16, \"budget\": 1600 } ])"
   ]
  },
  {
   "cell_type": "code",
   "execution_count": null,
   "id": "05e48c98-3516-4290-8c17-e368786ba12e",
   "metadata": {},
   "outputs": [],
   "source": [
    "3.Create a function that takes a string and returns a string with its letters in alphabetical order.\n",
    "Examples:\n",
    "alphabet_soup(\"hello\") ➞ \"ehllo\"\n",
    "alphabet_soup(\"edabit\") ➞ \"abdeit\"\n",
    "alphabet_soup(\"hacker\") ➞ \"acehkr\"\n",
    "alphabet_soup(\"geek\") ➞ \"eegk\"\n",
    "alphabet_soup(\"javascript\") ➞ \"aacijprstv\""
   ]
  },
  {
   "cell_type": "code",
   "execution_count": 8,
   "id": "49b78b5b-1a3d-412a-9794-97c1c1f0e21c",
   "metadata": {},
   "outputs": [
    {
     "name": "stdout",
     "output_type": "stream",
     "text": [
      "ehllo\n",
      "abdeit\n",
      "acehkr\n",
      "eegk\n",
      "aacijprstv\n"
     ]
    }
   ],
   "source": [
    "def alphabet_soup(a):\n",
    "    result = ''.join(sorted(a))\n",
    "    print(result)\n",
    "\n",
    "alphabet_soup(\"hello\")\n",
    "alphabet_soup(\"edabit\")\n",
    "alphabet_soup(\"hacker\")\n",
    "alphabet_soup(\"geek\")\n",
    "alphabet_soup(\"javascript\")"
   ]
  },
  {
   "cell_type": "code",
   "execution_count": null,
   "id": "da4a3cc1-3be8-4e3e-852d-8da92e10207c",
   "metadata": {},
   "outputs": [],
   "source": [
    "4.What will be the value of your investment at the end of the 10 year period?\n",
    "Create a function that accepts the principal p, the term in years t, the interest rate r, and the number of compounding periods per year n. The function returns the value at the end of term rounded to the nearest cent.\n",
    "\n",
    "For the example above:\n",
    "compound_interest(10000, 10, 0.06, 12) ➞ 18193.97\n",
    "Note that the interest rate is given as a decimal and n=12 because with monthly compounding there are 12 periods per year. Compounding can also be done annually, quarterly, weekly, or daily.\n",
    "\n",
    "Examples:\n",
    "compound_interest(100, 1, 0.05, 1) ➞ 105.0\n",
    "compound_interest(3500, 15, 0.1, 4) ➞ 15399.26\n",
    "compound_interest(100000, 20, 0.15, 365) ➞ 2007316.26"
   ]
  },
  {
   "cell_type": "code",
   "execution_count": 10,
   "id": "23d1ac4e-727a-451c-98dc-145e184ffcda",
   "metadata": {},
   "outputs": [
    {
     "name": "stdout",
     "output_type": "stream",
     "text": [
      "105.00\n",
      "15399.26\n",
      "2007316.26\n"
     ]
    }
   ],
   "source": [
    "def compound_interest(principal,years,roi,cp):\n",
    "    ci = principal*(1+(roi/cp))**(cp*years)\n",
    "    print(f'{ci:.2f}')\n",
    "\n",
    "compound_interest(100, 1, 0.05, 1)\n",
    "compound_interest(3500, 15, 0.1, 4)\n",
    "compound_interest(100000, 20, 0.15, 365)"
   ]
  },
  {
   "cell_type": "code",
   "execution_count": null,
   "id": "4af926f2-ce8d-4efe-9e05-76f2368563db",
   "metadata": {},
   "outputs": [],
   "source": [
    "5.Write a function that takes a list of elements and returns only the integers.\n",
    "Examples:\n",
    "return_only_integer([9, 2, \"space\", \"car\", \"lion\", 16]) ➞ [9, 2, 16]\n",
    "return_only_integer([\"hello\", 81, \"basketball\", 123, \"fox\"]) ➞ [81, 123]\n",
    "return_only_integer([10, \"121\", 56, 20, \"car\", 3, \"lion\"]) ➞ [10, 56, 20,3]\n",
    "return_only_integer([\"String\", True, 3.3, 1]) ➞ [1]"
   ]
  },
  {
   "cell_type": "code",
   "execution_count": 11,
   "id": "87dd8ac1-6602-462e-85f8-9f5b543af0bb",
   "metadata": {},
   "outputs": [
    {
     "name": "stdout",
     "output_type": "stream",
     "text": [
      "[9, 2, 16]\n",
      "[81, 123]\n",
      "[10, 56, 20, 3]\n",
      "[1]\n"
     ]
    }
   ],
   "source": [
    "def return_only_integer(l):\n",
    "    result = []\n",
    "    for i in l:\n",
    "        if type(i) == int:\n",
    "            result.append(i)\n",
    "    print(f'{result}')\n",
    "    \n",
    "return_only_integer([9, 2, \"space\", \"car\", \"lion\", 16])\n",
    "return_only_integer([\"hello\", 81, \"basketball\", 123, \"fox\"])\n",
    "return_only_integer([10, \"121\", 56, 20, \"car\", 3, \"lion\"]) \n",
    "return_only_integer([\"String\", True, 3.3, 1])"
   ]
  },
  {
   "cell_type": "code",
   "execution_count": null,
   "id": "d8c052cc-4009-49e6-b148-71a5bbb30b41",
   "metadata": {},
   "outputs": [],
   "source": []
  }
 ],
 "metadata": {
  "kernelspec": {
   "display_name": "Python 3 (ipykernel)",
   "language": "python",
   "name": "python3"
  },
  "language_info": {
   "codemirror_mode": {
    "name": "ipython",
    "version": 3
   },
   "file_extension": ".py",
   "mimetype": "text/x-python",
   "name": "python",
   "nbconvert_exporter": "python",
   "pygments_lexer": "ipython3",
   "version": "3.10.6"
  }
 },
 "nbformat": 4,
 "nbformat_minor": 5
}
