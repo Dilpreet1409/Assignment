{
 "cells": [
  {
   "cell_type": "code",
   "execution_count": null,
   "id": "0dd821d3-bd90-4105-a1ab-931e3dd44773",
   "metadata": {},
   "outputs": [],
   "source": [
    "1. Create an assert statement that throws an AssertionError if the variable spam is a negative\n",
    "integer.\n"
   ]
  },
  {
   "cell_type": "code",
   "execution_count": 7,
   "id": "e4f7ea99-f516-46df-b55a-95fe4a96bdfd",
   "metadata": {},
   "outputs": [
    {
     "ename": "AssertionError",
     "evalue": "SPAM variable is negative integer",
     "output_type": "error",
     "traceback": [
      "\u001b[0;31m---------------------------------------------------------------------------\u001b[0m",
      "\u001b[0;31mAssertionError\u001b[0m                            Traceback (most recent call last)",
      "Cell \u001b[0;32mIn [7], line 2\u001b[0m\n\u001b[1;32m      1\u001b[0m SPAM \u001b[38;5;241m=\u001b[39m \u001b[38;5;241m-\u001b[39m\u001b[38;5;241m5\u001b[39m\n\u001b[0;32m----> 2\u001b[0m \u001b[38;5;28;01massert\u001b[39;00m SPAM \u001b[38;5;241m>\u001b[39m \u001b[38;5;241m0\u001b[39m, \u001b[38;5;124m\"\u001b[39m\u001b[38;5;124mSPAM variable is negative integer\u001b[39m\u001b[38;5;124m\"\u001b[39m\n\u001b[1;32m      3\u001b[0m \u001b[38;5;28mprint\u001b[39m(SPAM)\n",
      "\u001b[0;31mAssertionError\u001b[0m: SPAM variable is negative integer"
     ]
    }
   ],
   "source": [
    "SPAM = -5\n",
    "assert SPAM > 0, \"SPAM variable is negative integer\"\n",
    "print(SPAM)"
   ]
  },
  {
   "cell_type": "code",
   "execution_count": null,
   "id": "81a37b6e-6b44-4e2b-96e0-fef850669fce",
   "metadata": {},
   "outputs": [],
   "source": [
    "2. Write an assert statement that triggers an AssertionError if the variables eggs and bacon contain\n",
    "strings that are the same as each other, even if their cases are different (that is, \"hello\" and \"hello\" are\n",
    "considered the same, and \"goodbye\" and \"GOODbye\" are also considered the same)."
   ]
  },
  {
   "cell_type": "code",
   "execution_count": 8,
   "id": "05afea0f-f7c9-4007-8534-cb9e1491da4a",
   "metadata": {},
   "outputs": [
    {
     "name": "stdin",
     "output_type": "stream",
     "text": [
      "Enter the string: goodbye\n",
      "Enter the strings: GOODbye\n"
     ]
    },
    {
     "ename": "AssertionError",
     "evalue": "The eggs and bacon variables are the same!",
     "output_type": "error",
     "traceback": [
      "\u001b[0;31m---------------------------------------------------------------------------\u001b[0m",
      "\u001b[0;31mAssertionError\u001b[0m                            Traceback (most recent call last)",
      "Cell \u001b[0;32mIn [8], line 4\u001b[0m\n\u001b[1;32m      1\u001b[0m eggs\u001b[38;5;241m=\u001b[39m\u001b[38;5;28minput\u001b[39m(\u001b[38;5;124m\"\u001b[39m\u001b[38;5;124mEnter the string:\u001b[39m\u001b[38;5;124m\"\u001b[39m)\n\u001b[1;32m      2\u001b[0m bacon\u001b[38;5;241m=\u001b[39m\u001b[38;5;28minput\u001b[39m(\u001b[38;5;124m\"\u001b[39m\u001b[38;5;124mEnter the strings:\u001b[39m\u001b[38;5;124m\"\u001b[39m)\n\u001b[0;32m----> 4\u001b[0m \u001b[38;5;28;01massert\u001b[39;00m eggs\u001b[38;5;241m.\u001b[39mlower()\u001b[38;5;241m!=\u001b[39mbacon\u001b[38;5;241m.\u001b[39mlower(),\u001b[38;5;124m\"\u001b[39m\u001b[38;5;124mThe eggs and bacon variables are the same!\u001b[39m\u001b[38;5;124m\"\u001b[39m\n",
      "\u001b[0;31mAssertionError\u001b[0m: The eggs and bacon variables are the same!"
     ]
    }
   ],
   "source": [
    "eggs=input(\"Enter the string:\")\n",
    "bacon=input(\"Enter the strings:\")\n",
    "\n",
    "assert eggs.lower()!=bacon.lower(),\"The eggs and bacon variables are the same!\""
   ]
  },
  {
   "cell_type": "code",
   "execution_count": null,
   "id": "b98f908d-d43a-4cd2-9221-25dcdcd672e6",
   "metadata": {},
   "outputs": [],
   "source": [
    "3. Create an assert statement that throws an AssertionError every time."
   ]
  },
  {
   "cell_type": "code",
   "execution_count": 10,
   "id": "dca1f29d-df07-46b5-8976-fb0e04d744d4",
   "metadata": {},
   "outputs": [
    {
     "ename": "AssertionError",
     "evalue": "throws an AssertionError every time",
     "output_type": "error",
     "traceback": [
      "\u001b[0;31m---------------------------------------------------------------------------\u001b[0m",
      "\u001b[0;31mAssertionError\u001b[0m                            Traceback (most recent call last)",
      "Cell \u001b[0;32mIn [10], line 1\u001b[0m\n\u001b[0;32m----> 1\u001b[0m \u001b[38;5;28;01massert\u001b[39;00m \u001b[38;5;28;01mFalse\u001b[39;00m, \u001b[38;5;124m'\u001b[39m\u001b[38;5;124mthrows an AssertionError every time\u001b[39m\u001b[38;5;124m'\u001b[39m\n",
      "\u001b[0;31mAssertionError\u001b[0m: throws an AssertionError every time"
     ]
    }
   ],
   "source": [
    "assert False, 'throws an AssertionError every time'"
   ]
  },
  {
   "cell_type": "code",
   "execution_count": null,
   "id": "90a12995-99a9-4a52-b7f4-6e594004c8d3",
   "metadata": {},
   "outputs": [],
   "source": [
    "4. What are the two lines that must be present in your software in order to call logging.debug()?"
   ]
  },
  {
   "cell_type": "code",
   "execution_count": null,
   "id": "93cc2d00-673e-4d7d-a7eb-733167e3fcb2",
   "metadata": {},
   "outputs": [],
   "source": [
    "import logging \n",
    "logging.basicConfig(level=logging.DEBUG"
   ]
  },
  {
   "cell_type": "code",
   "execution_count": null,
   "id": "2325f131-2caa-42e4-9feb-d8497dda0d50",
   "metadata": {},
   "outputs": [],
   "source": [
    "5. What are the two lines that your program must have in order to have logging.debug() send a\n",
    "logging message to a file named programLog.txt?"
   ]
  },
  {
   "cell_type": "code",
   "execution_count": null,
   "id": "aceafecf-ba0c-49e0-a002-9275f01fc717",
   "metadata": {},
   "outputs": [],
   "source": [
    "import logging\n",
    "logging.basicConfig(filename='programLog.txt', level=logging.DEBUG,\n",
    "format=' %(asctime)s -  %(levelname)s -  %(message)s')"
   ]
  },
  {
   "cell_type": "code",
   "execution_count": null,
   "id": "d340ab9b-bb79-4c2d-9cdf-b13523b0dd3e",
   "metadata": {},
   "outputs": [],
   "source": [
    "6. What are the five levels of logging?"
   ]
  },
  {
   "cell_type": "code",
   "execution_count": null,
   "id": "efd7dc83-3d20-410b-a137-0e2eb9db2a31",
   "metadata": {},
   "outputs": [],
   "source": [
    "DEBUG\n",
    "INFO\n",
    "WARNING \n",
    "ERROR\n",
    "CRITICAL"
   ]
  },
  {
   "cell_type": "code",
   "execution_count": null,
   "id": "4fa7bc87-d8a1-4ea2-be1b-b1b3f7ed84b7",
   "metadata": {},
   "outputs": [],
   "source": [
    "7. What line of code would you add to your software to disable all logging messages?"
   ]
  },
  {
   "cell_type": "code",
   "execution_count": null,
   "id": "82480b77-ec8e-4852-8127-62bdd39a91a1",
   "metadata": {},
   "outputs": [],
   "source": [
    "logging.disable(logging.CRITICAL)"
   ]
  },
  {
   "cell_type": "code",
   "execution_count": null,
   "id": "50391e95-8438-4480-b818-069aa27d13cf",
   "metadata": {},
   "outputs": [],
   "source": [
    "8.Why is using logging messages better than using print() to display the same message?"
   ]
  },
  {
   "cell_type": "code",
   "execution_count": null,
   "id": "9984e221-0b81-4744-984c-1bcd1382d765",
   "metadata": {},
   "outputs": [],
   "source": [
    "logging the ability to format the messages based on our needs\n",
    "logging package has a lot of useful features:\n",
    "1.Easy to see where and when (even what line no.) a logging call is being made from.\n",
    "2.we can log to files, sockets, pretty much anything, all at the same time.\n",
    "3.we can differentiate your logging based on severity"
   ]
  },
  {
   "cell_type": "code",
   "execution_count": null,
   "id": "47eb4e4a-1185-4ed6-8c20-f9c53ed55a88",
   "metadata": {},
   "outputs": [],
   "source": [
    "9. What are the differences between the Step Over, Step In, and Step Out buttons in the debugger?"
   ]
  },
  {
   "cell_type": "code",
   "execution_count": null,
   "id": "2b7f0f30-0bc5-4818-a704-9e6ad06a3783",
   "metadata": {},
   "outputs": [],
   "source": [
    "Step In button will move the debugger into a function call.\n",
    "Step Over button will quickly execute the function call without stepping into it.\n",
    "Step Out button will quickly execute the rest of the code until it steps out of the function it currently is in."
   ]
  },
  {
   "cell_type": "code",
   "execution_count": null,
   "id": "50088a8d-d4de-4af7-b03f-1f7863e2e630",
   "metadata": {},
   "outputs": [],
   "source": [
    "10.After you click Continue, when will the debugger stop ?"
   ]
  },
  {
   "cell_type": "code",
   "execution_count": null,
   "id": "4655da0f-db92-40f4-9e2e-9c8ff542b67c",
   "metadata": {},
   "outputs": [],
   "source": [
    "the debugger will stop when it has reached the end of the program"
   ]
  },
  {
   "cell_type": "code",
   "execution_count": null,
   "id": "403b277f-0ac5-4961-a6cb-accce05fd3ad",
   "metadata": {},
   "outputs": [],
   "source": [
    "11. What is the concept of a breakpoint?"
   ]
  },
  {
   "cell_type": "code",
   "execution_count": null,
   "id": "09f9d225-1d53-490d-b445-7105b6d0ff5b",
   "metadata": {},
   "outputs": [],
   "source": []
  }
 ],
 "metadata": {
  "kernelspec": {
   "display_name": "Python 3 (ipykernel)",
   "language": "python",
   "name": "python3"
  },
  "language_info": {
   "codemirror_mode": {
    "name": "ipython",
    "version": 3
   },
   "file_extension": ".py",
   "mimetype": "text/x-python",
   "name": "python",
   "nbconvert_exporter": "python",
   "pygments_lexer": "ipython3",
   "version": "3.10.6"
  }
 },
 "nbformat": 4,
 "nbformat_minor": 5
}
