{
 "cells": [
  {
   "cell_type": "code",
   "execution_count": null,
   "id": "89175071-b1bb-494a-81e9-3a8a7f566e8c",
   "metadata": {},
   "outputs": [],
   "source": [
    "1. Write a Python Program to find sum of array?"
   ]
  },
  {
   "cell_type": "code",
   "execution_count": 20,
   "id": "cf623af9-843c-4cd0-9860-d7e5e5c53d04",
   "metadata": {},
   "outputs": [
    {
     "name": "stdin",
     "output_type": "stream",
     "text": [
      "Enter the length of array: 5\n",
      "Enter the next value: 1\n",
      "Enter the next value: 2\n",
      "Enter the next value: 3\n",
      "Enter the next value: 4\n",
      "Enter the next value: 5\n"
     ]
    },
    {
     "name": "stdout",
     "output_type": "stream",
     "text": [
      "15\n"
     ]
    }
   ],
   "source": [
    "from array import *\n",
    "arr=array('i',[])\n",
    "n=int(input(\"Enter the length of array:\"))\n",
    "sum=0\n",
    "for i in range(n):\n",
    "    x=int(input(\"Enter the next value:\"))\n",
    "    arr.append(x)\n",
    "    sum=sum+arr[i]\n",
    "print(sum)\n"
   ]
  },
  {
   "cell_type": "code",
   "execution_count": null,
   "id": "e8408b38-42b2-4769-bd9a-155a264b2c5c",
   "metadata": {},
   "outputs": [],
   "source": [
    "2. Write a Python Program to find largest element in an array?\n"
   ]
  },
  {
   "cell_type": "code",
   "execution_count": 30,
   "id": "b333522d-e1cf-4019-8d28-34451bc081a2",
   "metadata": {},
   "outputs": [
    {
     "name": "stdin",
     "output_type": "stream",
     "text": [
      "Enter the length of array: 5\n",
      "Enter the next value: 1\n",
      "Enter the next value: 3\n",
      "Enter the next value: 4\n",
      "Enter the next value: 5\n",
      "Enter the next value: 7\n"
     ]
    },
    {
     "name": "stdout",
     "output_type": "stream",
     "text": [
      "7\n"
     ]
    }
   ],
   "source": [
    "from array import *\n",
    "arr=array('i',[])\n",
    "n=int(input(\"Enter the length of array:\"))\n",
    "for i in range(n):\n",
    "    x=int(input(\"Enter the next value:\"))\n",
    "    arr.append(x)\n",
    "print(max(arr))\n",
    "    "
   ]
  },
  {
   "cell_type": "code",
   "execution_count": null,
   "id": "aaf0ecb9-c157-432a-a4c7-1c704bf83602",
   "metadata": {},
   "outputs": [],
   "source": [
    "3. Write a Python Program for array rotation?"
   ]
  },
  {
   "cell_type": "code",
   "execution_count": 36,
   "id": "2bba3a50-ba89-47bb-a8f5-2ed4cc20f263",
   "metadata": {},
   "outputs": [
    {
     "name": "stdout",
     "output_type": "stream",
     "text": [
      "Array after left rotation is:  [3, 4, 5, 6, 7, 1, 2]\n"
     ]
    }
   ],
   "source": [
    "def arotate(arr,n,d):  \n",
    "    temp = []\n",
    "    i = 0\n",
    "    while (i < d):\n",
    "        temp.append(arr[i])\n",
    "        i = i + 1\n",
    "    i = 0\n",
    "    while (d < n):\n",
    "        arr[i] = arr[d]\n",
    "        i = i + 1\n",
    "        d = d + 1\n",
    "    arr= arr[:i] + temp\n",
    "    return arr\n",
    " \n",
    "arr= [1, 2, 3, 4, 5, 6, 7]\n",
    "print(\"Array after left rotation is: \", end=' ')\n",
    "print(arotate(arr, len(arr), 2))\n",
    "        "
   ]
  },
  {
   "cell_type": "code",
   "execution_count": null,
   "id": "c15c31d2-2a61-44ff-87f4-769cdda1abf4",
   "metadata": {},
   "outputs": [],
   "source": [
    "4. Write a Python Program to Split the array and add the first part to the end?\n"
   ]
  },
  {
   "cell_type": "code",
   "execution_count": 6,
   "id": "9c0babeb-49f1-4ad2-b502-e3e917e60212",
   "metadata": {},
   "outputs": [
    {
     "name": "stdin",
     "output_type": "stream",
     "text": [
      "Enter the length of array: 6\n",
      "Split Position: 2\n",
      "Enter the next value: 12\n",
      "Enter the next value: 11\n",
      "Enter the next value: 10\n",
      "Enter the next value: 9\n",
      "Enter the next value: 8\n",
      "Enter the next value: 7\n"
     ]
    },
    {
     "name": "stdout",
     "output_type": "stream",
     "text": [
      "array('i', [10, 9, 8, 7, 12, 11])\n"
     ]
    }
   ],
   "source": [
    "from array import *\n",
    "arr=array('i',[])\n",
    "n=int(input(\"Enter the length of array:\"))\n",
    "position=int(input(\"Split Position:\")) \n",
    "for i in range(n):\n",
    "    x=int(input(\"Enter the next value:\"))\n",
    "    arr.append(x)\n",
    "    x = arr[:position]\n",
    "    y = arr[position:]\n",
    "    y.extend(x)\n",
    "print(y)"
   ]
  },
  {
   "cell_type": "code",
   "execution_count": null,
   "id": "fc491e32-c173-4c54-99ea-259b93ccdaa0",
   "metadata": {},
   "outputs": [],
   "source": [
    "5. Write a Python Program to check if given array is Monotonic?"
   ]
  },
  {
   "cell_type": "code",
   "execution_count": 18,
   "id": "586feb83-5e8b-4c16-94c8-d84454cca63b",
   "metadata": {},
   "outputs": [
    {
     "name": "stdout",
     "output_type": "stream",
     "text": [
      "[6, 5, 4, 4]\n",
      "[4, 4, 5, 6]\n",
      "[6, 5, 4, 4]\n",
      "True\n"
     ]
    }
   ],
   "source": [
    "'''An array is monotonic if it is either monotone increasing or monotone decreasing. An array A is monotone increasing if for all i <= j, A[i] <= A[j]. \n",
    "An array A is monotone decreasing if for all i <= j, A[i] >= A[j].'''\n",
    "\n",
    "def Monotonic(A):\n",
    "    a,b=[],[]\n",
    "    print(A)\n",
    "    a.extend(A)\n",
    "    b.extend(A)\n",
    "    a.sort()\n",
    "    print(a)\n",
    "    b.sort(reverse=True)\n",
    "    print(b)\n",
    "    if(a == A or b == A):\n",
    "        return True\n",
    "    return False\n",
    "A=[6,5,4,4]\n",
    "print(Monotonic(A))"
   ]
  },
  {
   "cell_type": "code",
   "execution_count": null,
   "id": "044bbc4b-c611-4641-8cd5-095a85c36f83",
   "metadata": {},
   "outputs": [],
   "source": []
  }
 ],
 "metadata": {
  "kernelspec": {
   "display_name": "Python 3 (ipykernel)",
   "language": "python",
   "name": "python3"
  },
  "language_info": {
   "codemirror_mode": {
    "name": "ipython",
    "version": 3
   },
   "file_extension": ".py",
   "mimetype": "text/x-python",
   "name": "python",
   "nbconvert_exporter": "python",
   "pygments_lexer": "ipython3",
   "version": "3.10.6"
  }
 },
 "nbformat": 4,
 "nbformat_minor": 5
}
