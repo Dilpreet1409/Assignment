{
 "cells": [
  {
   "cell_type": "code",
   "execution_count": null,
   "id": "d2b519fa-eb70-45c9-b2be-088b94f0141c",
   "metadata": {},
   "outputs": [],
   "source": [
    "1. Please write a program using generator to print the numbers which can be divisible by 5 and 7 between 0 and n in comma separated form while n is input by console ?\n",
    "Example:\n",
    "If the following n is given as input to the program: 100\n",
    "Then, the output of the program should be: 0,35,70"
   ]
  },
  {
   "cell_type": "code",
   "execution_count": 11,
   "id": "16463701-11f0-43ee-b3f3-a291a155daa1",
   "metadata": {},
   "outputs": [
    {
     "name": "stdout",
     "output_type": "stream",
     "text": [
      "0 35 70 "
     ]
    }
   ],
   "source": [
    "def Divisible(n):\n",
    "    for i in range(0,n):\n",
    "        if (i%5 == 0) and (i%7 == 0):\n",
    "            yield i\n",
    "for i in Divisible(100):\n",
    "    print(i,end=' ')"
   ]
  },
  {
   "cell_type": "code",
   "execution_count": null,
   "id": "a5a94e3e-2d19-4c11-a840-520ede651ce1",
   "metadata": {},
   "outputs": [],
   "source": [
    "2.Please write a program using generator to print the even numbers between 0 and n in comma separated form \n",
    "while n is input by console ?\n",
    "Example:\n",
    "If the following n is given as input to the program: 10\n",
    "Then, the output of the program should be: 0,2,4,6,8,10"
   ]
  },
  {
   "cell_type": "code",
   "execution_count": 10,
   "id": "243518af-fe33-4bb4-8ab2-ea4687a6dd39",
   "metadata": {},
   "outputs": [
    {
     "name": "stdout",
     "output_type": "stream",
     "text": [
      "0 2 4 6 8 10 "
     ]
    }
   ],
   "source": [
    "def EvenNumbers(n):\n",
    "    for i in range(n+1):\n",
    "        if i%2 == 0:\n",
    "            yield i\n",
    "\n",
    "for i in EvenNumbers(10):\n",
    "    print(i,end=' ')"
   ]
  },
  {
   "cell_type": "code",
   "execution_count": null,
   "id": "a9c80cc2-2670-438f-be48-f6aa2bf29d07",
   "metadata": {},
   "outputs": [],
   "source": [
    "3.The Fibonacci Sequence is computed based on the following formula below, \n",
    "Please write a program using list comprehension to print the Fibonacci Sequence in comma separated form\n",
    "with a given n input by console ?\n",
    "f(n)=0 if n=0 f(n)=1 if n=1 f(n)=f(n-1)+f(n-2) if n>1"
   ]
  },
  {
   "cell_type": "code",
   "execution_count": 7,
   "id": "4c936efb-cdae-46bb-b0e7-644b1850053c",
   "metadata": {},
   "outputs": [
    {
     "name": "stdout",
     "output_type": "stream",
     "text": [
      "[0, 1, 1, 2, 3, 5, 8, 13, 21, 34, 55, 89, 144, 233, 377]\n"
     ]
    }
   ],
   "source": [
    "def Fibonacci(n):\n",
    "    if n==0:\n",
    "        return 0\n",
    "    elif n==1:\n",
    "        return 1   \n",
    "    else:\n",
    "        return Fibonacci(n-1)+Fibonacci(n-2)\n",
    "    \n",
    "print([Fibonacci(x) for x in range(15)])"
   ]
  },
  {
   "cell_type": "code",
   "execution_count": null,
   "id": "e1fcca46-28ed-49ff-b290-729b925cfc1a",
   "metadata": {},
   "outputs": [],
   "source": [
    "4.Assuming that we have some email addresses in the \"username@companyname.com\" format, \n",
    "please write program to print the user name of a given email address. \n",
    "Both user names and company names are composed of letters only ?\n",
    "Example:\n",
    "If the following email address is given as input to the program: john@google.com\n",
    "Then, the output of the program should be: john"
   ]
  },
  {
   "cell_type": "code",
   "execution_count": 4,
   "id": "a3ba56d5-7eca-4e6b-b8a6-f6926298ee6a",
   "metadata": {},
   "outputs": [
    {
     "name": "stdin",
     "output_type": "stream",
     "text": [
      "Enter Email Address(es):  dolly@accenture.com\n"
     ]
    },
    {
     "name": "stdout",
     "output_type": "stream",
     "text": [
      "['dolly', 'accenture.com']\n",
      "Username of dolly@accenture.com is dolly\n"
     ]
    }
   ],
   "source": [
    "def Usernames():\n",
    "    inp = input('Enter Email Address(es): ')\n",
    "    out = inp.split('@')\n",
    "    print(out)\n",
    "    print(f'Username of {inp} is {out[0]}')\n",
    "Usernames()"
   ]
  },
  {
   "cell_type": "code",
   "execution_count": null,
   "id": "50285f50-bb66-4c7d-8c91-080c84968312",
   "metadata": {},
   "outputs": [],
   "source": [
    "5.Define a class named Shape and its subclass Square. The Square class has an init function which takes a length as argument. \n",
    "Both classes have a area function which can print the area of the shape where Shapes area is 0 by default."
   ]
  },
  {
   "cell_type": "code",
   "execution_count": 1,
   "id": "8b388474-4c5b-4e15-8421-fdab804e3bdb",
   "metadata": {},
   "outputs": [
    {
     "name": "stdout",
     "output_type": "stream",
     "text": [
      "256\n"
     ]
    }
   ],
   "source": [
    "class Shape:\n",
    "    def area(self):\n",
    "        return 0\n",
    "class Square:\n",
    "    def __init__(self,length):\n",
    "        self.length=length\n",
    "        \n",
    "    def area(self):\n",
    "        return self.length*self.length\n",
    "    \n",
    "sq=Square(16)\n",
    "print(sq.area())"
   ]
  }
 ],
 "metadata": {
  "kernelspec": {
   "display_name": "Python 3 (ipykernel)",
   "language": "python",
   "name": "python3"
  },
  "language_info": {
   "codemirror_mode": {
    "name": "ipython",
    "version": 3
   },
   "file_extension": ".py",
   "mimetype": "text/x-python",
   "name": "python",
   "nbconvert_exporter": "python",
   "pygments_lexer": "ipython3",
   "version": "3.10.6"
  }
 },
 "nbformat": 4,
 "nbformat_minor": 5
}
