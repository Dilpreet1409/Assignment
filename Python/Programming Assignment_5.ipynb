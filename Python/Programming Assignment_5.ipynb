{
 "cells": [
  {
   "cell_type": "code",
   "execution_count": null,
   "id": "27cac5b0-4fac-47a5-a266-838d68e7096c",
   "metadata": {},
   "outputs": [],
   "source": [
    "1. Write a Python Program to Find LCM?\n"
   ]
  },
  {
   "cell_type": "code",
   "execution_count": 3,
   "id": "1e719560-5a4b-4d3c-916d-5fa8f0b83616",
   "metadata": {},
   "outputs": [
    {
     "name": "stdout",
     "output_type": "stream",
     "text": [
      "The L.C.M. is 60\n"
     ]
    }
   ],
   "source": [
    "def lcm(a, b):\n",
    "    if a > b:\n",
    "        greater = a\n",
    "    else:\n",
    "        greater = b\n",
    "    while(True):\n",
    "        if((greater % a == 0) and (greater % b == 0)):\n",
    "            lcm = greater\n",
    "            break\n",
    "        greater += 1\n",
    "    return lcm\n",
    "a = 20\n",
    "b = 6\n",
    "\n",
    "print(\"The L.C.M. is\", lcm(a,b))\n"
   ]
  },
  {
   "cell_type": "code",
   "execution_count": null,
   "id": "e2406ab1-2424-4657-b73a-45f9a4cb5bad",
   "metadata": {},
   "outputs": [],
   "source": [
    "2. Write a Python Program to Find HCF?\n"
   ]
  },
  {
   "cell_type": "code",
   "execution_count": 10,
   "id": "b515a938-9210-4e9d-8519-259def050a67",
   "metadata": {},
   "outputs": [
    {
     "name": "stdout",
     "output_type": "stream",
     "text": [
      "The H.C.F. is 6\n"
     ]
    }
   ],
   "source": [
    "def hcf(x, y):\n",
    "    if x > y:\n",
    "        smaller = y\n",
    "    else:\n",
    "        smaller = x\n",
    "    for i in range(1, smaller+1):\n",
    "        if((x % i == 0) and (y % i == 0)):\n",
    "            hcf = i \n",
    "    return hcf\n",
    "\n",
    "x= 54 \n",
    "y= 24\n",
    "\n",
    "print(\"The H.C.F. is\",hcf(x,y))"
   ]
  },
  {
   "cell_type": "code",
   "execution_count": null,
   "id": "010a3f00-58b4-4898-812a-b9abcaf6a5e5",
   "metadata": {},
   "outputs": [],
   "source": [
    "3. Write a Python Program to Convert Decimal to Binary, Octal and Hexadecimal?\n"
   ]
  },
  {
   "cell_type": "code",
   "execution_count": 8,
   "id": "c8119739-27d4-40f1-9c19-a8efa3e37ea1",
   "metadata": {},
   "outputs": [
    {
     "name": "stdin",
     "output_type": "stream",
     "text": [
      " 344\n"
     ]
    },
    {
     "name": "stdout",
     "output_type": "stream",
     "text": [
      "0b101011000 in binary.\n",
      "0o530 in octal.\n",
      "0x158 in hexadecimal.\n"
     ]
    }
   ],
   "source": [
    "NUM=int(input())\n",
    "print(bin(NUM), \"in binary.\")\n",
    "print(oct(NUM), \"in octal.\")\n",
    "print(hex(NUM), \"in hexadecimal.\")\n",
    "\n",
    "'''The decimal system is base 10 (ten symbols, 0-9, are used to represent a number) and similarly, \n",
    "binary is base 2, octal is base 8 and hexadecimal is base 16.\n",
    "\n",
    "A number with the prefix 0b is considered binary, 0o is considered octal and 0x as hexadecimal.\n",
    "\n",
    "Used built-in functions bin(), oct() and hex() to convert the given decimal number into respective number systems.\n",
    "\n",
    "These functions take an integer (in decimal) and return a string.'''"
   ]
  },
  {
   "cell_type": "code",
   "execution_count": null,
   "id": "39f1257e-350c-4032-83ee-810394ade669",
   "metadata": {},
   "outputs": [],
   "source": [
    "4. Write a Python Program To Find ASCII value of a character?"
   ]
  },
  {
   "cell_type": "code",
   "execution_count": 4,
   "id": "bef19f45-aa14-4cfa-b485-67217b366d64",
   "metadata": {},
   "outputs": [
    {
     "name": "stdout",
     "output_type": "stream",
     "text": [
      "Enter a String: \n"
     ]
    },
    {
     "name": "stdin",
     "output_type": "stream",
     "text": [
      " Dilpreet\n"
     ]
    },
    {
     "name": "stdout",
     "output_type": "stream",
     "text": [
      "D 68\n",
      "i 105\n",
      "l 108\n",
      "p 112\n",
      "r 114\n",
      "e 101\n",
      "e 101\n",
      "t 116\n"
     ]
    }
   ],
   "source": [
    "print(\"Enter a String: \")\n",
    "t = input()\n",
    "for char in t:\n",
    "\tascii = ord(char)\n",
    "\tprint(char, ascii)\n"
   ]
  },
  {
   "cell_type": "code",
   "execution_count": null,
   "id": "4edd6e60-b8b6-4bcb-92a4-2ac17f8ef3c8",
   "metadata": {},
   "outputs": [],
   "source": [
    "5. Write a Python Program to Make a Simple Calculator with 4 basic mathematical operations?"
   ]
  },
  {
   "cell_type": "code",
   "execution_count": 1,
   "id": "57e1da34-ce5d-4ceb-9da6-eb54db6b5ae5",
   "metadata": {},
   "outputs": [
    {
     "name": "stdin",
     "output_type": "stream",
     "text": [
      " /\n",
      "Enter a number:  199\n",
      "Enter another number:  3\n"
     ]
    },
    {
     "name": "stdout",
     "output_type": "stream",
     "text": [
      "199.0 / 3.0 = 66.33333333333333\n"
     ]
    },
    {
     "name": "stdin",
     "output_type": "stream",
     "text": [
      " stop\n"
     ]
    }
   ],
   "source": [
    "def Calc():\n",
    "\n",
    "    while True:\n",
    "          \n",
    "            op=input(\"\")\n",
    "            if op=='stop':\n",
    "                break\n",
    "            elif op in [\"+\", \"-\", \"*\", \"/\"]:\n",
    "                num1 = float(input(\"Enter a number: \"))\n",
    "                num2 = float(input(\"Enter another number: \"))\n",
    "\n",
    "            if op == \"+\":\n",
    "                result = num1 + num2\n",
    "                print(num1, \"+\", num2, \"=\", result)\n",
    "\n",
    "            elif op == \"-\":\n",
    "                result = num1 - num2\n",
    "                print(num1, \"-\", num2, \"=\", result)\n",
    "\n",
    "            elif op == \"*\":\n",
    "                result = num1 * num2\n",
    "                print(num1, \"*\", num2, \"=\", result)\n",
    "\n",
    "            elif op == \"/\":\n",
    "                result = num1 / num2\n",
    "                print(num1, \"/\", num2, \"=\", result)\n",
    "            else:\n",
    "                print(\"Invalid Input\")\n",
    "                \n",
    "Calc()"
   ]
  }
 ],
 "metadata": {
  "kernelspec": {
   "display_name": "Python 3 (ipykernel)",
   "language": "python",
   "name": "python3"
  },
  "language_info": {
   "codemirror_mode": {
    "name": "ipython",
    "version": 3
   },
   "file_extension": ".py",
   "mimetype": "text/x-python",
   "name": "python",
   "nbconvert_exporter": "python",
   "pygments_lexer": "ipython3",
   "version": "3.10.6"
  }
 },
 "nbformat": 4,
 "nbformat_minor": 5
}
