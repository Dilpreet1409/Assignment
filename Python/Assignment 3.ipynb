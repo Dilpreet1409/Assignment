{
 "cells": [
  {
   "cell_type": "code",
   "execution_count": null,
   "id": "97da64f4-2ff8-4458-830e-ed82ae5452e5",
   "metadata": {},
   "outputs": [],
   "source": [
    "1. Why are functions advantageous to have in your programs?\n"
   ]
  },
  {
   "cell_type": "code",
   "execution_count": null,
   "id": "e33d623a-c5e9-4c42-a1dd-d9e0e6653be1",
   "metadata": {},
   "outputs": [],
   "source": [
    "Functions are advantageous to have in our program as it avoids repetition and makes the code reusable ,easier to read \n",
    "and execute. It is write once and use many times approach.\n"
   ]
  },
  {
   "cell_type": "code",
   "execution_count": null,
   "id": "83a774ab-6057-4f11-92e3-5386470bbd62",
   "metadata": {},
   "outputs": [],
   "source": [
    "2. When does the code in a function run: when it is specified or when it is called?\n"
   ]
  },
  {
   "cell_type": "code",
   "execution_count": null,
   "id": "52dffbb8-30d9-484c-97f0-63d6f8784754",
   "metadata": {},
   "outputs": [],
   "source": [
    "The code in a function executes when the function is called, not when the function is defined or specified."
   ]
  },
  {
   "cell_type": "code",
   "execution_count": null,
   "id": "ceec82df-5f61-4d1b-8465-23679283db57",
   "metadata": {},
   "outputs": [],
   "source": [
    "\n",
    "3. What statement creates a function?\n"
   ]
  },
  {
   "cell_type": "code",
   "execution_count": null,
   "id": "e910fac6-7621-49ff-8c1e-8f08aa177d31",
   "metadata": {},
   "outputs": [],
   "source": [
    " def statement or keyword is used to define a function."
   ]
  },
  {
   "cell_type": "code",
   "execution_count": null,
   "id": "e97fa7e0-b3a4-4d45-843b-45851de0f883",
   "metadata": {},
   "outputs": [],
   "source": [
    "\n",
    "4. What is the difference between a function and a function call?\n"
   ]
  },
  {
   "cell_type": "code",
   "execution_count": null,
   "id": "30626cc1-0c76-41ca-8359-6670aef05566",
   "metadata": {},
   "outputs": [],
   "source": [
    "A function is a reusable block of code that executes a certain functionality when it is called.\n",
    "\n",
    "To call a function is to use a function, or invoke. We simply give the name of the function, followed in parentheses and\n",
    "argument values if needed."
   ]
  },
  {
   "cell_type": "code",
   "execution_count": null,
   "id": "33a56c3d-7e4f-4cd1-bfe6-09ae508faa99",
   "metadata": {},
   "outputs": [],
   "source": [
    "\n",
    "5. How many global scopes are there in a Python program? How many local scopes?"
   ]
  },
  {
   "cell_type": "code",
   "execution_count": null,
   "id": "dec204c5-2bf7-4236-82d4-60cfb5897396",
   "metadata": {},
   "outputs": [],
   "source": [
    "One global scope and a local scope is created whenever a function is called.\n",
    "\n"
   ]
  },
  {
   "cell_type": "code",
   "execution_count": null,
   "id": "6969c1ad-7397-4732-8a3c-92c749db0ec1",
   "metadata": {},
   "outputs": [],
   "source": [
    "\n",
    "6. What happens to variables in a local scope when the function call returns?"
   ]
  },
  {
   "cell_type": "code",
   "execution_count": null,
   "id": "ffe5ed11-bf56-4052-84c1-c10d7b93a598",
   "metadata": {},
   "outputs": [],
   "source": [
    "Local scope is accessible from the point at which it is defined until the end of the function \n",
    "and exists for as long as the function is executing.\n",
    "    "
   ]
  },
  {
   "cell_type": "code",
   "execution_count": null,
   "id": "b8c8ad23-d64f-4b10-a6ff-31364058812c",
   "metadata": {},
   "outputs": [],
   "source": [
    "\n",
    "7. What is the concept of a return value? Is it possible to have a return value in an expression?"
   ]
  },
  {
   "cell_type": "code",
   "execution_count": null,
   "id": "b8b699e1-5cde-4f68-b959-91b5f2854b2f",
   "metadata": {},
   "outputs": [],
   "source": [
    "Return value is the value given by the function and that the function call evaluates to.\n",
    "Yes it is possible to have a return value in an expression."
   ]
  },
  {
   "cell_type": "code",
   "execution_count": null,
   "id": "33b388c7-76a9-48f8-a7fc-7a52a847c2ab",
   "metadata": {},
   "outputs": [],
   "source": [
    "\n",
    "8. If a function does not have a return statement, what is the return value of a call to that function?"
   ]
  },
  {
   "cell_type": "code",
   "execution_count": null,
   "id": "98540ced-4b35-44e5-8c9e-c9aa8b0a7d7b",
   "metadata": {},
   "outputs": [],
   "source": [
    "If a function does not have a return statement , the return value of function is None"
   ]
  },
  {
   "cell_type": "code",
   "execution_count": null,
   "id": "783ae34f-1fd8-40d2-b9ca-126ee43cde75",
   "metadata": {},
   "outputs": [],
   "source": [
    "\n",
    "9. How do you make a function variable refer to the global variable?"
   ]
  },
  {
   "cell_type": "code",
   "execution_count": null,
   "id": "95299905-4d41-45f0-930c-fb0cf71287b9",
   "metadata": {},
   "outputs": [],
   "source": [
    "A global keyword if used helps to create a variable inside a function  or to refer to global variable."
   ]
  },
  {
   "cell_type": "code",
   "execution_count": null,
   "id": "af75c2c9-ca0d-4007-a7c5-33c2ec297e38",
   "metadata": {},
   "outputs": [],
   "source": [
    "\n",
    "10. What is the data type of None?"
   ]
  },
  {
   "cell_type": "code",
   "execution_count": null,
   "id": "134aa2f8-1a6c-4c53-bd4e-18262d7aa15a",
   "metadata": {},
   "outputs": [],
   "source": [
    "Nonetype"
   ]
  },
  {
   "cell_type": "code",
   "execution_count": null,
   "id": "b3584175-022b-41c0-9503-09f0c86baa9a",
   "metadata": {},
   "outputs": [],
   "source": [
    "\n",
    "11. What does the sentence import areallyourpetsnamederic do?\n"
   ]
  },
  {
   "cell_type": "code",
   "execution_count": null,
   "id": "4847e714-b48d-4b4c-a054-15b1c4656a08",
   "metadata": {},
   "outputs": [],
   "source": [
    "import keyword helps to import the built-in module but there is no such areallyourpetsnamederic name module "
   ]
  },
  {
   "cell_type": "code",
   "execution_count": null,
   "id": "58e94a3c-6f0e-4b96-9862-872045ed4326",
   "metadata": {},
   "outputs": [],
   "source": [
    "12. If you had a bacon() feature in a spam module, what would you call it after importing spam?\n"
   ]
  },
  {
   "cell_type": "code",
   "execution_count": null,
   "id": "63078b9e-28de-4882-8723-67e8713e7e15",
   "metadata": {},
   "outputs": [],
   "source": [
    "spam.bacon()"
   ]
  },
  {
   "cell_type": "code",
   "execution_count": null,
   "id": "3e1dc721-3152-4ea6-9ec6-40b4b0bc53ae",
   "metadata": {},
   "outputs": [],
   "source": [
    "13. What can you do to save a programme from crashing if it encounters an error?\n"
   ]
  },
  {
   "cell_type": "code",
   "execution_count": null,
   "id": "cd1301bf-7a43-48e8-8a61-5f28fb76896f",
   "metadata": {},
   "outputs": [],
   "source": [
    "Put the lines causing error in the try block"
   ]
  },
  {
   "cell_type": "code",
   "execution_count": null,
   "id": "3f5d9cc8-9da4-4141-a907-adc7b0f40af1",
   "metadata": {},
   "outputs": [],
   "source": [
    "\n",
    "14. What is the purpose of the try clause? What is the purpose of the except clause?"
   ]
  },
  {
   "cell_type": "code",
   "execution_count": null,
   "id": "a1d4c9f1-b9ae-4e18-9cbe-b477906a5802",
   "metadata": {},
   "outputs": [],
   "source": [
    "The try block lets you test a block of code for errors.\n",
    "The except block lets you handle the error."
   ]
  }
 ],
 "metadata": {
  "kernelspec": {
   "display_name": "Python 3 (ipykernel)",
   "language": "python",
   "name": "python3"
  },
  "language_info": {
   "codemirror_mode": {
    "name": "ipython",
    "version": 3
   },
   "file_extension": ".py",
   "mimetype": "text/x-python",
   "name": "python",
   "nbconvert_exporter": "python",
   "pygments_lexer": "ipython3",
   "version": "3.10.6"
  }
 },
 "nbformat": 4,
 "nbformat_minor": 5
}
