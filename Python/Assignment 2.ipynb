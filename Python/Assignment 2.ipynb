{
 "cells": [
  {
   "cell_type": "code",
   "execution_count": null,
   "id": "97dc2b1d-f6f6-4d2b-ad7c-83b323d51e7f",
   "metadata": {},
   "outputs": [],
   "source": [
    "1.What are the two values of the Boolean data type? How do you write them?"
   ]
  },
  {
   "cell_type": "code",
   "execution_count": null,
   "id": "0e8dc815-7e26-4a1a-a534-d56c72edbc66",
   "metadata": {},
   "outputs": [],
   "source": [
    "The two values of Boolean data types are True and False. We write it using capital T and F and further in lower case."
   ]
  },
  {
   "cell_type": "code",
   "execution_count": null,
   "id": "15a077c9-e046-4db7-aedd-a62d49fd7e75",
   "metadata": {},
   "outputs": [],
   "source": [
    "2. What are the three different types of Boolean operators?"
   ]
  },
  {
   "cell_type": "code",
   "execution_count": null,
   "id": "e03dc576-7859-48e0-9b2c-f6df8b2442d3",
   "metadata": {},
   "outputs": [],
   "source": [
    "Three different types of Boolean operators are and , or and not"
   ]
  },
  {
   "cell_type": "code",
   "execution_count": null,
   "id": "366896a7-cc92-4282-bd6c-db1d85949ae0",
   "metadata": {},
   "outputs": [],
   "source": [
    "3. Make a list of each Boolean operator truth tables (i.e. every possible combination of Boolean\n",
    "values for the operator and what it evaluate."
   ]
  },
  {
   "cell_type": "code",
   "execution_count": null,
   "id": "ca36b391-060b-490c-a6db-1e050521f448",
   "metadata": {},
   "outputs": [],
   "source": [
    "True and True is True.\n",
    "\n",
    "True and False is False.\n",
    "\n",
    "False and True is False.\n",
    "\n",
    "False and False is False.\n",
    "\n",
    "True or True is True.\n",
    "\n",
    "True or False is True.\n",
    "\n",
    "False or True is True.\n",
    "\n",
    "False or False is False.\n",
    "\n",
    "not True is False.\n",
    "\n",
    "not False is True."
   ]
  },
  {
   "cell_type": "code",
   "execution_count": null,
   "id": "3277688e-8759-4921-a55e-91f3fbea0427",
   "metadata": {},
   "outputs": [],
   "source": [
    "4. What are the values of the following expressions?\n",
    "(5 > 4) and (3 == 5)\n",
    "not (5 > 4)\n",
    "(5 > 4) or (3 == 5)\n",
    "not ((5 > 4) or (3 == 5))\n",
    "(True and True) and (True == False)\n",
    "(not False) or (not True)"
   ]
  },
  {
   "cell_type": "code",
   "execution_count": null,
   "id": "53851a0f-bc75-424c-9afe-8968a54ad1df",
   "metadata": {},
   "outputs": [],
   "source": [
    "False\n",
    "False\n",
    "True\n",
    "False\n",
    "False\n",
    "True"
   ]
  },
  {
   "cell_type": "code",
   "execution_count": null,
   "id": "9b021325-0f2c-498b-ac0c-1b861f1e570b",
   "metadata": {},
   "outputs": [],
   "source": [
    "5. What are the six comparison operators?"
   ]
  },
  {
   "cell_type": "code",
   "execution_count": null,
   "id": "be066b96-f27d-41b0-ac13-2eaf0de9b2a7",
   "metadata": {},
   "outputs": [],
   "source": [
    "==\n",
    "!=\n",
    ">\n",
    "<\n",
    ">=\n",
    "<=\n"
   ]
  },
  {
   "cell_type": "code",
   "execution_count": null,
   "id": "c05a041e-b1a0-49ab-b9a4-117b5d8f6f20",
   "metadata": {},
   "outputs": [],
   "source": [
    "6. How do you tell the difference between the equal to and assignment operators ? Describe a\n",
    "condition and when you would use one."
   ]
  },
  {
   "cell_type": "code",
   "execution_count": null,
   "id": "c06d9dd4-fb7c-4173-9e25-4140bab3b385",
   "metadata": {},
   "outputs": [],
   "source": [
    "== Operator compares two values and then returns a boolean i.e. True or False\n",
    "Whereas, = is an assignment operator which helps in storing the value in a variable.\n"
   ]
  },
  {
   "cell_type": "code",
   "execution_count": null,
   "id": "4c573810-8670-4a51-81fa-3cb092cba63c",
   "metadata": {},
   "outputs": [],
   "source": [
    "7. Identify the three blocks in this code:\n",
    "    spam = 0\n",
    "if spam == 10:\n",
    "print(\"eggs\")\n",
    "if spam &gt; 5:\n",
    "print(\"bacon\")\n",
    "else:\n",
    "print(\"ham\")\n",
    "print(\"spam\")\n",
    "print(\"spam\")"
   ]
  },
  {
   "cell_type": "code",
   "execution_count": null,
   "id": "d1fccb36-c289-427a-a411-2c5ea0d40ba3",
   "metadata": {},
   "outputs": [],
   "source": [
    "The three blocks are everything inside the if statement and the lines print('bacon') and print('ham').\n",
    "\n",
    "\n",
    "print('eggs')"
   ]
  },
  {
   "cell_type": "code",
   "execution_count": null,
   "id": "42db144f-23fe-4f89-8ac0-a4d9ed4fb961",
   "metadata": {},
   "outputs": [],
   "source": [
    "8. Write code that prints Hello if 1 is stored in spam, prints Howdy if 2 is stored in spam, and prints\n",
    "Greetings! if anything else is stored in spam."
   ]
  },
  {
   "cell_type": "code",
   "execution_count": null,
   "id": "679e2b23-246a-487b-ae33-2aa43b05deb0",
   "metadata": {},
   "outputs": [],
   "source": [
    "if spam == 1:\n",
    "    print('Hello')\n",
    "elif spam == 2:\n",
    "    print('Howdy')\n",
    "else:\n",
    "    print('Greetings!')"
   ]
  },
  {
   "cell_type": "code",
   "execution_count": null,
   "id": "886a5644-6909-496f-bbdf-a62d399d9a90",
   "metadata": {},
   "outputs": [],
   "source": [
    "9.If your programme is stuck in an endless loop, what keys you’ll press?"
   ]
  },
  {
   "cell_type": "code",
   "execution_count": null,
   "id": "d1234a95-ebda-4aa7-8ac8-b69dcdea3136",
   "metadata": {},
   "outputs": [],
   "source": [
    "Ctrl + C"
   ]
  },
  {
   "cell_type": "code",
   "execution_count": null,
   "id": "a4dca215-06ee-4af4-9f55-e2a2791c8464",
   "metadata": {},
   "outputs": [],
   "source": [
    "10. How can you tell the difference between break and continue?"
   ]
  },
  {
   "cell_type": "code",
   "execution_count": null,
   "id": "7e3cb6e4-fc5d-46b6-8416-a0479ebb1009",
   "metadata": {},
   "outputs": [],
   "source": [
    "break statement will terminate the iteration of a loop.\n",
    "continue statement will begin the next iteration of a loop and skips current iteration."
   ]
  },
  {
   "cell_type": "code",
   "execution_count": null,
   "id": "bdac46a4-1019-4e13-bee0-f79da11cbbce",
   "metadata": {},
   "outputs": [],
   "source": [
    "11. In a for loop, what is the difference between range(10), range(0, 10), and range(0, 10, 1)?"
   ]
  },
  {
   "cell_type": "code",
   "execution_count": null,
   "id": "6f4197be-8159-46e3-8d38-980ba756677f",
   "metadata": {},
   "outputs": [],
   "source": [
    "range(10) - means the loop will start at with 0 upto 9 not including 10\n",
    "range(0, 10) - its is same as range(10) but here we just specify the starting of loop explicitly.\n",
    "range(0, 10, 1)- tells the loop to increase the variable by 1 on each iteration.\n"
   ]
  },
  {
   "cell_type": "code",
   "execution_count": null,
   "id": "f763e35e-417e-42bc-acdd-4124dd41a054",
   "metadata": {},
   "outputs": [],
   "source": [
    "12. Write a short program that prints the numbers 1 to 10 using a for loop. Then write an equivalent\n",
    "program that prints the numbers 1 to 10 using a while loop."
   ]
  },
  {
   "cell_type": "code",
   "execution_count": 2,
   "id": "fdc5731a-024f-47b9-85fa-cf648fa563ab",
   "metadata": {},
   "outputs": [
    {
     "name": "stdout",
     "output_type": "stream",
     "text": [
      "1\n",
      "2\n",
      "3\n",
      "4\n",
      "5\n",
      "6\n",
      "7\n",
      "8\n",
      "9\n",
      "10\n"
     ]
    }
   ],
   "source": [
    "for i in range(1,11):\n",
    "    print(i)\n",
    "    "
   ]
  },
  {
   "cell_type": "code",
   "execution_count": 7,
   "id": "e08896d9-35e9-42dd-a4fe-976093fe4c08",
   "metadata": {},
   "outputs": [
    {
     "name": "stdout",
     "output_type": "stream",
     "text": [
      "1\n",
      "2\n",
      "3\n",
      "4\n",
      "5\n",
      "6\n",
      "7\n",
      "8\n",
      "9\n",
      "10\n"
     ]
    }
   ],
   "source": [
    "i=1\n",
    "while i <= 10:\n",
    "    print(i)\n",
    "    i=i+1\n",
    "    "
   ]
  },
  {
   "cell_type": "code",
   "execution_count": null,
   "id": "1d098dcd-e968-476f-a2ca-50d05b9bdd61",
   "metadata": {},
   "outputs": [],
   "source": [
    "13. If you had a function named bacon() inside a module named spam, how would you call it after\n",
    "importing spam?"
   ]
  },
  {
   "cell_type": "code",
   "execution_count": null,
   "id": "7ecaa232-d32f-4e10-a8ed-4bc52d47e81b",
   "metadata": {},
   "outputs": [],
   "source": [
    "spam.bacon()"
   ]
  }
 ],
 "metadata": {
  "kernelspec": {
   "display_name": "Python 3 (ipykernel)",
   "language": "python",
   "name": "python3"
  },
  "language_info": {
   "codemirror_mode": {
    "name": "ipython",
    "version": 3
   },
   "file_extension": ".py",
   "mimetype": "text/x-python",
   "name": "python",
   "nbconvert_exporter": "python",
   "pygments_lexer": "ipython3",
   "version": "3.10.6"
  }
 },
 "nbformat": 4,
 "nbformat_minor": 5
}
