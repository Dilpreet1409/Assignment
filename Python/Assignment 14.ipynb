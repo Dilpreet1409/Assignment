{
 "cells": [
  {
   "cell_type": "code",
   "execution_count": null,
   "id": "c99bee67-3c7e-44c5-be47-41fd95757c9a",
   "metadata": {},
   "outputs": [],
   "source": [
    "1. What does RGBA stand for?"
   ]
  },
  {
   "cell_type": "code",
   "execution_count": null,
   "id": "192b0846-88a5-4d21-9617-e40ac9146a56",
   "metadata": {},
   "outputs": [],
   "source": [
    "An RGBA value is a tuple of 4 integers, each ranging from 0 to 255.\n",
    "The four integers correspond to the amount of red, green, blue, and alpha (transparency) in the color.\n",
    "Each value is a floating point number between 0.0 and 1.0. \n",
    "For example, the tuple (1, 0, 0, 1) represents an opaque red, while (0, 1, 0, 0.5) represents a half transparent green."
   ]
  },
  {
   "cell_type": "code",
   "execution_count": null,
   "id": "ab9c6531-2b80-47b3-9a72-40c9a3a32859",
   "metadata": {},
   "outputs": [],
   "source": [
    "2. From the Pillow module, how do you get the RGBA value of any images?"
   ]
  },
  {
   "cell_type": "code",
   "execution_count": null,
   "id": "7d449c12-4d63-4bf4-934e-ff8228c9d443",
   "metadata": {},
   "outputs": [],
   "source": [
    "Pillow offers the ImageColor.getcolor() function so you don't \n",
    "have to memorize RGBA values for the colors you want to use. \n",
    "This function takes a color name string as its first argument, and \n",
    "the string 'RGBA' as its second argument, and it returns an RGBA tuple.\n"
   ]
  },
  {
   "cell_type": "code",
   "execution_count": null,
   "id": "639b80da-c7f9-4846-b9d0-cf027ff5218a",
   "metadata": {},
   "outputs": [],
   "source": [
    "3. What is a box tuple, and how does it work?"
   ]
  },
  {
   "cell_type": "code",
   "execution_count": null,
   "id": "3999c894-d18d-45e5-a5cf-44406fdc2905",
   "metadata": {},
   "outputs": [],
   "source": [
    " A box tuple is a tuple value of four integers:\n",
    "the left-edge x-coordinate, \n",
    "the top-edge y-coordinate, \n",
    "the width, and \n",
    "the height, respectively."
   ]
  },
  {
   "cell_type": "code",
   "execution_count": null,
   "id": "54af348f-ba0c-43bb-b0ef-b9943ddc11b8",
   "metadata": {},
   "outputs": [],
   "source": [
    "4. Use your image and load in notebook then, How can you find out the width and height of an\n",
    "Image object?"
   ]
  },
  {
   "cell_type": "code",
   "execution_count": null,
   "id": "1bd8c61e-96bb-4090-9332-a218512ce130",
   "metadata": {},
   "outputs": [],
   "source": [
    "imageObj.size is a tuple of two integers, the width and the height."
   ]
  },
  {
   "cell_type": "code",
   "execution_count": null,
   "id": "43124dbb-9362-426b-bae7-6c1fa4fba862",
   "metadata": {},
   "outputs": [],
   "source": [
    "5. What method would you call to get Image object for a 100×100 image, excluding the lower-left\n",
    "quarter of it?"
   ]
  },
  {
   "cell_type": "code",
   "execution_count": null,
   "id": "19c2827e-1303-431a-91dc-171d60f77bae",
   "metadata": {},
   "outputs": [],
   "source": [
    "imageObj.crop((0, 50, 50, 50)).Passing a box tuple to crop(), not four separate integer arguments."
   ]
  },
  {
   "cell_type": "code",
   "execution_count": null,
   "id": "26e606d1-dec0-48f7-a66f-021d5aa55cb8",
   "metadata": {},
   "outputs": [],
   "source": [
    "6. After making changes to an Image object, how could you save it as an image file?"
   ]
  },
  {
   "cell_type": "code",
   "execution_count": null,
   "id": "75cd36a2-29ba-4385-b1c0-f7c7bd2ea833",
   "metadata": {},
   "outputs": [],
   "source": [
    "imageObj.save('new_filename.png') method "
   ]
  },
  {
   "cell_type": "code",
   "execution_count": null,
   "id": "27731027-d295-4c77-9da5-cbb1b5fa4363",
   "metadata": {},
   "outputs": [],
   "source": [
    "7. What module contains Pillow’s shape-drawing code?"
   ]
  },
  {
   "cell_type": "code",
   "execution_count": null,
   "id": "f27f9d43-3795-410f-acb2-f51649afe660",
   "metadata": {},
   "outputs": [],
   "source": [
    "ImageDraw module contains code to draw on images"
   ]
  },
  {
   "cell_type": "code",
   "execution_count": null,
   "id": "96b1965b-2cc0-4e22-a17e-3be99e1b9686",
   "metadata": {},
   "outputs": [],
   "source": [
    "8. Image objects do not have drawing methods. What kind of object does? How do you get this kind\n",
    "of object?"
   ]
  },
  {
   "cell_type": "code",
   "execution_count": null,
   "id": "2a11c481-bdfb-4302-a6ad-7396d9371988",
   "metadata": {},
   "outputs": [],
   "source": [
    "ImageDraw objects have shape-drawing methods such as point(), line(), or rectangle(). \n",
    "They are returned by passing the Image object to the ImageDraw.Draw() function.\n",
    "\n"
   ]
  }
 ],
 "metadata": {
  "kernelspec": {
   "display_name": "Python 3 (ipykernel)",
   "language": "python",
   "name": "python3"
  },
  "language_info": {
   "codemirror_mode": {
    "name": "ipython",
    "version": 3
   },
   "file_extension": ".py",
   "mimetype": "text/x-python",
   "name": "python",
   "nbconvert_exporter": "python",
   "pygments_lexer": "ipython3",
   "version": "3.10.6"
  }
 },
 "nbformat": 4,
 "nbformat_minor": 5
}
