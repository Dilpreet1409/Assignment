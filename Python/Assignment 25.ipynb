{
 "cells": [
  {
   "cell_type": "code",
   "execution_count": null,
   "id": "3b1e24e9-0959-42b4-9360-2a980c6d5dec",
   "metadata": {},
   "outputs": [],
   "source": [
    "1) . What is the difference between enclosing a list comprehension in square brackets and\n",
    "parentheses?"
   ]
  },
  {
   "cell_type": "code",
   "execution_count": null,
   "id": "1e15eb9c-1c28-47ed-bc2e-d5108d67c79f",
   "metadata": {},
   "outputs": [],
   "source": [
    "Enclosing a list comprehension in square brackets returns a list\n",
    "where as enclosing a list comprehension in parentheses returns a generator object.\n"
   ]
  },
  {
   "cell_type": "code",
   "execution_count": 2,
   "id": "c11f85d3-6355-4653-87d6-4153fbfcefec",
   "metadata": {},
   "outputs": [
    {
     "name": "stdout",
     "output_type": "stream",
     "text": [
      "[0, 1, 2, 3, 4, 5, 6, 7, 8, 9] <class 'list'>\n",
      "<generator object <genexpr> at 0x7f561306f990> <class 'generator'>\n"
     ]
    }
   ],
   "source": [
    "l = [i for i in range(10)]\n",
    "print(l, type(l))\n",
    "g = (i for i in range(10))\n",
    "print(g, type(g))"
   ]
  },
  {
   "cell_type": "code",
   "execution_count": null,
   "id": "b3448169-6ce9-42db-9cf3-c8426af4a929",
   "metadata": {},
   "outputs": [],
   "source": [
    "2) What is the relationship between generators and iterators?"
   ]
  },
  {
   "cell_type": "code",
   "execution_count": null,
   "id": "b4f37d9c-d2e7-4b57-9038-1d08120dbda8",
   "metadata": {},
   "outputs": [],
   "source": [
    "Iterators are the objects that use the next() method to get the next value of the sequence. \n",
    "A generator is a function that produces or yields a sequence of values using a yield statement. \n",
    "Classes are used to Implement the iterators. \n",
    "Functions are used to implement the generator."
   ]
  },
  {
   "cell_type": "code",
   "execution_count": null,
   "id": "af2cba02-bd80-4f4b-a14e-11b23ccd0c90",
   "metadata": {},
   "outputs": [],
   "source": [
    "3) What are the signs that a function is a generator function?"
   ]
  },
  {
   "cell_type": "code",
   "execution_count": null,
   "id": "bb151d67-2016-4640-9f5c-f9e7b0831e1e",
   "metadata": {},
   "outputs": [],
   "source": [
    "A generator function uses a yield statement instead of a return statement.\n",
    "A generator function will always return a iterable object called generator. \n",
    "where as a normal function can return a string/list/tuple/dict/NoneType etc"
   ]
  },
  {
   "cell_type": "code",
   "execution_count": null,
   "id": "3139d1c5-6ded-4716-a77e-25945120d569",
   "metadata": {},
   "outputs": [],
   "source": [
    "4) What is the purpose of a yield statement?"
   ]
  },
  {
   "cell_type": "code",
   "execution_count": null,
   "id": "f39f9423-e95c-4900-b2de-d87cc7511494",
   "metadata": {},
   "outputs": [],
   "source": [
    "The yield statement returns a generator object to the one who calls the function which contains yield, \n",
    "instead of simply returning a value. When you call a function that has a yield statement, as soon as a yield is encountered, \n",
    "the execution of the function stops and returns an object of the generator to the function caller."
   ]
  },
  {
   "cell_type": "code",
   "execution_count": null,
   "id": "1ad085d8-26bc-48e0-aa7d-3590311af554",
   "metadata": {},
   "outputs": [],
   "source": [
    "5) What is the relationship between map calls and list comprehensions? Make a comparison and\n",
    "contrast between the two."
   ]
  },
  {
   "cell_type": "code",
   "execution_count": null,
   "id": "dfc74ba3-2903-4683-832a-d62602c34378",
   "metadata": {},
   "outputs": [],
   "source": [
    "The main differences between map calls and list comprehensiosn are:\n",
    "\n",
    "List comprehension is more concise and easier to read as compared to map.\n",
    "List comprehension allows filtering. In map, we have no such facility. For example, to print all odd numbers in range of 50, we can write [n for n in range(50) if n%2 != 0]. There is no alternate for it in map\n",
    "List comprehension are used when a list of results is required as final output.but map only returns a map object. it needs to be explicitly coverted to desired datatype.\n",
    "List comprehension is faster than map when we need to evaluate expressions that are too long or complicated to express\n",
    "Map is faster in case of calling an already defined function on a set of values."
   ]
  }
 ],
 "metadata": {
  "kernelspec": {
   "display_name": "Python 3 (ipykernel)",
   "language": "python",
   "name": "python3"
  },
  "language_info": {
   "codemirror_mode": {
    "name": "ipython",
    "version": 3
   },
   "file_extension": ".py",
   "mimetype": "text/x-python",
   "name": "python",
   "nbconvert_exporter": "python",
   "pygments_lexer": "ipython3",
   "version": "3.10.6"
  }
 },
 "nbformat": 4,
 "nbformat_minor": 5
}
