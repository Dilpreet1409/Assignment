{
 "cells": [
  {
   "cell_type": "code",
   "execution_count": null,
   "id": "dac59c3e-2047-4a21-a86a-b4a45ee63518",
   "metadata": {},
   "outputs": [],
   "source": [
    "1. What advantages do Excel spreadsheets have over CSV spreadsheets?"
   ]
  },
  {
   "cell_type": "code",
   "execution_count": null,
   "id": "a7c810b0-f019-4d1e-9ef9-bd18d115b801",
   "metadata": {},
   "outputs": [],
   "source": [
    "CSV does not manipulate data and stores it as-is. Excel also allows the user the add-in feature."
   ]
  },
  {
   "cell_type": "code",
   "execution_count": null,
   "id": "ac2f307d-efbb-4f45-b45e-d66df0610bd8",
   "metadata": {},
   "outputs": [],
   "source": [
    "2.What do you pass to csv.reader() and csv.writer() to create reader and writer objects?"
   ]
  },
  {
   "cell_type": "code",
   "execution_count": null,
   "id": "9ce5e094-1a21-4a12-ab86-36e746a273e9",
   "metadata": {},
   "outputs": [],
   "source": [
    " ('rb') for reader objects and write-binary ('wb') for writer objects"
   ]
  },
  {
   "cell_type": "code",
   "execution_count": null,
   "id": "221919ae-0640-499a-874b-e712a1ca9452",
   "metadata": {},
   "outputs": [],
   "source": [
    "3. What modes do File objects for reader and writer objects need to be opened in?"
   ]
  },
  {
   "cell_type": "code",
   "execution_count": null,
   "id": "29dcd60c-fbb2-4cfb-b644-150ad3bc40c8",
   "metadata": {},
   "outputs": [],
   "source": [
    "'r'\tOpen a file for reading. (default)\n",
    "'w'\tOpen a file for writing. Creates a new file if it does not exist or truncates the file if it exists.\n",
    "'x'\tOpen a file for exclusive creation. If the file already exists, the operation fails."
   ]
  },
  {
   "cell_type": "code",
   "execution_count": null,
   "id": "fcc5a1fa-0f95-4551-a8d3-438ccecc3d97",
   "metadata": {},
   "outputs": [],
   "source": [
    "4. What method takes a list argument and writes it to a CSV file?"
   ]
  },
  {
   "cell_type": "code",
   "execution_count": null,
   "id": "29e692ca-2c5d-40c0-acb5-8f7fb469ac21",
   "metadata": {},
   "outputs": [],
   "source": [
    "The writerow() method"
   ]
  },
  {
   "cell_type": "code",
   "execution_count": null,
   "id": "973b7898-ffa0-4f15-9c75-61c7b3179073",
   "metadata": {},
   "outputs": [],
   "source": [
    "5. What do the keyword arguments delimiter and line terminator do?"
   ]
  },
  {
   "cell_type": "code",
   "execution_count": null,
   "id": "01d11b76-2e40-4fee-850a-6fa00ca5667f",
   "metadata": {},
   "outputs": [],
   "source": [
    "The delimiter argument changes the string used to separate cells in a row.\n",
    "The lineterminator argument changes the string used to separate rows.\n"
   ]
  },
  {
   "cell_type": "code",
   "execution_count": null,
   "id": "f56e2082-dc97-4a29-85ea-96199d59de6b",
   "metadata": {},
   "outputs": [],
   "source": [
    "6. What function takes a string of JSON data and returns a Python data structure?"
   ]
  },
  {
   "cell_type": "code",
   "execution_count": null,
   "id": "b681fbea-200c-46c6-9d17-ef394bd411d8",
   "metadata": {},
   "outputs": [],
   "source": [
    "json.loads"
   ]
  },
  {
   "cell_type": "code",
   "execution_count": null,
   "id": "196cf832-6ea6-4af6-9dcb-8267c918581d",
   "metadata": {},
   "outputs": [],
   "source": [
    "7. What function takes a Python data structure and returns a string of JSON data?"
   ]
  },
  {
   "cell_type": "code",
   "execution_count": null,
   "id": "ea84e68f-8574-40f5-b3d2-15ef07be7612",
   "metadata": {},
   "outputs": [],
   "source": [
    "json.dumps"
   ]
  }
 ],
 "metadata": {
  "kernelspec": {
   "display_name": "Python 3 (ipykernel)",
   "language": "python",
   "name": "python3"
  },
  "language_info": {
   "codemirror_mode": {
    "name": "ipython",
    "version": 3
   },
   "file_extension": ".py",
   "mimetype": "text/x-python",
   "name": "python",
   "nbconvert_exporter": "python",
   "pygments_lexer": "ipython3",
   "version": "3.10.6"
  }
 },
 "nbformat": 4,
 "nbformat_minor": 5
}
