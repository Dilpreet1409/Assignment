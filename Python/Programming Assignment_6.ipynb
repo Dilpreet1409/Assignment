{
 "cells": [
  {
   "cell_type": "code",
   "execution_count": null,
   "id": "2755eadc-7fc0-4b3d-b5e4-4d2d42453b60",
   "metadata": {},
   "outputs": [],
   "source": [
    "1. Write a Python Program to Display Fibonacci Sequence Using Recursion?\n"
   ]
  },
  {
   "cell_type": "code",
   "execution_count": 9,
   "id": "954643c3-0365-4676-a1a9-a2d8e1a47e9c",
   "metadata": {},
   "outputs": [
    {
     "name": "stdin",
     "output_type": "stream",
     "text": [
      "Enter a no. 6\n"
     ]
    },
    {
     "name": "stdout",
     "output_type": "stream",
     "text": [
      "Fibonacci sequence\n",
      "0\n",
      "1\n",
      "1\n",
      "2\n",
      "3\n",
      "5\n"
     ]
    }
   ],
   "source": [
    "n=int(input(\"Enter a no.\"))\n",
    "def fibonacci(n):  \n",
    "    if n<=1:\n",
    "        return n\n",
    "    else:\n",
    "        return fibonacci(n-1)+fibonacci(n-2)\n",
    "\n",
    "if n<=0:\n",
    "    print(\"enter a positive no.\")\n",
    "else: \n",
    "    print(\"Fibonacci sequence\")\n",
    "    for i in range(n):\n",
    "        print(fibonacci(i))\n"
   ]
  },
  {
   "cell_type": "code",
   "execution_count": null,
   "id": "583b96b3-22f1-4d83-bea2-2be28cc0ce0f",
   "metadata": {},
   "outputs": [],
   "source": [
    "2. Write a Python Program to Find Factorial of Number Using Recursion?\n"
   ]
  },
  {
   "cell_type": "code",
   "execution_count": 54,
   "id": "98578092-15b2-49ca-91f3-df130b4aea69",
   "metadata": {},
   "outputs": [
    {
     "name": "stdout",
     "output_type": "stream",
     "text": [
      "The factorial of 5 is 120\n"
     ]
    }
   ],
   "source": [
    "def factorial(n):\n",
    "    if n==1:\n",
    "        return 1\n",
    "    else:\n",
    "        return n*factori\n",
    "    \n",
    "n=int(input(\"enter the no. to find its factorial:\")    \n",
    "f=factorial(n)\n",
    "print(\"The factorial of\",n,\"is\",f)\n"
   ]
  },
  {
   "cell_type": "code",
   "execution_count": null,
   "id": "ad6ab88e-eeb5-4527-a10f-03e8bbcdb79e",
   "metadata": {},
   "outputs": [],
   "source": [
    "3. Write a Python Program to calculate your Body Mass Index?"
   ]
  },
  {
   "cell_type": "code",
   "execution_count": 3,
   "id": "abf62ed4-e4b8-41fc-9667-ff5941eadf8a",
   "metadata": {},
   "outputs": [
    {
     "name": "stdin",
     "output_type": "stream",
     "text": [
      "Enter the height in cm:  160\n",
      "Enter the weight in kg:  65\n"
     ]
    },
    {
     "name": "stdout",
     "output_type": "stream",
     "text": [
      "25.390624999999996\n"
     ]
    }
   ],
   "source": [
    "height = float(input(\"Enter the height in cm: \"))  \n",
    "weight = float(input(\"Enter the weight in kg: \"))  \n",
    "BMI = weight / (height/100)**2  \n",
    "print(BMI)"
   ]
  },
  {
   "cell_type": "code",
   "execution_count": null,
   "id": "6c69e77f-8a46-4b8c-b250-187a2834123f",
   "metadata": {},
   "outputs": [],
   "source": [
    "4. Write a Python Program to calculate the natural logarithm of any number?"
   ]
  },
  {
   "cell_type": "code",
   "execution_count": 9,
   "id": "17225882-552c-4ad5-a414-3a5a2a2c1c8f",
   "metadata": {},
   "outputs": [
    {
     "name": "stdin",
     "output_type": "stream",
     "text": [
      "Enter the no.: 100\n"
     ]
    },
    {
     "name": "stdout",
     "output_type": "stream",
     "text": [
      "the natural logarithm of number 100 is 4.605170185988092\n"
     ]
    }
   ],
   "source": [
    "import math\n",
    "n=int(input(\"Enter the no.:\"))\n",
    "l=math.log(n)\n",
    "print(f\"the natural logarithm of number {n} is {l}\")"
   ]
  },
  {
   "cell_type": "code",
   "execution_count": null,
   "id": "fb276e3f-12f4-4431-a6ec-e523dc321c86",
   "metadata": {},
   "outputs": [],
   "source": [
    "5. Write a Python Program for cube sum of first n natural numbers?"
   ]
  },
  {
   "cell_type": "code",
   "execution_count": 1,
   "id": "befbf4fb-f097-467e-a89e-0f6568154d23",
   "metadata": {},
   "outputs": [
    {
     "name": "stdin",
     "output_type": "stream",
     "text": [
      "Enter the no.: 3\n"
     ]
    },
    {
     "name": "stdout",
     "output_type": "stream",
     "text": [
      "Sum of cube of first 3 natural nos. is : 36\n"
     ]
    }
   ],
   "source": [
    "n=int(input(\"Enter the no.:\"))\n",
    "s=0\n",
    "for i in range(1,n+1):\n",
    "    s=s+i**3\n",
    "print(f\"Sum of cube of first {n} natural nos. is : {s}\")"
   ]
  },
  {
   "cell_type": "code",
   "execution_count": null,
   "id": "5c053c2d-979e-4d76-baf3-66c0a8a0f17a",
   "metadata": {},
   "outputs": [],
   "source": []
  }
 ],
 "metadata": {
  "kernelspec": {
   "display_name": "Python 3 (ipykernel)",
   "language": "python",
   "name": "python3"
  },
  "language_info": {
   "codemirror_mode": {
    "name": "ipython",
    "version": 3
   },
   "file_extension": ".py",
   "mimetype": "text/x-python",
   "name": "python",
   "nbconvert_exporter": "python",
   "pygments_lexer": "ipython3",
   "version": "3.10.6"
  }
 },
 "nbformat": 4,
 "nbformat_minor": 5
}
