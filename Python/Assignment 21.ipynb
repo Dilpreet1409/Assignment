{
 "cells": [
  {
   "cell_type": "code",
   "execution_count": null,
   "id": "2d9ee1dd-6709-4cd9-b703-c60583fefa72",
   "metadata": {},
   "outputs": [],
   "source": [
    "1. Add the current date to the text file today.txt as a string."
   ]
  },
  {
   "cell_type": "code",
   "execution_count": 2,
   "id": "01b10d82-b03f-4769-b72f-94fed04f153e",
   "metadata": {},
   "outputs": [
    {
     "name": "stdout",
     "output_type": "stream",
     "text": [
      "14-06-2023\n"
     ]
    }
   ],
   "source": [
    "from datetime import datetime\n",
    "with open('today.txt','w') as file:\n",
    "    file.write(datetime.now().strftime(\"%d-%m-%Y\"))\n",
    "    file.close()\n",
    "with open('today.txt','r') as file:\n",
    "    print(file.read())\n",
    "    file.close()"
   ]
  },
  {
   "cell_type": "code",
   "execution_count": null,
   "id": "51f05312-4d48-4c6d-838f-2b83fa8e2b81",
   "metadata": {},
   "outputs": [],
   "source": [
    "2. Read the text file today.txt into the string today_string."
   ]
  },
  {
   "cell_type": "code",
   "execution_count": 3,
   "id": "6243c95e-f4b8-415e-a8c9-1df590b7a7ae",
   "metadata": {},
   "outputs": [
    {
     "name": "stdout",
     "output_type": "stream",
     "text": [
      "14-06-2023\n"
     ]
    }
   ],
   "source": [
    "with open('today.txt','r') as file:\n",
    "    today_string=file.read()\n",
    "    print(today_string)\n",
    "    file.close()"
   ]
  },
  {
   "cell_type": "code",
   "execution_count": null,
   "id": "b95ac2ea-5e24-46cd-9d50-e77f5f714e5e",
   "metadata": {},
   "outputs": [],
   "source": [
    "3. Parse the date from today_string."
   ]
  },
  {
   "cell_type": "code",
   "execution_count": 6,
   "id": "d9fd0c46-ccbf-447c-ad6b-9de1774f8cb7",
   "metadata": {},
   "outputs": [
    {
     "name": "stdout",
     "output_type": "stream",
     "text": [
      "2023-06-14 00:00:00\n"
     ]
    }
   ],
   "source": [
    "from datetime import datetime\n",
    "parsed_date = datetime.strptime(today_string, '%d-%m-%Y')\n",
    "print(parsed_date)"
   ]
  },
  {
   "cell_type": "code",
   "execution_count": null,
   "id": "526fb9dc-026e-4c21-8766-21fab27acb37",
   "metadata": {},
   "outputs": [],
   "source": [
    "4. List the files in your current directory"
   ]
  },
  {
   "cell_type": "code",
   "execution_count": 7,
   "id": "44a1694b-8351-40e5-ba91-1bbcf7f55356",
   "metadata": {},
   "outputs": [
    {
     "name": "stdout",
     "output_type": "stream",
     "text": [
      "Assignment 10.ipynb\n",
      "Assignment 12.ipynb\n",
      "test.txt\n",
      "A18.ipynb\n",
      "A20.ipynb\n",
      "A21.ipynb\n",
      "2_assignment.ipynb\n",
      "Assignment 5.ipynb\n",
      "Assignment 16.ipynb\n",
      "Assignment 4.ipynb\n",
      "Assignment 15.ipynb\n",
      "a17.ipynb\n",
      "Assignment 9.ipynb\n",
      "Assignment 6.ipynb\n",
      "books.db\n",
      "3_assignment.ipynb\n",
      "Assignment 11.ipynb\n",
      "Assignment 8.ipynb\n",
      "today.txt\n",
      "Assignment 14.ipynb\n",
      "books.csv\n",
      "Assignment 13.ipynb\n",
      "A19.ipynb\n",
      "Programming Assignment_13.ipynb\n",
      "Programming Assignment_12.ipynb\n",
      "Programming Assignment_11.ipynb\n",
      "8_PA.ipynb\n",
      "Programming Assignment_10.ipynb\n",
      "1_PA.ipynb\n",
      "3_PA.ipynb\n",
      "7_PA.ipynb\n",
      "9_PA.ipynb\n",
      "4_PA.ipynb\n",
      "10_PA.ipynb\n",
      "2_PA.ipynb\n",
      "6_PA.ipynb\n",
      "5_PA.ipynb\n",
      "Programming Assignment_12-checkpoint.ipynb\n",
      "Programming Assignment_13-checkpoint.ipynb\n",
      "4_PA-checkpoint.ipynb\n",
      "5_PA-checkpoint.ipynb\n",
      "2_PA-checkpoint.ipynb\n",
      "9_PA-checkpoint.ipynb\n",
      "1_PA-checkpoint.ipynb\n",
      "Programming Assignment_11-checkpoint.ipynb\n",
      "3_PA-checkpoint.ipynb\n",
      "7_PA-checkpoint.ipynb\n",
      "Programming Assignment_10-checkpoint.ipynb\n",
      "8_PA-checkpoint.ipynb\n",
      "10_PA-checkpoint.ipynb\n",
      "6_PA-checkpoint.ipynb\n",
      "zoo.cpython-310.pyc\n",
      "3_assignment-checkpoint.ipynb\n",
      "A18-checkpoint.ipynb\n",
      "Assignment 8-checkpoint.ipynb\n",
      "books-checkpoint.csv\n",
      "today-checkpoint.txt\n",
      "A19-checkpoint.ipynb\n",
      "Assignment 14-checkpoint.ipynb\n",
      "Assignment 13-checkpoint.ipynb\n",
      "Assignment 9-checkpoint.ipynb\n",
      "A20-checkpoint.ipynb\n",
      "Assignment 4-checkpoint.ipynb\n",
      "2_assignment-checkpoint.ipynb\n",
      "Assignment 11-checkpoint.ipynb\n",
      "Assignment 12-checkpoint.ipynb\n",
      "Assignment 5-checkpoint.ipynb\n",
      "test-checkpoint.txt\n",
      "Assignment 10-checkpoint.ipynb\n",
      "Assignment 15-checkpoint.ipynb\n",
      "A21-checkpoint.ipynb\n",
      "a17-checkpoint.ipynb\n",
      "Assignment 6-checkpoint.ipynb\n",
      "Assignment 16-checkpoint.ipynb\n"
     ]
    }
   ],
   "source": [
    "import os\n",
    "for folders, subfolders, files in os.walk(os.getcwd()):\n",
    "    for file in files:\n",
    "        print(file)"
   ]
  },
  {
   "cell_type": "code",
   "execution_count": null,
   "id": "4861c26c-0bd3-4848-b609-656baaab26a4",
   "metadata": {},
   "outputs": [],
   "source": [
    "5. Create a list of all of the files in your parent directory (minimum five files should be available)."
   ]
  },
  {
   "cell_type": "code",
   "execution_count": 8,
   "id": "cf3877fd-e0e6-40a6-821d-5ac57e4077aa",
   "metadata": {},
   "outputs": [
    {
     "data": {
      "text/plain": [
       "['Assignment 10.ipynb',\n",
       " 'Assignment 12.ipynb',\n",
       " 'test.txt',\n",
       " 'A18.ipynb',\n",
       " 'A20.ipynb',\n",
       " 'A21.ipynb',\n",
       " '2_assignment.ipynb',\n",
       " 'Assignment 5.ipynb',\n",
       " 'Assignment 16.ipynb',\n",
       " 'Assignment 4.ipynb',\n",
       " 'assignments',\n",
       " 'Assignment 15.ipynb',\n",
       " 'a17.ipynb',\n",
       " 'Assignment 9.ipynb',\n",
       " 'Assignment 6.ipynb',\n",
       " '__pycache__',\n",
       " 'books.db',\n",
       " '3_assignment.ipynb',\n",
       " 'Assignment 11.ipynb',\n",
       " 'Assignment 8.ipynb',\n",
       " '.ipynb_checkpoints',\n",
       " 'today.txt',\n",
       " 'Assignment 14.ipynb',\n",
       " 'books.csv',\n",
       " 'Assignment 13.ipynb',\n",
       " 'A19.ipynb']"
      ]
     },
     "execution_count": 8,
     "metadata": {},
     "output_type": "execute_result"
    }
   ],
   "source": [
    "import os \n",
    "os.listdir()"
   ]
  },
  {
   "cell_type": "code",
   "execution_count": null,
   "id": "f516f9e9-8bee-49f7-b7a9-dc8f9d985424",
   "metadata": {},
   "outputs": [],
   "source": [
    "6. Use multiprocessing to create three separate processes. Make each one wait a random number of\n",
    "seconds between one and five, print the current time, and then exit."
   ]
  },
  {
   "cell_type": "code",
   "execution_count": 35,
   "id": "4f33b81c-5d22-4700-9448-1fd7aa288d44",
   "metadata": {},
   "outputs": [
    {
     "name": "stdout",
     "output_type": "stream",
     "text": [
      "Proc_one_Starttime -> 2023-06-14 09:09:26.144134\n",
      "Proc_two_Starttime -> 2023-06-14 09:09:26.149086\n",
      "Proc_two_Starttime -> 2023-06-14 09:09:26.155644\n",
      "Proc_two_Endtime -> 2023-06-14 09:09:28.158169\n",
      "Proc_one_Endtime -> 2023-06-14 09:09:30.150127\n",
      "Proc_two_Endtime -> 2023-06-14 09:09:30.163807\n"
     ]
    }
   ],
   "source": [
    "import multiprocessing\n",
    "import time \n",
    "import random\n",
    "from datetime import datetime\n",
    "\n",
    "def One():\n",
    "    print(f'Proc_one_Starttime -> {datetime.now()}')\n",
    "    time.sleep(random.randint(1,5))\n",
    "    print(f'Proc_one_Endtime -> {datetime.now()}')\n",
    "    \n",
    "def Two():\n",
    "    print(f'Proc_two_Starttime -> {datetime.now()}')\n",
    "    time.sleep(random.randint(1,5))\n",
    "    print(f'Proc_two_Endtime -> {datetime.now()}')\n",
    "\n",
    "def Three():\n",
    "    print(f'Proc_two_Starttime -> {datetime.now()}')\n",
    "    time.sleep(random.randint(1,5))\n",
    "    print(f'Proc_two_Endtime -> {datetime.now()}')\n",
    "    \n",
    "if __name__==\"__main__\":\n",
    "    p1 = multiprocessing.Process(target=One)\n",
    "    p2 = multiprocessing.Process(target=Two)\n",
    "    p3 = multiprocessing.Process(target=Three)\n",
    "\n",
    "    p1.start()\n",
    "    p2.start()\n",
    "    p3.start()\n",
    "\n",
    "    p1.join()\n",
    "    p2.join()\n",
    "    p3.join()\n",
    "    "
   ]
  },
  {
   "cell_type": "code",
   "execution_count": null,
   "id": "6235173e-87de-4353-95f0-2a1c63f4df13",
   "metadata": {},
   "outputs": [],
   "source": [
    "7. Create a date object of your day of birth."
   ]
  },
  {
   "cell_type": "code",
   "execution_count": 10,
   "id": "b499b938-fe68-4973-b675-bacd45d2378a",
   "metadata": {},
   "outputs": [
    {
     "name": "stdout",
     "output_type": "stream",
     "text": [
      "2001-09-14 00:00:00\n"
     ]
    }
   ],
   "source": [
    "from datetime import datetime\n",
    "dob = datetime.strptime('14/09/2001','%d/%m/%Y')\n",
    "print(dob)"
   ]
  },
  {
   "cell_type": "code",
   "execution_count": null,
   "id": "af3e4783-fcbf-4bc5-98a9-e4bb95096382",
   "metadata": {},
   "outputs": [],
   "source": [
    "8. What day of the week was your day of birth?"
   ]
  },
  {
   "cell_type": "code",
   "execution_count": 11,
   "id": "b1c0fd85-b1a6-4665-b056-3e680c332f58",
   "metadata": {},
   "outputs": [
    {
     "data": {
      "text/plain": [
       "'Friday'"
      ]
     },
     "execution_count": 11,
     "metadata": {},
     "output_type": "execute_result"
    }
   ],
   "source": [
    "from datetime import datetime\n",
    "dob = datetime(2001,9,14)\n",
    "dob.strftime(\"%A\")"
   ]
  },
  {
   "cell_type": "code",
   "execution_count": null,
   "id": "b0e9577e-5ba8-4ff0-bfe5-08ae3d9f5f6b",
   "metadata": {},
   "outputs": [],
   "source": [
    "9. When will you be (or when were you) 10,000 days old?"
   ]
  },
  {
   "cell_type": "code",
   "execution_count": 32,
   "id": "db24f51e-a2cc-4bed-89a0-b03563b382cd",
   "metadata": {},
   "outputs": [
    {
     "name": "stdout",
     "output_type": "stream",
     "text": [
      "2029-01-30\n"
     ]
    }
   ],
   "source": [
    "from datetime import datetime\n",
    "\n",
    "start_date = datetime(year=2001, month=9, day=14)\n",
    "\n",
    "end_date = start_date + timedelta(days=10000)\n",
    "\n",
    "print(end_date.date())"
   ]
  }
 ],
 "metadata": {
  "kernelspec": {
   "display_name": "Python 3 (ipykernel)",
   "language": "python",
   "name": "python3"
  },
  "language_info": {
   "codemirror_mode": {
    "name": "ipython",
    "version": 3
   },
   "file_extension": ".py",
   "mimetype": "text/x-python",
   "name": "python",
   "nbconvert_exporter": "python",
   "pygments_lexer": "ipython3",
   "version": "3.10.6"
  }
 },
 "nbformat": 4,
 "nbformat_minor": 5
}
