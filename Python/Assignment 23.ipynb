{
 "cells": [
  {
   "cell_type": "code",
   "execution_count": null,
   "id": "e126487b-f4db-4724-b082-f528361c36b0",
   "metadata": {},
   "outputs": [],
   "source": [
    "1. What is the result of the code, and why?\n",
    ">>> def func(a, b=6, c=8):\n",
    "print(a, b, c)\n",
    ">>> func(1, 2)"
   ]
  },
  {
   "cell_type": "code",
   "execution_count": 2,
   "id": "32f780be-fecb-4b7f-b721-d921f560927a",
   "metadata": {},
   "outputs": [
    {
     "name": "stdout",
     "output_type": "stream",
     "text": [
      "1 2 8\n"
     ]
    }
   ],
   "source": [
    "def func(a,b=6,c=8):\n",
    "    print(a,b,c)\n",
    "func(1,2)"
   ]
  },
  {
   "cell_type": "code",
   "execution_count": null,
   "id": "d24559ac-74b1-4731-b5f3-266b27c1002d",
   "metadata": {},
   "outputs": [],
   "source": [
    "In this function, a is a positional argument, while b and c are keyword arguments with default values.\n",
    "When the function is called with func(1, 2), the value of 1 is assigned to a, and \n",
    "2 is assigned to b since it is the first keyword argument provided.\n",
    "Since no value is provided for c, it takes its default value of 8. Therefore, the output of the function call is 1 2 8."
   ]
  },
  {
   "cell_type": "code",
   "execution_count": null,
   "id": "51f1db12-ff42-4f5f-90a1-074a2c9f4c6b",
   "metadata": {},
   "outputs": [],
   "source": [
    "2. What is the result of this code, and why?\n",
    ">>> def func(a, b, c=5):\n",
    "print(a, b, c)\n",
    ">>> func(1, c=3, b=2)"
   ]
  },
  {
   "cell_type": "code",
   "execution_count": 3,
   "id": "6b5e3b6d-6534-4c95-b389-82766b6d44fb",
   "metadata": {},
   "outputs": [
    {
     "name": "stdout",
     "output_type": "stream",
     "text": [
      "1 2 3\n"
     ]
    }
   ],
   "source": [
    "def func(a,b,c=5):\n",
    "    print(a,b,c)\n",
    "func(1,c=3,b=2)"
   ]
  },
  {
   "cell_type": "code",
   "execution_count": null,
   "id": "d679139a-5503-4d4c-882a-e800a5341b31",
   "metadata": {},
   "outputs": [],
   "source": [
    "When the function is called with func(1, c=3, b=2), the value of 1 is assigned to a, 2 is assigned to b, \n",
    "and 3 is explicitly assigned to c using the keyword argument."
   ]
  },
  {
   "cell_type": "code",
   "execution_count": null,
   "id": "63a55500-2238-4b26-94a6-e251e7c978b4",
   "metadata": {},
   "outputs": [],
   "source": [
    "3. How about this code: what is its result, and why?\n",
    ">>> def func(a, *pargs):\n",
    "print(a, pargs)\n",
    ">>> func(1, 2, 3)"
   ]
  },
  {
   "cell_type": "code",
   "execution_count": 4,
   "id": "086ff6b8-3788-4c23-b5fe-d325d36f0d02",
   "metadata": {},
   "outputs": [
    {
     "name": "stdout",
     "output_type": "stream",
     "text": [
      "1 (2, 3)\n"
     ]
    }
   ],
   "source": [
    "def func(a, *pargs):\n",
    "    print(a,pargs)\n",
    "func(1,2,3)"
   ]
  },
  {
   "cell_type": "code",
   "execution_count": null,
   "id": "da0b7031-9755-4802-88dd-c648d95cabb9",
   "metadata": {},
   "outputs": [],
   "source": [
    "The value 1 is assigned to a, and the additional arguments 2 and 3 are collected into the pargs tuple.\n",
    "*pargs stands for variable length arguments, \n",
    "this format is used when we are not sure about the no of arguments to be passed to a function."
   ]
  },
  {
   "cell_type": "code",
   "execution_count": null,
   "id": "1d1a19e2-dadb-4c31-9634-cf0fe95fd199",
   "metadata": {},
   "outputs": [],
   "source": [
    "4. What does this code print, and why?\n",
    ">>> def func(a, **kargs):\n",
    "print(a, kargs)\n",
    ">>> func(a=1, c=3, b=2)"
   ]
  },
  {
   "cell_type": "code",
   "execution_count": 5,
   "id": "bf77abac-86d2-4520-9d4b-6469fb55c5c3",
   "metadata": {},
   "outputs": [
    {
     "name": "stdout",
     "output_type": "stream",
     "text": [
      "1 {'c': 3, 'b': 2}\n"
     ]
    }
   ],
   "source": [
    "def func(a,**kargs):\n",
    "    print(a,kargs)\n",
    "func(a=1,c=3,b=2)"
   ]
  },
  {
   "cell_type": "code",
   "execution_count": null,
   "id": "c0c90142-688e-43bd-8735-868b36290bcf",
   "metadata": {},
   "outputs": [],
   "source": [
    "**kargs stands for variable length keyword arguments,\n",
    "this format is used when we want pass key value pairs as input to a function. All these key value pairs will be stored in a dictionary"
   ]
  },
  {
   "cell_type": "code",
   "execution_count": null,
   "id": "176d167c-c1da-4856-945c-5a9d2f318096",
   "metadata": {},
   "outputs": [],
   "source": [
    "5. What gets printed by this, and explain?\n",
    ">>> def func(a, b, c=8, d=5): print(a, b, c, d)\n",
    ">>> func(1, *(5, 6))"
   ]
  },
  {
   "cell_type": "code",
   "execution_count": 6,
   "id": "1f0a6ab1-f880-4b02-98a1-ea0bea0b8706",
   "metadata": {},
   "outputs": [
    {
     "name": "stdout",
     "output_type": "stream",
     "text": [
      "1 5 6 5\n"
     ]
    }
   ],
   "source": [
    "def func(a,b,c=8,d=5):\n",
    "    print(a,b,c,d)\n",
    "func(1,*(5,6))"
   ]
  },
  {
   "cell_type": "code",
   "execution_count": null,
   "id": "c485067e-172b-4237-9369-967dc9b41090",
   "metadata": {},
   "outputs": [],
   "source": [
    "This function expects 4 arguments. \n",
    "The value for a is provided explicitly whereas for arguments b and c, the function will expand the *(5,6) and\n",
    "consider the value of b as 5 and value of c as 6 since the default value of d is provided in \n",
    "function declaration d value will be 5.\n"
   ]
  },
  {
   "cell_type": "code",
   "execution_count": null,
   "id": "b1698b2f-9493-4a8d-af16-1d71b59dbf2f",
   "metadata": {},
   "outputs": [],
   "source": [
    "6. what is the result of this, and explain?\n",
    ">>> def func(a, b, c): a = 2; b[0] = 'x'; c['a'] = 'y'\n",
    ">>> l=1; m=[1]; n={'a':0}\n",
    ">>> func(l, m, n)\n",
    ">>> l, m, n"
   ]
  },
  {
   "cell_type": "code",
   "execution_count": 7,
   "id": "bedca60f-0996-43cf-a02d-8e7c2898397d",
   "metadata": {},
   "outputs": [
    {
     "data": {
      "text/plain": [
       "(1, ['x'], {'a': 'y'})"
      ]
     },
     "execution_count": 7,
     "metadata": {},
     "output_type": "execute_result"
    }
   ],
   "source": [
    "def func(a, b, c): a = 2; b[0] = 'x'; c['a'] = 'y'\n",
    "l=1; m=[1]; n={'a':0}\n",
    "func(l, m, n)\n",
    "l,m,n"
   ]
  },
  {
   "cell_type": "code",
   "execution_count": null,
   "id": "c3284279-1c14-4ca2-b4b1-c401e349f601",
   "metadata": {},
   "outputs": [],
   "source": [
    "Since the modifications to a within the function are local and do not affect l, the value of l remains unchanged. \n",
    "However, the modifications to b and c within the function affect the original objects m and n, \n",
    "resulting in the changes seen in the final values of m and n."
   ]
  }
 ],
 "metadata": {
  "kernelspec": {
   "display_name": "Python 3 (ipykernel)",
   "language": "python",
   "name": "python3"
  },
  "language_info": {
   "codemirror_mode": {
    "name": "ipython",
    "version": 3
   },
   "file_extension": ".py",
   "mimetype": "text/x-python",
   "name": "python",
   "nbconvert_exporter": "python",
   "pygments_lexer": "ipython3",
   "version": "3.10.6"
  }
 },
 "nbformat": 4,
 "nbformat_minor": 5
}
