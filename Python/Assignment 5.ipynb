{
 "cells": [
  {
   "cell_type": "code",
   "execution_count": null,
   "id": "aa7cb6a4-4033-4db7-9bd4-6f14a20ea740",
   "metadata": {},
   "outputs": [],
   "source": [
    "1. What does an empty dictionary code look like?\n",
    "2. What is the value of a dictionary value with the key 'foo' and the value 42?\n",
    "3. What is the most significant distinction between a dictionary and a list?\n",
    "4. What happens if you try to access spam['foo'] if spam is {'bar': 100}?\n",
    "5. If a dictionary is stored in spam, what is the difference between the expressions 'cat' in spam and\n",
    "'cat' in spam.keys()?\n",
    "6. If a dictionary is stored in spam, what is the difference between the expressions 'cat' in spam and\n",
    "'cat' in spam.values()?\n",
    "7. What is a shortcut for the following code?\n",
    "if 'color' not in spam:\n",
    "spam['color'] = 'black'\n",
    "8. How do you \"pretty print\" dictionary values using which module and function?"
   ]
  },
  {
   "cell_type": "code",
   "execution_count": null,
   "id": "702ddeeb-1e9e-4e32-a131-d57dc278d535",
   "metadata": {},
   "outputs": [],
   "source": [
    " An empty dictionary looks like {}"
   ]
  },
  {
   "cell_type": "code",
   "execution_count": null,
   "id": "ccc56f36-4ff9-469b-8109-a3def1413d57",
   "metadata": {},
   "outputs": [],
   "source": [
    "2. What is the value of a dictionary value with the key 'foo' and the value 42?"
   ]
  },
  {
   "cell_type": "code",
   "execution_count": null,
   "id": "06c6691a-266b-49aa-b804-6a3f3e967028",
   "metadata": {},
   "outputs": [],
   "source": [
    "d = {\"foo\": 42}"
   ]
  },
  {
   "cell_type": "code",
   "execution_count": null,
   "id": "261cf431-2232-4b92-b1ed-5c5829c06c6d",
   "metadata": {},
   "outputs": [],
   "source": [
    "3. What is the most significant distinction between a dictionary and a list?"
   ]
  },
  {
   "cell_type": "code",
   "execution_count": null,
   "id": "75d5bac5-b1ab-412d-bca6-3bb23c5099c7",
   "metadata": {},
   "outputs": [],
   "source": [
    "The most significant difference between a dictionary and a list is that it contains key and value pairs , is created using\n",
    "curly braces {} rather than [] and the dictionary is an unordered collection while list are ordered."
   ]
  },
  {
   "cell_type": "code",
   "execution_count": null,
   "id": "aae3cbdc-1796-48f5-9c7a-762fbfdda0fe",
   "metadata": {},
   "outputs": [],
   "source": [
    "4. What happens if you try to access spam['foo'] if spam is {'bar': 100}?"
   ]
  },
  {
   "cell_type": "code",
   "execution_count": null,
   "id": "4e86d1a0-97b7-4cad-904b-38046ae7f0e9",
   "metadata": {},
   "outputs": [],
   "source": [
    "key error is thrown"
   ]
  },
  {
   "cell_type": "code",
   "execution_count": null,
   "id": "967efbdd-f5c5-4043-9c05-22e9f87ee64d",
   "metadata": {},
   "outputs": [],
   "source": [
    "5. If a dictionary is stored in spam, what is the difference between the expressions 'cat' in spam and\n",
    "'cat' in spam.keys()?"
   ]
  },
  {
   "cell_type": "code",
   "execution_count": null,
   "id": "36e2b1af-166e-4354-80cd-d1ec562cbe8b",
   "metadata": {},
   "outputs": [],
   "source": [
    "There is no difference as such because the 'cat' value is checked as a key in the dictionary."
   ]
  },
  {
   "cell_type": "code",
   "execution_count": null,
   "id": "4cd86a19-4653-4c0f-91b3-702ddf4e4698",
   "metadata": {},
   "outputs": [],
   "source": [
    "6. If a dictionary is stored in spam, what is the difference between the expressions 'cat' in spam and\n",
    "'cat' in spam.values()?"
   ]
  },
  {
   "cell_type": "code",
   "execution_count": null,
   "id": "126c36ef-389f-44aa-8dbe-d015d2bbe2b3",
   "metadata": {},
   "outputs": [],
   "source": [
    "The difference is that 'cat' in spam checks for the key in the dictionary exists or not \n",
    "whereas 'cat' in spam.values() looks for 'cat' as a value for any of the keys mentioned in the dictionary."
   ]
  },
  {
   "cell_type": "code",
   "execution_count": null,
   "id": "dd22165f-dced-4b71-845d-dc2b0a71ddf4",
   "metadata": {},
   "outputs": [],
   "source": [
    "7. What is a shortcut for the following code?\n",
    "if 'color' not in spam:\n",
    "spam['color'] = 'black'"
   ]
  },
  {
   "cell_type": "code",
   "execution_count": null,
   "id": "da6a3984-0959-47be-9135-1ec9e74cb201",
   "metadata": {},
   "outputs": [],
   "source": [
    "spam.setdefault('color','black')"
   ]
  },
  {
   "cell_type": "code",
   "execution_count": null,
   "id": "9e29c3ba-e747-4454-8ed3-dd60797688b5",
   "metadata": {},
   "outputs": [],
   "source": [
    "pprint.pprint() The module used is the pprint module within which we have the pprint function of the same name."
   ]
  }
 ],
 "metadata": {
  "kernelspec": {
   "display_name": "Python 3 (ipykernel)",
   "language": "python",
   "name": "python3"
  },
  "language_info": {
   "codemirror_mode": {
    "name": "ipython",
    "version": 3
   },
   "file_extension": ".py",
   "mimetype": "text/x-python",
   "name": "python",
   "nbconvert_exporter": "python",
   "pygments_lexer": "ipython3",
   "version": "3.10.6"
  }
 },
 "nbformat": 4,
 "nbformat_minor": 5
}
