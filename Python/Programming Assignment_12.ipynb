{
 "cells": [
  {
   "cell_type": "code",
   "execution_count": null,
   "id": "fa6fd6b3-aec8-4b29-98f4-3ec24118ab09",
   "metadata": {},
   "outputs": [],
   "source": [
    "1. Write a Python program to Extract Unique values dictionary values?\n"
   ]
  },
  {
   "cell_type": "code",
   "execution_count": 4,
   "id": "29dea5a8-cd05-4e61-9cc5-01d3ce377e36",
   "metadata": {},
   "outputs": [
    {
     "name": "stdout",
     "output_type": "stream",
     "text": [
      "Daisy\n",
      "Goldy\n",
      "Anna\n",
      "Anna\n",
      "Dolly\n",
      "Divya\n",
      "Divya\n",
      "Roshni\n"
     ]
    }
   ],
   "source": [
    "dictionary={'studnets':['Daisy','Goldy','Anna'],'teachers':['Anna','Dolly','Divya'],'workers':['Divya','Roshni']}\n",
    "for val in dictionary.values():\n",
    "    for v in val:\n",
    "        print(v)"
   ]
  },
  {
   "cell_type": "code",
   "execution_count": null,
   "id": "e873f746-b345-4e3b-83bb-13c6a9a40a4c",
   "metadata": {},
   "outputs": [],
   "source": [
    "2. Write a Python program to find the sum of all items in a dictionary?\n"
   ]
  },
  {
   "cell_type": "code",
   "execution_count": 5,
   "id": "a7b4ce9c-3892-4f13-b22c-e9f34d6d921b",
   "metadata": {},
   "outputs": [
    {
     "name": "stdout",
     "output_type": "stream",
     "text": [
      "126\n"
     ]
    }
   ],
   "source": [
    "Dict={'one':12,'two': 54,'three': 26,'four': 34}\n",
    "sum=0\n",
    "for i in Dict.values():\n",
    "    sum=sum+i\n",
    "print(sum)"
   ]
  },
  {
   "cell_type": "code",
   "execution_count": null,
   "id": "3be58894-4b21-4617-a360-b442c9bc1593",
   "metadata": {},
   "outputs": [],
   "source": [
    "3. Write a Python program to Merging two Dictionaries?\n"
   ]
  },
  {
   "cell_type": "code",
   "execution_count": 4,
   "id": "8ce8596c-aac9-4190-b358-efd65a8792be",
   "metadata": {},
   "outputs": [
    {
     "name": "stdout",
     "output_type": "stream",
     "text": [
      "{'one': 12, 'two': 54, 'three': 26, 'four': 34, 'five': 21, 'six': 14, 'seven': 16, 'eight': 43}\n"
     ]
    }
   ],
   "source": [
    "Dict1={'one':12,'two': 54,'three': 26,'four': 34}\n",
    "Dict2={'five':21,'six': 14,'seven': 16,'eight':43}\n",
    "s=Dict1.copy()\n",
    "s.update(Dict2)\n",
    "print(s)"
   ]
  },
  {
   "cell_type": "code",
   "execution_count": null,
   "id": "d4d2fdc8-2d82-4bda-a66b-7c54c8feb809",
   "metadata": {},
   "outputs": [],
   "source": [
    "4. Write a Python program to convert key-values list to flat dictionary?\n"
   ]
  },
  {
   "cell_type": "code",
   "execution_count": 4,
   "id": "f8e7f2da-e06c-40fe-b954-dd442d02f35a",
   "metadata": {},
   "outputs": [
    {
     "name": "stdout",
     "output_type": "stream",
     "text": [
      "{'month': [1, 2, 3], 'name': ['Jan', 'Feb', 'March']}\n",
      "[[1, 2, 3], ['Jan', 'Feb', 'March']]\n",
      "Flattened dictionary : {1: 'Jan', 2: 'Feb', 3: 'March'}\n"
     ]
    }
   ],
   "source": [
    "dictt = {'month' : [1, 2, 3],\n",
    "            'name' : ['Jan', 'Feb', 'March']}\n",
    "print(str(dictt))\n",
    "x=list(dictt.values())\n",
    "print(x)\n",
    "a=x[0]\n",
    "b=x[1]\n",
    "d=dict()\n",
    "for i in range(0,len(a)):\n",
    "    d[a[i]]=b[i]\n",
    "print(\"Flattened dictionary : \" + str(d))\n"
   ]
  },
  {
   "cell_type": "code",
   "execution_count": null,
   "id": "86964692-4762-4951-a580-4bf283e39b71",
   "metadata": {},
   "outputs": [],
   "source": [
    "5. Write a Python program to insertion at the beginning in OrderedDict?\n"
   ]
  },
  {
   "cell_type": "code",
   "execution_count": 7,
   "id": "7b199848-1017-4fc6-8e9b-375686214ac4",
   "metadata": {},
   "outputs": [
    {
     "name": "stdout",
     "output_type": "stream",
     "text": [
      "Result: OrderedDict([('Shruti', '7'), ('Dilpreet', '10'), ('Nikita', '9')])\n"
     ]
    }
   ],
   "source": [
    "from collections import OrderedDict\n",
    "ordered = OrderedDict([('Dilpreet', '10'), ('Nikita', '9')])\n",
    "ordered.update({'Shruti': '7'})\n",
    "ordered.move_to_end('Shruti', last=False)\n",
    "print(\"Result: \"+str(ordered))"
   ]
  },
  {
   "cell_type": "code",
   "execution_count": null,
   "id": "2dc9d520-ef5c-4d65-ac48-aaebdf5004d8",
   "metadata": {},
   "outputs": [],
   "source": [
    "6. Write a Python program to check order of character in string using OrderedDict()?\n"
   ]
  },
  {
   "cell_type": "code",
   "execution_count": 7,
   "id": "350d63c1-93a7-4c3f-994a-aecb04b0c098",
   "metadata": {},
   "outputs": [
    {
     "name": "stdout",
     "output_type": "stream",
     "text": [
      "OrderedDict([('W', None), ('e', None), ('l', None), ('c', None), ('o', None), ('m', None)])\n",
      "W\n",
      "e\n",
      "l\n",
      "c\n",
      "0\n",
      "o\n",
      "m\n",
      "1\n",
      "True\n"
     ]
    }
   ],
   "source": [
    "from collections import OrderedDict \n",
    "def checkOrder(string, pattern): \n",
    "    dic = OrderedDict.fromkeys(string) \n",
    "    print(dic)\n",
    "    ptr = 0\n",
    "    for key,values in dic.items():\n",
    "        print(key)\n",
    "        if (key == pattern[ptr]): \n",
    "            print(ptr)\n",
    "            ptr = ptr + 1\n",
    "        if (ptr == (len(pattern))): \n",
    "            return 'True'\n",
    "    return 'False'\n",
    "\n",
    "string2= 'Welcome'\n",
    "pattern2= 'cm'\n",
    "print (checkOrder(string2,pattern2)) "
   ]
  },
  {
   "cell_type": "code",
   "execution_count": null,
   "id": "c565f2da-4d87-4629-8f56-4abafa8a434d",
   "metadata": {},
   "outputs": [],
   "source": [
    "7. Write a Python program to sort Python Dictionaries by Key or Value?"
   ]
  },
  {
   "cell_type": "code",
   "execution_count": 17,
   "id": "959a3dcf-20cf-40b5-80b8-596602405167",
   "metadata": {},
   "outputs": [
    {
     "name": "stdout",
     "output_type": "stream",
     "text": [
      "['Sanjana', 'Nikita', 'Shruti', 'Sara', 'Dilpreet']\n",
      "{'Dilpreet': '10', 'Nikita': '9', 'Sanjana': '8', 'Sara': '8', 'Shruti': '7'}\n"
     ]
    }
   ],
   "source": [
    "D = {'Sanjana':'8','Nikita':'9','Shruti':'7','Sara':'8','Dilpreet':'10'}\n",
    "Keys = list(D.keys())\n",
    "print(Keys)\n",
    "Keys.sort()\n",
    "sorted_dict = {i: D[i] for i in Keys}\n",
    " \n",
    "print(sorted_dict)"
   ]
  },
  {
   "cell_type": "code",
   "execution_count": null,
   "id": "2f831734-7414-4777-a3d7-273934c7c7a0",
   "metadata": {},
   "outputs": [],
   "source": []
  }
 ],
 "metadata": {
  "kernelspec": {
   "display_name": "Python 3 (ipykernel)",
   "language": "python",
   "name": "python3"
  },
  "language_info": {
   "codemirror_mode": {
    "name": "ipython",
    "version": 3
   },
   "file_extension": ".py",
   "mimetype": "text/x-python",
   "name": "python",
   "nbconvert_exporter": "python",
   "pygments_lexer": "ipython3",
   "version": "3.10.6"
  }
 },
 "nbformat": 4,
 "nbformat_minor": 5
}
