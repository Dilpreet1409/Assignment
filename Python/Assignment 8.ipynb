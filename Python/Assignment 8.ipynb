{
 "cells": [
  {
   "cell_type": "code",
   "execution_count": null,
   "id": "c421c69a-a7f2-454c-8fd0-f57f54f5374e",
   "metadata": {},
   "outputs": [],
   "source": [
    "1. Is the Python Standard Library included with PyInputPlus?\n"
   ]
  },
  {
   "cell_type": "code",
   "execution_count": null,
   "id": "ae4a5a91-e5c7-453f-b377-bff9283fc151",
   "metadata": {},
   "outputs": [],
   "source": [
    "No, PyInputPlus is a third-party module and doesn’t come with the Python Standard Library.\n",
    "PyInputPlus is a Python module used for taking inputs with additional validation features. \n",
    "PyInputPlus will keep asking the user for text until they enter valid input."
   ]
  },
  {
   "cell_type": "code",
   "execution_count": null,
   "id": "3a14483c-2080-4801-b6f3-0cd18ce08a62",
   "metadata": {},
   "outputs": [],
   "source": [
    "2. Why is PyInputPlus commonly imported with import pyinputplus as pypi?\n"
   ]
  },
  {
   "cell_type": "code",
   "execution_count": null,
   "id": "59e2225d-d582-4f38-ac21-49163085067e",
   "metadata": {},
   "outputs": [],
   "source": [
    "as keyword is used to create an alias in Python\n",
    "To create an alias for module name in import statement as it is shorter and easier to refer in writing further code."
   ]
  },
  {
   "cell_type": "code",
   "execution_count": null,
   "id": "3a5f8f31-4d2b-4cc9-96f6-e7f74166bcd8",
   "metadata": {},
   "outputs": [],
   "source": [
    "3. How do you distinguish between inputInt() and inputFloat()?\n"
   ]
  },
  {
   "cell_type": "code",
   "execution_count": null,
   "id": "2c1f9abd-d774-4034-87a1-119d402efb19",
   "metadata": {},
   "outputs": [],
   "source": [
    "inputInt() : Accepts an integer value. Returns an int.Example- 3 \n",
    "inputFloat() : Accepts a floating-point numeric value. Returns a float. Example- 3.0 or 3.5"
   ]
  },
  {
   "cell_type": "code",
   "execution_count": null,
   "id": "1ac00333-901b-4398-b7b4-f3e3702d6320",
   "metadata": {},
   "outputs": [],
   "source": [
    "4. Using PyInputPlus, how do you ensure that the user enters a whole number between 0 and 99?\n"
   ]
  },
  {
   "cell_type": "code",
   "execution_count": null,
   "id": "ef75fffe-4c78-4485-8e7a-a191101f1fc3",
   "metadata": {},
   "outputs": [],
   "source": [
    "The min and max parameters can be used to set lower and upper bounds for the input.\n",
    "i = pyip.inputInt(prompt = \"Enter an Integer... \",\n",
    "                    min = 0, lessThan = 99 )"
   ]
  },
  {
   "cell_type": "code",
   "execution_count": null,
   "id": "0ebb208a-0a4a-4858-814b-9067e12b03c6",
   "metadata": {},
   "outputs": [],
   "source": [
    "5. What is transferred to the keyword arguments allowRegexes and blockRegexes?\n"
   ]
  },
  {
   "cell_type": "code",
   "execution_count": null,
   "id": "8755ec48-dbc2-4a29-be2e-94e3a7deed91",
   "metadata": {},
   "outputs": [],
   "source": [
    "Certain inputs can be blocked (that is, these values are invalidated) by setting the blockRegexes parameter’s value\n",
    "as the regex pattern we want to invalidate and certain inputs can be allowed by setting allowRegexes."
   ]
  },
  {
   "cell_type": "code",
   "execution_count": null,
   "id": "945cef9f-c9f9-4cea-99cb-2694cd79f258",
   "metadata": {},
   "outputs": [],
   "source": [
    "6. If a blank input is entered three times, what does inputStr(limit=3) do?\n"
   ]
  },
  {
   "cell_type": "code",
   "execution_count": null,
   "id": "c69fbf58-8c9c-48c1-8ac5-43f6b439c195",
   "metadata": {},
   "outputs": [],
   "source": [
    " It will throw RetryLimitException exception."
   ]
  },
  {
   "cell_type": "code",
   "execution_count": null,
   "id": "b6515b2e-6d8e-4094-ab31-8feea07b767c",
   "metadata": {},
   "outputs": [],
   "source": [
    "7. If blank input is entered three times, what does inputStr(limit=3, default=\"hello\" do?"
   ]
  },
  {
   "cell_type": "code",
   "execution_count": null,
   "id": "3a0b2a15-e38c-4f02-9ef5-67fbbcdbc150",
   "metadata": {},
   "outputs": [],
   "source": [
    " It will return value 'hello'"
   ]
  }
 ],
 "metadata": {
  "kernelspec": {
   "display_name": "Python 3 (ipykernel)",
   "language": "python",
   "name": "python3"
  },
  "language_info": {
   "codemirror_mode": {
    "name": "ipython",
    "version": 3
   },
   "file_extension": ".py",
   "mimetype": "text/x-python",
   "name": "python",
   "nbconvert_exporter": "python",
   "pygments_lexer": "ipython3",
   "version": "3.10.6"
  }
 },
 "nbformat": 4,
 "nbformat_minor": 5
}
