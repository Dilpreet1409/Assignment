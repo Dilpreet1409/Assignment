{
 "cells": [
  {
   "cell_type": "code",
   "execution_count": null,
   "id": "bd969e94-1a21-4fcb-ba67-82763708e68e",
   "metadata": {},
   "outputs": [],
   "source": [
    "1. Write a Python program to find sum of elements in list?\n"
   ]
  },
  {
   "cell_type": "code",
   "execution_count": 6,
   "id": "fcffe42c-b381-4831-8573-0f4e84bbe8bf",
   "metadata": {},
   "outputs": [
    {
     "name": "stdin",
     "output_type": "stream",
     "text": [
      "Enter elements:  1 2 3 4 5\n"
     ]
    },
    {
     "name": "stdout",
     "output_type": "stream",
     "text": [
      "15\n"
     ]
    }
   ],
   "source": [
    "l = input(\"Enter elements: \").split()\n",
    "total=0\n",
    "for val in l:\n",
    "    total = total + int(val)\n",
    "print(total)"
   ]
  },
  {
   "cell_type": "code",
   "execution_count": null,
   "id": "eac5bf0b-d25c-40d4-8739-e52b14e473a5",
   "metadata": {},
   "outputs": [],
   "source": [
    "2. Write a Python program to Multiply all numbers in the list?\n"
   ]
  },
  {
   "cell_type": "code",
   "execution_count": 8,
   "id": "6133b342-f3ae-418e-8361-6b38b760d98a",
   "metadata": {},
   "outputs": [
    {
     "name": "stdin",
     "output_type": "stream",
     "text": [
      "Enter elements:  1 2 3 4 5\n"
     ]
    },
    {
     "name": "stdout",
     "output_type": "stream",
     "text": [
      "120\n"
     ]
    }
   ],
   "source": [
    "l = input(\"Enter elements: \").split()\n",
    "total=1\n",
    "for val in l:\n",
    "    total = total * int(val)\n",
    "print(total)"
   ]
  },
  {
   "cell_type": "code",
   "execution_count": null,
   "id": "a77605ea-1d98-423b-b419-620da5df9190",
   "metadata": {},
   "outputs": [],
   "source": [
    "3. Write a Python program to find smallest number in a list?\n"
   ]
  },
  {
   "cell_type": "code",
   "execution_count": 12,
   "id": "af1f9a23-25ba-4a3c-acd3-4bd81c9e4dba",
   "metadata": {},
   "outputs": [
    {
     "name": "stdin",
     "output_type": "stream",
     "text": [
      "Enter elements:  1 0 23 4\n"
     ]
    },
    {
     "name": "stdout",
     "output_type": "stream",
     "text": [
      "0\n"
     ]
    }
   ],
   "source": [
    "l = input(\"Enter elements: \").split()\n",
    "print(min(l))"
   ]
  },
  {
   "cell_type": "code",
   "execution_count": null,
   "id": "383ea871-ee16-45bc-a8ac-dbd716765c21",
   "metadata": {},
   "outputs": [],
   "source": [
    "4. Write a Python program to find largest number in a list?\n"
   ]
  },
  {
   "cell_type": "code",
   "execution_count": 13,
   "id": "8c470332-8ee6-45e3-b4d7-618e97e6152a",
   "metadata": {},
   "outputs": [
    {
     "name": "stdin",
     "output_type": "stream",
     "text": [
      "Enter elements:  1 23 45 67 89 2 3\n"
     ]
    },
    {
     "name": "stdout",
     "output_type": "stream",
     "text": [
      "89\n"
     ]
    }
   ],
   "source": [
    "l = input(\"Enter elements: \").split()\n",
    "print(max(l))"
   ]
  },
  {
   "cell_type": "code",
   "execution_count": null,
   "id": "36dad1e7-bf90-407f-9c7f-0e3a7287cf82",
   "metadata": {},
   "outputs": [],
   "source": [
    "5. Write a Python program to find second largest number in a list?\n"
   ]
  },
  {
   "cell_type": "code",
   "execution_count": 6,
   "id": "761ff086-3ce2-4dc2-8898-cac52aa4a4fe",
   "metadata": {},
   "outputs": [
    {
     "name": "stdin",
     "output_type": "stream",
     "text": [
      "Enter elements:  12 34 56 78 98 65 43 \n"
     ]
    },
    {
     "name": "stdout",
     "output_type": "stream",
     "text": [
      "78\n"
     ]
    }
   ],
   "source": [
    "l = input(\"Enter elements: \").split()\n",
    "l = [int(i) for i in l]\n",
    "l.sort(reverse=True)  \n",
    "print(l[1])  \n",
    "\n"
   ]
  },
  {
   "cell_type": "code",
   "execution_count": null,
   "id": "93c3f273-84c6-4e0c-b8c1-a26de00a75ba",
   "metadata": {},
   "outputs": [],
   "source": [
    "6. Write a Python program to find N largest elements from a list?\n"
   ]
  },
  {
   "cell_type": "code",
   "execution_count": 17,
   "id": "441b7fe9-9549-4222-be3a-63556a18bbcc",
   "metadata": {},
   "outputs": [
    {
     "name": "stdin",
     "output_type": "stream",
     "text": [
      "Enter elements:  1 67 20 10 98 73 23\n",
      "Number of largest elements to find: 3\n"
     ]
    },
    {
     "name": "stdout",
     "output_type": "stream",
     "text": [
      "N largest elements: [98, 73, 67]\n"
     ]
    }
   ],
   "source": [
    "l = input(\"Enter elements: \").split()\n",
    "l = [int(i) for i in l]\n",
    "N = int(input(\"Number of largest elements to find:\"))\n",
    "l.sort(reverse=True)\n",
    "largest_elements = l[:N]\n",
    "print(\"N largest elements:\", largest_elements)"
   ]
  },
  {
   "cell_type": "code",
   "execution_count": null,
   "id": "01c6c01c-25f1-4e76-a7e7-08f54c3b3a3d",
   "metadata": {},
   "outputs": [],
   "source": [
    "7. Write a Python program to print even numbers in a list?\n"
   ]
  },
  {
   "cell_type": "code",
   "execution_count": 20,
   "id": "6c28bc43-9630-4b62-ae7e-e0dcfa73e545",
   "metadata": {},
   "outputs": [
    {
     "name": "stdin",
     "output_type": "stream",
     "text": [
      "Enter elements:  10 19 18 17 24 33 44 102 22\n"
     ]
    },
    {
     "name": "stdout",
     "output_type": "stream",
     "text": [
      "10\n",
      "18\n",
      "24\n",
      "44\n",
      "102\n",
      "22\n"
     ]
    }
   ],
   "source": [
    "l = input(\"Enter elements: \").split()\n",
    "l = [int(i) for i in l]\n",
    "for i in l:\n",
    "    if i % 2==0:\n",
    "        print(i)\n"
   ]
  },
  {
   "cell_type": "code",
   "execution_count": null,
   "id": "c1dd2dda-1738-43b3-9c59-359471905c9f",
   "metadata": {},
   "outputs": [],
   "source": [
    "8. Write a Python program to print odd numbers in a List?\n"
   ]
  },
  {
   "cell_type": "code",
   "execution_count": 21,
   "id": "d4f261fe-6b28-4ade-81ba-76042d7609b7",
   "metadata": {},
   "outputs": [
    {
     "name": "stdin",
     "output_type": "stream",
     "text": [
      "Enter elements:  1 34 22 45 67 89 23 88\n"
     ]
    },
    {
     "name": "stdout",
     "output_type": "stream",
     "text": [
      "1\n",
      "45\n",
      "67\n",
      "89\n",
      "23\n"
     ]
    }
   ],
   "source": [
    "l = input(\"Enter elements: \").split()\n",
    "l = [int(i) for i in l]\n",
    "for i in l:\n",
    "    if i % 2!=0:\n",
    "        print(i)"
   ]
  },
  {
   "cell_type": "code",
   "execution_count": null,
   "id": "d3dac889-af45-4a07-8b6e-5971046ee1fc",
   "metadata": {},
   "outputs": [],
   "source": [
    "9. Write a Python program to Remove empty List from List?\n"
   ]
  },
  {
   "cell_type": "code",
   "execution_count": 24,
   "id": "c744e409-fe7f-4b54-b355-af969bd5dfd4",
   "metadata": {},
   "outputs": [
    {
     "name": "stdin",
     "output_type": "stream",
     "text": [
      "Enter elements:  1 3 [] 4\n"
     ]
    },
    {
     "name": "stdout",
     "output_type": "stream",
     "text": [
      "New list: ['1', '3', '4']\n"
     ]
    }
   ],
   "source": [
    "l = input(\"Enter elements: \").split()\n",
    "new_l = [x for x in l if x != '[]']\n",
    "print(\"New list:\", new_l)"
   ]
  },
  {
   "cell_type": "code",
   "execution_count": 23,
   "id": "496e4ab4-8120-4b74-9b64-49a90ec62497",
   "metadata": {},
   "outputs": [
    {
     "name": "stdout",
     "output_type": "stream",
     "text": [
      "Updated list: [1, 2, 3, 4, 5]\n"
     ]
    }
   ],
   "source": [
    "my_list = [1, 2, [], 3, [], 4, [], 5]\n",
    "\n",
    "# Remove empty lists from the list\n",
    "new_list = [x for x in my_list if x != []]\n",
    "\n",
    "# Print the updated list\n",
    "print(\"Updated list:\", new_list)\n"
   ]
  },
  {
   "cell_type": "code",
   "execution_count": null,
   "id": "d5a0a7e6-d3c3-4642-af77-a9670e87d25e",
   "metadata": {},
   "outputs": [],
   "source": [
    "10. Write a Python program to Cloning or Copying a list?\n"
   ]
  },
  {
   "cell_type": "code",
   "execution_count": 15,
   "id": "d6fe04c0-9b01-4f8a-8f2b-60b560d4b5b2",
   "metadata": {},
   "outputs": [
    {
     "name": "stdin",
     "output_type": "stream",
     "text": [
      "Enter elements:  1 2 3 4 5 5 5 5\n"
     ]
    },
    {
     "name": "stdout",
     "output_type": "stream",
     "text": [
      "[1, 2, 3, 4, 5, 5, 5, 5]\n"
     ]
    }
   ],
   "source": [
    "l = input(\"Enter elements: \").split()\n",
    "l = [int(i) for i in l]\n",
    "copy=[]\n",
    "for i in l:\n",
    "    copy.append(i)\n",
    "print(copy)"
   ]
  },
  {
   "cell_type": "code",
   "execution_count": null,
   "id": "4b31ed74-bdd9-4e46-9413-b1dffdf365e6",
   "metadata": {},
   "outputs": [],
   "source": [
    "11. Write a Python program to Count occurrences of an element in a list?"
   ]
  },
  {
   "cell_type": "code",
   "execution_count": 14,
   "id": "1b6f4151-0e3c-4f56-aac2-47d43c84bb75",
   "metadata": {},
   "outputs": [
    {
     "name": "stdin",
     "output_type": "stream",
     "text": [
      "Enter elements:  1 2 3 4 4 4 5 5 4 6\n",
      "Enter the element whose occurance you want to count: 4\n"
     ]
    },
    {
     "name": "stdout",
     "output_type": "stream",
     "text": [
      "4\n"
     ]
    }
   ],
   "source": [
    "l = input(\"Enter elements: \").split()\n",
    "l = [int(i) for i in l]\n",
    "e=int(input(\"Enter the element whose occurance you want to count:\"))\n",
    "count=0\n",
    "for i in l:\n",
    "    if i == e:\n",
    "        count+=1\n",
    "    \n",
    "print(count)\n"
   ]
  }
 ],
 "metadata": {
  "kernelspec": {
   "display_name": "Python 3 (ipykernel)",
   "language": "python",
   "name": "python3"
  },
  "language_info": {
   "codemirror_mode": {
    "name": "ipython",
    "version": 3
   },
   "file_extension": ".py",
   "mimetype": "text/x-python",
   "name": "python",
   "nbconvert_exporter": "python",
   "pygments_lexer": "ipython3",
   "version": "3.10.6"
  }
 },
 "nbformat": 4,
 "nbformat_minor": 5
}
