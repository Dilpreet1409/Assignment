{
 "cells": [
  {
   "cell_type": "code",
   "execution_count": null,
   "id": "2e6d6734-1d7b-4d55-8656-3a12df52c162",
   "metadata": {},
   "outputs": [],
   "source": [
    "1. What is the result of the code, and explain?\n",
    ">>> X = 'iNeuron'\n",
    ">>> def func():\n",
    "print(X)\n",
    ">>> func()"
   ]
  },
  {
   "cell_type": "code",
   "execution_count": 1,
   "id": "5285e645-c535-47d8-abdf-a186d16fd49a",
   "metadata": {},
   "outputs": [
    {
     "name": "stdout",
     "output_type": "stream",
     "text": [
      "iNeuron\n"
     ]
    }
   ],
   "source": [
    "X = 'iNeuron'\n",
    "def func():\n",
    "    print(X)\n",
    "func()"
   ]
  },
  {
   "cell_type": "code",
   "execution_count": null,
   "id": "52d0db00-2a28-4af3-8e74-a9aaa1e6424a",
   "metadata": {},
   "outputs": [],
   "source": [
    "The result of this function is iNeuron because the function intially looks for the variable X in its local scope\n",
    "since there is no local variable X, its returns the value of global variable x which is iNeuron."
   ]
  },
  {
   "cell_type": "code",
   "execution_count": null,
   "id": "bbe3fd3d-de7c-482f-a794-aa1d65aa6c7f",
   "metadata": {},
   "outputs": [],
   "source": [
    "2. What is the result of the code, and explain?\n",
    ">>> X = 'iNeuron'\n",
    ">>> def func():\n",
    "X = 'NI!'\n",
    ">>> func()\n",
    ">>> print(X)"
   ]
  },
  {
   "cell_type": "code",
   "execution_count": 4,
   "id": "1f547b0b-b52c-4bfb-b02b-57a6c9d31c69",
   "metadata": {},
   "outputs": [
    {
     "name": "stdout",
     "output_type": "stream",
     "text": [
      "iNeuron\n"
     ]
    }
   ],
   "source": [
    "X = 'iNeuron'\n",
    "def func():\n",
    "    X = 'NI!'\n",
    "func()\n",
    "print(X)"
   ]
  },
  {
   "cell_type": "code",
   "execution_count": null,
   "id": "f8b32913-17e0-4c9f-a6f4-4739e30b84dd",
   "metadata": {},
   "outputs": [],
   "source": [
    "The result of this function is iNeuron because when the function is called using func(), \n",
    "it updates the local variable X within the scope of the function, but this change does not affect the value of \n",
    "the global variable X defined outside the function. So, within the func() function, X is 'NI!', but outside the function, \n",
    "X remains 'iNeuron'.\n",
    "Then when print(X) is executed which is outside the function, it refers to the global variable X and prints its value,\n",
    "which is 'iNeuron'."
   ]
  },
  {
   "cell_type": "code",
   "execution_count": null,
   "id": "94904262-8cc6-44cd-b541-7034eb88df48",
   "metadata": {},
   "outputs": [],
   "source": [
    "3. What does this code print, and why?\n",
    ">>> X = 'iNeuron'\n",
    ">>> def func():\n",
    "X = 'NI'\n",
    "print(X)\n",
    ">>> func()\n",
    ">>> print(X)"
   ]
  },
  {
   "cell_type": "code",
   "execution_count": 6,
   "id": "e60605e3-958c-4f0f-959a-288a5d88ea5d",
   "metadata": {},
   "outputs": [
    {
     "name": "stdout",
     "output_type": "stream",
     "text": [
      "NI\n",
      "iNeuron\n"
     ]
    }
   ],
   "source": [
    "X = 'iNeuron'\n",
    "def func():\n",
    "    X = 'NI'\n",
    "    print(X)\n",
    "func()\n",
    "print(X)"
   ]
  },
  {
   "cell_type": "code",
   "execution_count": null,
   "id": "21e47363-a5f9-4a63-94af-076e62c4a818",
   "metadata": {},
   "outputs": [],
   "source": [
    "The code results both 'NI' and 'iNeuron' because the local variable x within the function \n",
    "is NI and after that the print statement is executed hence 'NI' is resulted.\n",
    "And when the other print(X) is executed which is outside the function, it refers to the global variable X and prints its value,\n",
    "which is 'iNeuron'."
   ]
  },
  {
   "cell_type": "code",
   "execution_count": null,
   "id": "2bae7d85-8569-4ed0-b1b5-31b980cd220e",
   "metadata": {},
   "outputs": [],
   "source": [
    "4.What output does this code produce? Why?\n",
    ">>> X = 'iNeuron'\n",
    ">>> def func():\n",
    "global X\n",
    "X = 'NI'\n",
    ">>> func()\n",
    ">>> print(X)"
   ]
  },
  {
   "cell_type": "code",
   "execution_count": 7,
   "id": "71169892-cb68-492d-a9d4-98cb20c36163",
   "metadata": {},
   "outputs": [
    {
     "name": "stdout",
     "output_type": "stream",
     "text": [
      "NI\n"
     ]
    }
   ],
   "source": [
    "X = 'iNeuron'\n",
    "def func():\n",
    "    global X\n",
    "    X = 'NI'\n",
    "func()\n",
    "print(X)"
   ]
  },
  {
   "cell_type": "code",
   "execution_count": null,
   "id": "d556abbb-f3b8-492c-af1c-e946d552cd2e",
   "metadata": {},
   "outputs": [],
   "source": [
    "The result is 'NI' becuase the global keyword allows a variable to be accessible in the current scope\n",
    "since we are using global keyword inside the function func it directly access the variable in X in global scope\n",
    "and changes its value to 'NI'.Therefore the output of the code is 'NI'"
   ]
  },
  {
   "cell_type": "code",
   "execution_count": null,
   "id": "128f071f-eb46-4a94-83b2-ae86d744d497",
   "metadata": {},
   "outputs": [],
   "source": [
    "5. What about this code—what’s the output, and why?\n",
    ">>> X = 'iNeuron'\n",
    ">>> def func():\n",
    "X = 'NI'\n",
    "def nested():\n",
    "print(X)\n",
    "nested()\n",
    ">>> func()\n",
    ">>> X"
   ]
  },
  {
   "cell_type": "code",
   "execution_count": 9,
   "id": "6a166d9a-bc77-4bfc-96d1-a913f9e61a4b",
   "metadata": {},
   "outputs": [
    {
     "name": "stdout",
     "output_type": "stream",
     "text": [
      "NI\n"
     ]
    },
    {
     "data": {
      "text/plain": [
       "'iNeuron'"
      ]
     },
     "execution_count": 9,
     "metadata": {},
     "output_type": "execute_result"
    }
   ],
   "source": [
    "X = 'iNeuron'\n",
    "def func():\n",
    "    X = 'NI'\n",
    "    def nested():\n",
    "        print(X)\n",
    "    nested()\n",
    "func()\n",
    "X"
   ]
  },
  {
   "cell_type": "code",
   "execution_count": null,
   "id": "e49be0d5-22f7-43e7-bac1-ee6db9802c92",
   "metadata": {},
   "outputs": [],
   "source": [
    "The local variable X defined within the func() function does not affect the value of the global variable X. \n",
    "When func() is called, it prints 'NI' as the result of the nested function call. \n",
    "However, the global variable X remains unchanged and retains its initial value of 'iNeuron', \n",
    "which is printed separately after executing func()"
   ]
  },
  {
   "cell_type": "code",
   "execution_count": null,
   "id": "2e3578ea-7feb-464e-b3d7-a594311b252a",
   "metadata": {},
   "outputs": [],
   "source": [
    "6. How about this code: what is its output in Python 3, and explain?\n",
    ">>> def func():\n",
    "X = 'NI'\n",
    "def nested():\n",
    "nonlocal X\n",
    "X = 'Spam'\n",
    "nested()\n",
    "print(X)\n",
    ">>> func()"
   ]
  },
  {
   "cell_type": "code",
   "execution_count": 3,
   "id": "7627a756-21d6-454e-bd0a-a38b622b9ad4",
   "metadata": {},
   "outputs": [
    {
     "name": "stdout",
     "output_type": "stream",
     "text": [
      "Spam\n"
     ]
    }
   ],
   "source": [
    "def func():\n",
    "    X = 'NI'\n",
    "    def nested():\n",
    "        nonlocal X\n",
    "        X = 'Spam'\n",
    "    nested()\n",
    "    print(X)\n",
    "func()"
   ]
  },
  {
   "cell_type": "code",
   "execution_count": null,
   "id": "e98f5bbf-53bd-41fe-b11a-cd5ef0d7c7f1",
   "metadata": {},
   "outputs": [],
   "source": [
    "The result is Spam.  nonlocal keyword allows inner functions to modify variables from their immediate outer scope,\n",
    "i.e. it allows the nested() function to modify the X variable defined in the func() function. \n",
    "As a result, the final value of X is 'Spam', which is printed when func() is executed."
   ]
  }
 ],
 "metadata": {
  "kernelspec": {
   "display_name": "Python 3 (ipykernel)",
   "language": "python",
   "name": "python3"
  },
  "language_info": {
   "codemirror_mode": {
    "name": "ipython",
    "version": 3
   },
   "file_extension": ".py",
   "mimetype": "text/x-python",
   "name": "python",
   "nbconvert_exporter": "python",
   "pygments_lexer": "ipython3",
   "version": "3.10.6"
  }
 },
 "nbformat": 4,
 "nbformat_minor": 5
}
