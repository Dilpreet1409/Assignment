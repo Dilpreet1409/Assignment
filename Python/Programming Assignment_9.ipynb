{
 "cells": [
  {
   "cell_type": "code",
   "execution_count": null,
   "id": "f301b9b3-2555-437c-b4d6-2617572fd415",
   "metadata": {},
   "outputs": [],
   "source": [
    "1. Write a Python program to check if the given number is a Disarium Number?\n"
   ]
  },
  {
   "cell_type": "code",
   "execution_count": 9,
   "id": "623f835a-4c9b-42b3-b519-6ff1c2e00671",
   "metadata": {},
   "outputs": [
    {
     "name": "stdin",
     "output_type": "stream",
     "text": [
      "Enter a number: 175\n"
     ]
    },
    {
     "name": "stdout",
     "output_type": "stream",
     "text": [
      "Disarium Number\n"
     ]
    }
   ],
   "source": [
    "'''A number is called Disarium if sum of its digits powered with their respective positions is equal to the number itself.\n",
    "eg. if input is 135 then 1^1 + 3^2 + 5^3 = 135'''\n",
    "import math \n",
    "n=int(input(\"Enter a number:\"))\n",
    "def disarium(n):\n",
    "    count_digits=len(str(n))\n",
    "    sum = 0 \n",
    "    x = n\n",
    "    while (x!=0) :\n",
    "        r = x % 10\n",
    "        sum = (int)(sum + math.pow(r, count_digits))\n",
    "        count_digits = count_digits - 1\n",
    "        x = x//10\n",
    "    if sum == n:\n",
    "        print (\"Disarium Number\")\n",
    "    else :\n",
    "        print (\"Not a Disarium Number\")\n",
    "disarium(n)"
   ]
  },
  {
   "cell_type": "code",
   "execution_count": null,
   "id": "7a81c8d7-178e-47f5-a759-4e0a3b282ab5",
   "metadata": {},
   "outputs": [],
   "source": [
    "2. Write a Python program to print all disarium numbers between 1 to 100?\n"
   ]
  },
  {
   "cell_type": "code",
   "execution_count": 21,
   "id": "bfed94fc-6244-4220-97f5-6e4f47ee2371",
   "metadata": {},
   "outputs": [
    {
     "name": "stdout",
     "output_type": "stream",
     "text": [
      "1 is a Disarium Number\n",
      "2 is a Disarium Number\n",
      "3 is a Disarium Number\n",
      "4 is a Disarium Number\n",
      "5 is a Disarium Number\n",
      "6 is a Disarium Number\n",
      "7 is a Disarium Number\n",
      "8 is a Disarium Number\n",
      "9 is a Disarium Number\n",
      "89 is a Disarium Number\n"
     ]
    }
   ],
   "source": [
    "import math \n",
    "for n in range(1,100):\n",
    "    disarium(n)\n",
    "    \n",
    "def disarium(n):\n",
    "    count_digits=len(str(n))\n",
    "    sum = 0 \n",
    "    x = n\n",
    "    while (x!=0) :\n",
    "        r = x % 10\n",
    "        sum = (int)(sum + math.pow(r, count_digits))\n",
    "        count_digits = count_digits - 1\n",
    "        x = x//10\n",
    "    if sum == n:\n",
    "        print (sum,\"is a Disarium Number\")\n",
    "   \n"
   ]
  },
  {
   "cell_type": "code",
   "execution_count": null,
   "id": "8c6cfb5a-22e9-4177-a00e-8e2511785bcb",
   "metadata": {},
   "outputs": [],
   "source": [
    "'''A number is called happy if it leads to 1 after a sequence of steps wherein each step number is replaced\n",
    "by the sum of squares of its digit that is if we start with Happy Number and keep replacing it \n",
    "with digits square sum, we reach 1.'''\n",
    "Input: n = 19\n",
    "Output: True\n",
    "19 is Happy Number,\n",
    "1^2 + 9^2 = 82\n",
    "8^2 + 2^2 = 68\n",
    "6^2 + 8^2 = 100\n",
    "1^2 + 0^2 + 0^2 = 1\n",
    "As we reached to 1, 19 is a Happy Number.\n"
   ]
  },
  {
   "cell_type": "code",
   "execution_count": null,
   "id": "423276b2-57bc-45e3-b027-8690aa8e2e0e",
   "metadata": {},
   "outputs": [],
   "source": [
    "3. Write a Python program to check if the given number is Happy Number?"
   ]
  },
  {
   "cell_type": "code",
   "execution_count": 1,
   "id": "7ba24ed6-ebd8-46a4-b9ee-45b3f0f86ca7",
   "metadata": {},
   "outputs": [
    {
     "name": "stdin",
     "output_type": "stream",
     "text": [
      "Enter a no. 19\n"
     ]
    },
    {
     "name": "stdout",
     "output_type": "stream",
     "text": [
      "19 is a happy number\n"
     ]
    }
   ],
   "source": [
    "n=int(input(\"Enter a no.\"))\n",
    "x=n\n",
    "while(x>=10):\n",
    "    sum=0\n",
    "    while(x!=0):\n",
    "        r=x%10\n",
    "        sum=sum+(r**2)\n",
    "        x=x//10\n",
    "    x=sum\n",
    "if x==1:\n",
    "    print(n,\"is a happy number\")"
   ]
  },
  {
   "cell_type": "code",
   "execution_count": null,
   "id": "b2767072-3db3-438f-b080-8c656e51aef0",
   "metadata": {},
   "outputs": [],
   "source": [
    "4. Write a Python program to print all happy numbers between 1 and 100?\n"
   ]
  },
  {
   "cell_type": "code",
   "execution_count": 56,
   "id": "5368b529-1974-439f-8578-ecbfd325383a",
   "metadata": {},
   "outputs": [
    {
     "name": "stdout",
     "output_type": "stream",
     "text": [
      "Happy numbers between 1 and 100:\n",
      "1\n",
      "10\n",
      "13\n",
      "19\n",
      "23\n",
      "28\n",
      "31\n",
      "32\n",
      "44\n",
      "49\n",
      "68\n",
      "70\n",
      "79\n",
      "82\n",
      "86\n",
      "91\n",
      "94\n",
      "97\n",
      "100\n"
     ]
    }
   ],
   "source": [
    "def happy(n):\n",
    "    x = n\n",
    "    while x >= 10:\n",
    "        s = 0  \n",
    "        while x != 0:\n",
    "            r = x % 10\n",
    "            s += r**2\n",
    "            x = x // 10\n",
    "        x = s\n",
    "    if x == 1:\n",
    "        return True\n",
    "    else:\n",
    "        return False\n",
    "\n",
    "print(\"Happy numbers between 1 and 100:\")\n",
    "for n in range(1, 101):\n",
    "    if happy(n):\n",
    "        print(n)"
   ]
  },
  {
   "cell_type": "code",
   "execution_count": null,
   "id": "7e8a4e7c-cbc8-4992-b6cd-e6485ae47674",
   "metadata": {},
   "outputs": [],
   "source": [
    "5. Write a Python program to determine whether the given number is a Harshad Number?"
   ]
  },
  {
   "cell_type": "code",
   "execution_count": 87,
   "id": "9ee6616f-7222-4c71-a4ea-a7c8c578e492",
   "metadata": {},
   "outputs": [
    {
     "name": "stdin",
     "output_type": "stream",
     "text": [
      " 156\n"
     ]
    },
    {
     "name": "stdout",
     "output_type": "stream",
     "text": [
      "Yes\n"
     ]
    }
   ],
   "source": [
    "'''A Harshad Number (also known as Niven Number) is a number that is divisible by the sum of its digits.'''\n",
    "def Harshad(n):\n",
    "    s = str(n)\n",
    "    sum = 0\n",
    "    for i in s:\n",
    "        sum = sum + int(i)\n",
    "    if (n % sum == 0):\n",
    "        return \"Yes\"\n",
    "    else:\n",
    "        return \"No\"\n",
    "number = int(input())\n",
    "print(Harshad(number))\n",
    " "
   ]
  },
  {
   "cell_type": "code",
   "execution_count": null,
   "id": "612ff055-441a-4ffb-b384-bdb4d472b017",
   "metadata": {},
   "outputs": [],
   "source": [
    "6. Write a Python program to print all pronic numbers between 1 and 100?\n"
   ]
  },
  {
   "cell_type": "code",
   "execution_count": 86,
   "id": "3c8983d8-08eb-4145-b24a-5b0e28788fed",
   "metadata": {},
   "outputs": [
    {
     "name": "stdout",
     "output_type": "stream",
     "text": [
      "1\n",
      "2\n",
      "3\n",
      "4\n",
      "5\n",
      "6\n",
      "7\n",
      "8\n",
      "9\n",
      "10\n",
      "12\n",
      "18\n",
      "20\n",
      "21\n",
      "24\n",
      "27\n",
      "30\n",
      "36\n",
      "40\n",
      "42\n",
      "45\n",
      "48\n",
      "50\n",
      "54\n",
      "60\n",
      "63\n",
      "70\n",
      "72\n",
      "80\n",
      "81\n",
      "84\n",
      "90\n",
      "100\n"
     ]
    }
   ],
   "source": [
    "def Harshad(n):\n",
    "    s = str(n)\n",
    "    sum = 0\n",
    "    for i in s:\n",
    "        sum = sum + int(i)\n",
    "    if sum!=0 and (n % sum == 0):\n",
    "        return True\n",
    "    else:\n",
    "        return False\n",
    "\n",
    "for n in range(1,101):\n",
    "    if Harshad(n):\n",
    "        print(n)\n",
    " "
   ]
  },
  {
   "cell_type": "code",
   "execution_count": null,
   "id": "17b147d5-5aae-437f-b9a9-4dfecc06250b",
   "metadata": {},
   "outputs": [],
   "source": []
  }
 ],
 "metadata": {
  "kernelspec": {
   "display_name": "Python 3 (ipykernel)",
   "language": "python",
   "name": "python3"
  },
  "language_info": {
   "codemirror_mode": {
    "name": "ipython",
    "version": 3
   },
   "file_extension": ".py",
   "mimetype": "text/x-python",
   "name": "python",
   "nbconvert_exporter": "python",
   "pygments_lexer": "ipython3",
   "version": "3.10.6"
  }
 },
 "nbformat": 4,
 "nbformat_minor": 5
}
