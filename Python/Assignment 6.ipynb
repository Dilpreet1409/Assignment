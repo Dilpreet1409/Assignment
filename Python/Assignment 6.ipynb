{
 "cells": [
  {
   "cell_type": "code",
   "execution_count": null,
   "id": "a855debd-cd27-4829-b8e6-24dd38e10aff",
   "metadata": {},
   "outputs": [],
   "source": [
    "1. What are escape characters, and how do you use them?\n",
    "2. What do the escape characters n and t stand for?\n",
    "3. What is the way to include backslash characters in a string?\n",
    "4. The string \"Howl's Moving Castle\" is a correct value. Why isnt the single quote character in the\n",
    "word Howls not escaped a problem?\n",
    "5. How do you write a string of newlines if you do not want to use the n character?\n",
    "6. What are the values of the given expressions?\n",
    "\"Hello, world!\"[1]\n",
    "\"Hello, world!\"[0:5]\n",
    "\"Hello, world!\"[:5]\n",
    "\"Hello, world!\"[3:]\n",
    "\n",
    "7. What are the values of the following expressions?\n",
    "\"Hello\".upper()\n",
    "\"Hello\".upper().isupper()\n",
    "\"Hello\".upper().lower()\n",
    "8. What are the values of the following expressions?\n",
    "\"Remember, remember, the fifth of July.\".split()\n",
    "\"-\".join(\"There can only one.\".split())\n",
    "9. What are the methods for right-justifying, left-justifying, and centering a string?\n",
    "10. What is the best way to remove whitespace characters from the start or end?"
   ]
  },
  {
   "cell_type": "code",
   "execution_count": null,
   "id": "75fc0e8f-7df0-4731-83e9-6eb3aa04f781",
   "metadata": {},
   "outputs": [],
   "source": [
    "1. An escape character are characters that allow us to include special characters in strings.\n",
    "It consists of a backslash \\ followed by the character to be added. "
   ]
  },
  {
   "cell_type": "code",
   "execution_count": null,
   "id": "eb42a06f-0a3b-4526-832f-5bc17ada5c95",
   "metadata": {},
   "outputs": [],
   "source": [
    "2. What do the escape characters n and t stand for?"
   ]
  },
  {
   "cell_type": "code",
   "execution_count": null,
   "id": "fb527e16-29af-4e3b-904d-d67227dcf12c",
   "metadata": {},
   "outputs": [],
   "source": [
    "2. n stands for new line and t stands for tab"
   ]
  },
  {
   "cell_type": "code",
   "execution_count": null,
   "id": "e65de4dc-f52b-4aa1-9906-bf98968a6715",
   "metadata": {},
   "outputs": [],
   "source": [
    "3. What is the way to include backslash characters in a string?"
   ]
  },
  {
   "cell_type": "markdown",
   "id": "cd0b9e13-4b46-4e82-b4eb-18f0c4a6b45e",
   "metadata": {},
   "source": [
    "3. The \\\\ escape character will represent a backslash character in a string."
   ]
  },
  {
   "cell_type": "code",
   "execution_count": null,
   "id": "cc022d5e-a4c5-4d6b-b93f-cd6b55361bce",
   "metadata": {},
   "outputs": [],
   "source": [
    "4. The string \"Howl's Moving Castle\" is a correct value. Why isnt the single quote character in the\n",
    "word Howls not escaped a problem?"
   ]
  },
  {
   "cell_type": "code",
   "execution_count": null,
   "id": "be3fff92-e0b2-41b0-88ed-02542ee7eccc",
   "metadata": {},
   "outputs": [],
   "source": [
    "4. The single quote character in the word howls not escaped because double quotes are used at \n",
    "the beginning and end of the string."
   ]
  },
  {
   "cell_type": "code",
   "execution_count": null,
   "id": "4f864ebb-5ec4-4478-aac2-606a9599ac38",
   "metadata": {},
   "outputs": [],
   "source": []
  },
  {
   "cell_type": "code",
   "execution_count": null,
   "id": "ac7fec48-ffa3-447b-b455-a50eec7f87d4",
   "metadata": {},
   "outputs": [],
   "source": [
    "5. Multiline strings allow us to use newlines in strings without the \\n escape character."
   ]
  },
  {
   "cell_type": "code",
   "execution_count": null,
   "id": "f863fbc8-1475-4d67-9582-04fec32f7588",
   "metadata": {},
   "outputs": [],
   "source": []
  },
  {
   "cell_type": "code",
   "execution_count": null,
   "id": "855b96c9-72ef-4a83-ad29-b87dfd804684",
   "metadata": {},
   "outputs": [],
   "source": [
    "6.'e'"
   ]
  },
  {
   "cell_type": "code",
   "execution_count": null,
   "id": "8f60d7ee-2edf-4de0-b074-3e2967af8d17",
   "metadata": {},
   "outputs": [],
   "source": [
    "'Hello'"
   ]
  },
  {
   "cell_type": "code",
   "execution_count": null,
   "id": "de382d83-7c81-421a-892a-65a8a7fe3515",
   "metadata": {},
   "outputs": [],
   "source": [
    "'Hello'"
   ]
  },
  {
   "cell_type": "code",
   "execution_count": null,
   "id": "26fa3a01-89ab-4443-885f-c796466faacb",
   "metadata": {},
   "outputs": [],
   "source": [
    "'lo, world'"
   ]
  },
  {
   "cell_type": "code",
   "execution_count": null,
   "id": "6873172a-9423-4f37-b669-c990a43a3b6f",
   "metadata": {},
   "outputs": [],
   "source": []
  },
  {
   "cell_type": "code",
   "execution_count": null,
   "id": "2806e40e-c33c-4b24-9343-19561d6e5e30",
   "metadata": {},
   "outputs": [],
   "source": [
    "7.'HELLO'"
   ]
  },
  {
   "cell_type": "code",
   "execution_count": null,
   "id": "52540851-7dd4-4ade-8140-bde1b501792b",
   "metadata": {},
   "outputs": [],
   "source": [
    "True"
   ]
  },
  {
   "cell_type": "code",
   "execution_count": null,
   "id": "c5f23858-a433-4f87-ba99-fb1b2efb62c2",
   "metadata": {},
   "outputs": [],
   "source": [
    "'hello'"
   ]
  },
  {
   "cell_type": "code",
   "execution_count": null,
   "id": "019701a4-643e-4e60-80e0-04042efa74ef",
   "metadata": {},
   "outputs": [],
   "source": []
  },
  {
   "cell_type": "code",
   "execution_count": null,
   "id": "46169808-7713-4931-a9a0-8dc886abd256",
   "metadata": {},
   "outputs": [],
   "source": [
    "8. [\"Remember\", \"remember\", \"the\", \"fifth\", \"of\" , \"July\"]"
   ]
  },
  {
   "cell_type": "code",
   "execution_count": null,
   "id": "bea3b9d4-f7e3-480e-9588-4e290ed6c0a6",
   "metadata": {},
   "outputs": [],
   "source": [
    "'There-can-be-only-one.'"
   ]
  },
  {
   "cell_type": "code",
   "execution_count": null,
   "id": "55d2fe2c-fb54-4bda-976d-a88221b2ce9c",
   "metadata": {},
   "outputs": [],
   "source": []
  },
  {
   "cell_type": "code",
   "execution_count": null,
   "id": "625e45c3-34cd-4cf1-be69-7c91a3d647e6",
   "metadata": {},
   "outputs": [],
   "source": [
    "9.The rjust(), ljust(), and center() string methods"
   ]
  },
  {
   "cell_type": "code",
   "execution_count": null,
   "id": "9e10f777-c86c-4b16-a1c2-c31215ad0ac4",
   "metadata": {},
   "outputs": [],
   "source": []
  },
  {
   "cell_type": "code",
   "execution_count": null,
   "id": "e5bff267-0ab1-42a4-8234-c95e3d648755",
   "metadata": {},
   "outputs": [],
   "source": [
    "10. Use the .strip() method to remove whitespace and characters from the beginning and the end of a string.\n",
    "    Use the .lstrip() method to remove whitespace and characters only from the beginning of a string.\n",
    "    Use the .rstrip() method to remove whitespace and characters only from the end of a string."
   ]
  }
 ],
 "metadata": {
  "kernelspec": {
   "display_name": "Python 3 (ipykernel)",
   "language": "python",
   "name": "python3"
  },
  "language_info": {
   "codemirror_mode": {
    "name": "ipython",
    "version": 3
   },
   "file_extension": ".py",
   "mimetype": "text/x-python",
   "name": "python",
   "nbconvert_exporter": "python",
   "pygments_lexer": "ipython3",
   "version": "3.10.6"
  }
 },
 "nbformat": 4,
 "nbformat_minor": 5
}
