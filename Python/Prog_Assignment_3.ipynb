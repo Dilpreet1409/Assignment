{
 "cells": [
  {
   "cell_type": "code",
   "execution_count": null,
   "id": "f417c251-2fc4-4a98-922d-771ae5e7bee2",
   "metadata": {},
   "outputs": [],
   "source": [
    "1. Write a Python Program to Check if a Number is Positive, Negative or Zero?\n"
   ]
  },
  {
   "cell_type": "code",
   "execution_count": 4,
   "id": "1679ed9d-ba54-49c9-a865-fd849ca6e7a3",
   "metadata": {},
   "outputs": [
    {
     "name": "stdin",
     "output_type": "stream",
     "text": [
      "Enter a number:  4\n"
     ]
    },
    {
     "name": "stdout",
     "output_type": "stream",
     "text": [
      "it is a Postive number\n"
     ]
    }
   ],
   "source": [
    "num = int(input(\"Enter a number: \"))\n",
    "if num > 0:\n",
    "        print('it is a Postive number')\n",
    "elif num < 0:\n",
    "        print('it is a Negative number')\n",
    "else:\n",
    "        print(\"Number is Zero\")\n",
    "        \n"
   ]
  },
  {
   "cell_type": "code",
   "execution_count": null,
   "id": "369ec160-c827-4a85-86b7-64006d607d96",
   "metadata": {},
   "outputs": [],
   "source": [
    "2. Write a Python Program to Check if a Number is Odd or Even?\n"
   ]
  },
  {
   "cell_type": "code",
   "execution_count": 7,
   "id": "4a617222-1f5f-4a98-96ad-cb0c53adc8f4",
   "metadata": {},
   "outputs": [
    {
     "name": "stdin",
     "output_type": "stream",
     "text": [
      "Enter a number:  8\n"
     ]
    },
    {
     "name": "stdout",
     "output_type": "stream",
     "text": [
      "Even number\n"
     ]
    }
   ],
   "source": [
    "num = int(input(\"Enter a number: \"))\n",
    "if num%2 == 0:\n",
    "        print('Even number')\n",
    "else:\n",
    "        print('Odd number')\n",
    "        "
   ]
  },
  {
   "cell_type": "code",
   "execution_count": null,
   "id": "01daa76d-5a38-456f-95fd-eaadc3f7f1af",
   "metadata": {},
   "outputs": [],
   "source": [
    "3. Write a Python Program to Check Leap Year?\n"
   ]
  },
  {
   "cell_type": "code",
   "execution_count": 10,
   "id": "67889baf-2ef2-4b20-a834-675b755e1850",
   "metadata": {},
   "outputs": [
    {
     "name": "stdin",
     "output_type": "stream",
     "text": [
      " 2023\n"
     ]
    },
    {
     "name": "stdout",
     "output_type": "stream",
     "text": [
      "2023 is not a Leap year\n"
     ]
    }
   ],
   "source": [
    "year=int(input())\n",
    "if (year%4 == 0 and year%100 != 0 or year%400 == 0):\n",
    "        print(f'{year} is a Leap year')\n",
    "else:\n",
    "        print(f'{year} is not a Leap year')"
   ]
  },
  {
   "cell_type": "code",
   "execution_count": null,
   "id": "eaa497cf-0a0f-408f-88dd-0ccf128d07cc",
   "metadata": {},
   "outputs": [],
   "source": [
    "4. Write a Python Program to Check Prime Number?\n"
   ]
  },
  {
   "cell_type": "code",
   "execution_count": 15,
   "id": "7a5c2267-9d2d-49c7-bdd2-119881f62e6b",
   "metadata": {},
   "outputs": [
    {
     "name": "stdin",
     "output_type": "stream",
     "text": [
      "enter a no. :  13\n"
     ]
    },
    {
     "name": "stdout",
     "output_type": "stream",
     "text": [
      "yes it is a prime no.\n"
     ]
    }
   ],
   "source": [
    "a=int(input(\"enter a no. : \"))\n",
    "for i in range(2,a):\n",
    "    if (a%i)==0:\n",
    "        print(\"not a prime no.\")\n",
    "        break\n",
    "else:\n",
    "    print(\"yes it is a prime no.\")\n"
   ]
  },
  {
   "cell_type": "code",
   "execution_count": null,
   "id": "d0725e62-948c-4f1c-83c8-8c2fab946afc",
   "metadata": {},
   "outputs": [],
   "source": [
    "5. Write a Python Program to Print all Prime Numbers in an Interval of 1-10000?"
   ]
  },
  {
   "cell_type": "code",
   "execution_count": 18,
   "id": "aaefa672-cb26-4834-a892-3691669c3570",
   "metadata": {},
   "outputs": [
    {
     "name": "stdin",
     "output_type": "stream",
     "text": [
      " 50\n",
      " 10\n"
     ]
    },
    {
     "name": "stdout",
     "output_type": "stream",
     "text": [
      "not a prime no.\n",
      "not a prime no.\n",
      "not a prime no.\n",
      "yes it is a prime no. 13\n",
      "not a prime no.\n",
      "not a prime no.\n",
      "not a prime no.\n",
      "yes it is a prime no. 17\n",
      "not a prime no.\n",
      "yes it is a prime no. 19\n",
      "not a prime no.\n",
      "not a prime no.\n",
      "not a prime no.\n",
      "yes it is a prime no. 23\n",
      "not a prime no.\n",
      "not a prime no.\n",
      "not a prime no.\n",
      "not a prime no.\n",
      "not a prime no.\n",
      "yes it is a prime no. 29\n",
      "not a prime no.\n",
      "yes it is a prime no. 31\n",
      "not a prime no.\n",
      "not a prime no.\n",
      "not a prime no.\n",
      "not a prime no.\n",
      "not a prime no.\n",
      "yes it is a prime no. 37\n",
      "not a prime no.\n",
      "not a prime no.\n",
      "not a prime no.\n",
      "yes it is a prime no. 41\n",
      "not a prime no.\n",
      "yes it is a prime no. 43\n",
      "not a prime no.\n",
      "not a prime no.\n",
      "not a prime no.\n",
      "yes it is a prime no. 47\n",
      "not a prime no.\n",
      "not a prime no.\n",
      "not a prime no.\n"
     ]
    }
   ],
   "source": [
    "upper=int(input())\n",
    "lower=int(input())\n",
    "\n",
    "for num in range(lower,upper+1):\n",
    "    for i in range(2,a):\n",
    "        if (num%i)==0:\n",
    "            print(\"not a prime no.\")\n",
    "            break\n",
    "    else:\n",
    "        print(\"yes it is a prime no.\",num)\n"
   ]
  },
  {
   "cell_type": "code",
   "execution_count": null,
   "id": "b16b85d2-edc8-455d-ad83-e349b2a15466",
   "metadata": {},
   "outputs": [],
   "source": []
  }
 ],
 "metadata": {
  "kernelspec": {
   "display_name": "Python 3 (ipykernel)",
   "language": "python",
   "name": "python3"
  },
  "language_info": {
   "codemirror_mode": {
    "name": "ipython",
    "version": 3
   },
   "file_extension": ".py",
   "mimetype": "text/x-python",
   "name": "python",
   "nbconvert_exporter": "python",
   "pygments_lexer": "ipython3",
   "version": "3.10.6"
  }
 },
 "nbformat": 4,
 "nbformat_minor": 5
}
